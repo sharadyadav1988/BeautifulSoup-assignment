{
 "cells": [
  {
   "cell_type": "code",
   "execution_count": 1,
   "metadata": {},
   "outputs": [
    {
     "name": "stdout",
     "output_type": "stream",
     "text": [
      "Requirement already satisfied: selenium in c:\\users\\inpshy\\anaconda3\\lib\\site-packages (3.141.0)\n",
      "Requirement already satisfied: urllib3 in c:\\users\\inpshy\\anaconda3\\lib\\site-packages (from selenium) (1.25.11)\n"
     ]
    }
   ],
   "source": [
    "#lets install lhe selenium libariries\n",
    "!pip install selenium"
   ]
  },
  {
   "cell_type": "code",
   "execution_count": 2,
   "metadata": {},
   "outputs": [],
   "source": [
    "#lets import all imp liabraries\n",
    "import selenium\n",
    "import pandas as pd\n",
    "from selenium import webdriver\n",
    "from selenium.common.exceptions import NoSuchElementException\n",
    "import time"
   ]
  },
  {
   "cell_type": "code",
   "execution_count": 3,
   "metadata": {},
   "outputs": [],
   "source": [
    "# question 1 naukri lets first connect with webdriver\n",
    "driver=webdriver.Chrome(r\"C:\\Users\\INPshy\\Downloads\\chromedriver_win32\\chromedriver.exe\")"
   ]
  },
  {
   "cell_type": "code",
   "execution_count": 4,
   "metadata": {},
   "outputs": [],
   "source": [
    "url='https://www.naukri.com/'\n",
    "driver.get(url)"
   ]
  },
  {
   "cell_type": "code",
   "execution_count": 12,
   "metadata": {},
   "outputs": [],
   "source": [
    "search_dataanalyst=driver.find_element_by_xpath('//input[@class=\"sugInp\"]')\n",
    "search_dataanalyst.send_keys('Data Analyst')"
   ]
  },
  {
   "cell_type": "code",
   "execution_count": 13,
   "metadata": {},
   "outputs": [],
   "source": [
    "#search location with help of id\n",
    "search_location=driver.find_element_by_id(\"qsb-location-sugg\")\n",
    "search_location.send_keys('Bangalore')"
   ]
  },
  {
   "cell_type": "code",
   "execution_count": 14,
   "metadata": {},
   "outputs": [],
   "source": [
    "#now click function to serch\n",
    "search_buton=driver.find_element_by_xpath('//button[@class=\"btn\"]')\n",
    "search_buton.click()"
   ]
  },
  {
   "cell_type": "code",
   "execution_count": 15,
   "metadata": {},
   "outputs": [
    {
     "data": {
      "text/plain": [
       "[<selenium.webdriver.remote.webelement.WebElement (session=\"4ff4d7b5562c697a6dea1260fde194ea\", element=\"39a52cc9-04d7-4359-a28e-9570d256978f\")>,\n",
       " <selenium.webdriver.remote.webelement.WebElement (session=\"4ff4d7b5562c697a6dea1260fde194ea\", element=\"cd7481f9-fe05-4f6a-9d53-093991c89d9b\")>,\n",
       " <selenium.webdriver.remote.webelement.WebElement (session=\"4ff4d7b5562c697a6dea1260fde194ea\", element=\"139f1843-9f25-4373-aad6-13697638ef41\")>,\n",
       " <selenium.webdriver.remote.webelement.WebElement (session=\"4ff4d7b5562c697a6dea1260fde194ea\", element=\"8e588d43-43bc-4597-ac1f-c139408d3c76\")>,\n",
       " <selenium.webdriver.remote.webelement.WebElement (session=\"4ff4d7b5562c697a6dea1260fde194ea\", element=\"6403a756-ae3c-4aae-b5b0-0f26ede82d3c\")>,\n",
       " <selenium.webdriver.remote.webelement.WebElement (session=\"4ff4d7b5562c697a6dea1260fde194ea\", element=\"6f1f2630-5e23-4faa-8691-46fd48b1ec1a\")>,\n",
       " <selenium.webdriver.remote.webelement.WebElement (session=\"4ff4d7b5562c697a6dea1260fde194ea\", element=\"18cbdd9d-96de-4afc-b655-2563ada0ae1a\")>,\n",
       " <selenium.webdriver.remote.webelement.WebElement (session=\"4ff4d7b5562c697a6dea1260fde194ea\", element=\"2c98f65b-72d7-4e16-bca3-09b66ce16941\")>,\n",
       " <selenium.webdriver.remote.webelement.WebElement (session=\"4ff4d7b5562c697a6dea1260fde194ea\", element=\"2b0f10e4-982e-47ce-b7c3-0c4c2f32d6b7\")>,\n",
       " <selenium.webdriver.remote.webelement.WebElement (session=\"4ff4d7b5562c697a6dea1260fde194ea\", element=\"6dc925d9-334c-4978-96b2-70dfb4fcb76a\")>,\n",
       " <selenium.webdriver.remote.webelement.WebElement (session=\"4ff4d7b5562c697a6dea1260fde194ea\", element=\"747e866b-04cb-4032-bac6-f7f83ad68576\")>,\n",
       " <selenium.webdriver.remote.webelement.WebElement (session=\"4ff4d7b5562c697a6dea1260fde194ea\", element=\"a81dbf2b-eabc-488c-bae6-eceb2664551f\")>,\n",
       " <selenium.webdriver.remote.webelement.WebElement (session=\"4ff4d7b5562c697a6dea1260fde194ea\", element=\"f48bc690-7c15-4ca9-addc-cf8941c91f88\")>,\n",
       " <selenium.webdriver.remote.webelement.WebElement (session=\"4ff4d7b5562c697a6dea1260fde194ea\", element=\"55d0d569-e421-44e1-8f6e-d7c523ad3b71\")>,\n",
       " <selenium.webdriver.remote.webelement.WebElement (session=\"4ff4d7b5562c697a6dea1260fde194ea\", element=\"acac9527-1558-40aa-a5b8-1d3b8d09399f\")>,\n",
       " <selenium.webdriver.remote.webelement.WebElement (session=\"4ff4d7b5562c697a6dea1260fde194ea\", element=\"6f38cd34-e611-42aa-85a1-586b429bb9fd\")>,\n",
       " <selenium.webdriver.remote.webelement.WebElement (session=\"4ff4d7b5562c697a6dea1260fde194ea\", element=\"990089c1-a6ce-48de-82f3-648327237cb3\")>,\n",
       " <selenium.webdriver.remote.webelement.WebElement (session=\"4ff4d7b5562c697a6dea1260fde194ea\", element=\"d8a3b596-1d34-4e61-a748-e584bc125f64\")>,\n",
       " <selenium.webdriver.remote.webelement.WebElement (session=\"4ff4d7b5562c697a6dea1260fde194ea\", element=\"af2c9c39-4ae9-4615-a380-3331b5e0116c\")>,\n",
       " <selenium.webdriver.remote.webelement.WebElement (session=\"4ff4d7b5562c697a6dea1260fde194ea\", element=\"69602113-68dc-45e2-95aa-50f5942c9b1a\")>]"
      ]
     },
     "execution_count": 15,
     "metadata": {},
     "output_type": "execute_result"
    }
   ],
   "source": [
    "#so lets extract all tag having job title\n",
    "title_tags=driver.find_elements_by_xpath(\"//a[@class='title fw500 ellipsis']\")\n",
    "title_tags"
   ]
  },
  {
   "cell_type": "code",
   "execution_count": 20,
   "metadata": {},
   "outputs": [
    {
     "data": {
      "text/plain": [
       "['Business Analyst / Data Analyst - SQL Queries, Power BI & Python exp.',\n",
       " 'Senior Data Analyst',\n",
       " 'Immediate job openings For Partner Consultant - Sizing(Data Analyst) ',\n",
       " 'Data Analyst',\n",
       " 'Data Analyst',\n",
       " 'Market Data Analyst',\n",
       " 'Senior Data Analyst',\n",
       " 'Senior Data Analyst',\n",
       " 'Hiring- SR Data Analyst /Bangalore Start Up Company',\n",
       " 'Senior Data Analyst',\n",
       " 'Data Analyst, Component Engineering',\n",
       " 'Data Analyst(Immediate) - GSR Buz Services - Bangalore',\n",
       " 'Excel VBA Jobs Bangalore | VBA data analyst Jobs',\n",
       " 'Data Analyst',\n",
       " 'Business Analyst / Data Analyst - SQL Queries, Power BI & Python exp.',\n",
       " 'Data Analyst',\n",
       " 'Hiring For Data Analyst @ Flipkart on Contract',\n",
       " 'Business Data Analyst - MIS & Reporting',\n",
       " 'Data Analyst',\n",
       " 'Lab Data Analyst - SAS Progamming']"
      ]
     },
     "execution_count": 20,
     "metadata": {},
     "output_type": "execute_result"
    }
   ],
   "source": [
    "#now we extrcat all text data from web element\n",
    "job_titles=[]\n",
    "for i in title_tags:\n",
    "    job_titles.append(i.text)\n",
    "job_titles"
   ]
  },
  {
   "cell_type": "code",
   "execution_count": 17,
   "metadata": {},
   "outputs": [
    {
     "data": {
      "text/plain": [
       "[<selenium.webdriver.remote.webelement.WebElement (session=\"4ff4d7b5562c697a6dea1260fde194ea\", element=\"be9d0dbc-5a08-444c-bd19-a29fd66ce6d0\")>,\n",
       " <selenium.webdriver.remote.webelement.WebElement (session=\"4ff4d7b5562c697a6dea1260fde194ea\", element=\"66030c75-5c28-44b1-b2e9-b5ca54ab05a7\")>,\n",
       " <selenium.webdriver.remote.webelement.WebElement (session=\"4ff4d7b5562c697a6dea1260fde194ea\", element=\"77f8bb71-186d-4213-b114-850590431a8e\")>,\n",
       " <selenium.webdriver.remote.webelement.WebElement (session=\"4ff4d7b5562c697a6dea1260fde194ea\", element=\"9ec40b0a-1437-45d1-b841-342f6c5303d2\")>,\n",
       " <selenium.webdriver.remote.webelement.WebElement (session=\"4ff4d7b5562c697a6dea1260fde194ea\", element=\"0bbd7c79-2da2-42ba-a95f-9fb8c67d8fbf\")>,\n",
       " <selenium.webdriver.remote.webelement.WebElement (session=\"4ff4d7b5562c697a6dea1260fde194ea\", element=\"cf1237b2-0227-4f2e-8fe5-6ea10a5833f3\")>,\n",
       " <selenium.webdriver.remote.webelement.WebElement (session=\"4ff4d7b5562c697a6dea1260fde194ea\", element=\"f504190b-0c5b-4158-bbc4-13c04655e2ad\")>,\n",
       " <selenium.webdriver.remote.webelement.WebElement (session=\"4ff4d7b5562c697a6dea1260fde194ea\", element=\"0ec21858-116f-4df9-ac0c-479984aaee27\")>,\n",
       " <selenium.webdriver.remote.webelement.WebElement (session=\"4ff4d7b5562c697a6dea1260fde194ea\", element=\"ca159aa9-1398-42a7-8f63-58816bf4943a\")>,\n",
       " <selenium.webdriver.remote.webelement.WebElement (session=\"4ff4d7b5562c697a6dea1260fde194ea\", element=\"eda9287b-034f-4e1a-a212-64245af8e0bd\")>,\n",
       " <selenium.webdriver.remote.webelement.WebElement (session=\"4ff4d7b5562c697a6dea1260fde194ea\", element=\"16db4f21-4c3e-47ac-b278-2a9573978e22\")>,\n",
       " <selenium.webdriver.remote.webelement.WebElement (session=\"4ff4d7b5562c697a6dea1260fde194ea\", element=\"51a051ce-12f8-4ce6-86c8-e95bfe35c298\")>,\n",
       " <selenium.webdriver.remote.webelement.WebElement (session=\"4ff4d7b5562c697a6dea1260fde194ea\", element=\"5a18bed5-11a4-4154-82d5-5238a2c22c20\")>,\n",
       " <selenium.webdriver.remote.webelement.WebElement (session=\"4ff4d7b5562c697a6dea1260fde194ea\", element=\"247dd47e-f028-48c3-a42f-4b928aec484f\")>,\n",
       " <selenium.webdriver.remote.webelement.WebElement (session=\"4ff4d7b5562c697a6dea1260fde194ea\", element=\"755987ec-f609-4a4b-ac41-574bb517f605\")>,\n",
       " <selenium.webdriver.remote.webelement.WebElement (session=\"4ff4d7b5562c697a6dea1260fde194ea\", element=\"381c1fcf-1479-4b4d-9e38-9ae8a5c250fc\")>,\n",
       " <selenium.webdriver.remote.webelement.WebElement (session=\"4ff4d7b5562c697a6dea1260fde194ea\", element=\"47e2213e-48f2-4dc2-bbfe-2e1d27dddf6b\")>,\n",
       " <selenium.webdriver.remote.webelement.WebElement (session=\"4ff4d7b5562c697a6dea1260fde194ea\", element=\"e963e807-c051-49da-b0ef-bdbf629243c7\")>,\n",
       " <selenium.webdriver.remote.webelement.WebElement (session=\"4ff4d7b5562c697a6dea1260fde194ea\", element=\"56408c58-c84f-40a4-b159-de0c12ce3480\")>,\n",
       " <selenium.webdriver.remote.webelement.WebElement (session=\"4ff4d7b5562c697a6dea1260fde194ea\", element=\"3f5a4a16-d9d6-4bfc-affd-4fa5473d54b9\")>]"
      ]
     },
     "execution_count": 17,
     "metadata": {},
     "output_type": "execute_result"
    }
   ],
   "source": [
    "#so lets extract all tag having company name\n",
    "companies_tag=driver.find_elements_by_xpath('//a[@class=\"subTitle ellipsis fleft\"]')\n",
    "companies_tag"
   ]
  },
  {
   "cell_type": "code",
   "execution_count": 18,
   "metadata": {},
   "outputs": [
    {
     "data": {
      "text/plain": [
       "['AN INFRACON PRIVATE LIMITED',\n",
       " 'Flipkart Internet Private Limited',\n",
       " 'RANDSTAD INDIA PVT LTD',\n",
       " 'Philips India Limited',\n",
       " 'Applied Materials',\n",
       " 'DVS Technology',\n",
       " 'Microland Limited',\n",
       " 'Verizon Data Services India Pvt.Ltd',\n",
       " 'Jobs Territory',\n",
       " 'Liventus, Inc.',\n",
       " 'Rockwell Automation',\n",
       " 'GSR Business Services Private Limited.',\n",
       " 'Mind Circus Innovation',\n",
       " 'WEIWO Communication Pvt. Ltd.',\n",
       " 'Rivera Manpower Services',\n",
       " 'Flipkart Internet Private Limited',\n",
       " 'Flipkart Internet Private Limited',\n",
       " 'INTERTRUST GROUP',\n",
       " 'COLLABERA',\n",
       " 'IQVIA RDS India Pvt Ltd']"
      ]
     },
     "execution_count": 18,
     "metadata": {},
     "output_type": "execute_result"
    }
   ],
   "source": [
    "company_name=[]\n",
    "for i in companies_tag:\n",
    "    company_name.append(i.text)\n",
    "company_name"
   ]
  },
  {
   "cell_type": "code",
   "execution_count": 21,
   "metadata": {},
   "outputs": [
    {
     "data": {
      "text/plain": [
       "[<selenium.webdriver.remote.webelement.WebElement (session=\"4ff4d7b5562c697a6dea1260fde194ea\", element=\"29dc27ef-1580-4868-8df2-e87cd72b20f5\")>,\n",
       " <selenium.webdriver.remote.webelement.WebElement (session=\"4ff4d7b5562c697a6dea1260fde194ea\", element=\"bebf2063-cd8a-4b07-a66b-17d6352bc9be\")>,\n",
       " <selenium.webdriver.remote.webelement.WebElement (session=\"4ff4d7b5562c697a6dea1260fde194ea\", element=\"f4caafe1-a7d1-42d5-ad56-688c17c3776a\")>,\n",
       " <selenium.webdriver.remote.webelement.WebElement (session=\"4ff4d7b5562c697a6dea1260fde194ea\", element=\"c8da1d81-caae-4639-8a63-e802c77cc28a\")>,\n",
       " <selenium.webdriver.remote.webelement.WebElement (session=\"4ff4d7b5562c697a6dea1260fde194ea\", element=\"755779a4-7989-4543-bcc1-1cd172236cd5\")>,\n",
       " <selenium.webdriver.remote.webelement.WebElement (session=\"4ff4d7b5562c697a6dea1260fde194ea\", element=\"81ee2daa-28e8-4bdf-ab9a-4beb38810fee\")>,\n",
       " <selenium.webdriver.remote.webelement.WebElement (session=\"4ff4d7b5562c697a6dea1260fde194ea\", element=\"3a9173e8-be95-49e9-b20d-bc36e4aeb45f\")>,\n",
       " <selenium.webdriver.remote.webelement.WebElement (session=\"4ff4d7b5562c697a6dea1260fde194ea\", element=\"2f9cd233-a0db-4c21-85a6-7fbfdefca5d0\")>,\n",
       " <selenium.webdriver.remote.webelement.WebElement (session=\"4ff4d7b5562c697a6dea1260fde194ea\", element=\"303bdb63-50db-4746-b21e-6f481c1ed49f\")>,\n",
       " <selenium.webdriver.remote.webelement.WebElement (session=\"4ff4d7b5562c697a6dea1260fde194ea\", element=\"f7d91517-fa71-4e84-9337-3a3b2a4a64a4\")>,\n",
       " <selenium.webdriver.remote.webelement.WebElement (session=\"4ff4d7b5562c697a6dea1260fde194ea\", element=\"cd0ce5b9-15f7-4fef-83c7-b521e2985033\")>,\n",
       " <selenium.webdriver.remote.webelement.WebElement (session=\"4ff4d7b5562c697a6dea1260fde194ea\", element=\"e3c79c4d-6b6b-4337-b2c7-6ba93294d9cc\")>,\n",
       " <selenium.webdriver.remote.webelement.WebElement (session=\"4ff4d7b5562c697a6dea1260fde194ea\", element=\"dee43918-d7f5-4126-ad07-cf1a914030f3\")>,\n",
       " <selenium.webdriver.remote.webelement.WebElement (session=\"4ff4d7b5562c697a6dea1260fde194ea\", element=\"d9fd1274-8a4b-4142-9de6-7b9a41903528\")>,\n",
       " <selenium.webdriver.remote.webelement.WebElement (session=\"4ff4d7b5562c697a6dea1260fde194ea\", element=\"a7495e35-c9f2-4dde-b746-d3b0ae3567de\")>,\n",
       " <selenium.webdriver.remote.webelement.WebElement (session=\"4ff4d7b5562c697a6dea1260fde194ea\", element=\"153e7eac-a8e1-45db-ad08-9f4dc0cab4cf\")>,\n",
       " <selenium.webdriver.remote.webelement.WebElement (session=\"4ff4d7b5562c697a6dea1260fde194ea\", element=\"dfab2339-9f8c-4ddc-a06a-d7a8e96a0ca0\")>,\n",
       " <selenium.webdriver.remote.webelement.WebElement (session=\"4ff4d7b5562c697a6dea1260fde194ea\", element=\"08e6beab-9270-45e0-85bc-54b5521bc117\")>,\n",
       " <selenium.webdriver.remote.webelement.WebElement (session=\"4ff4d7b5562c697a6dea1260fde194ea\", element=\"9ad74747-833e-444d-981b-c34feb27eaa3\")>,\n",
       " <selenium.webdriver.remote.webelement.WebElement (session=\"4ff4d7b5562c697a6dea1260fde194ea\", element=\"fc5a0601-9cd6-4c4c-9aa0-a3d6185891e4\")>]"
      ]
     },
     "execution_count": 21,
     "metadata": {},
     "output_type": "execute_result"
    }
   ],
   "source": [
    "experience_tags=driver.find_elements_by_xpath('//li[@class=\"fleft grey-text br2 placeHolderLi experience\"]//span')\n",
    "experience_tags"
   ]
  },
  {
   "cell_type": "code",
   "execution_count": 22,
   "metadata": {},
   "outputs": [
    {
     "data": {
      "text/plain": [
       "['1-5 Yrs',\n",
       " '2-5 Yrs',\n",
       " '1-5 Yrs',\n",
       " '3-6 Yrs',\n",
       " '7-10 Yrs',\n",
       " '0-5 Yrs',\n",
       " '3-5 Yrs',\n",
       " '3-6 Yrs',\n",
       " '4-9 Yrs',\n",
       " '5-8 Yrs',\n",
       " '2-3 Yrs',\n",
       " '3-7 Yrs',\n",
       " '1-2 Yrs',\n",
       " '5-8 Yrs',\n",
       " '1-5 Yrs',\n",
       " '1-3 Yrs',\n",
       " '2-6 Yrs',\n",
       " '3-8 Yrs',\n",
       " '2-6 Yrs',\n",
       " '1-6 Yrs']"
      ]
     },
     "execution_count": 22,
     "metadata": {},
     "output_type": "execute_result"
    }
   ],
   "source": [
    "experince_year=[]\n",
    "for i in experience_tags:\n",
    "    experince_year.append(i.text)\n",
    "experince_year"
   ]
  },
  {
   "cell_type": "code",
   "execution_count": 24,
   "metadata": {},
   "outputs": [
    {
     "data": {
      "text/plain": [
       "[<selenium.webdriver.remote.webelement.WebElement (session=\"4ff4d7b5562c697a6dea1260fde194ea\", element=\"11ad495e-1bbf-48a4-a1f7-badb4c208acb\")>,\n",
       " <selenium.webdriver.remote.webelement.WebElement (session=\"4ff4d7b5562c697a6dea1260fde194ea\", element=\"f956d0be-e747-4313-98ac-9b5fec010b46\")>,\n",
       " <selenium.webdriver.remote.webelement.WebElement (session=\"4ff4d7b5562c697a6dea1260fde194ea\", element=\"42622197-ec38-45cf-88d1-ea8a24cd207c\")>,\n",
       " <selenium.webdriver.remote.webelement.WebElement (session=\"4ff4d7b5562c697a6dea1260fde194ea\", element=\"cb77bdba-9b15-436d-8955-048f539687d0\")>,\n",
       " <selenium.webdriver.remote.webelement.WebElement (session=\"4ff4d7b5562c697a6dea1260fde194ea\", element=\"3965b679-0462-4cf5-a10b-f977ff923d9e\")>,\n",
       " <selenium.webdriver.remote.webelement.WebElement (session=\"4ff4d7b5562c697a6dea1260fde194ea\", element=\"f77a4974-755e-481b-88d2-b6ac61ee26f7\")>,\n",
       " <selenium.webdriver.remote.webelement.WebElement (session=\"4ff4d7b5562c697a6dea1260fde194ea\", element=\"20d63a82-4918-4a03-8171-c89ad1cce3b6\")>,\n",
       " <selenium.webdriver.remote.webelement.WebElement (session=\"4ff4d7b5562c697a6dea1260fde194ea\", element=\"f1db9da4-e7ed-436f-998e-b908e6c9d203\")>,\n",
       " <selenium.webdriver.remote.webelement.WebElement (session=\"4ff4d7b5562c697a6dea1260fde194ea\", element=\"79c2746a-c8f1-420e-b210-0c9004f6ffb5\")>,\n",
       " <selenium.webdriver.remote.webelement.WebElement (session=\"4ff4d7b5562c697a6dea1260fde194ea\", element=\"efd1d548-61e0-43d7-9910-2e2741577c5c\")>,\n",
       " <selenium.webdriver.remote.webelement.WebElement (session=\"4ff4d7b5562c697a6dea1260fde194ea\", element=\"0c881105-0582-4620-8609-c71f823385a5\")>,\n",
       " <selenium.webdriver.remote.webelement.WebElement (session=\"4ff4d7b5562c697a6dea1260fde194ea\", element=\"247fe07d-b4f3-4c81-8642-5e4c6ec26ac1\")>,\n",
       " <selenium.webdriver.remote.webelement.WebElement (session=\"4ff4d7b5562c697a6dea1260fde194ea\", element=\"ed8bf953-fd7f-41da-8289-ccf517bba9fb\")>,\n",
       " <selenium.webdriver.remote.webelement.WebElement (session=\"4ff4d7b5562c697a6dea1260fde194ea\", element=\"127379e8-f080-40ec-bfc2-ead1fe9c7ef6\")>,\n",
       " <selenium.webdriver.remote.webelement.WebElement (session=\"4ff4d7b5562c697a6dea1260fde194ea\", element=\"82964b80-f4ee-42c9-ac36-a8cd3a03f2cd\")>,\n",
       " <selenium.webdriver.remote.webelement.WebElement (session=\"4ff4d7b5562c697a6dea1260fde194ea\", element=\"0fc11f52-f4e4-4877-9219-56417f43fe3b\")>,\n",
       " <selenium.webdriver.remote.webelement.WebElement (session=\"4ff4d7b5562c697a6dea1260fde194ea\", element=\"5a9a0eb3-3cec-4063-be76-e38ce9b46e49\")>,\n",
       " <selenium.webdriver.remote.webelement.WebElement (session=\"4ff4d7b5562c697a6dea1260fde194ea\", element=\"a42fab27-e0c3-4bd8-8cb3-9a0e7b24a0b7\")>,\n",
       " <selenium.webdriver.remote.webelement.WebElement (session=\"4ff4d7b5562c697a6dea1260fde194ea\", element=\"5422c15a-08a6-4f93-88c6-b57c352d5c35\")>,\n",
       " <selenium.webdriver.remote.webelement.WebElement (session=\"4ff4d7b5562c697a6dea1260fde194ea\", element=\"7fa97eb7-cfdf-4bbc-97ce-80e0b78ea472\")>]"
      ]
     },
     "execution_count": 24,
     "metadata": {},
     "output_type": "execute_result"
    }
   ],
   "source": [
    "#since location tag present in parent tag so fetch from li parent tag and apply child tag 'span ' in last with//\n",
    "location_tag=driver.find_elements_by_xpath('//li[@class=\"fleft grey-text br2 placeHolderLi location\"]//span')\n",
    "location_tag"
   ]
  },
  {
   "cell_type": "code",
   "execution_count": 25,
   "metadata": {},
   "outputs": [
    {
     "data": {
      "text/plain": [
       "['Chennai, Coimbatore, Bangalore/Bengaluru',\n",
       " 'Bangalore/Bengaluru',\n",
       " 'Bangalore/Bengaluru(Marathahalli)',\n",
       " 'Bangalore/Bengaluru',\n",
       " 'Bangalore/Bengaluru',\n",
       " 'Madurai, Kolkata, Hyderabad/Secunderabad, Ahmedabad, Chennai, Bangalore/Bengaluru',\n",
       " 'Bangalore/Bengaluru',\n",
       " 'Bangalore/Bengaluru',\n",
       " 'Bangalore/Bengaluru',\n",
       " 'Bangalore/Bengaluru(2nd Phase JP Nagar)',\n",
       " 'Bangalore/Bengaluru',\n",
       " 'Bangalore/Bengaluru',\n",
       " 'Mysore/Mysuru, Coimbatore, Bangalore/Bengaluru',\n",
       " 'Bangalore/Bengaluru(Ulsoor)',\n",
       " 'Bangalore/Bengaluru',\n",
       " 'Bangalore/Bengaluru',\n",
       " 'Bangalore/Bengaluru',\n",
       " 'Mumbai, Bangalore/Bengaluru',\n",
       " 'Bangalore/Bengaluru',\n",
       " 'Bangalore/Bengaluru, Mumbai (All Areas)']"
      ]
     },
     "execution_count": 25,
     "metadata": {},
     "output_type": "execute_result"
    }
   ],
   "source": [
    "location_list=[]\n",
    "for i in location_tag:\n",
    "    location_list.append(i.text)\n",
    "location_list"
   ]
  },
  {
   "cell_type": "code",
   "execution_count": 26,
   "metadata": {},
   "outputs": [
    {
     "name": "stdout",
     "output_type": "stream",
     "text": [
      "20 20 20 20\n"
     ]
    }
   ],
   "source": [
    "print(len(job_titles),len(company_name),len(experince_year),len(location_list))"
   ]
  },
  {
   "cell_type": "code",
   "execution_count": 27,
   "metadata": {},
   "outputs": [],
   "source": [
    "#select only first 10 data\n",
    "A=job_titles[0:10]\n",
    "B=company_name[0:10]\n",
    "C=experince_year[0:10]\n",
    "D=location_list[0:10]"
   ]
  },
  {
   "cell_type": "code",
   "execution_count": 28,
   "metadata": {},
   "outputs": [
    {
     "data": {
      "text/html": [
       "<div>\n",
       "<style scoped>\n",
       "    .dataframe tbody tr th:only-of-type {\n",
       "        vertical-align: middle;\n",
       "    }\n",
       "\n",
       "    .dataframe tbody tr th {\n",
       "        vertical-align: top;\n",
       "    }\n",
       "\n",
       "    .dataframe thead th {\n",
       "        text-align: right;\n",
       "    }\n",
       "</style>\n",
       "<table border=\"1\" class=\"dataframe\">\n",
       "  <thead>\n",
       "    <tr style=\"text-align: right;\">\n",
       "      <th></th>\n",
       "      <th>Title</th>\n",
       "      <th>Compnay</th>\n",
       "      <th>experience</th>\n",
       "      <th>location</th>\n",
       "    </tr>\n",
       "  </thead>\n",
       "  <tbody>\n",
       "    <tr>\n",
       "      <th>0</th>\n",
       "      <td>Business Analyst / Data Analyst - SQL Queries,...</td>\n",
       "      <td>AN INFRACON PRIVATE LIMITED</td>\n",
       "      <td>1-5 Yrs</td>\n",
       "      <td>Chennai, Coimbatore, Bangalore/Bengaluru</td>\n",
       "    </tr>\n",
       "    <tr>\n",
       "      <th>1</th>\n",
       "      <td>Senior Data Analyst</td>\n",
       "      <td>Flipkart Internet Private Limited</td>\n",
       "      <td>2-5 Yrs</td>\n",
       "      <td>Bangalore/Bengaluru</td>\n",
       "    </tr>\n",
       "    <tr>\n",
       "      <th>2</th>\n",
       "      <td>Immediate job openings For Partner Consultant ...</td>\n",
       "      <td>RANDSTAD INDIA PVT LTD</td>\n",
       "      <td>1-5 Yrs</td>\n",
       "      <td>Bangalore/Bengaluru(Marathahalli)</td>\n",
       "    </tr>\n",
       "    <tr>\n",
       "      <th>3</th>\n",
       "      <td>Data Analyst</td>\n",
       "      <td>Philips India Limited</td>\n",
       "      <td>3-6 Yrs</td>\n",
       "      <td>Bangalore/Bengaluru</td>\n",
       "    </tr>\n",
       "    <tr>\n",
       "      <th>4</th>\n",
       "      <td>Data Analyst</td>\n",
       "      <td>Applied Materials</td>\n",
       "      <td>7-10 Yrs</td>\n",
       "      <td>Bangalore/Bengaluru</td>\n",
       "    </tr>\n",
       "    <tr>\n",
       "      <th>5</th>\n",
       "      <td>Market Data Analyst</td>\n",
       "      <td>DVS Technology</td>\n",
       "      <td>0-5 Yrs</td>\n",
       "      <td>Madurai, Kolkata, Hyderabad/Secunderabad, Ahme...</td>\n",
       "    </tr>\n",
       "    <tr>\n",
       "      <th>6</th>\n",
       "      <td>Senior Data Analyst</td>\n",
       "      <td>Microland Limited</td>\n",
       "      <td>3-5 Yrs</td>\n",
       "      <td>Bangalore/Bengaluru</td>\n",
       "    </tr>\n",
       "    <tr>\n",
       "      <th>7</th>\n",
       "      <td>Senior Data Analyst</td>\n",
       "      <td>Verizon Data Services India Pvt.Ltd</td>\n",
       "      <td>3-6 Yrs</td>\n",
       "      <td>Bangalore/Bengaluru</td>\n",
       "    </tr>\n",
       "    <tr>\n",
       "      <th>8</th>\n",
       "      <td>Hiring- SR Data Analyst /Bangalore Start Up Co...</td>\n",
       "      <td>Jobs Territory</td>\n",
       "      <td>4-9 Yrs</td>\n",
       "      <td>Bangalore/Bengaluru</td>\n",
       "    </tr>\n",
       "    <tr>\n",
       "      <th>9</th>\n",
       "      <td>Senior Data Analyst</td>\n",
       "      <td>Liventus, Inc.</td>\n",
       "      <td>5-8 Yrs</td>\n",
       "      <td>Bangalore/Bengaluru(2nd Phase JP Nagar)</td>\n",
       "    </tr>\n",
       "  </tbody>\n",
       "</table>\n",
       "</div>"
      ],
      "text/plain": [
       "                                               Title  \\\n",
       "0  Business Analyst / Data Analyst - SQL Queries,...   \n",
       "1                                Senior Data Analyst   \n",
       "2  Immediate job openings For Partner Consultant ...   \n",
       "3                                       Data Analyst   \n",
       "4                                       Data Analyst   \n",
       "5                                Market Data Analyst   \n",
       "6                                Senior Data Analyst   \n",
       "7                                Senior Data Analyst   \n",
       "8  Hiring- SR Data Analyst /Bangalore Start Up Co...   \n",
       "9                                Senior Data Analyst   \n",
       "\n",
       "                               Compnay experience  \\\n",
       "0          AN INFRACON PRIVATE LIMITED    1-5 Yrs   \n",
       "1    Flipkart Internet Private Limited    2-5 Yrs   \n",
       "2               RANDSTAD INDIA PVT LTD    1-5 Yrs   \n",
       "3                Philips India Limited    3-6 Yrs   \n",
       "4                    Applied Materials   7-10 Yrs   \n",
       "5                       DVS Technology    0-5 Yrs   \n",
       "6                    Microland Limited    3-5 Yrs   \n",
       "7  Verizon Data Services India Pvt.Ltd    3-6 Yrs   \n",
       "8                       Jobs Territory    4-9 Yrs   \n",
       "9                       Liventus, Inc.    5-8 Yrs   \n",
       "\n",
       "                                            location  \n",
       "0           Chennai, Coimbatore, Bangalore/Bengaluru  \n",
       "1                                Bangalore/Bengaluru  \n",
       "2                  Bangalore/Bengaluru(Marathahalli)  \n",
       "3                                Bangalore/Bengaluru  \n",
       "4                                Bangalore/Bengaluru  \n",
       "5  Madurai, Kolkata, Hyderabad/Secunderabad, Ahme...  \n",
       "6                                Bangalore/Bengaluru  \n",
       "7                                Bangalore/Bengaluru  \n",
       "8                                Bangalore/Bengaluru  \n",
       "9            Bangalore/Bengaluru(2nd Phase JP Nagar)  "
      ]
     },
     "execution_count": 28,
     "metadata": {},
     "output_type": "execute_result"
    }
   ],
   "source": [
    "import pandas as pd\n",
    "jobs=pd.DataFrame({})\n",
    "jobs['Title']=A\n",
    "jobs['Compnay']=B\n",
    "jobs['experience']=C\n",
    "jobs['location']=D\n",
    "jobs"
   ]
  },
  {
   "cell_type": "code",
   "execution_count": 30,
   "metadata": {},
   "outputs": [
    {
     "data": {
      "text/plain": [
       "['https://www.naukri.com/job-listings-business-analyst-data-analyst-sql-queries-power-bi-python-exp-an-infracon-private-limited-chennai-coimbatore-bangalore-bengaluru-1-to-5-years-270621000027?src=jobsearchDesk&sid=16247600274803097&xp=1&px=1',\n",
       " 'https://www.naukri.com/job-listings-senior-data-analyst-flipkart-internet-private-limited-bangalore-bengaluru-2-to-5-years-250621906551?src=jobsearchDesk&sid=16247600274803097&xp=2&px=1',\n",
       " 'https://www.naukri.com/job-listings-immediate-openings-for-partner-consultant-sizing-data-analyst-randstad-india-pvt-ltd-bangalore-bengaluru-1-to-5-years-260621001029?src=jobsearchDesk&sid=16247600274803097&xp=3&px=1',\n",
       " 'https://www.naukri.com/job-listings-data-analyst-philips-india-limited-bangalore-bengaluru-3-to-6-years-250621500716?src=jobsearchDesk&sid=16247600274803097&xp=4&px=1',\n",
       " 'https://www.naukri.com/job-listings-data-analyst-applied-materials-india-private-limited-bangalore-bengaluru-7-to-10-years-220621907018?src=jobsearchDesk&sid=16247600274803097&xp=5&px=1',\n",
       " 'https://www.naukri.com/job-listings-market-data-analyst-dvs-technology-madurai-kolkata-hyderabad-secunderabad-ahmedabad-chennai-bangalore-bengaluru-0-to-5-years-260621003276?src=jobsearchDesk&sid=16247600274803097&xp=6&px=1',\n",
       " 'https://www.naukri.com/job-listings-senior-data-analyst-microland-limited-bangalore-bengaluru-3-to-5-years-220621003037?src=jobsearchDesk&sid=16247600274803097&xp=7&px=1',\n",
       " 'https://www.naukri.com/job-listings-senior-data-analyst-verizon-data-services-india-pvt-ltd-bangalore-bengaluru-3-to-6-years-210621500891?src=jobsearchDesk&sid=16247600274803097&xp=8&px=1',\n",
       " 'https://www.naukri.com/job-listings-hiring-sr-data-analyst-bangalore-start-up-company-jobs-territory-bangalore-bengaluru-4-to-9-years-250621003512?src=jobsearchDesk&sid=16247600274803097&xp=9&px=1',\n",
       " 'https://www.naukri.com/job-listings-senior-data-analyst-liventus-inc-bangalore-bengaluru-5-to-8-years-240621007072?src=jobsearchDesk&sid=16247600274803097&xp=10&px=1',\n",
       " 'https://www.naukri.com/job-listings-data-analyst-component-engineering-rockwell-automation-bangalore-bengaluru-2-to-3-years-240621501506?src=jobsearchDesk&sid=16247600274803097&xp=11&px=1',\n",
       " 'https://www.naukri.com/job-listings-data-analyst-immediate-gsr-buz-services-bangalore-gsr-business-services-private-limited-bangalore-bengaluru-3-to-7-years-260621003548?src=jobsearchDesk&sid=16247600274803097&xp=12&px=1',\n",
       " 'https://www.naukri.com/job-listings-excel-vba-jobs-bangalore-vba-data-analyst-jobs-mind-circus-innovation-mysore-mysuru-coimbatore-bangalore-bengaluru-1-to-2-years-250621005982?src=jobsearchDesk&sid=16247600274803097&xp=13&px=1',\n",
       " 'https://www.naukri.com/job-listings-data-analyst-weiwo-communication-pvt-ltd-bangalore-bengaluru-5-to-8-years-230621001207?src=jobsearchDesk&sid=16247600274803097&xp=14&px=1',\n",
       " 'https://www.naukri.com/job-listings-business-analyst-data-analyst-sql-queries-power-bi-python-exp-rivera-manpower-services-bangalore-bengaluru-1-to-5-years-220621000355?src=jobsearchDesk&sid=16247600274803097&xp=15&px=1',\n",
       " 'https://www.naukri.com/job-listings-data-analyst-flipkart-internet-private-limited-bangalore-bengaluru-1-to-3-years-230621904768?src=jobsearchDesk&sid=16247600274803097&xp=16&px=1',\n",
       " 'https://www.naukri.com/job-listings-hiring-for-data-analyst-flipkart-on-contract-flipkart-internet-private-limited-bangalore-bengaluru-2-to-6-years-170521002261?src=jobsearchDesk&sid=16247600274803097&xp=17&px=1',\n",
       " 'https://www.naukri.com/job-listings-business-data-analyst-mis-reporting-intertrust-group-mumbai-bangalore-bengaluru-3-to-8-years-270121001879?src=jobsearchDesk&sid=16247600274803097&xp=18&px=1',\n",
       " 'https://www.naukri.com/job-listings-data-analyst-collabera-technologies-private-limited-bangalore-bengaluru-2-to-6-years-210621000274?src=jobsearchDesk&sid=16247600274803097&xp=19&px=1',\n",
       " 'https://www.naukri.com/job-listings-lab-data-analyst-sas-progamming-iqvia-rds-india-pvt-ltd-bangalore-bengaluru-mumbai-all-areas-1-to-6-years-030621008911?src=jobsearchDesk&sid=16247600274803097&xp=20&px=1']"
      ]
     },
     "execution_count": 30,
     "metadata": {},
     "output_type": "execute_result"
    }
   ],
   "source": [
    "# question 2 scrap full job description for 10 job\n",
    "# SCRAP data from job opening\n",
    "job_opening_url=[]\n",
    "url=driver.find_elements_by_xpath('//a[@class=\"title fw500 ellipsis\"]') #for extracting link use get_attribute command\n",
    "for i in url:\n",
    "        \n",
    "        job_opening_url.append(i.get_attribute('href')) #because link is present in href tag to get text\n",
    "    \n",
    "job_opening_url"
   ]
  },
  {
   "cell_type": "code",
   "execution_count": 35,
   "metadata": {},
   "outputs": [
    {
     "data": {
      "text/plain": [
       "['Business Analyst / Data Analyst - SQL Queries, Power BI & Python exp.',\n",
       " 'Senior Data Analyst',\n",
       " 'Immediate job openings For Partner Consultant - Sizing(Data Analyst) ',\n",
       " 'Data Analyst',\n",
       " 'Market Data Analyst',\n",
       " 'Senior Data Analyst',\n",
       " 'Senior Data Analyst',\n",
       " 'Hiring- SR Data Analyst /Bangalore Start Up Company']"
      ]
     },
     "execution_count": 35,
     "metadata": {},
     "output_type": "execute_result"
    }
   ],
   "source": [
    "job_titles=[]\n",
    "for i in job_opening_url[:10]:\n",
    "    driver.get(i)    # .get(i) function will fetch one by one weblink\n",
    "    job_title=driver.find_elements_by_xpath('//h1[@class=\"jd-header-title\"]')\n",
    "    for j in job_title:\n",
    "        job_titles.append(j.text)\n",
    "job_titles"
   ]
  },
  {
   "cell_type": "code",
   "execution_count": 14,
   "metadata": {},
   "outputs": [],
   "source": [
    "# Question 3 lets first connect with webdriver\n",
    "driver=webdriver.Chrome(r\"C:\\Users\\INPshy\\Downloads\\chromedriver_win32\\chromedriver.exe\")"
   ]
  },
  {
   "cell_type": "code",
   "execution_count": 16,
   "metadata": {},
   "outputs": [],
   "source": [
    "url='https://www.naukri.com/'\n",
    "driver.get(url)"
   ]
  },
  {
   "cell_type": "code",
   "execution_count": 17,
   "metadata": {},
   "outputs": [],
   "source": [
    "search_datascientist=driver.find_element_by_xpath('//input[@class=\"sugInp\"]')\n",
    "search_datascientist.send_keys('Data Scientist')"
   ]
  },
  {
   "cell_type": "code",
   "execution_count": 18,
   "metadata": {},
   "outputs": [],
   "source": [
    "search_button=driver.find_element_by_xpath('//button[@class=\"btn\"]')\n",
    "search_button.click()\n",
    "time.sleep(3)"
   ]
  },
  {
   "cell_type": "code",
   "execution_count": 19,
   "metadata": {},
   "outputs": [],
   "source": [
    "location_filter=driver.find_element_by_xpath('//*[@id=\"root\"]/div[3]/div[2]/section[1]/div[2]/div[3]/div[2]/div[2]/label/p/span[1]')\n",
    "location_filter.click()"
   ]
  },
  {
   "cell_type": "code",
   "execution_count": 20,
   "metadata": {},
   "outputs": [],
   "source": [
    "salary=driver.find_element_by_xpath('//*[@id=\"root\"]/div[3]/div[2]/section[1]/div[2]/div[3]/div[2]/div[2]/label/p/span[1]')\n",
    "salary.click()"
   ]
  },
  {
   "cell_type": "code",
   "execution_count": 21,
   "metadata": {},
   "outputs": [
    {
     "data": {
      "text/plain": [
       "[<selenium.webdriver.remote.webelement.WebElement (session=\"fd4d55b763c84286a95fe69e6ab80720\", element=\"6594223b-52cb-4675-842f-181de101267c\")>,\n",
       " <selenium.webdriver.remote.webelement.WebElement (session=\"fd4d55b763c84286a95fe69e6ab80720\", element=\"50cc1386-d6a5-4053-a18c-2179f113c0b1\")>,\n",
       " <selenium.webdriver.remote.webelement.WebElement (session=\"fd4d55b763c84286a95fe69e6ab80720\", element=\"fb160474-1426-4af0-9e42-484ff2818602\")>,\n",
       " <selenium.webdriver.remote.webelement.WebElement (session=\"fd4d55b763c84286a95fe69e6ab80720\", element=\"58d15dc3-4872-47e1-a775-1766c21d7ea0\")>,\n",
       " <selenium.webdriver.remote.webelement.WebElement (session=\"fd4d55b763c84286a95fe69e6ab80720\", element=\"ddf57afc-070b-42f2-87e6-5942dea05efc\")>,\n",
       " <selenium.webdriver.remote.webelement.WebElement (session=\"fd4d55b763c84286a95fe69e6ab80720\", element=\"83082db3-b165-4c2d-8952-5c47e48149e5\")>,\n",
       " <selenium.webdriver.remote.webelement.WebElement (session=\"fd4d55b763c84286a95fe69e6ab80720\", element=\"7a269e88-b2e9-4495-9520-7d54b2b2fdc2\")>,\n",
       " <selenium.webdriver.remote.webelement.WebElement (session=\"fd4d55b763c84286a95fe69e6ab80720\", element=\"639ef613-74b2-42dc-9e9f-25b65f588e8e\")>,\n",
       " <selenium.webdriver.remote.webelement.WebElement (session=\"fd4d55b763c84286a95fe69e6ab80720\", element=\"f111010d-3b9e-4723-86c9-4fa998c0492a\")>,\n",
       " <selenium.webdriver.remote.webelement.WebElement (session=\"fd4d55b763c84286a95fe69e6ab80720\", element=\"d2b90e06-b2c3-4ccb-b394-5560644a5c47\")>,\n",
       " <selenium.webdriver.remote.webelement.WebElement (session=\"fd4d55b763c84286a95fe69e6ab80720\", element=\"ceab288f-698a-433e-a4d0-c605824fda8d\")>,\n",
       " <selenium.webdriver.remote.webelement.WebElement (session=\"fd4d55b763c84286a95fe69e6ab80720\", element=\"49855ec7-29af-465e-8bd2-4abf5f15b0c7\")>,\n",
       " <selenium.webdriver.remote.webelement.WebElement (session=\"fd4d55b763c84286a95fe69e6ab80720\", element=\"664470f4-6b18-4e86-a554-9e5d63400c7d\")>,\n",
       " <selenium.webdriver.remote.webelement.WebElement (session=\"fd4d55b763c84286a95fe69e6ab80720\", element=\"d340790c-dcf5-4ca6-8caa-bb4db8c087f7\")>,\n",
       " <selenium.webdriver.remote.webelement.WebElement (session=\"fd4d55b763c84286a95fe69e6ab80720\", element=\"cc3b9360-6eab-45f8-a998-6e6ccec90a51\")>,\n",
       " <selenium.webdriver.remote.webelement.WebElement (session=\"fd4d55b763c84286a95fe69e6ab80720\", element=\"de104406-4165-4ef5-acd2-432245ce5102\")>,\n",
       " <selenium.webdriver.remote.webelement.WebElement (session=\"fd4d55b763c84286a95fe69e6ab80720\", element=\"2ec94640-833c-4f76-a1c0-d4de790d2cd4\")>,\n",
       " <selenium.webdriver.remote.webelement.WebElement (session=\"fd4d55b763c84286a95fe69e6ab80720\", element=\"e097bc20-4187-4841-a561-95ffab1672c8\")>,\n",
       " <selenium.webdriver.remote.webelement.WebElement (session=\"fd4d55b763c84286a95fe69e6ab80720\", element=\"c83f545f-c119-4cce-9734-a4d196ad2988\")>,\n",
       " <selenium.webdriver.remote.webelement.WebElement (session=\"fd4d55b763c84286a95fe69e6ab80720\", element=\"4775b322-56b6-4ea4-988a-289e82423552\")>]"
      ]
     },
     "execution_count": 21,
     "metadata": {},
     "output_type": "execute_result"
    }
   ],
   "source": [
    "job_title=driver.find_elements_by_xpath('//a[@class=\"title fw500 ellipsis\"]')\n",
    "job_title"
   ]
  },
  {
   "cell_type": "code",
   "execution_count": 22,
   "metadata": {},
   "outputs": [
    {
     "data": {
      "text/plain": [
       "['Data Scientist/Data Analyst /Business Analyst',\n",
       " 'Only Fresher / Data Scientist / Data Analyst / Analytics - MNC Jobs',\n",
       " 'Data Scientist - Machine Learning/ NLP',\n",
       " 'Data Scientist || Python || C2H',\n",
       " 'Data Scientist || Python || C2H',\n",
       " 'Advanced Analytics -Data Scientist',\n",
       " 'Data Scientist - Text NLP | Noida',\n",
       " 'Data Scientist (Early Joiner)',\n",
       " 'Data Scientist - Machine Learning/NLP',\n",
       " 'Data analytics / Data scientist intern (work from Home)']"
      ]
     },
     "execution_count": 22,
     "metadata": {},
     "output_type": "execute_result"
    }
   ],
   "source": [
    "Job_title=[]\n",
    "for i in job_title[:10]:\n",
    "    Job_title.append(i.text)\n",
    "Job_title"
   ]
  },
  {
   "cell_type": "code",
   "execution_count": 23,
   "metadata": {},
   "outputs": [
    {
     "data": {
      "text/plain": [
       "[<selenium.webdriver.remote.webelement.WebElement (session=\"fd4d55b763c84286a95fe69e6ab80720\", element=\"f433bd52-a243-429f-91b4-c95284a3b9a2\")>,\n",
       " <selenium.webdriver.remote.webelement.WebElement (session=\"fd4d55b763c84286a95fe69e6ab80720\", element=\"95fb2433-1268-4ba3-b1cb-67e153a3437d\")>,\n",
       " <selenium.webdriver.remote.webelement.WebElement (session=\"fd4d55b763c84286a95fe69e6ab80720\", element=\"d80f7cf1-5263-47e6-8f5f-f0d7abb93f12\")>,\n",
       " <selenium.webdriver.remote.webelement.WebElement (session=\"fd4d55b763c84286a95fe69e6ab80720\", element=\"bb422b28-9ca2-4c98-825f-6a01c9085c6a\")>,\n",
       " <selenium.webdriver.remote.webelement.WebElement (session=\"fd4d55b763c84286a95fe69e6ab80720\", element=\"d1cbbfc4-dfbf-4ace-a29d-737b24c51b25\")>,\n",
       " <selenium.webdriver.remote.webelement.WebElement (session=\"fd4d55b763c84286a95fe69e6ab80720\", element=\"8bfff995-da83-4d43-a887-21cede08dbe7\")>,\n",
       " <selenium.webdriver.remote.webelement.WebElement (session=\"fd4d55b763c84286a95fe69e6ab80720\", element=\"afc75a24-ced2-4567-896d-3090358d02a6\")>,\n",
       " <selenium.webdriver.remote.webelement.WebElement (session=\"fd4d55b763c84286a95fe69e6ab80720\", element=\"642594f7-ecec-4615-9ce8-901381dce054\")>,\n",
       " <selenium.webdriver.remote.webelement.WebElement (session=\"fd4d55b763c84286a95fe69e6ab80720\", element=\"2b3a31d6-f689-4ffc-a311-cb8ca26cf3f1\")>,\n",
       " <selenium.webdriver.remote.webelement.WebElement (session=\"fd4d55b763c84286a95fe69e6ab80720\", element=\"6f43a083-c5af-4ddc-9df7-c18e7edf57bb\")>,\n",
       " <selenium.webdriver.remote.webelement.WebElement (session=\"fd4d55b763c84286a95fe69e6ab80720\", element=\"677a1fc8-0a94-4731-aa45-3b2adac97e73\")>,\n",
       " <selenium.webdriver.remote.webelement.WebElement (session=\"fd4d55b763c84286a95fe69e6ab80720\", element=\"f187bfc9-16a4-42e3-a552-a6172f8a9140\")>,\n",
       " <selenium.webdriver.remote.webelement.WebElement (session=\"fd4d55b763c84286a95fe69e6ab80720\", element=\"e9783dc2-bb6e-4ef4-8ebd-6ffd0d6d8d99\")>,\n",
       " <selenium.webdriver.remote.webelement.WebElement (session=\"fd4d55b763c84286a95fe69e6ab80720\", element=\"49d531cf-cbe4-4340-b5f0-f2da6ba8d549\")>,\n",
       " <selenium.webdriver.remote.webelement.WebElement (session=\"fd4d55b763c84286a95fe69e6ab80720\", element=\"9d2d9fdd-742c-4dbd-bbd7-688570611b7c\")>,\n",
       " <selenium.webdriver.remote.webelement.WebElement (session=\"fd4d55b763c84286a95fe69e6ab80720\", element=\"954b471b-5933-4b33-86bc-1a50856f7341\")>,\n",
       " <selenium.webdriver.remote.webelement.WebElement (session=\"fd4d55b763c84286a95fe69e6ab80720\", element=\"10770eed-67a9-4a68-839e-63e0bf6baa48\")>,\n",
       " <selenium.webdriver.remote.webelement.WebElement (session=\"fd4d55b763c84286a95fe69e6ab80720\", element=\"ad701c1a-7413-4b98-83d2-1986ee9ba538\")>,\n",
       " <selenium.webdriver.remote.webelement.WebElement (session=\"fd4d55b763c84286a95fe69e6ab80720\", element=\"833d6b33-7430-4f6a-a43d-e87eeb7d5ca6\")>,\n",
       " <selenium.webdriver.remote.webelement.WebElement (session=\"fd4d55b763c84286a95fe69e6ab80720\", element=\"9e72ecfe-f00c-4b1a-8d9c-87eb547bd2a2\")>]"
      ]
     },
     "execution_count": 23,
     "metadata": {},
     "output_type": "execute_result"
    }
   ],
   "source": [
    "company=driver.find_elements_by_xpath('//div[@class=\"mt-7 companyInfo subheading lh16\"]')\n",
    "company"
   ]
  },
  {
   "cell_type": "code",
   "execution_count": 25,
   "metadata": {},
   "outputs": [
    {
     "data": {
      "text/plain": [
       "['Inflexion Analytix Private Limited',\n",
       " 'GABA Consultancy services',\n",
       " 'TalPro',\n",
       " 'Growel Softech Pvt. Ltd.',\n",
       " 'Growel Softech Pvt. Ltd.',\n",
       " 'ERM Placement Services (P) Ltd.',\n",
       " 'Acidaes Solutions Pvt. Ltd.\\n3.5\\n(67 Reviews)',\n",
       " 'R Systems International Ltd.\\n3.1\\n(304 Reviews)',\n",
       " 'TalPro',\n",
       " 'TalkValley LLC\\n2.1\\n(2 Reviews)']"
      ]
     },
     "execution_count": 25,
     "metadata": {},
     "output_type": "execute_result"
    }
   ],
   "source": [
    "Compnay_name=[]\n",
    "for i in company[:10]:\n",
    "    Compnay_name.append(i.text)\n",
    "Compnay_name"
   ]
  },
  {
   "cell_type": "code",
   "execution_count": 26,
   "metadata": {},
   "outputs": [
    {
     "data": {
      "text/plain": [
       "[<selenium.webdriver.remote.webelement.WebElement (session=\"fd4d55b763c84286a95fe69e6ab80720\", element=\"2cd71086-8e78-4d7a-b07c-1ba9b2b47bf6\")>,\n",
       " <selenium.webdriver.remote.webelement.WebElement (session=\"fd4d55b763c84286a95fe69e6ab80720\", element=\"cb10eb95-d841-4973-a902-ac565e33715b\")>,\n",
       " <selenium.webdriver.remote.webelement.WebElement (session=\"fd4d55b763c84286a95fe69e6ab80720\", element=\"18bf43b5-cd14-4bb5-929f-f712b7a230a0\")>,\n",
       " <selenium.webdriver.remote.webelement.WebElement (session=\"fd4d55b763c84286a95fe69e6ab80720\", element=\"698f0560-15d5-456e-8ed6-2eac93d0912b\")>,\n",
       " <selenium.webdriver.remote.webelement.WebElement (session=\"fd4d55b763c84286a95fe69e6ab80720\", element=\"4ab44e9a-742a-40cc-876c-c93f7e2a40c0\")>,\n",
       " <selenium.webdriver.remote.webelement.WebElement (session=\"fd4d55b763c84286a95fe69e6ab80720\", element=\"7a733682-ae4e-4b2b-8639-21690bf4c5a7\")>,\n",
       " <selenium.webdriver.remote.webelement.WebElement (session=\"fd4d55b763c84286a95fe69e6ab80720\", element=\"be2ae0bb-24e8-4fc1-8212-d96c12ffc7fd\")>,\n",
       " <selenium.webdriver.remote.webelement.WebElement (session=\"fd4d55b763c84286a95fe69e6ab80720\", element=\"d9a8f53e-447a-45f2-8bd9-9a35bdced55f\")>,\n",
       " <selenium.webdriver.remote.webelement.WebElement (session=\"fd4d55b763c84286a95fe69e6ab80720\", element=\"b0899ce9-e5ff-4486-953c-e3a3531bf01f\")>,\n",
       " <selenium.webdriver.remote.webelement.WebElement (session=\"fd4d55b763c84286a95fe69e6ab80720\", element=\"29820733-33cb-4b79-b58d-962d6b876484\")>,\n",
       " <selenium.webdriver.remote.webelement.WebElement (session=\"fd4d55b763c84286a95fe69e6ab80720\", element=\"5ae890ff-c16c-43e3-9ffa-f327e79c0724\")>,\n",
       " <selenium.webdriver.remote.webelement.WebElement (session=\"fd4d55b763c84286a95fe69e6ab80720\", element=\"4ab922b2-db55-456a-b989-1b3ee04e5a34\")>,\n",
       " <selenium.webdriver.remote.webelement.WebElement (session=\"fd4d55b763c84286a95fe69e6ab80720\", element=\"cf8f51d8-0a99-4064-b013-ad0433b22cd9\")>,\n",
       " <selenium.webdriver.remote.webelement.WebElement (session=\"fd4d55b763c84286a95fe69e6ab80720\", element=\"65795088-b03d-4a14-bfc0-950edcc5c1e2\")>,\n",
       " <selenium.webdriver.remote.webelement.WebElement (session=\"fd4d55b763c84286a95fe69e6ab80720\", element=\"6d3b4834-67b4-4cc6-b5c0-f25cb487043f\")>,\n",
       " <selenium.webdriver.remote.webelement.WebElement (session=\"fd4d55b763c84286a95fe69e6ab80720\", element=\"1ada321b-31cd-4fba-8f83-2dbd5a868b30\")>,\n",
       " <selenium.webdriver.remote.webelement.WebElement (session=\"fd4d55b763c84286a95fe69e6ab80720\", element=\"36167c82-f593-4ecd-936c-c68efc9ffc52\")>,\n",
       " <selenium.webdriver.remote.webelement.WebElement (session=\"fd4d55b763c84286a95fe69e6ab80720\", element=\"a221b8cd-5009-465f-8961-f0cde930c865\")>,\n",
       " <selenium.webdriver.remote.webelement.WebElement (session=\"fd4d55b763c84286a95fe69e6ab80720\", element=\"3045df0f-5209-4a34-a866-8a6e552c0574\")>,\n",
       " <selenium.webdriver.remote.webelement.WebElement (session=\"fd4d55b763c84286a95fe69e6ab80720\", element=\"b6701dbf-5e8f-496a-b054-62cfe9fa685f\")>,\n",
       " <selenium.webdriver.remote.webelement.WebElement (session=\"fd4d55b763c84286a95fe69e6ab80720\", element=\"f92c5298-a18f-4a4a-962a-a61f4197c1d1\")>,\n",
       " <selenium.webdriver.remote.webelement.WebElement (session=\"fd4d55b763c84286a95fe69e6ab80720\", element=\"e1a7dbb7-8f6c-4085-bd8e-8aea4e133b43\")>,\n",
       " <selenium.webdriver.remote.webelement.WebElement (session=\"fd4d55b763c84286a95fe69e6ab80720\", element=\"2343bcbc-d0d1-45c9-aab4-adc4c04655b3\")>,\n",
       " <selenium.webdriver.remote.webelement.WebElement (session=\"fd4d55b763c84286a95fe69e6ab80720\", element=\"d733738a-c29b-4bb7-abc5-a58787761365\")>,\n",
       " <selenium.webdriver.remote.webelement.WebElement (session=\"fd4d55b763c84286a95fe69e6ab80720\", element=\"81c8e714-e11f-4535-afd7-da6cc27eba59\")>,\n",
       " <selenium.webdriver.remote.webelement.WebElement (session=\"fd4d55b763c84286a95fe69e6ab80720\", element=\"81ec2b0b-94f8-44a1-bd71-5c43fe588e95\")>,\n",
       " <selenium.webdriver.remote.webelement.WebElement (session=\"fd4d55b763c84286a95fe69e6ab80720\", element=\"bd8f0ce8-6b50-4b7d-94e1-ca1e2877cfcd\")>,\n",
       " <selenium.webdriver.remote.webelement.WebElement (session=\"fd4d55b763c84286a95fe69e6ab80720\", element=\"6e01f5b1-97d6-4e3a-8fab-9bcf3a85498c\")>,\n",
       " <selenium.webdriver.remote.webelement.WebElement (session=\"fd4d55b763c84286a95fe69e6ab80720\", element=\"071c7597-1599-4ed1-b52d-19d2907f54f8\")>,\n",
       " <selenium.webdriver.remote.webelement.WebElement (session=\"fd4d55b763c84286a95fe69e6ab80720\", element=\"76a87259-2cb8-4b28-b7e5-15fd801cb414\")>,\n",
       " <selenium.webdriver.remote.webelement.WebElement (session=\"fd4d55b763c84286a95fe69e6ab80720\", element=\"484fa9d9-f409-46a4-9cee-c994457e0020\")>,\n",
       " <selenium.webdriver.remote.webelement.WebElement (session=\"fd4d55b763c84286a95fe69e6ab80720\", element=\"0c1b6b1f-20e1-4732-85a1-abe3f5a2282f\")>,\n",
       " <selenium.webdriver.remote.webelement.WebElement (session=\"fd4d55b763c84286a95fe69e6ab80720\", element=\"600c287c-3051-49d5-9e33-01ee69646c7c\")>,\n",
       " <selenium.webdriver.remote.webelement.WebElement (session=\"fd4d55b763c84286a95fe69e6ab80720\", element=\"51eaafca-8561-45d6-9da5-175aa849dc91\")>,\n",
       " <selenium.webdriver.remote.webelement.WebElement (session=\"fd4d55b763c84286a95fe69e6ab80720\", element=\"d02144be-f50d-4dab-8392-8b0c325e4cb3\")>,\n",
       " <selenium.webdriver.remote.webelement.WebElement (session=\"fd4d55b763c84286a95fe69e6ab80720\", element=\"8ad2623b-de41-4ca8-b875-2d8422ad4ff3\")>,\n",
       " <selenium.webdriver.remote.webelement.WebElement (session=\"fd4d55b763c84286a95fe69e6ab80720\", element=\"6a4ee64f-84a7-4edb-87a0-66691798e592\")>,\n",
       " <selenium.webdriver.remote.webelement.WebElement (session=\"fd4d55b763c84286a95fe69e6ab80720\", element=\"c3f1e5bd-d73b-49c5-ba08-8f12fa02134f\")>,\n",
       " <selenium.webdriver.remote.webelement.WebElement (session=\"fd4d55b763c84286a95fe69e6ab80720\", element=\"b4262996-be14-49c5-866e-64a65e40e53d\")>,\n",
       " <selenium.webdriver.remote.webelement.WebElement (session=\"fd4d55b763c84286a95fe69e6ab80720\", element=\"23f28e9c-72dc-4187-946f-ef7c8f3c84f9\")>,\n",
       " <selenium.webdriver.remote.webelement.WebElement (session=\"fd4d55b763c84286a95fe69e6ab80720\", element=\"bb21cc54-1a73-4329-98c6-e4829557ba6a\")>,\n",
       " <selenium.webdriver.remote.webelement.WebElement (session=\"fd4d55b763c84286a95fe69e6ab80720\", element=\"029d1f21-385f-497b-927c-dac1bbda9688\")>,\n",
       " <selenium.webdriver.remote.webelement.WebElement (session=\"fd4d55b763c84286a95fe69e6ab80720\", element=\"fc9b3d9d-e410-4dee-80ba-aac683cc9670\")>,\n",
       " <selenium.webdriver.remote.webelement.WebElement (session=\"fd4d55b763c84286a95fe69e6ab80720\", element=\"e32c12ff-64eb-4574-81ce-d1c874475967\")>,\n",
       " <selenium.webdriver.remote.webelement.WebElement (session=\"fd4d55b763c84286a95fe69e6ab80720\", element=\"98111c80-1e05-4be3-8c97-cba1e30da3e8\")>,\n",
       " <selenium.webdriver.remote.webelement.WebElement (session=\"fd4d55b763c84286a95fe69e6ab80720\", element=\"339a3170-969a-4b06-a267-fd26b053be98\")>,\n",
       " <selenium.webdriver.remote.webelement.WebElement (session=\"fd4d55b763c84286a95fe69e6ab80720\", element=\"e3c66bac-e0b6-4327-b1f5-c9fdac42f3ae\")>,\n",
       " <selenium.webdriver.remote.webelement.WebElement (session=\"fd4d55b763c84286a95fe69e6ab80720\", element=\"5f23d1d5-bad3-4f9d-9bf2-6799f10e14b7\")>,\n",
       " <selenium.webdriver.remote.webelement.WebElement (session=\"fd4d55b763c84286a95fe69e6ab80720\", element=\"ea60e0ed-4de3-4d3a-af35-28a9218922f0\")>,\n",
       " <selenium.webdriver.remote.webelement.WebElement (session=\"fd4d55b763c84286a95fe69e6ab80720\", element=\"680c92a5-be1f-4bd7-b3e7-ffcff7e38a7e\")>,\n",
       " <selenium.webdriver.remote.webelement.WebElement (session=\"fd4d55b763c84286a95fe69e6ab80720\", element=\"b47d4088-1daa-4dde-87f4-01991fc7d273\")>,\n",
       " <selenium.webdriver.remote.webelement.WebElement (session=\"fd4d55b763c84286a95fe69e6ab80720\", element=\"2652efa1-39aa-4b92-9d51-d9cf57890e8d\")>,\n",
       " <selenium.webdriver.remote.webelement.WebElement (session=\"fd4d55b763c84286a95fe69e6ab80720\", element=\"0a0d7c26-0e6d-4647-b4ee-5e5efaaf528a\")>,\n",
       " <selenium.webdriver.remote.webelement.WebElement (session=\"fd4d55b763c84286a95fe69e6ab80720\", element=\"08d675dc-fdc1-486e-896a-3cfcbb415b32\")>,\n",
       " <selenium.webdriver.remote.webelement.WebElement (session=\"fd4d55b763c84286a95fe69e6ab80720\", element=\"f624c38e-64b0-4ac7-8058-e37395acf4db\")>,\n",
       " <selenium.webdriver.remote.webelement.WebElement (session=\"fd4d55b763c84286a95fe69e6ab80720\", element=\"1ebd1980-fc6d-4c89-9841-441c88da1deb\")>,\n",
       " <selenium.webdriver.remote.webelement.WebElement (session=\"fd4d55b763c84286a95fe69e6ab80720\", element=\"27c7aeb4-b630-4db6-bef1-ff029e68e0cc\")>,\n",
       " <selenium.webdriver.remote.webelement.WebElement (session=\"fd4d55b763c84286a95fe69e6ab80720\", element=\"ed0dc246-1753-409e-b69d-01ef5cb761a2\")>,\n",
       " <selenium.webdriver.remote.webelement.WebElement (session=\"fd4d55b763c84286a95fe69e6ab80720\", element=\"ae62a996-90f1-4ec2-822a-b2f4153d5e7c\")>,\n",
       " <selenium.webdriver.remote.webelement.WebElement (session=\"fd4d55b763c84286a95fe69e6ab80720\", element=\"3d852d86-9c7f-45a7-9e74-237a4fd1a421\")>]"
      ]
     },
     "execution_count": 26,
     "metadata": {},
     "output_type": "execute_result"
    }
   ],
   "source": [
    "location=driver.find_elements_by_xpath('//span[@class=\"ellipsis fleft fs12 lh16\"]')\n",
    "location"
   ]
  },
  {
   "cell_type": "code",
   "execution_count": 27,
   "metadata": {},
   "outputs": [
    {
     "data": {
      "text/plain": [
       "['0-3 Yrs',\n",
       " '3,50,000 - 4,50,000 PA.',\n",
       " 'Pune, Delhi / NCR, Mumbai (All Areas)',\n",
       " '0-0 Yrs',\n",
       " '2,25,000 - 4,75,000 PA.',\n",
       " 'Noida, Greater Noida, Delhi / NCR',\n",
       " '2-6 Yrs',\n",
       " 'Not disclosed',\n",
       " 'Gurgaon/Gurugram',\n",
       " '4-6 Yrs',\n",
       " '4,75,000 - 7,00,000 PA.',\n",
       " 'Noida, Kolkata, Gurgaon/Gurugram, Bangalore/Bengaluru',\n",
       " '4-6 Yrs',\n",
       " '4,75,000 - 7,00,000 PA.',\n",
       " 'Noida, Kolkata, Gurgaon/Gurugram, Bangalore/Bengaluru',\n",
       " '3-7 Yrs',\n",
       " '3,00,000 - 8,00,000 PA.',\n",
       " 'New Delhi, Hyderabad/Secunderabad',\n",
       " '3-5 Yrs',\n",
       " 'Not disclosed',\n",
       " 'Noida',\n",
       " '4-8 Yrs',\n",
       " 'Not disclosed',\n",
       " 'Noida(Sector-59 Noida)',\n",
       " '2-6 Yrs',\n",
       " 'Not disclosed',\n",
       " 'Gurgaon/Gurugram',\n",
       " '0-5 Yrs',\n",
       " '2,00,000 - 3,00,000 PA.',\n",
       " 'Kolkata, Bangalore/Bengaluru, Delhi / NCR',\n",
       " '0-5 Yrs',\n",
       " 'Not disclosed',\n",
       " 'New Delhi',\n",
       " '3-7 Yrs',\n",
       " 'Not disclosed',\n",
       " 'Mumbai, Gurgaon/Gurugram, Bangalore/Bengaluru',\n",
       " '5-8 Yrs',\n",
       " 'Not disclosed',\n",
       " 'New Delhi',\n",
       " '4-7 Yrs',\n",
       " 'Not disclosed',\n",
       " 'Noida, Gurgaon/Gurugram, Delhi / NCR',\n",
       " '1-5 Yrs',\n",
       " 'Not disclosed',\n",
       " 'Delhi',\n",
       " '3-7 Yrs',\n",
       " 'Not disclosed',\n",
       " 'Gurgaon/Gurugram, Bangalore/Bengaluru',\n",
       " '1-3 Yrs',\n",
       " 'Not disclosed',\n",
       " 'Bharuch, Jaipur, Bhopal, Mumbai, Jhansi, Nagpur, Ghaziabad, Jaunpur, Kanpur, New Delhi, Lucknow, Agra, Gurgaon/Gurugram, Rajkot, Bangalore/Bengaluru',\n",
       " '2-6 Yrs',\n",
       " 'Not disclosed',\n",
       " 'New Delhi',\n",
       " '2-6 Yrs',\n",
       " 'Not disclosed',\n",
       " 'Delhi',\n",
       " '3-6 Yrs',\n",
       " 'Not disclosed',\n",
       " 'Noida']"
      ]
     },
     "execution_count": 27,
     "metadata": {},
     "output_type": "execute_result"
    }
   ],
   "source": [
    "Job_location=[]\n",
    "for i in location:\n",
    "    Job_location.append(i.text)\n",
    "Job_location"
   ]
  },
  {
   "cell_type": "code",
   "execution_count": 28,
   "metadata": {},
   "outputs": [
    {
     "data": {
      "text/plain": [
       "['0-3 Yrs',\n",
       " '0-0 Yrs',\n",
       " '2-6 Yrs',\n",
       " '4-6 Yrs',\n",
       " '4-6 Yrs',\n",
       " '3-7 Yrs',\n",
       " '3-5 Yrs',\n",
       " '4-8 Yrs',\n",
       " '2-6 Yrs',\n",
       " '0-5 Yrs']"
      ]
     },
     "execution_count": 28,
     "metadata": {},
     "output_type": "execute_result"
    }
   ],
   "source": [
    "Year_exp=[]\n",
    "for i in range(0,len(Job_location),3):\n",
    "    Year_exp.append(Job_location[i])\n",
    "Year_exp[:10]   #select only first 10 yaer exp"
   ]
  },
  {
   "cell_type": "code",
   "execution_count": 29,
   "metadata": {},
   "outputs": [
    {
     "data": {
      "text/plain": [
       "['Pune, Delhi / NCR, Mumbai (All Areas)',\n",
       " 'Noida, Greater Noida, Delhi / NCR',\n",
       " 'Gurgaon/Gurugram',\n",
       " 'Noida, Kolkata, Gurgaon/Gurugram, Bangalore/Bengaluru',\n",
       " 'Noida, Kolkata, Gurgaon/Gurugram, Bangalore/Bengaluru',\n",
       " 'New Delhi, Hyderabad/Secunderabad',\n",
       " 'Noida',\n",
       " 'Noida(Sector-59 Noida)',\n",
       " 'Gurgaon/Gurugram',\n",
       " 'Kolkata, Bangalore/Bengaluru, Delhi / NCR']"
      ]
     },
     "execution_count": 29,
     "metadata": {},
     "output_type": "execute_result"
    }
   ],
   "source": [
    "Location=[]\n",
    "for i in range(2,len(Job_location),3):\n",
    "    Location.append(Job_location[i])\n",
    "Location[0:10] #select only first 10 job location"
   ]
  },
  {
   "cell_type": "code",
   "execution_count": 30,
   "metadata": {},
   "outputs": [
    {
     "data": {
      "text/html": [
       "<div>\n",
       "<style scoped>\n",
       "    .dataframe tbody tr th:only-of-type {\n",
       "        vertical-align: middle;\n",
       "    }\n",
       "\n",
       "    .dataframe tbody tr th {\n",
       "        vertical-align: top;\n",
       "    }\n",
       "\n",
       "    .dataframe thead th {\n",
       "        text-align: right;\n",
       "    }\n",
       "</style>\n",
       "<table border=\"1\" class=\"dataframe\">\n",
       "  <thead>\n",
       "    <tr style=\"text-align: right;\">\n",
       "      <th></th>\n",
       "      <th>Job_title</th>\n",
       "      <th>Location</th>\n",
       "      <th>Company name</th>\n",
       "      <th>Eperience</th>\n",
       "    </tr>\n",
       "  </thead>\n",
       "  <tbody>\n",
       "    <tr>\n",
       "      <th>0</th>\n",
       "      <td>Data Scientist/Data Analyst /Business Analyst</td>\n",
       "      <td>Pune, Delhi / NCR, Mumbai (All Areas)</td>\n",
       "      <td>Inflexion Analytix Private Limited</td>\n",
       "      <td>0-3 Yrs</td>\n",
       "    </tr>\n",
       "    <tr>\n",
       "      <th>1</th>\n",
       "      <td>Only Fresher / Data Scientist / Data Analyst /...</td>\n",
       "      <td>Noida, Greater Noida, Delhi / NCR</td>\n",
       "      <td>GABA Consultancy services</td>\n",
       "      <td>0-0 Yrs</td>\n",
       "    </tr>\n",
       "    <tr>\n",
       "      <th>2</th>\n",
       "      <td>Data Scientist - Machine Learning/ NLP</td>\n",
       "      <td>Gurgaon/Gurugram</td>\n",
       "      <td>TalPro</td>\n",
       "      <td>2-6 Yrs</td>\n",
       "    </tr>\n",
       "    <tr>\n",
       "      <th>3</th>\n",
       "      <td>Data Scientist || Python || C2H</td>\n",
       "      <td>Noida, Kolkata, Gurgaon/Gurugram, Bangalore/Be...</td>\n",
       "      <td>Growel Softech Pvt. Ltd.</td>\n",
       "      <td>4-6 Yrs</td>\n",
       "    </tr>\n",
       "    <tr>\n",
       "      <th>4</th>\n",
       "      <td>Data Scientist || Python || C2H</td>\n",
       "      <td>Noida, Kolkata, Gurgaon/Gurugram, Bangalore/Be...</td>\n",
       "      <td>Growel Softech Pvt. Ltd.</td>\n",
       "      <td>4-6 Yrs</td>\n",
       "    </tr>\n",
       "    <tr>\n",
       "      <th>5</th>\n",
       "      <td>Advanced Analytics -Data Scientist</td>\n",
       "      <td>New Delhi, Hyderabad/Secunderabad</td>\n",
       "      <td>ERM Placement Services (P) Ltd.</td>\n",
       "      <td>3-7 Yrs</td>\n",
       "    </tr>\n",
       "    <tr>\n",
       "      <th>6</th>\n",
       "      <td>Data Scientist - Text NLP | Noida</td>\n",
       "      <td>Noida</td>\n",
       "      <td>Acidaes Solutions Pvt. Ltd.\\n3.5\\n(67 Reviews)</td>\n",
       "      <td>3-5 Yrs</td>\n",
       "    </tr>\n",
       "    <tr>\n",
       "      <th>7</th>\n",
       "      <td>Data Scientist (Early Joiner)</td>\n",
       "      <td>Noida(Sector-59 Noida)</td>\n",
       "      <td>R Systems International Ltd.\\n3.1\\n(304 Reviews)</td>\n",
       "      <td>4-8 Yrs</td>\n",
       "    </tr>\n",
       "    <tr>\n",
       "      <th>8</th>\n",
       "      <td>Data Scientist - Machine Learning/NLP</td>\n",
       "      <td>Gurgaon/Gurugram</td>\n",
       "      <td>TalPro</td>\n",
       "      <td>2-6 Yrs</td>\n",
       "    </tr>\n",
       "    <tr>\n",
       "      <th>9</th>\n",
       "      <td>Data analytics / Data scientist intern (work f...</td>\n",
       "      <td>Kolkata, Bangalore/Bengaluru, Delhi / NCR</td>\n",
       "      <td>TalkValley LLC\\n2.1\\n(2 Reviews)</td>\n",
       "      <td>0-5 Yrs</td>\n",
       "    </tr>\n",
       "  </tbody>\n",
       "</table>\n",
       "</div>"
      ],
      "text/plain": [
       "                                           Job_title  \\\n",
       "0      Data Scientist/Data Analyst /Business Analyst   \n",
       "1  Only Fresher / Data Scientist / Data Analyst /...   \n",
       "2             Data Scientist - Machine Learning/ NLP   \n",
       "3                    Data Scientist || Python || C2H   \n",
       "4                    Data Scientist || Python || C2H   \n",
       "5                 Advanced Analytics -Data Scientist   \n",
       "6                  Data Scientist - Text NLP | Noida   \n",
       "7                      Data Scientist (Early Joiner)   \n",
       "8              Data Scientist - Machine Learning/NLP   \n",
       "9  Data analytics / Data scientist intern (work f...   \n",
       "\n",
       "                                            Location  \\\n",
       "0              Pune, Delhi / NCR, Mumbai (All Areas)   \n",
       "1                  Noida, Greater Noida, Delhi / NCR   \n",
       "2                                   Gurgaon/Gurugram   \n",
       "3  Noida, Kolkata, Gurgaon/Gurugram, Bangalore/Be...   \n",
       "4  Noida, Kolkata, Gurgaon/Gurugram, Bangalore/Be...   \n",
       "5                  New Delhi, Hyderabad/Secunderabad   \n",
       "6                                              Noida   \n",
       "7                             Noida(Sector-59 Noida)   \n",
       "8                                   Gurgaon/Gurugram   \n",
       "9          Kolkata, Bangalore/Bengaluru, Delhi / NCR   \n",
       "\n",
       "                                       Company name Eperience  \n",
       "0                Inflexion Analytix Private Limited   0-3 Yrs  \n",
       "1                         GABA Consultancy services   0-0 Yrs  \n",
       "2                                            TalPro   2-6 Yrs  \n",
       "3                          Growel Softech Pvt. Ltd.   4-6 Yrs  \n",
       "4                          Growel Softech Pvt. Ltd.   4-6 Yrs  \n",
       "5                   ERM Placement Services (P) Ltd.   3-7 Yrs  \n",
       "6    Acidaes Solutions Pvt. Ltd.\\n3.5\\n(67 Reviews)   3-5 Yrs  \n",
       "7  R Systems International Ltd.\\n3.1\\n(304 Reviews)   4-8 Yrs  \n",
       "8                                            TalPro   2-6 Yrs  \n",
       "9                  TalkValley LLC\\n2.1\\n(2 Reviews)   0-5 Yrs  "
      ]
     },
     "execution_count": 30,
     "metadata": {},
     "output_type": "execute_result"
    }
   ],
   "source": [
    "# now make data frame \n",
    "df=pd.DataFrame({})\n",
    "df['Job_title']=Job_title[:10]\n",
    "df['Location']=Location[:10]\n",
    "df['Company name']=Compnay_name[:10]\n",
    "df['Eperience']=Year_exp[:10]\n",
    "df"
   ]
  },
  {
   "cell_type": "code",
   "execution_count": 31,
   "metadata": {},
   "outputs": [],
   "source": [
    "#Question 4 glassdoor\n",
    "#lets first connect with webdriver\n",
    "driver=webdriver.Chrome(r\"C:\\Users\\INPshy\\Downloads\\chromedriver_win32\\chromedriver.exe\")"
   ]
  },
  {
   "cell_type": "code",
   "execution_count": 32,
   "metadata": {},
   "outputs": [],
   "source": [
    "url='https://www.glassdoor.co.in/index.htm'\n",
    "driver.get(url)\n",
    "time.sleep(5)"
   ]
  },
  {
   "cell_type": "code",
   "execution_count": 34,
   "metadata": {},
   "outputs": [],
   "source": [
    "search_datascientist=driver.find_element_by_id('sc.keyword')\n",
    "time.sleep(2)\n",
    "search_datascientist.send_keys('Data Scientist')"
   ]
  },
  {
   "cell_type": "code",
   "execution_count": 36,
   "metadata": {},
   "outputs": [],
   "source": [
    "location=driver.find_element_by_id(\"sc.location\")\n",
    "time.sleep(2)\n",
    "location.send_keys('Noida')"
   ]
  },
  {
   "cell_type": "code",
   "execution_count": 38,
   "metadata": {},
   "outputs": [],
   "source": [
    "search_button=driver.find_element_by_xpath('//button[@class=\"gd-ui-button ml-std col-auto SearchStyles__newSearchButton css-iixdfr\"]')\n",
    "search_button.click()\n",
    "time.sleep(5)"
   ]
  },
  {
   "cell_type": "code",
   "execution_count": 39,
   "metadata": {},
   "outputs": [
    {
     "data": {
      "text/plain": [
       "[<selenium.webdriver.remote.webelement.WebElement (session=\"81b4271489966fd3006431db75a3f9b7\", element=\"cb7730f3-04cf-427c-a56e-f7fdd95e6d2a\")>,\n",
       " <selenium.webdriver.remote.webelement.WebElement (session=\"81b4271489966fd3006431db75a3f9b7\", element=\"70554622-2f36-4c7d-83f9-c14cbc008cc8\")>,\n",
       " <selenium.webdriver.remote.webelement.WebElement (session=\"81b4271489966fd3006431db75a3f9b7\", element=\"f979ff50-3b94-449d-9688-441ec74a741b\")>,\n",
       " <selenium.webdriver.remote.webelement.WebElement (session=\"81b4271489966fd3006431db75a3f9b7\", element=\"4416e147-3d10-46e2-87d1-4e8b1fc999df\")>,\n",
       " <selenium.webdriver.remote.webelement.WebElement (session=\"81b4271489966fd3006431db75a3f9b7\", element=\"d210abac-1a60-4e76-8ae7-90a67640547e\")>,\n",
       " <selenium.webdriver.remote.webelement.WebElement (session=\"81b4271489966fd3006431db75a3f9b7\", element=\"cd65c088-b983-4c7d-b454-98f018df72f9\")>,\n",
       " <selenium.webdriver.remote.webelement.WebElement (session=\"81b4271489966fd3006431db75a3f9b7\", element=\"6771c6ca-6770-4dde-a6b3-32260ffebcb5\")>,\n",
       " <selenium.webdriver.remote.webelement.WebElement (session=\"81b4271489966fd3006431db75a3f9b7\", element=\"05889bde-629f-4dc6-8ea3-80ef43466db8\")>,\n",
       " <selenium.webdriver.remote.webelement.WebElement (session=\"81b4271489966fd3006431db75a3f9b7\", element=\"b2b8fd17-4e72-4f46-b66f-e642de1545d6\")>,\n",
       " <selenium.webdriver.remote.webelement.WebElement (session=\"81b4271489966fd3006431db75a3f9b7\", element=\"4277a511-434c-455b-8d66-485f7132c619\")>,\n",
       " <selenium.webdriver.remote.webelement.WebElement (session=\"81b4271489966fd3006431db75a3f9b7\", element=\"c72077d7-c982-4f82-8b59-a343627e224f\")>,\n",
       " <selenium.webdriver.remote.webelement.WebElement (session=\"81b4271489966fd3006431db75a3f9b7\", element=\"53b6da61-9c74-49c9-b632-99a43b112980\")>,\n",
       " <selenium.webdriver.remote.webelement.WebElement (session=\"81b4271489966fd3006431db75a3f9b7\", element=\"6fe37237-37d8-496e-8dcd-428c09ee1029\")>,\n",
       " <selenium.webdriver.remote.webelement.WebElement (session=\"81b4271489966fd3006431db75a3f9b7\", element=\"b6de14fd-55ee-4c35-bc4d-1eb384036efa\")>,\n",
       " <selenium.webdriver.remote.webelement.WebElement (session=\"81b4271489966fd3006431db75a3f9b7\", element=\"ebfaebec-dc02-4612-a1d8-c728a07dc714\")>,\n",
       " <selenium.webdriver.remote.webelement.WebElement (session=\"81b4271489966fd3006431db75a3f9b7\", element=\"31eaa6d5-ada3-4ae6-9ce1-ec08ef0827b8\")>,\n",
       " <selenium.webdriver.remote.webelement.WebElement (session=\"81b4271489966fd3006431db75a3f9b7\", element=\"abc2c4c4-b748-4a29-b60b-4fdc621d3d34\")>,\n",
       " <selenium.webdriver.remote.webelement.WebElement (session=\"81b4271489966fd3006431db75a3f9b7\", element=\"50f046d9-75f3-4b74-92ba-a59ac9d40dd3\")>,\n",
       " <selenium.webdriver.remote.webelement.WebElement (session=\"81b4271489966fd3006431db75a3f9b7\", element=\"c85efcd5-739e-4671-bb6c-ae91575954b0\")>,\n",
       " <selenium.webdriver.remote.webelement.WebElement (session=\"81b4271489966fd3006431db75a3f9b7\", element=\"858ec18a-62c4-44a0-8aee-4e89c8247074\")>,\n",
       " <selenium.webdriver.remote.webelement.WebElement (session=\"81b4271489966fd3006431db75a3f9b7\", element=\"66f11623-7b51-4a64-8e34-de0605e09c9a\")>,\n",
       " <selenium.webdriver.remote.webelement.WebElement (session=\"81b4271489966fd3006431db75a3f9b7\", element=\"00aa86cc-75ab-4c2c-b7b6-ff0266660585\")>,\n",
       " <selenium.webdriver.remote.webelement.WebElement (session=\"81b4271489966fd3006431db75a3f9b7\", element=\"a3aa365b-723f-4527-ae0e-7ed86768d265\")>,\n",
       " <selenium.webdriver.remote.webelement.WebElement (session=\"81b4271489966fd3006431db75a3f9b7\", element=\"e1f28bd9-7b63-4279-af51-0f983192056d\")>,\n",
       " <selenium.webdriver.remote.webelement.WebElement (session=\"81b4271489966fd3006431db75a3f9b7\", element=\"e286ac52-2bf0-47ce-b68d-76d60749e000\")>,\n",
       " <selenium.webdriver.remote.webelement.WebElement (session=\"81b4271489966fd3006431db75a3f9b7\", element=\"70cf51e5-ebe6-4861-b5ef-2e7b8bcf5b67\")>,\n",
       " <selenium.webdriver.remote.webelement.WebElement (session=\"81b4271489966fd3006431db75a3f9b7\", element=\"a21368b2-8f28-4e36-b4ee-2808ddb4c46e\")>,\n",
       " <selenium.webdriver.remote.webelement.WebElement (session=\"81b4271489966fd3006431db75a3f9b7\", element=\"9688c883-8903-4eaa-ba75-66d56329e2a0\")>,\n",
       " <selenium.webdriver.remote.webelement.WebElement (session=\"81b4271489966fd3006431db75a3f9b7\", element=\"de2f4529-e01c-40d7-a349-757031793bad\")>,\n",
       " <selenium.webdriver.remote.webelement.WebElement (session=\"81b4271489966fd3006431db75a3f9b7\", element=\"bda443c6-a7ca-4668-8914-957d06e94b9b\")>]"
      ]
     },
     "execution_count": 39,
     "metadata": {},
     "output_type": "execute_result"
    }
   ],
   "source": [
    "company_name=driver.find_elements_by_xpath('//a[@class=\" css-l2wjgv e1n63ojh0 jobLink\"]')\n",
    "company_name"
   ]
  },
  {
   "cell_type": "code",
   "execution_count": 40,
   "metadata": {},
   "outputs": [
    {
     "data": {
      "text/plain": [
       "['Ericsson',\n",
       " 'MasterCard',\n",
       " 'Data Patterns',\n",
       " 'Biz2Credit Inc',\n",
       " 'Urban Company',\n",
       " 'Algo8 AI Pvt. Ltd.',\n",
       " 'Amploy',\n",
       " 'Ginger Webs Pvt. Ltd.',\n",
       " 'IElevate Institute',\n",
       " 'United Airlines']"
      ]
     },
     "execution_count": 40,
     "metadata": {},
     "output_type": "execute_result"
    }
   ],
   "source": [
    "Company_name=[]\n",
    "for i in company_name[:10]:\n",
    "    Company_name.append(i.text)\n",
    "Company_name"
   ]
  },
  {
   "cell_type": "code",
   "execution_count": 41,
   "metadata": {},
   "outputs": [
    {
     "data": {
      "text/plain": [
       "[<selenium.webdriver.remote.webelement.WebElement (session=\"81b4271489966fd3006431db75a3f9b7\", element=\"293f6105-7c6b-4d68-97ba-6d6b7b504ad0\")>,\n",
       " <selenium.webdriver.remote.webelement.WebElement (session=\"81b4271489966fd3006431db75a3f9b7\", element=\"7722e0ed-b3a7-4e58-9cca-ac94e8c0ff95\")>,\n",
       " <selenium.webdriver.remote.webelement.WebElement (session=\"81b4271489966fd3006431db75a3f9b7\", element=\"18c05dd5-1b79-4323-a34e-1247a8da4002\")>,\n",
       " <selenium.webdriver.remote.webelement.WebElement (session=\"81b4271489966fd3006431db75a3f9b7\", element=\"a3126c36-0d11-4a5d-a829-c0a24e1c0b56\")>,\n",
       " <selenium.webdriver.remote.webelement.WebElement (session=\"81b4271489966fd3006431db75a3f9b7\", element=\"b61c4042-6b3d-4ef3-ad72-2762fc882f97\")>,\n",
       " <selenium.webdriver.remote.webelement.WebElement (session=\"81b4271489966fd3006431db75a3f9b7\", element=\"5ee62e9a-55f9-4825-ac62-e9a756b8f94d\")>,\n",
       " <selenium.webdriver.remote.webelement.WebElement (session=\"81b4271489966fd3006431db75a3f9b7\", element=\"ad43b2da-fa86-4a53-bae1-6f3b4344d5eb\")>,\n",
       " <selenium.webdriver.remote.webelement.WebElement (session=\"81b4271489966fd3006431db75a3f9b7\", element=\"bcaeb7fb-ca42-4c85-a381-ea3f44eded76\")>,\n",
       " <selenium.webdriver.remote.webelement.WebElement (session=\"81b4271489966fd3006431db75a3f9b7\", element=\"515fa826-0b0e-4a7b-919b-2f0225c1dc7c\")>,\n",
       " <selenium.webdriver.remote.webelement.WebElement (session=\"81b4271489966fd3006431db75a3f9b7\", element=\"2a0361a3-ace9-43b7-96c3-f166b176927a\")>,\n",
       " <selenium.webdriver.remote.webelement.WebElement (session=\"81b4271489966fd3006431db75a3f9b7\", element=\"6625b854-a8bd-416f-98bd-aa9d758d05d5\")>,\n",
       " <selenium.webdriver.remote.webelement.WebElement (session=\"81b4271489966fd3006431db75a3f9b7\", element=\"eb1dfba8-d457-46f6-8199-15cc9ca861ba\")>,\n",
       " <selenium.webdriver.remote.webelement.WebElement (session=\"81b4271489966fd3006431db75a3f9b7\", element=\"77a9a169-6958-4f7e-b579-d379b5b9f0fa\")>,\n",
       " <selenium.webdriver.remote.webelement.WebElement (session=\"81b4271489966fd3006431db75a3f9b7\", element=\"195f11ad-b763-4d68-9d4b-a18e83903b51\")>,\n",
       " <selenium.webdriver.remote.webelement.WebElement (session=\"81b4271489966fd3006431db75a3f9b7\", element=\"91cba4b1-fe8c-4d8a-989f-ff8979f34842\")>,\n",
       " <selenium.webdriver.remote.webelement.WebElement (session=\"81b4271489966fd3006431db75a3f9b7\", element=\"20911046-8f13-48ee-96b6-435c1f9d3e93\")>,\n",
       " <selenium.webdriver.remote.webelement.WebElement (session=\"81b4271489966fd3006431db75a3f9b7\", element=\"5f94206d-fddf-4c45-bf4d-bdae4240fa81\")>,\n",
       " <selenium.webdriver.remote.webelement.WebElement (session=\"81b4271489966fd3006431db75a3f9b7\", element=\"2a8a02dc-85bd-4e7b-a109-36d5443ef533\")>,\n",
       " <selenium.webdriver.remote.webelement.WebElement (session=\"81b4271489966fd3006431db75a3f9b7\", element=\"0825b052-d4d0-4846-bdfb-a5db73fb93ea\")>,\n",
       " <selenium.webdriver.remote.webelement.WebElement (session=\"81b4271489966fd3006431db75a3f9b7\", element=\"c61aeed0-17c6-4555-8692-d4a881dda208\")>,\n",
       " <selenium.webdriver.remote.webelement.WebElement (session=\"81b4271489966fd3006431db75a3f9b7\", element=\"7554994a-44a8-44aa-aa27-d77469e090e2\")>,\n",
       " <selenium.webdriver.remote.webelement.WebElement (session=\"81b4271489966fd3006431db75a3f9b7\", element=\"b7a47863-4c20-4143-92d7-0733a0996080\")>,\n",
       " <selenium.webdriver.remote.webelement.WebElement (session=\"81b4271489966fd3006431db75a3f9b7\", element=\"dabb9437-6a2a-4ecb-985c-1bc35cec4ebd\")>,\n",
       " <selenium.webdriver.remote.webelement.WebElement (session=\"81b4271489966fd3006431db75a3f9b7\", element=\"de17a3bd-ac36-4274-9a74-0ddfdba3de55\")>,\n",
       " <selenium.webdriver.remote.webelement.WebElement (session=\"81b4271489966fd3006431db75a3f9b7\", element=\"b9972f03-932a-4c45-9044-5cf27b94eb1d\")>,\n",
       " <selenium.webdriver.remote.webelement.WebElement (session=\"81b4271489966fd3006431db75a3f9b7\", element=\"41d36d02-13d0-48f0-99c9-006f9c39ce66\")>,\n",
       " <selenium.webdriver.remote.webelement.WebElement (session=\"81b4271489966fd3006431db75a3f9b7\", element=\"44febf6e-014f-42da-8327-7aa0dc182d01\")>,\n",
       " <selenium.webdriver.remote.webelement.WebElement (session=\"81b4271489966fd3006431db75a3f9b7\", element=\"d184d0e0-5c07-46c5-8056-68bae1d03c35\")>,\n",
       " <selenium.webdriver.remote.webelement.WebElement (session=\"81b4271489966fd3006431db75a3f9b7\", element=\"27e835c3-e61c-434e-802d-adf6c229fd24\")>,\n",
       " <selenium.webdriver.remote.webelement.WebElement (session=\"81b4271489966fd3006431db75a3f9b7\", element=\"b4bd1006-6587-4042-9cc8-9adf23f09ef7\")>]"
      ]
     },
     "execution_count": 41,
     "metadata": {},
     "output_type": "execute_result"
    }
   ],
   "source": [
    "no_days=driver.find_elements_by_xpath('//div[@class=\"d-flex align-items-end pl-std css-mi55ob\"]')\n",
    "no_days"
   ]
  },
  {
   "cell_type": "code",
   "execution_count": 42,
   "metadata": {},
   "outputs": [
    {
     "data": {
      "text/plain": [
       "['24h', '4d', '21d', '30d+', '4d', '18d', '30d+', '25d', '24h', '24h']"
      ]
     },
     "execution_count": 42,
     "metadata": {},
     "output_type": "execute_result"
    }
   ],
   "source": [
    "No_days=[]\n",
    "for i in no_days[:10]:\n",
    "    No_days.append(i.text)\n",
    "No_days"
   ]
  },
  {
   "cell_type": "code",
   "execution_count": 43,
   "metadata": {},
   "outputs": [
    {
     "data": {
      "text/plain": [
       "[<selenium.webdriver.remote.webelement.WebElement (session=\"81b4271489966fd3006431db75a3f9b7\", element=\"3d5a8334-9dca-4dfb-a636-152d6fa77a3e\")>,\n",
       " <selenium.webdriver.remote.webelement.WebElement (session=\"81b4271489966fd3006431db75a3f9b7\", element=\"da69f339-7b53-4c0f-81bf-536e38395e16\")>,\n",
       " <selenium.webdriver.remote.webelement.WebElement (session=\"81b4271489966fd3006431db75a3f9b7\", element=\"b600c22d-fca5-4311-b7cc-63b4068a578a\")>,\n",
       " <selenium.webdriver.remote.webelement.WebElement (session=\"81b4271489966fd3006431db75a3f9b7\", element=\"6c0891c3-4b3b-466a-a80d-bcb949ab1b95\")>,\n",
       " <selenium.webdriver.remote.webelement.WebElement (session=\"81b4271489966fd3006431db75a3f9b7\", element=\"4a572402-169f-4a58-875e-d797fd453df5\")>,\n",
       " <selenium.webdriver.remote.webelement.WebElement (session=\"81b4271489966fd3006431db75a3f9b7\", element=\"d5bd10fa-6f22-4383-b02f-03555cff69f6\")>,\n",
       " <selenium.webdriver.remote.webelement.WebElement (session=\"81b4271489966fd3006431db75a3f9b7\", element=\"f662beb2-54ef-4726-ac08-8f6511dce652\")>,\n",
       " <selenium.webdriver.remote.webelement.WebElement (session=\"81b4271489966fd3006431db75a3f9b7\", element=\"d9e7c4ef-040b-4e39-9490-03cbba25d9c4\")>,\n",
       " <selenium.webdriver.remote.webelement.WebElement (session=\"81b4271489966fd3006431db75a3f9b7\", element=\"46cc4097-5e18-4787-ba3e-51b004380780\")>,\n",
       " <selenium.webdriver.remote.webelement.WebElement (session=\"81b4271489966fd3006431db75a3f9b7\", element=\"3f81bc8e-fe50-43f3-a921-fbf6228e21d5\")>,\n",
       " <selenium.webdriver.remote.webelement.WebElement (session=\"81b4271489966fd3006431db75a3f9b7\", element=\"b58611fb-4da6-450e-91a9-b76591319428\")>,\n",
       " <selenium.webdriver.remote.webelement.WebElement (session=\"81b4271489966fd3006431db75a3f9b7\", element=\"4025d86f-5c50-44b2-8f3f-75e2f150c6dc\")>,\n",
       " <selenium.webdriver.remote.webelement.WebElement (session=\"81b4271489966fd3006431db75a3f9b7\", element=\"ea0eb26c-044e-4093-b8ef-edc6eff332bb\")>,\n",
       " <selenium.webdriver.remote.webelement.WebElement (session=\"81b4271489966fd3006431db75a3f9b7\", element=\"4652f521-3dbe-4f68-bc04-da5fc93f9f8b\")>,\n",
       " <selenium.webdriver.remote.webelement.WebElement (session=\"81b4271489966fd3006431db75a3f9b7\", element=\"f9a0f4ee-5a36-41d1-96eb-49fe4195dcb8\")>,\n",
       " <selenium.webdriver.remote.webelement.WebElement (session=\"81b4271489966fd3006431db75a3f9b7\", element=\"b444075e-6e1f-4a9c-a5a1-bb8247138beb\")>,\n",
       " <selenium.webdriver.remote.webelement.WebElement (session=\"81b4271489966fd3006431db75a3f9b7\", element=\"9374ca89-49ee-4c2d-946c-c14720d9082e\")>,\n",
       " <selenium.webdriver.remote.webelement.WebElement (session=\"81b4271489966fd3006431db75a3f9b7\", element=\"76e80ad6-cf66-4392-a12a-35efde1fb5fe\")>,\n",
       " <selenium.webdriver.remote.webelement.WebElement (session=\"81b4271489966fd3006431db75a3f9b7\", element=\"9e177406-b5bc-48ea-811a-cd24899b781d\")>,\n",
       " <selenium.webdriver.remote.webelement.WebElement (session=\"81b4271489966fd3006431db75a3f9b7\", element=\"85ec3bbf-2a7c-4668-a1a5-b2239f262481\")>,\n",
       " <selenium.webdriver.remote.webelement.WebElement (session=\"81b4271489966fd3006431db75a3f9b7\", element=\"400057bf-72d1-4a36-9d0d-8b9fca3aa3df\")>,\n",
       " <selenium.webdriver.remote.webelement.WebElement (session=\"81b4271489966fd3006431db75a3f9b7\", element=\"74dd037f-ec52-4739-add6-be60839890bc\")>]"
      ]
     },
     "execution_count": 43,
     "metadata": {},
     "output_type": "execute_result"
    }
   ],
   "source": [
    "rating=driver.find_elements_by_xpath('//span[@class=\"css-19pjha7 e1cjmv6j1\"]')\n",
    "rating"
   ]
  },
  {
   "cell_type": "code",
   "execution_count": 44,
   "metadata": {},
   "outputs": [
    {
     "data": {
      "text/plain": [
       "['4.1', '4.3', '3.1', '3.9', '4.1', '4.1', '3.8', '3.8', '3.8', '3.7']"
      ]
     },
     "execution_count": 44,
     "metadata": {},
     "output_type": "execute_result"
    }
   ],
   "source": [
    "Rating_company=[]\n",
    "for i in rating[:10]:\n",
    "    Rating_company.append(i.text)\n",
    "Rating_company"
   ]
  },
  {
   "cell_type": "code",
   "execution_count": 46,
   "metadata": {},
   "outputs": [
    {
     "data": {
      "text/html": [
       "<div>\n",
       "<style scoped>\n",
       "    .dataframe tbody tr th:only-of-type {\n",
       "        vertical-align: middle;\n",
       "    }\n",
       "\n",
       "    .dataframe tbody tr th {\n",
       "        vertical-align: top;\n",
       "    }\n",
       "\n",
       "    .dataframe thead th {\n",
       "        text-align: right;\n",
       "    }\n",
       "</style>\n",
       "<table border=\"1\" class=\"dataframe\">\n",
       "  <thead>\n",
       "    <tr style=\"text-align: right;\">\n",
       "      <th></th>\n",
       "      <th>Company Name</th>\n",
       "      <th>No of Days ago posted</th>\n",
       "      <th>Rating</th>\n",
       "    </tr>\n",
       "  </thead>\n",
       "  <tbody>\n",
       "    <tr>\n",
       "      <th>0</th>\n",
       "      <td>Ericsson</td>\n",
       "      <td>24h</td>\n",
       "      <td>4.1</td>\n",
       "    </tr>\n",
       "    <tr>\n",
       "      <th>1</th>\n",
       "      <td>MasterCard</td>\n",
       "      <td>4d</td>\n",
       "      <td>4.3</td>\n",
       "    </tr>\n",
       "    <tr>\n",
       "      <th>2</th>\n",
       "      <td>Data Patterns</td>\n",
       "      <td>21d</td>\n",
       "      <td>3.1</td>\n",
       "    </tr>\n",
       "    <tr>\n",
       "      <th>3</th>\n",
       "      <td>Biz2Credit Inc</td>\n",
       "      <td>30d+</td>\n",
       "      <td>3.9</td>\n",
       "    </tr>\n",
       "    <tr>\n",
       "      <th>4</th>\n",
       "      <td>Urban Company</td>\n",
       "      <td>4d</td>\n",
       "      <td>4.1</td>\n",
       "    </tr>\n",
       "    <tr>\n",
       "      <th>5</th>\n",
       "      <td>Algo8 AI Pvt. Ltd.</td>\n",
       "      <td>18d</td>\n",
       "      <td>4.1</td>\n",
       "    </tr>\n",
       "    <tr>\n",
       "      <th>6</th>\n",
       "      <td>Amploy</td>\n",
       "      <td>30d+</td>\n",
       "      <td>3.8</td>\n",
       "    </tr>\n",
       "    <tr>\n",
       "      <th>7</th>\n",
       "      <td>Ginger Webs Pvt. Ltd.</td>\n",
       "      <td>25d</td>\n",
       "      <td>3.8</td>\n",
       "    </tr>\n",
       "    <tr>\n",
       "      <th>8</th>\n",
       "      <td>IElevate Institute</td>\n",
       "      <td>24h</td>\n",
       "      <td>3.8</td>\n",
       "    </tr>\n",
       "    <tr>\n",
       "      <th>9</th>\n",
       "      <td>United Airlines</td>\n",
       "      <td>24h</td>\n",
       "      <td>3.7</td>\n",
       "    </tr>\n",
       "  </tbody>\n",
       "</table>\n",
       "</div>"
      ],
      "text/plain": [
       "            Company Name No of Days ago posted Rating\n",
       "0               Ericsson                   24h    4.1\n",
       "1             MasterCard                    4d    4.3\n",
       "2          Data Patterns                   21d    3.1\n",
       "3         Biz2Credit Inc                  30d+    3.9\n",
       "4          Urban Company                    4d    4.1\n",
       "5     Algo8 AI Pvt. Ltd.                   18d    4.1\n",
       "6                 Amploy                  30d+    3.8\n",
       "7  Ginger Webs Pvt. Ltd.                   25d    3.8\n",
       "8     IElevate Institute                   24h    3.8\n",
       "9        United Airlines                   24h    3.7"
      ]
     },
     "execution_count": 46,
     "metadata": {},
     "output_type": "execute_result"
    }
   ],
   "source": [
    "import pandas as pd\n",
    "glassdoor=pd.DataFrame({})\n",
    "glassdoor['Company Name']=Company_name[:10]\n",
    "glassdoor['No of Days ago posted']=No_days[:10]\n",
    "glassdoor['Rating']=Rating_company[:10]\n",
    "glassdoor"
   ]
  },
  {
   "cell_type": "code",
   "execution_count": 47,
   "metadata": {},
   "outputs": [],
   "source": [
    "#Question 5 Glassdoor\n",
    "#lets first connect with webdriver\n",
    "driver=webdriver.Chrome(r\"C:\\Users\\INPshy\\Downloads\\chromedriver_win32\\chromedriver.exe\")"
   ]
  },
  {
   "cell_type": "code",
   "execution_count": 48,
   "metadata": {},
   "outputs": [],
   "source": [
    "url='https://www.glassdoor.co.in/Salaries/index.htm'\n",
    "driver.get(url)\n",
    "time.sleep(5)"
   ]
  },
  {
   "cell_type": "code",
   "execution_count": 49,
   "metadata": {},
   "outputs": [],
   "source": [
    "#now signin with loging credential otherwise later give it problem\n",
    "search_datascientist=driver.find_element_by_xpath('//input[@class=\"keyword\"]')\n",
    "search_datascientist.send_keys('Data Scientist')"
   ]
  },
  {
   "cell_type": "code",
   "execution_count": 50,
   "metadata": {},
   "outputs": [],
   "source": [
    "location=driver.find_element_by_xpath('//input[@class=\"loc\"]')\n",
    "location.send_keys('Noida')"
   ]
  },
  {
   "cell_type": "code",
   "execution_count": 52,
   "metadata": {},
   "outputs": [],
   "source": [
    "button=driver.find_element_by_xpath('//button[@class=\"gd-btn-mkt\"]')\n",
    "button.click()\n",
    "time.sleep(5)"
   ]
  },
  {
   "cell_type": "code",
   "execution_count": 53,
   "metadata": {},
   "outputs": [
    {
     "data": {
      "text/plain": [
       "[<selenium.webdriver.remote.webelement.WebElement (session=\"ff0fef659099d760c2702ca8c4706f92\", element=\"f0d60705-446b-4183-bbf9-112c4e68462b\")>,\n",
       " <selenium.webdriver.remote.webelement.WebElement (session=\"ff0fef659099d760c2702ca8c4706f92\", element=\"e5bd48db-3347-460c-9b98-19f8c51288d6\")>,\n",
       " <selenium.webdriver.remote.webelement.WebElement (session=\"ff0fef659099d760c2702ca8c4706f92\", element=\"ee98aa2c-b307-49c0-a372-3b320d39d773\")>,\n",
       " <selenium.webdriver.remote.webelement.WebElement (session=\"ff0fef659099d760c2702ca8c4706f92\", element=\"cb4f453f-08c5-4dce-951e-6fdcec16e7fb\")>,\n",
       " <selenium.webdriver.remote.webelement.WebElement (session=\"ff0fef659099d760c2702ca8c4706f92\", element=\"5c1da1e3-af22-4ef2-af10-f3c48e4de7dc\")>,\n",
       " <selenium.webdriver.remote.webelement.WebElement (session=\"ff0fef659099d760c2702ca8c4706f92\", element=\"14e74fc2-7eab-485e-9ec3-28162be047fa\")>,\n",
       " <selenium.webdriver.remote.webelement.WebElement (session=\"ff0fef659099d760c2702ca8c4706f92\", element=\"442e18c8-c331-4270-aae8-c3b5a0558a76\")>,\n",
       " <selenium.webdriver.remote.webelement.WebElement (session=\"ff0fef659099d760c2702ca8c4706f92\", element=\"c9d905b4-1afb-4d16-b8e4-0c6cc0df86cd\")>,\n",
       " <selenium.webdriver.remote.webelement.WebElement (session=\"ff0fef659099d760c2702ca8c4706f92\", element=\"ec721778-6cc0-4e5e-ae53-5d6414591a53\")>,\n",
       " <selenium.webdriver.remote.webelement.WebElement (session=\"ff0fef659099d760c2702ca8c4706f92\", element=\"65ae1ef1-da01-4188-8d5d-c51f6607f291\")>,\n",
       " <selenium.webdriver.remote.webelement.WebElement (session=\"ff0fef659099d760c2702ca8c4706f92\", element=\"81f4ea1b-3764-4479-b4ee-d806032cf8fd\")>,\n",
       " <selenium.webdriver.remote.webelement.WebElement (session=\"ff0fef659099d760c2702ca8c4706f92\", element=\"b4b6dae3-ca17-4c7a-a18f-bfed1c69a324\")>,\n",
       " <selenium.webdriver.remote.webelement.WebElement (session=\"ff0fef659099d760c2702ca8c4706f92\", element=\"0af23c54-9878-41a0-af0a-6b014b86f10c\")>,\n",
       " <selenium.webdriver.remote.webelement.WebElement (session=\"ff0fef659099d760c2702ca8c4706f92\", element=\"8cfe4213-bc52-431d-8c46-dc9f22530593\")>,\n",
       " <selenium.webdriver.remote.webelement.WebElement (session=\"ff0fef659099d760c2702ca8c4706f92\", element=\"e6de9af6-3e66-4124-8d50-9ef62aff6d61\")>,\n",
       " <selenium.webdriver.remote.webelement.WebElement (session=\"ff0fef659099d760c2702ca8c4706f92\", element=\"4ee720cd-21b5-4a2c-a4c1-e2aae6da6c61\")>,\n",
       " <selenium.webdriver.remote.webelement.WebElement (session=\"ff0fef659099d760c2702ca8c4706f92\", element=\"77c25c6d-b944-4f26-bf30-99c24d1bd781\")>,\n",
       " <selenium.webdriver.remote.webelement.WebElement (session=\"ff0fef659099d760c2702ca8c4706f92\", element=\"15814257-1c76-42b3-ab39-28dc525dae80\")>,\n",
       " <selenium.webdriver.remote.webelement.WebElement (session=\"ff0fef659099d760c2702ca8c4706f92\", element=\"7e3cf5a6-cd6e-4c3c-8ac7-9c50c7f7f1e7\")>,\n",
       " <selenium.webdriver.remote.webelement.WebElement (session=\"ff0fef659099d760c2702ca8c4706f92\", element=\"8c645584-7e14-4927-9805-a497fb750292\")>]"
      ]
     },
     "execution_count": 53,
     "metadata": {},
     "output_type": "execute_result"
    }
   ],
   "source": [
    "company=driver.find_elements_by_xpath('//a[@class=\"css-f3vw95 e1aj7ssy3\"]')\n",
    "company"
   ]
  },
  {
   "cell_type": "code",
   "execution_count": 54,
   "metadata": {},
   "outputs": [
    {
     "data": {
      "text/plain": [
       "['IBM',\n",
       " 'Tata Consultancy Services',\n",
       " 'Accenture',\n",
       " 'Delhivery',\n",
       " 'Ericsson-Worldwide',\n",
       " 'UnitedHealth Group',\n",
       " 'Valiance Solutions',\n",
       " 'Optum Global Solutions',\n",
       " 'ZS Associates',\n",
       " 'EXL Service']"
      ]
     },
     "execution_count": 54,
     "metadata": {},
     "output_type": "execute_result"
    }
   ],
   "source": [
    "Company_Name=[]\n",
    "for i in company:\n",
    "    Company_Name.append(i.text)\n",
    "Company_Name[:10] #select only first 10 company"
   ]
  },
  {
   "cell_type": "code",
   "execution_count": 55,
   "metadata": {},
   "outputs": [
    {
     "data": {
      "text/plain": [
       "[<selenium.webdriver.remote.webelement.WebElement (session=\"ff0fef659099d760c2702ca8c4706f92\", element=\"3b49f464-78e4-4fff-b350-10170868f611\")>,\n",
       " <selenium.webdriver.remote.webelement.WebElement (session=\"ff0fef659099d760c2702ca8c4706f92\", element=\"5cb90dc2-00a2-45f7-9895-59c8036169c9\")>,\n",
       " <selenium.webdriver.remote.webelement.WebElement (session=\"ff0fef659099d760c2702ca8c4706f92\", element=\"5508941f-514c-431f-aef3-dcf23ffb140f\")>,\n",
       " <selenium.webdriver.remote.webelement.WebElement (session=\"ff0fef659099d760c2702ca8c4706f92\", element=\"245e3047-36d3-492a-8223-2f01eaf374a5\")>,\n",
       " <selenium.webdriver.remote.webelement.WebElement (session=\"ff0fef659099d760c2702ca8c4706f92\", element=\"0ad15818-ba6d-476a-b920-e83be297d1e2\")>,\n",
       " <selenium.webdriver.remote.webelement.WebElement (session=\"ff0fef659099d760c2702ca8c4706f92\", element=\"0e60d134-69f7-4c76-aa15-188227dead97\")>,\n",
       " <selenium.webdriver.remote.webelement.WebElement (session=\"ff0fef659099d760c2702ca8c4706f92\", element=\"923422af-ee8f-4448-8650-588cd3961333\")>,\n",
       " <selenium.webdriver.remote.webelement.WebElement (session=\"ff0fef659099d760c2702ca8c4706f92\", element=\"0facc3b3-b690-45bc-8c7d-fd9482b08751\")>,\n",
       " <selenium.webdriver.remote.webelement.WebElement (session=\"ff0fef659099d760c2702ca8c4706f92\", element=\"d79ea547-05a8-484a-8e1d-b252a255bfb4\")>,\n",
       " <selenium.webdriver.remote.webelement.WebElement (session=\"ff0fef659099d760c2702ca8c4706f92\", element=\"66c73415-a0cb-4b20-b21f-6714b89b9136\")>,\n",
       " <selenium.webdriver.remote.webelement.WebElement (session=\"ff0fef659099d760c2702ca8c4706f92\", element=\"5167c5fc-5c66-49c1-b543-66bfd8bea5c7\")>,\n",
       " <selenium.webdriver.remote.webelement.WebElement (session=\"ff0fef659099d760c2702ca8c4706f92\", element=\"e4b5517f-c2d1-472b-8f96-7ddd4546b174\")>,\n",
       " <selenium.webdriver.remote.webelement.WebElement (session=\"ff0fef659099d760c2702ca8c4706f92\", element=\"ff3aba1f-48f2-452d-8e89-5412ea860dc7\")>,\n",
       " <selenium.webdriver.remote.webelement.WebElement (session=\"ff0fef659099d760c2702ca8c4706f92\", element=\"33b62265-ba85-45be-8536-c8d27eb57595\")>,\n",
       " <selenium.webdriver.remote.webelement.WebElement (session=\"ff0fef659099d760c2702ca8c4706f92\", element=\"ca2d189d-ee5b-4fd5-a7d0-1ba838b31cf6\")>,\n",
       " <selenium.webdriver.remote.webelement.WebElement (session=\"ff0fef659099d760c2702ca8c4706f92\", element=\"5780dd2a-dcf9-49ef-a128-526c0d51735c\")>,\n",
       " <selenium.webdriver.remote.webelement.WebElement (session=\"ff0fef659099d760c2702ca8c4706f92\", element=\"78acc29e-d80f-4065-9abb-2b611d8ea668\")>,\n",
       " <selenium.webdriver.remote.webelement.WebElement (session=\"ff0fef659099d760c2702ca8c4706f92\", element=\"ecfb809c-0acb-4511-ad74-f86bc008b40d\")>,\n",
       " <selenium.webdriver.remote.webelement.WebElement (session=\"ff0fef659099d760c2702ca8c4706f92\", element=\"f62fed04-90dc-4044-9c24-32ff157eeafc\")>,\n",
       " <selenium.webdriver.remote.webelement.WebElement (session=\"ff0fef659099d760c2702ca8c4706f92\", element=\"803e549d-a7d8-4458-9547-c9f5ba49a140\")>]"
      ]
     },
     "execution_count": 55,
     "metadata": {},
     "output_type": "execute_result"
    }
   ],
   "source": [
    "avg_salary=driver.find_elements_by_xpath('//div[@class=\"col-12 col-lg-4 px-lg-0 d-flex align-items-baseline\"]')\n",
    "avg_salary"
   ]
  },
  {
   "cell_type": "code",
   "execution_count": 56,
   "metadata": {},
   "outputs": [
    {
     "data": {
      "text/plain": [
       "['₹9,00,000\\n /yr',\n",
       " '₹6,15,289\\n /yr',\n",
       " '₹11,63,336\\n /yr',\n",
       " '₹12,18,244\\n /yr',\n",
       " '₹7,39,238\\n /yr',\n",
       " '₹13,19,140\\n /yr',\n",
       " '₹8,63,750\\n /yr',\n",
       " '₹13,28,697\\n /yr',\n",
       " '₹11,42,356\\n /yr',\n",
       " '₹11,46,073\\n /yr']"
      ]
     },
     "execution_count": 56,
     "metadata": {},
     "output_type": "execute_result"
    }
   ],
   "source": [
    "Avg_salary=[]\n",
    "for i in avg_salary:\n",
    "    Avg_salary.append(i.text)\n",
    "Avg_salary[:10]  #select only first ten"
   ]
  },
  {
   "cell_type": "code",
   "execution_count": 57,
   "metadata": {},
   "outputs": [
    {
     "data": {
      "text/plain": [
       "[<selenium.webdriver.remote.webelement.WebElement (session=\"ff0fef659099d760c2702ca8c4706f92\", element=\"66c568fd-31a7-4819-803d-bce2f869c524\")>,\n",
       " <selenium.webdriver.remote.webelement.WebElement (session=\"ff0fef659099d760c2702ca8c4706f92\", element=\"00a8e0d1-8cd7-41d8-97e4-36788c4a2c3d\")>,\n",
       " <selenium.webdriver.remote.webelement.WebElement (session=\"ff0fef659099d760c2702ca8c4706f92\", element=\"d5df8f2c-6049-4065-a2ba-e3ffaedf4469\")>,\n",
       " <selenium.webdriver.remote.webelement.WebElement (session=\"ff0fef659099d760c2702ca8c4706f92\", element=\"73cd7cd7-d30b-49a4-9816-102d91ef46cb\")>,\n",
       " <selenium.webdriver.remote.webelement.WebElement (session=\"ff0fef659099d760c2702ca8c4706f92\", element=\"c4c7da53-3234-4070-bd35-a548574d909f\")>,\n",
       " <selenium.webdriver.remote.webelement.WebElement (session=\"ff0fef659099d760c2702ca8c4706f92\", element=\"0bf75032-8865-4291-9fa7-3017047a9ca2\")>,\n",
       " <selenium.webdriver.remote.webelement.WebElement (session=\"ff0fef659099d760c2702ca8c4706f92\", element=\"018bb501-924f-4602-b9eb-e42b10fed679\")>,\n",
       " <selenium.webdriver.remote.webelement.WebElement (session=\"ff0fef659099d760c2702ca8c4706f92\", element=\"99443280-cf66-4cab-a1d6-6e1a120c3907\")>,\n",
       " <selenium.webdriver.remote.webelement.WebElement (session=\"ff0fef659099d760c2702ca8c4706f92\", element=\"ef8c1648-eb63-41cc-9d56-03abe5fcc81c\")>,\n",
       " <selenium.webdriver.remote.webelement.WebElement (session=\"ff0fef659099d760c2702ca8c4706f92\", element=\"82a99db1-3f8b-4963-beb3-554b339f44c3\")>,\n",
       " <selenium.webdriver.remote.webelement.WebElement (session=\"ff0fef659099d760c2702ca8c4706f92\", element=\"7987f848-47bf-425e-85dc-3829a5661100\")>,\n",
       " <selenium.webdriver.remote.webelement.WebElement (session=\"ff0fef659099d760c2702ca8c4706f92\", element=\"cd400683-28ad-4cfc-bb98-ca2a9e4d8d5e\")>,\n",
       " <selenium.webdriver.remote.webelement.WebElement (session=\"ff0fef659099d760c2702ca8c4706f92\", element=\"ab2c29af-d78f-413d-8651-f0b2c549efdf\")>,\n",
       " <selenium.webdriver.remote.webelement.WebElement (session=\"ff0fef659099d760c2702ca8c4706f92\", element=\"79701fb3-041e-48d5-9f95-5199214cf7f6\")>,\n",
       " <selenium.webdriver.remote.webelement.WebElement (session=\"ff0fef659099d760c2702ca8c4706f92\", element=\"f9733bc9-2eee-4e1b-a3dc-4162f384cf8e\")>,\n",
       " <selenium.webdriver.remote.webelement.WebElement (session=\"ff0fef659099d760c2702ca8c4706f92\", element=\"74a527b3-6eee-4a05-a55e-741bedd712a7\")>,\n",
       " <selenium.webdriver.remote.webelement.WebElement (session=\"ff0fef659099d760c2702ca8c4706f92\", element=\"72d2e523-8328-4539-bc57-99a76d823e34\")>,\n",
       " <selenium.webdriver.remote.webelement.WebElement (session=\"ff0fef659099d760c2702ca8c4706f92\", element=\"7930ad32-9fcf-4d54-91fc-6d3436c9a16e\")>,\n",
       " <selenium.webdriver.remote.webelement.WebElement (session=\"ff0fef659099d760c2702ca8c4706f92\", element=\"71d43a65-f343-40ac-b5e0-67957e6b8393\")>,\n",
       " <selenium.webdriver.remote.webelement.WebElement (session=\"ff0fef659099d760c2702ca8c4706f92\", element=\"498a62ad-ee25-44dc-89c9-bb218460bf24\")>,\n",
       " <selenium.webdriver.remote.webelement.WebElement (session=\"ff0fef659099d760c2702ca8c4706f92\", element=\"a498ef22-c2f4-4c1c-a61d-7f6a9a47f37f\")>,\n",
       " <selenium.webdriver.remote.webelement.WebElement (session=\"ff0fef659099d760c2702ca8c4706f92\", element=\"c2586844-6ed4-49d7-a4e2-05779cadd9da\")>,\n",
       " <selenium.webdriver.remote.webelement.WebElement (session=\"ff0fef659099d760c2702ca8c4706f92\", element=\"b633733e-96a5-4eab-9fc4-b008ef8c7df5\")>,\n",
       " <selenium.webdriver.remote.webelement.WebElement (session=\"ff0fef659099d760c2702ca8c4706f92\", element=\"1894dd26-e787-481d-9a48-5cc7744a90b7\")>,\n",
       " <selenium.webdriver.remote.webelement.WebElement (session=\"ff0fef659099d760c2702ca8c4706f92\", element=\"c2088d7d-a03a-49c8-a3fa-6d879af08a9b\")>,\n",
       " <selenium.webdriver.remote.webelement.WebElement (session=\"ff0fef659099d760c2702ca8c4706f92\", element=\"e6296b2d-240b-48af-aa11-a40afee9cbb7\")>,\n",
       " <selenium.webdriver.remote.webelement.WebElement (session=\"ff0fef659099d760c2702ca8c4706f92\", element=\"4c95530c-aea7-4225-b232-8af162a26c8e\")>,\n",
       " <selenium.webdriver.remote.webelement.WebElement (session=\"ff0fef659099d760c2702ca8c4706f92\", element=\"684ab692-f5e1-4eb5-bdf1-c681737da196\")>,\n",
       " <selenium.webdriver.remote.webelement.WebElement (session=\"ff0fef659099d760c2702ca8c4706f92\", element=\"18dea6b0-a342-4673-81f5-9de40adb4702\")>,\n",
       " <selenium.webdriver.remote.webelement.WebElement (session=\"ff0fef659099d760c2702ca8c4706f92\", element=\"235216f5-7286-4fb8-ac50-c1f388c739f6\")>,\n",
       " <selenium.webdriver.remote.webelement.WebElement (session=\"ff0fef659099d760c2702ca8c4706f92\", element=\"16dcc048-22c3-4cff-9e5a-e307b848d7ff\")>,\n",
       " <selenium.webdriver.remote.webelement.WebElement (session=\"ff0fef659099d760c2702ca8c4706f92\", element=\"a2a2242a-8fe3-4125-986a-59659a6eb235\")>,\n",
       " <selenium.webdriver.remote.webelement.WebElement (session=\"ff0fef659099d760c2702ca8c4706f92\", element=\"64f71845-afec-4b2b-ae5b-55183535d231\")>,\n",
       " <selenium.webdriver.remote.webelement.WebElement (session=\"ff0fef659099d760c2702ca8c4706f92\", element=\"1c565044-527f-4dce-af6c-2f26826b3738\")>,\n",
       " <selenium.webdriver.remote.webelement.WebElement (session=\"ff0fef659099d760c2702ca8c4706f92\", element=\"f393d50c-c7f0-419e-b3d1-491c4a21df16\")>,\n",
       " <selenium.webdriver.remote.webelement.WebElement (session=\"ff0fef659099d760c2702ca8c4706f92\", element=\"6dad694e-1d66-4050-9563-3ddc6486f6ff\")>,\n",
       " <selenium.webdriver.remote.webelement.WebElement (session=\"ff0fef659099d760c2702ca8c4706f92\", element=\"e2d511a5-2d88-4c4b-a1b8-52e054d053a0\")>,\n",
       " <selenium.webdriver.remote.webelement.WebElement (session=\"ff0fef659099d760c2702ca8c4706f92\", element=\"83301689-c666-4b97-a2ed-b83b02029f80\")>,\n",
       " <selenium.webdriver.remote.webelement.WebElement (session=\"ff0fef659099d760c2702ca8c4706f92\", element=\"a1840c2a-daef-4686-abd9-4f9404eb83f6\")>,\n",
       " <selenium.webdriver.remote.webelement.WebElement (session=\"ff0fef659099d760c2702ca8c4706f92\", element=\"3aa070d8-d1f2-4a19-ac34-63594fa94f4b\")>]"
      ]
     },
     "execution_count": 57,
     "metadata": {},
     "output_type": "execute_result"
    }
   ],
   "source": [
    "min_salary=driver.find_elements_by_xpath('//div[@class=\"d-flex mt-xxsm css-79elbk epuxyqn0\"]//p')\n",
    "min_salary"
   ]
  },
  {
   "cell_type": "code",
   "execution_count": 58,
   "metadata": {},
   "outputs": [
    {
     "data": {
      "text/plain": [
       "['₹6L',\n",
       " '₹27L',\n",
       " '₹3L',\n",
       " '₹13L',\n",
       " '₹6L',\n",
       " '₹22L',\n",
       " '₹5L',\n",
       " '₹1Cr',\n",
       " '₹4L',\n",
       " '₹16L',\n",
       " '₹11L',\n",
       " '₹15L',\n",
       " '₹5L',\n",
       " '₹15L',\n",
       " '₹4L',\n",
       " '₹22L',\n",
       " '₹2L',\n",
       " '₹18L',\n",
       " '₹6L',\n",
       " '₹15L',\n",
       " '₹8L',\n",
       " '₹20L',\n",
       " '₹6L',\n",
       " '₹17L',\n",
       " '₹8L',\n",
       " '₹13L',\n",
       " '₹10L',\n",
       " '₹19L',\n",
       " '₹4L',\n",
       " '₹16L',\n",
       " '₹8L',\n",
       " '₹20L',\n",
       " '₹12T',\n",
       " '₹63T',\n",
       " '₹4L',\n",
       " '₹17L',\n",
       " '₹8L',\n",
       " '₹30L',\n",
       " '₹9L',\n",
       " '₹15L']"
      ]
     },
     "execution_count": 58,
     "metadata": {},
     "output_type": "execute_result"
    }
   ],
   "source": [
    "Min_salary=[]\n",
    "for i in min_salary:\n",
    "    Min_salary.append(i.text)\n",
    "Min_salary"
   ]
  },
  {
   "cell_type": "code",
   "execution_count": 59,
   "metadata": {},
   "outputs": [],
   "source": [
    "minimum=[]\n",
    "maximum=[]\n",
    "for i in range(0,len(Min_salary),2):\n",
    "    minimum.append(Min_salary[i])\n",
    "    maximum.append(Min_salary[i-1])"
   ]
  },
  {
   "cell_type": "code",
   "execution_count": 60,
   "metadata": {},
   "outputs": [
    {
     "data": {
      "text/plain": [
       "['₹6L', '₹3L', '₹6L', '₹5L', '₹4L', '₹11L', '₹5L', '₹4L', '₹2L', '₹6L']"
      ]
     },
     "execution_count": 60,
     "metadata": {},
     "output_type": "execute_result"
    }
   ],
   "source": [
    "minimum [:10] #select only first 10 "
   ]
  },
  {
   "cell_type": "code",
   "execution_count": 61,
   "metadata": {},
   "outputs": [
    {
     "data": {
      "text/plain": [
       "['₹15L',\n",
       " '₹27L',\n",
       " '₹13L',\n",
       " '₹22L',\n",
       " '₹1Cr',\n",
       " '₹16L',\n",
       " '₹15L',\n",
       " '₹15L',\n",
       " '₹22L',\n",
       " '₹18L']"
      ]
     },
     "execution_count": 61,
     "metadata": {},
     "output_type": "execute_result"
    }
   ],
   "source": [
    "maximum[:10]  #select only first 10"
   ]
  },
  {
   "cell_type": "code",
   "execution_count": 62,
   "metadata": {},
   "outputs": [
    {
     "data": {
      "text/plain": [
       "[<selenium.webdriver.remote.webelement.WebElement (session=\"ff0fef659099d760c2702ca8c4706f92\", element=\"ad40a5f4-a3d4-45bb-9f4f-da3f90dd926d\")>,\n",
       " <selenium.webdriver.remote.webelement.WebElement (session=\"ff0fef659099d760c2702ca8c4706f92\", element=\"deec3c1d-e2ee-4aef-bc3a-74b85bd804fc\")>,\n",
       " <selenium.webdriver.remote.webelement.WebElement (session=\"ff0fef659099d760c2702ca8c4706f92\", element=\"a80d3546-741f-4bf8-ade5-7004f3bbbfcc\")>,\n",
       " <selenium.webdriver.remote.webelement.WebElement (session=\"ff0fef659099d760c2702ca8c4706f92\", element=\"06d8d115-50fc-48ea-857d-6db7a5738f69\")>,\n",
       " <selenium.webdriver.remote.webelement.WebElement (session=\"ff0fef659099d760c2702ca8c4706f92\", element=\"333fb06f-8e15-430e-8be4-363e6b3acc3d\")>,\n",
       " <selenium.webdriver.remote.webelement.WebElement (session=\"ff0fef659099d760c2702ca8c4706f92\", element=\"ca354da1-4d5d-4adc-be30-365c31bc46af\")>,\n",
       " <selenium.webdriver.remote.webelement.WebElement (session=\"ff0fef659099d760c2702ca8c4706f92\", element=\"b6ef04c2-e0ba-41d1-9dcf-f3a5a900f872\")>,\n",
       " <selenium.webdriver.remote.webelement.WebElement (session=\"ff0fef659099d760c2702ca8c4706f92\", element=\"f8606657-cb65-4630-a3c1-0be08daed321\")>,\n",
       " <selenium.webdriver.remote.webelement.WebElement (session=\"ff0fef659099d760c2702ca8c4706f92\", element=\"2194915c-c8a5-448c-a3e2-77d2c7852d94\")>,\n",
       " <selenium.webdriver.remote.webelement.WebElement (session=\"ff0fef659099d760c2702ca8c4706f92\", element=\"bf000c52-007c-4575-8403-fc943fbcfb71\")>,\n",
       " <selenium.webdriver.remote.webelement.WebElement (session=\"ff0fef659099d760c2702ca8c4706f92\", element=\"2d931a33-f04f-427e-9e5d-3e58e36ad83c\")>,\n",
       " <selenium.webdriver.remote.webelement.WebElement (session=\"ff0fef659099d760c2702ca8c4706f92\", element=\"b6a0363e-9ed1-492a-8241-344e4b2cb908\")>,\n",
       " <selenium.webdriver.remote.webelement.WebElement (session=\"ff0fef659099d760c2702ca8c4706f92\", element=\"69e6b0d5-cd3c-46f9-b7ff-0584337ed059\")>,\n",
       " <selenium.webdriver.remote.webelement.WebElement (session=\"ff0fef659099d760c2702ca8c4706f92\", element=\"082e1511-5a2c-4348-9026-2bfe396df980\")>,\n",
       " <selenium.webdriver.remote.webelement.WebElement (session=\"ff0fef659099d760c2702ca8c4706f92\", element=\"54150a0d-3ac8-4246-8bd4-ecdf26480298\")>,\n",
       " <selenium.webdriver.remote.webelement.WebElement (session=\"ff0fef659099d760c2702ca8c4706f92\", element=\"304c7bc8-c920-4e47-94f3-1e13068076c9\")>,\n",
       " <selenium.webdriver.remote.webelement.WebElement (session=\"ff0fef659099d760c2702ca8c4706f92\", element=\"a719e644-4a2d-4f5c-b62f-9611f043b64f\")>,\n",
       " <selenium.webdriver.remote.webelement.WebElement (session=\"ff0fef659099d760c2702ca8c4706f92\", element=\"cd73822d-96ef-4c27-b9a7-b6c7a1736e17\")>,\n",
       " <selenium.webdriver.remote.webelement.WebElement (session=\"ff0fef659099d760c2702ca8c4706f92\", element=\"d06a3399-166c-464e-99df-76d23511df58\")>,\n",
       " <selenium.webdriver.remote.webelement.WebElement (session=\"ff0fef659099d760c2702ca8c4706f92\", element=\"c947ecfb-c89a-406f-a342-9f0e44b6211a\")>]"
      ]
     },
     "execution_count": 62,
     "metadata": {},
     "output_type": "execute_result"
    }
   ],
   "source": [
    "rating=driver.find_elements_by_xpath('//span[@class=\"m-0 css-kyx745\"]')\n",
    "rating"
   ]
  },
  {
   "cell_type": "code",
   "execution_count": 63,
   "metadata": {},
   "outputs": [
    {
     "data": {
      "text/plain": [
       "['3.9', '3.9', '4', '3.9', '4', '3.7', '4.2', '3.9', '4', '3.6']"
      ]
     },
     "execution_count": 63,
     "metadata": {},
     "output_type": "execute_result"
    }
   ],
   "source": [
    "Rating=[]\n",
    "for i in rating:\n",
    "    Rating.append(i.text)\n",
    "Rating[:10] #select only first ten"
   ]
  },
  {
   "cell_type": "code",
   "execution_count": 64,
   "metadata": {},
   "outputs": [
    {
     "data": {
      "text/html": [
       "<div>\n",
       "<style scoped>\n",
       "    .dataframe tbody tr th:only-of-type {\n",
       "        vertical-align: middle;\n",
       "    }\n",
       "\n",
       "    .dataframe tbody tr th {\n",
       "        vertical-align: top;\n",
       "    }\n",
       "\n",
       "    .dataframe thead th {\n",
       "        text-align: right;\n",
       "    }\n",
       "</style>\n",
       "<table border=\"1\" class=\"dataframe\">\n",
       "  <thead>\n",
       "    <tr style=\"text-align: right;\">\n",
       "      <th></th>\n",
       "      <th>Company</th>\n",
       "      <th>Avg_salary</th>\n",
       "      <th>Minimum_salary</th>\n",
       "      <th>Maximum_salary</th>\n",
       "      <th>Rating_Company</th>\n",
       "    </tr>\n",
       "  </thead>\n",
       "  <tbody>\n",
       "    <tr>\n",
       "      <th>0</th>\n",
       "      <td>IBM</td>\n",
       "      <td>₹9,00,000\\n /yr</td>\n",
       "      <td>₹6L</td>\n",
       "      <td>₹15L</td>\n",
       "      <td>3.9</td>\n",
       "    </tr>\n",
       "    <tr>\n",
       "      <th>1</th>\n",
       "      <td>Tata Consultancy Services</td>\n",
       "      <td>₹6,15,289\\n /yr</td>\n",
       "      <td>₹3L</td>\n",
       "      <td>₹27L</td>\n",
       "      <td>3.9</td>\n",
       "    </tr>\n",
       "    <tr>\n",
       "      <th>2</th>\n",
       "      <td>Accenture</td>\n",
       "      <td>₹11,63,336\\n /yr</td>\n",
       "      <td>₹6L</td>\n",
       "      <td>₹13L</td>\n",
       "      <td>4</td>\n",
       "    </tr>\n",
       "    <tr>\n",
       "      <th>3</th>\n",
       "      <td>Delhivery</td>\n",
       "      <td>₹12,18,244\\n /yr</td>\n",
       "      <td>₹5L</td>\n",
       "      <td>₹22L</td>\n",
       "      <td>3.9</td>\n",
       "    </tr>\n",
       "    <tr>\n",
       "      <th>4</th>\n",
       "      <td>Ericsson-Worldwide</td>\n",
       "      <td>₹7,39,238\\n /yr</td>\n",
       "      <td>₹4L</td>\n",
       "      <td>₹1Cr</td>\n",
       "      <td>4</td>\n",
       "    </tr>\n",
       "    <tr>\n",
       "      <th>5</th>\n",
       "      <td>UnitedHealth Group</td>\n",
       "      <td>₹13,19,140\\n /yr</td>\n",
       "      <td>₹11L</td>\n",
       "      <td>₹16L</td>\n",
       "      <td>3.7</td>\n",
       "    </tr>\n",
       "    <tr>\n",
       "      <th>6</th>\n",
       "      <td>Valiance Solutions</td>\n",
       "      <td>₹8,63,750\\n /yr</td>\n",
       "      <td>₹5L</td>\n",
       "      <td>₹15L</td>\n",
       "      <td>4.2</td>\n",
       "    </tr>\n",
       "    <tr>\n",
       "      <th>7</th>\n",
       "      <td>Optum Global Solutions</td>\n",
       "      <td>₹13,28,697\\n /yr</td>\n",
       "      <td>₹4L</td>\n",
       "      <td>₹15L</td>\n",
       "      <td>3.9</td>\n",
       "    </tr>\n",
       "    <tr>\n",
       "      <th>8</th>\n",
       "      <td>ZS Associates</td>\n",
       "      <td>₹11,42,356\\n /yr</td>\n",
       "      <td>₹2L</td>\n",
       "      <td>₹22L</td>\n",
       "      <td>4</td>\n",
       "    </tr>\n",
       "    <tr>\n",
       "      <th>9</th>\n",
       "      <td>EXL Service</td>\n",
       "      <td>₹11,46,073\\n /yr</td>\n",
       "      <td>₹6L</td>\n",
       "      <td>₹18L</td>\n",
       "      <td>3.6</td>\n",
       "    </tr>\n",
       "  </tbody>\n",
       "</table>\n",
       "</div>"
      ],
      "text/plain": [
       "                     Company        Avg_salary Minimum_salary Maximum_salary  \\\n",
       "0                        IBM   ₹9,00,000\\n /yr            ₹6L           ₹15L   \n",
       "1  Tata Consultancy Services   ₹6,15,289\\n /yr            ₹3L           ₹27L   \n",
       "2                  Accenture  ₹11,63,336\\n /yr            ₹6L           ₹13L   \n",
       "3                  Delhivery  ₹12,18,244\\n /yr            ₹5L           ₹22L   \n",
       "4         Ericsson-Worldwide   ₹7,39,238\\n /yr            ₹4L           ₹1Cr   \n",
       "5         UnitedHealth Group  ₹13,19,140\\n /yr           ₹11L           ₹16L   \n",
       "6         Valiance Solutions   ₹8,63,750\\n /yr            ₹5L           ₹15L   \n",
       "7     Optum Global Solutions  ₹13,28,697\\n /yr            ₹4L           ₹15L   \n",
       "8              ZS Associates  ₹11,42,356\\n /yr            ₹2L           ₹22L   \n",
       "9                EXL Service  ₹11,46,073\\n /yr            ₹6L           ₹18L   \n",
       "\n",
       "  Rating_Company  \n",
       "0            3.9  \n",
       "1            3.9  \n",
       "2              4  \n",
       "3            3.9  \n",
       "4              4  \n",
       "5            3.7  \n",
       "6            4.2  \n",
       "7            3.9  \n",
       "8              4  \n",
       "9            3.6  "
      ]
     },
     "execution_count": 64,
     "metadata": {},
     "output_type": "execute_result"
    }
   ],
   "source": [
    "import pandas as pd\n",
    "df=pd.DataFrame({})\n",
    "df['Company']=Company_Name[:10]\n",
    "df['Avg_salary']=Avg_salary[:10]\n",
    "df['Minimum_salary']=minimum[:10]\n",
    "df['Maximum_salary']=maximum[:10]\n",
    "df['Rating_Company']=Rating[:10]\n",
    "df"
   ]
  },
  {
   "cell_type": "code",
   "execution_count": 65,
   "metadata": {},
   "outputs": [],
   "source": [
    "#6 Flipkart\n",
    "#lets first connect with webdriver\n",
    "driver=webdriver.Chrome(r\"C:\\Users\\INPshy\\Downloads\\chromedriver_win32\\chromedriver.exe\")"
   ]
  },
  {
   "cell_type": "code",
   "execution_count": 66,
   "metadata": {},
   "outputs": [],
   "source": [
    "url='https://www.flipkart.com/'\n",
    "driver.get(url)\n",
    "time.sleep(5)"
   ]
  },
  {
   "cell_type": "code",
   "execution_count": 67,
   "metadata": {},
   "outputs": [],
   "source": [
    "Sunglass=driver.find_element_by_xpath('//input[@class=\"_3704LK\"]')\n",
    "Sunglass.send_keys('Sunglass')"
   ]
  },
  {
   "cell_type": "code",
   "execution_count": 68,
   "metadata": {},
   "outputs": [],
   "source": [
    "Button=driver.find_element_by_xpath('//button[@class=\"L0Z3Pu\"]')\n",
    "Button.click()\n",
    "time.sleep(3)"
   ]
  },
  {
   "cell_type": "code",
   "execution_count": 72,
   "metadata": {},
   "outputs": [
    {
     "data": {
      "text/plain": [
       "['https://www.flipkart.com/search?q=Sunglass&otracker=search&otracker1=search&marketplace=FLIPKART&as-show=on&as=off&page=1',\n",
       " 'https://www.flipkart.com/search?q=Sunglass&otracker=search&otracker1=search&marketplace=FLIPKART&as-show=on&as=off&page=2',\n",
       " 'https://www.flipkart.com/search?q=Sunglass&otracker=search&otracker1=search&marketplace=FLIPKART&as-show=on&as=off&page=3',\n",
       " 'https://www.flipkart.com/search?q=Sunglass&otracker=search&otracker1=search&marketplace=FLIPKART&as-show=on&as=off&page=4',\n",
       " 'https://www.flipkart.com/search?q=Sunglass&otracker=search&otracker1=search&marketplace=FLIPKART&as-show=on&as=off&page=5',\n",
       " 'https://www.flipkart.com/search?q=Sunglass&otracker=search&otracker1=search&marketplace=FLIPKART&as-show=on&as=off&page=6',\n",
       " 'https://www.flipkart.com/search?q=Sunglass&otracker=search&otracker1=search&marketplace=FLIPKART&as-show=on&as=off&page=7',\n",
       " 'https://www.flipkart.com/search?q=Sunglass&otracker=search&otracker1=search&marketplace=FLIPKART&as-show=on&as=off&page=8',\n",
       " 'https://www.flipkart.com/search?q=Sunglass&otracker=search&otracker1=search&marketplace=FLIPKART&as-show=on&as=off&page=9',\n",
       " 'https://www.flipkart.com/search?q=Sunglass&otracker=search&otracker1=search&marketplace=FLIPKART&as-show=on&as=off&page=10',\n",
       " 'https://www.flipkart.com/search?q=Sunglass&otracker=search&otracker1=search&marketplace=FLIPKART&as-show=on&as=off&page=2']"
      ]
     },
     "execution_count": 72,
     "metadata": {},
     "output_type": "execute_result"
    }
   ],
   "source": [
    "page=[]\n",
    "url=driver.find_elements_by_xpath('//div[@class=\"_2MImiq\"]/nav/a')\n",
    "for i in url:\n",
    "    page.append(i.get_attribute('href'))\n",
    "page"
   ]
  },
  {
   "cell_type": "code",
   "execution_count": 73,
   "metadata": {},
   "outputs": [],
   "source": [
    "Brand=[]\n",
    "Product_description=[]\n",
    "Price=[]\n",
    "Discount=[]"
   ]
  },
  {
   "cell_type": "code",
   "execution_count": 86,
   "metadata": {},
   "outputs": [],
   "source": [
    "for i in page:\n",
    "    driver.get(i)\n",
    "    time.sleep(2)\n",
    "    #fetch brand\n",
    "    try:\n",
    "        for j in driver.find_elements_by_xpath('//div[@class=\"_2WkVRV\"]'):\n",
    "            \n",
    "            Brand.append(j.text)\n",
    "    except NoSuchElementException:\n",
    "        Brand.append('-')\n",
    "    #fetch product description\n",
    "    try:\n",
    "        for k in driver.find_elements_by_xpath('//a[@class=\"IRpwTa\"]'):\n",
    "            Product_description.append(k.text)\n",
    "    except NoSuchElementException:\n",
    "        Product_description.append('-')\n",
    "        \n",
    "    #fetch price\n",
    "    try:\n",
    "        for l in driver.find_elements_by_xpath('//div[@class=\"_30jeq3\"]'):\n",
    "            Price.append(l.text)\n",
    "    except NoSuchElementException:\n",
    "        Price.append('-')\n",
    "        time.sleep(2)\n",
    "    #fetch Discount\n",
    "    try:\n",
    "        for m in driver.find_elements_by_xpath('//div[@class=\"_3Ay6Sb\"]'):\n",
    "            Discount.append(m.text)\n",
    "    except NoSuchElementException:\n",
    "        Discount.append('-')\n",
    "        "
   ]
  },
  {
   "cell_type": "code",
   "execution_count": 87,
   "metadata": {},
   "outputs": [
    {
     "name": "stdout",
     "output_type": "stream",
     "text": [
      "880 439 880 877\n"
     ]
    }
   ],
   "source": [
    "print(len(Brand),len(Product_description),len(Price),len(Discount))"
   ]
  },
  {
   "cell_type": "code",
   "execution_count": 88,
   "metadata": {},
   "outputs": [
    {
     "name": "stdout",
     "output_type": "stream",
     "text": [
      "['ROYAL SON', 'ROYAL SON', 'Fastrack', 'kingsunglasses', 'Fastrack', 'Fastrack', 'PIRASO', 'ROYAL SON', 'Fastrack', 'IRUS by IDEE', 'PHENOMENAL', 'ROYAL SON', 'kingsunglasses', 'Fastrack', 'Fastrack', 'PIRASO', 'PHENOMENAL', 'Fastrack', 'Fastrack', 'AISLIN', 'kingsunglasses', 'ROZZETTA CRAFT', 'Fastrack', 'ROYAL SON', 'Fastrack', 'GANSTA', 'Fastrack', 'Villain', 'kingsunglasses', 'kingsunglasses', 'PIRASO', 'VINCENT CHASE', 'DEIXELS', 'Fastrack', 'NuVew', 'ROYAL SON', 'hipe', 'Fastrack', 'Fastrack', 'ROYAL SON', 'PIRASO', 'Fastrack', 'ROYAL SON', 'ROYAL SON', 'ROZZETTA CRAFT', 'ROZZETTA CRAFT', 'Singco', 'ROYAL SON', 'Singco India', 'Singco', 'hipe', 'AISLIN', 'GANSTA', 'Fastrack', 'Fastrack', 'PIRASO', 'Singco India', 'Poland', 'PIRASO', 'ROYAL SON', 'hipe', 'kingsunglasses', 'ROYAL SON', 'ROYAL SON', 'Fastrack', 'PHENOMENAL', 'GANSTA', 'VINCENT CHASE', 'kingsunglasses', 'ROYAL SON', 'Fastrack', 'ROYAL SON', 'Fastrack', 'PIRASO', 'ROZZETTA CRAFT', 'Villain', 'kingsunglasses', 'ROYAL SON', 'kingsunglasses', 'ROYAL SON', 'Fastrack', 'elegante', 'GANSTA', 'ROYAL SON', 'ROZZETTA CRAFT', 'ROZZETTA CRAFT', 'Singco India', 'ROYAL SON', 'Fastrack', 'GANSTA', 'Fastrack', 'ROYAL SON', 'PIRASO', 'DEIXELS', 'BEQUBE', 'AISLIN', 'Singco India', 'kingsunglasses', 'ROZZETTA CRAFT', 'ROYAL SON', 'Fastrack', 'kingsunglasses', 'ROYAL SON', 'ROYAL SON', 'ROYAL SON', 'Fastrack', 'Fastrack', 'PIRASO', 'Flizz', 'ROYAL SON', 'Fastrack', 'VINCENT CHASE', 'Fastrack', 'hipe', 'kingsunglasses', 'ROYAL SON', 'PHENOMENAL', 'Fastrack', 'NuVew', 'ROYAL SON', 'Wrogn', 'Fastrack', 'AISLIN', 'ROYAL SON', 'ROYAL SON', 'Wrogn', 'Fravy', 'ROYAL SON', 'AISLIN', 'GANSTA', 'United Colors of Benetton', 'ROYAL SON', 'ROYAL SON', 'NuVew', 'hipe', 'AISLIN', 'kingsunglasses', 'PHENOMENAL', 'Wrogn', 'ROYAL SON', 'GANSTA', 'Fastrack', 'Wrogn', 'PIRASO', 'Fastrack', 'ROZZETTA CRAFT', 'Silver Kartz', 'ROYAL SON', 'hipe', 'Rapstar', 'Flizz', 'ROYAL SON', 'ROYAL SON', 'GANSTA', 'PIRASO', 'PIRASO', 'AISLIN', 'IRUS by IDEE', 'IDEE', 'Villain', 'AISLIN', 'ROYAL SON', 'United Colors of Benetton', 'ROYAL SON', 'ROZZETTA CRAFT', 'NuVew', 'Fastrack', 'ROYAL SON', 'Fastrack', 'GANSTA', 'hipe', 'ROYAL SON', 'Singco India', 'GANSTA', 'ROZZETTA CRAFT', 'PIRASO', 'Fastrack', 'Fastrack', 'ROZZETTA CRAFT', 'ROYAL SON', 'Wrogn', 'United Colors of Benetton', 'AISLIN', 'ROYAL SON', 'NuVew', 'elegante', 'Ray-Ban', 'PIRASO', 'ROYAL SON', 'United Colors of Benetton', 'ROYAL SON', 'ROYAL SON', 'United Colors of Benetton', 'AISLIN', 'ROYAL SON', 'VINCENT CHASE', 'Cristiano Ronnie', 'GANSTA', 'Fastrack', 'ROYAL SON', 'Fastrack', 'NuVew', 'GANSTA', 'ROYAL SON', 'NuVew', 'United Colors of Benetton', 'IRUS by IDEE', 'ROYAL SON', 'ROYAL SON', 'Wrogn', 'Silver Kartz', 'ROYAL SON', 'PETER JONES', 'NuVew', 'Wrogn', 'ROYAL SON', 'GANSTA', 'ROZZETTA CRAFT', 'AISLIN', 'AISLIN', 'Fastrack', 'AISLIN', 'Ray-Ban', 'PIRASO', 'ROYAL SON', 'ROZZETTA CRAFT', 'elegante', 'ROYAL SON', 'Fastrack', 'DEIXELS', 'ROYAL SON', 'ROYAL SON', 'Fastrack', 'Mi', 'Fastrack', 'PIRASO', 'elegante', 'NuVew', 'ROYAL SON', 'Villain', 'PETER JONES', 'FOSSIL', 'AISLIN', 'ROYAL SON', 'Fastrack', 'Fastrack', 'Fastrack', 'ROYAL SON', 'United Colors of Benetton', 'Ray-Ban', 'Fastrack', 'ROYAL SON', 'Ray-Ban', 'Fastrack', 'FOSSIL', 'AISLIN', 'Fastrack', 'FOSSIL', 'NuVew', 'PIRASO', 'ROYAL SON', 'Tom Martin', 'Fastrack', 'ROYAL SON', 'ROYAL SON', 'ROYAL SON', 'AISLIN', 'ROYAL SON', 'ROYAL SON', 'hipe', 'GANSTA', 'PIRASO', 'Fastrack', 'GANSTA', 'AISLIN', 'ROYAL SON', 'GANSTA', 'NuVew', 'NuVew', 'VINCENT CHASE', 'Fastrack', 'AISLIN', 'Fastrack', 'ROYAL SON', 'elegante', 'agera', 'NuVew', 'ROYAL SON', 'AISLIN', 'ROYAL SON', 'FOSSIL', 'ROYAL SON', 'Fastrack', 'Ray-Ban', 'FOSSIL', 'ROYAL SON', 'Ray-Ban', 'ROYAL SON', 'ROYAL SON', 'AISLIN', 'Fastrack', 'GANSTA', 'NEWPORT', 'PIRASO', 'AISLIN', 'AISLIN', 'ROZZETTA CRAFT', 'ROYAL SON', 'IRUS by IDEE', 'Ray-Ban', 'ROYAL SON', 'PIRASO', 'United Colors of Benetton', 'PHENOMENAL', 'Fastrack', 'Villain', 'AISLIN', 'Wrogn', 'Ray-Ban', 'VINCENT CHASE', 'GANSTA', 'FOSSIL', 'United Colors of Benetton', 'ROYAL SON', 'AISLIN', 'Ray-Ban', 'ROYAL SON', 'ROYAL SON', 'Fastrack', 'GANSTA', 'Wrogn', 'ROYAL SON', 'NuVew', 'Wrogn', 'Fastrack', 'ROYAL SON', 'NuVew', 'Fastrack', 'AISLIN', 'AISLIN', 'IRUS by IDEE', 'ROYAL SON', 'NuVew', 'PIRASO', 'PETER JONES', 'Fastrack', 'Fastrack', 'ROYAL SON', 'FOSSIL', 'Silver Kartz', 'United Colors of Benetton', 'ROYAL SON', 'ROZZETTA CRAFT', 'FLYING MACHINE', 'Fastrack', 'PIRASO', 'Fastrack', 'AISLIN', 'POLICE', 'ROYAL SON', 'ROYAL SON', 'NuVew', 'GANSTA', 'ROYAL SON', 'ROYAL SON', 'Singco India', 'GANSTA', 'ROYAL SON', 'Fastrack', 'peter india', 'Ray-Ban', 'ROYAL SON', 'PETER JONES', 'Ray-Ban', 'Ray-Ban', 'AISLIN', 'Fastrack', 'ROYAL SON', 'NuVew', 'PIRASO', 'Fastrack', 'ROYAL SON', 'Fastrack', 'ROYAL SON', 'AISLIN', 'Fastrack', 'PIRASO', 'ROYAL SON', 'GANSTA', 'Fastrack', 'remanika', 'PIRASO', 'Silver Kartz', 'Fastrack', 'IDEE', 'ROYAL SON', 'ROYAL SON', 'AISLIN', 'AISLIN', 'VINCENT CHASE', 'PIRASO', 'Fastrack', 'ROYAL SON', 'ROYAL SON', 'ROZZETTA CRAFT', 'ROZZETTA CRAFT', 'Singco', 'ROYAL SON', 'Singco India', 'Singco', 'hipe', 'AISLIN', 'GANSTA', 'Fastrack', 'Fastrack', 'PIRASO', 'Singco India', 'Poland', 'PIRASO', 'ROYAL SON', 'hipe', 'kingsunglasses', 'ROYAL SON', 'ROYAL SON', 'Fastrack', 'PHENOMENAL', 'GANSTA', 'ROYAL SON', 'kingsunglasses', 'ROYAL SON', 'Fastrack', 'Villain', 'Fastrack', 'PIRASO', 'ROZZETTA CRAFT', 'VINCENT CHASE', 'kingsunglasses', 'ROYAL SON', 'kingsunglasses', 'ROYAL SON', 'ROYAL SON', 'ROYAL SON', 'Fastrack', 'kingsunglasses', 'Fastrack', 'Fastrack', 'PIRASO', 'ROYAL SON', 'Fastrack', 'IRUS by IDEE', 'PHENOMENAL', 'PIRASO', 'kingsunglasses', 'Fastrack', 'Fastrack', 'AISLIN', 'PHENOMENAL', 'Fastrack', 'Fastrack', 'Villain', 'kingsunglasses', 'ROZZETTA CRAFT', 'Fastrack', 'ROYAL SON', 'Fastrack', 'GANSTA', 'Fastrack', 'ROYAL SON', 'kingsunglasses', 'kingsunglasses', 'PIRASO', 'PIRASO', 'DEIXELS', 'Fastrack', 'NuVew', 'ROYAL SON', 'hipe', 'Fastrack', 'Fastrack', 'PIRASO', 'PIRASO', 'ROZZETTA CRAFT', 'Singco', 'ROYAL SON', 'ROZZETTA CRAFT', 'ROYAL SON', 'Fastrack', 'ROYAL SON', 'Singco India', 'hipe', 'Fastrack', 'ROYAL SON', 'GANSTA', 'Singco', 'hipe', 'AISLIN', 'Poland', 'PHENOMENAL', 'kingsunglasses', 'PIRASO', 'ROYAL SON', 'PIRASO', 'Fastrack', 'ROYAL SON', 'Singco India', 'Fastrack', 'GANSTA', 'ROYAL SON', 'kingsunglasses', 'Fastrack', 'ROYAL SON', 'ROYAL SON', 'ROYAL SON', 'kingsunglasses', 'PIRASO', 'ROYAL SON', 'ROZZETTA CRAFT', 'Fastrack', 'PHENOMENAL', 'NuVew', 'ROYAL SON', 'Fastrack', 'PHENOMENAL', 'ROYAL SON', 'ROZZETTA CRAFT', 'GANSTA', 'Fastrack', 'ROYAL SON', 'Fastrack', 'Singco India', 'ROZZETTA CRAFT', 'ROYAL SON', 'GANSTA', 'BEQUBE', 'Singco India', 'AISLIN', 'kingsunglasses', 'PIRASO', 'hipe', 'ROYAL SON', 'Fastrack', 'ROZZETTA CRAFT', 'ROYAL SON', 'PIRASO', 'ROYAL SON', 'kingsunglasses', 'Fastrack', 'ROYAL SON', 'Flizz', 'Fastrack', 'ROYAL SON', 'ROYAL SON', 'Fastrack', 'NuVew', 'kingsunglasses', 'ROYAL SON', 'PHENOMENAL', 'Fastrack', 'Fastrack', 'PIRASO', 'Wrogn', 'Fastrack', 'AISLIN', 'ROYAL SON', 'ROYAL SON', 'Wrogn', 'Fravy', 'ROYAL SON', 'AISLIN', 'GANSTA', 'United Colors of Benetton', 'ROYAL SON', 'ROYAL SON', 'NuVew', 'hipe', 'AISLIN', 'kingsunglasses', 'PHENOMENAL', 'Wrogn', 'ROYAL SON', 'GANSTA', 'Fastrack', 'Wrogn', 'PIRASO', 'Fastrack', 'ROZZETTA CRAFT', 'Silver Kartz', 'ROYAL SON', 'hipe', 'Rapstar', 'Flizz', 'PIRASO', 'ROYAL SON', 'GANSTA', 'PIRASO', 'ROYAL SON', 'AISLIN', 'IRUS by IDEE', 'IDEE', 'NuVew', 'Poloport', 'Wrogn', 'United Colors of Benetton', 'ROYAL SON', 'ROZZETTA CRAFT', 'Wrogn', 'GANSTA', 'ROYAL SON', 'NuVew', 'Fastrack', 'Singco India', 'ROYAL SON', 'ROZZETTA CRAFT', 'Fastrack', 'NuVew', 'ROYAL SON', 'elegante', 'AISLIN', 'United Colors of Benetton', 'PIRASO', 'hipe', 'ROZZETTA CRAFT', 'ROYAL SON', 'ROYAL SON', 'Ray-Ban', 'hipe', 'Fastrack', 'ROYAL SON', 'United Colors of Benetton', 'ROYAL SON', 'United Colors of Benetton', 'PIRASO', 'AISLIN', 'ROYAL SON', 'Cristiano Ronnie', 'ROYAL SON', 'Fastrack', 'GANSTA', 'GANSTA', 'ROYAL SON', 'GANSTA', 'NuVew', 'Fastrack', 'ROYAL SON', 'IRUS by IDEE', 'United Colors of Benetton', 'AISLIN', 'ROYAL SON', 'Wrogn', 'ROYAL SON', 'Silver Kartz', 'ROYAL SON', 'NuVew', 'PETER JONES', 'Wrogn', 'AISLIN', 'NuVew', 'Fastrack', 'AISLIN', 'PIRASO', 'Ray-Ban', 'ROYAL SON', 'ROZZETTA CRAFT', 'ROYAL SON', 'GANSTA', 'elegante', 'ROZZETTA CRAFT', 'PIRASO', 'ROYAL SON', 'Mi', 'AISLIN', 'NuVew', 'Fastrack', 'Villain', 'DEIXELS', 'PIRASO', 'Fastrack', 'NuVew', 'ROYAL SON', 'ROYAL SON', 'PETER JONES', 'FOSSIL', 'AISLIN', 'ROYAL SON', 'Fastrack', 'Fastrack', 'Fastrack', 'ROYAL SON', 'United Colors of Benetton', 'Ray-Ban', 'Fastrack', 'ROYAL SON', 'Ray-Ban', 'Fastrack', 'FOSSIL', 'AISLIN', 'Fastrack', 'FOSSIL', 'NuVew', 'PIRASO', 'ROYAL SON', 'Tom Martin', 'Fastrack', 'ROYAL SON', 'ROYAL SON', 'ROYAL SON', 'AISLIN', 'ROYAL SON', 'ROYAL SON', 'hipe', 'GANSTA', 'PIRASO', 'Fastrack', 'GANSTA', 'AISLIN', 'ROYAL SON', 'GANSTA', 'NuVew', 'NuVew', 'Villain', 'ROYAL SON', 'elegante', 'ROYAL SON', 'ROYAL SON', 'NuVew', 'GANSTA', 'Fastrack', 'ROYAL SON', 'AISLIN', 'Fastrack', 'AISLIN', 'ROYAL SON', 'FOSSIL', 'Fastrack', 'GANSTA', 'ROYAL SON', 'ROYAL SON', 'NEWPORT', 'Fastrack', 'AISLIN', 'AISLIN', 'AISLIN', 'Ray-Ban', 'PIRASO', 'Fastrack', 'FOSSIL', 'ROZZETTA CRAFT', 'ROYAL SON', 'United Colors of Benetton', 'Ray-Ban', 'Fastrack', 'PIRASO', 'Wrogn', 'IRUS by IDEE', 'Ray-Ban', 'Villain', 'ROYAL SON', 'AISLIN', 'Fastrack', 'ROYAL SON', 'AISLIN', 'Fastrack', 'FOSSIL', 'ROYAL SON', 'United Colors of Benetton', 'GANSTA', 'Wrogn', 'ROYAL SON', 'Wrogn', 'GANSTA', 'NuVew', 'ROYAL SON', 'Fastrack', 'Ray-Ban', 'ROYAL SON', 'AISLIN', 'Fastrack', 'AISLIN', 'PETER JONES', 'PIRASO', 'Fastrack', 'Fastrack', 'FOSSIL', 'ROYAL SON', 'NuVew', 'NuVew', 'IRUS by IDEE', 'PIRASO', 'Silver Kartz', 'United Colors of Benetton', 'Fastrack', 'ROYAL SON', 'POLICE', 'AISLIN', 'Fastrack', 'Villain', 'Fastrack', 'ROYAL SON', 'FLYING MACHINE', 'ROYAL SON', 'ROYAL SON', 'NuVew', 'GANSTA', 'ROYAL SON', 'ROYAL SON', 'Singco India', 'GANSTA', 'ROYAL SON', 'Fastrack', 'peter india', 'Ray-Ban', 'ROYAL SON', 'PETER JONES', 'Ray-Ban', 'Ray-Ban', 'ROYAL SON', 'Fastrack', 'ROYAL SON', 'NuVew', 'AISLIN', 'Fastrack', 'ROYAL SON', 'Fastrack', 'PIRASO', 'AISLIN', 'Fastrack', 'PIRASO', 'ROYAL SON', 'GANSTA', 'Fastrack', 'remanika', 'ROYAL SON', 'Silver Kartz', 'Fastrack', 'IDEE', 'PIRASO', 'ROYAL SON', 'AISLIN', 'AISLIN', 'ROYAL SON', 'PIRASO', 'ROZZETTA CRAFT', 'Singco', 'ROYAL SON', 'ROZZETTA CRAFT', 'ROYAL SON', 'Fastrack', 'ROYAL SON', 'Singco India', 'hipe', 'Fastrack', 'AISLIN', 'GANSTA', 'Singco', 'hipe', 'PIRASO', 'Poland', 'PHENOMENAL', 'kingsunglasses', 'ROYAL SON', 'ROYAL SON', 'PIRASO', 'Fastrack', 'ROYAL SON', 'Singco India', 'Fastrack', 'GANSTA', 'ROYAL SON', 'kingsunglasses', 'Fastrack', 'ROYAL SON', 'Villain', 'ROYAL SON', 'kingsunglasses', 'PIRASO', 'NuVew', 'ROZZETTA CRAFT', 'Fastrack', 'PHENOMENAL', 'ROYAL SON'] ['Polarized, UV Protection Round Sunglasses (49)', 'UV Protection Over-sized Sunglasses (65)', 'UV Protection Wayfarer Sunglasses (Free Size)', 'Mirrored, UV Protection Wayfarer Sunglasses (Free Size)', 'UV Protection Rectangular Sunglasses (Free Size)', 'UV Protection, Polarized Wayfarer Sunglasses (56)', 'UV Protection Aviator Sunglasses (54)', 'Mirrored Aviator Sunglasses (55)', 'UV Protection Wayfarer Sunglasses (56)', 'Gradient Rectangular Sunglasses (56)', 'UV Protection Round Sunglasses (53)', 'UV Protection Wayfarer Sunglasses (32)', 'UV Protection Round Sunglasses (Free Size)', 'UV Protection Wayfarer Sunglasses (Free Size)', 'UV Protection Wrap-around Sunglasses (Free Size)', 'UV Protection, Gradient Butterfly, Retro Square Sunglas...', 'UV Protection Retro Square Sunglasses (Free Size)', 'UV Protection Wayfarer Sunglasses (Free Size)', 'UV Protection Aviator Sunglasses (Free Size)', 'Others Wayfarer Sunglasses (Free Size)', 'Mirrored, UV Protection Wayfarer Sunglasses (Free Size)', 'UV Protection Retro Square Sunglasses (Free Size)', 'UV Protection Aviator Sunglasses (61)', 'Polarized, UV Protection Retro Square Sunglasses (53)', 'UV Protection Aviator Sunglasses (58)', 'UV Protection Aviator Sunglasses (57)', 'Gradient, UV Protection Wayfarer Sunglasses (Free Size)', 'UV Protection Rectangular Sunglasses (Free Size)', 'UV Protection Round Sunglasses (54)', 'UV Protection Rectangular Sunglasses (55)', 'UV Protection Aviator Sunglasses (Free Size)', 'UV Protection Aviator Sunglasses (54)', 'UV Protection Aviator, Wayfarer Sunglasses (Free Size)', 'UV Protection Aviator Sunglasses (58)', 'UV Protection Aviator Sunglasses (58)', 'Polarized, UV Protection Round Sunglasses (53)', 'UV Protection Sports Sunglasses (Free Size)', 'Gradient Aviator Sunglasses (Free Size)', 'UV Protection Aviator Sunglasses (58)', 'UV Protection Aviator Sunglasses (58)', 'UV Protection Aviator Sunglasses (58)', 'UV Protection, Gradient Round Sunglasses (Free Size)', 'UV Protection, Others Aviator Sunglasses (32)', 'Polarized, UV Protection Round Sunglasses (49)', 'UV Protection, Gradient Rectangular Sunglasses (Free Si...', 'UV Protection, Gradient Wayfarer Sunglasses (55)', 'UV Protection, Polarized, Riding Glasses Oval Sunglasse...', 'UV Protection Over-sized Sunglasses (65)', 'UV Protection Aviator Sunglasses (Free Size)', 'Mirrored, Gradient, Riding Glasses Round Sunglasses (55...', 'UV Protection Wrap-around Sunglasses (Free Size)', 'UV Protection Retro Square Sunglasses (88)', 'UV Protection, Mirrored Wayfarer Sunglasses (53)', 'Mirrored Aviator Sunglasses (53)', 'UV Protection, Gradient, Mirrored, Riding Glasses Recta...', 'UV Protection, Gradient Butterfly, Retro Square Sunglas...', 'UV Protection Wayfarer Sunglasses (Free Size)', 'UV Protection Clubmaster Sunglasses (Free Size)', 'UV Protection Round Sunglasses (Free Size)', 'UV Protection Wayfarer Sunglasses (32)', 'UV Protection Rectangular Sunglasses (58)', 'UV Protection Aviator Sunglasses (54)', 'UV Protection Rectangular Sunglasses (59)', 'Polarized, UV Protection Round Sunglasses (53)', 'UV Protection Round Sunglasses (Free Size)', 'UV Protection Wrap-around Sunglasses (Free Size)', 'UV Protection, Night Vision, Riding Glasses Aviator Sun...', 'UV Protection Rectangular Sunglasses (Free Size)', 'Mirrored, UV Protection Wayfarer, Wayfarer, Wayfarer, W...', 'UV Protection Wayfarer Sunglasses (55)', 'Polarized Rectangular Sunglasses (65)', 'Polarized, UV Protection Retro Square Sunglasses (53)', 'Mirrored Aviator Sunglasses (55)', 'UV Protection, Mirrored Round Sunglasses (54)', 'UV Protection Aviator Sunglasses (54)', 'Polarized, UV Protection Rectangular Sunglasses (59)', 'Gradient, UV Protection Round Sunglasses (Free Size)', 'UV Protection Wayfarer Sunglasses (56)', 'UV Protection, Mirrored Retro Square Sunglasses (Free S...', 'UV Protection, Gradient, Night Vision, Mirrored Aviator...', 'UV Protection Wayfarer Sunglasses (55)', 'UV Protection Aviator Sunglasses (Free Size)', 'UV Protection, Mirrored Retro Square Sunglasses (53)', 'Polarized, UV Protection Round Sunglasses (49)', 'UV Protection, Gradient Round Sunglasses (Free Size)', 'UV Protection Aviator Sunglasses (57)', 'UV Protection Aviator Sunglasses (Free Size)', 'UV Protection Over-sized Sunglasses (65)', 'Mirrored, UV Protection Wayfarer Sunglasses (Free Size)', 'Riding Glasses, UV Protection, Others Aviator Sunglasse...', 'UV Protection, Gradient Retro Square Sunglasses (Free S...', 'Mirrored Aviator Sunglasses (55)', 'Night Vision, Riding Glasses Wayfarer Sunglasses (53)', 'UV Protection Wayfarer Sunglasses (Free Size)', 'Mirrored, UV Protection, Riding Glasses, Others Wrap-ar...', 'UV Protection, Gradient Butterfly, Retro Square Sunglas...', 'UV Protection Rectangular Sunglasses (55)', 'UV Protection Wayfarer Sunglasses (32)', 'UV Protection, Night Vision, Gradient, Mirrored Round, ...', 'UV Protection Rectangular Sunglasses (Free Size)', 'Gradient, UV Protection Wayfarer Sunglasses (Free Size)', 'UV Protection Rectangular Sunglasses (Free Size)', 'Polarized Sports Sunglasses (68)', 'UV Protection Aviator Sunglasses (54)', 'UV Protection Retro Square Sunglasses (58)', 'Mirrored, UV Protection Aviator Sunglasses (56)', 'UV Protection Round Sunglasses (52)', 'Polarized, UV Protection Round Sunglasses (53)', 'UV Protection Retro Square Sunglasses (Free Size)', 'UV Protection Wayfarer Sunglasses (57)', 'Gradient Retro Square Sunglasses (60)', 'Polarized, UV Protection Retro Square Sunglasses (53)', 'UV Protection Rectangular Sunglasses (59)', 'UV Protection Cat-eye Sunglasses (60)', 'Mirrored, UV Protection Wayfarer Sunglasses (Free Size)', 'Polarized, UV Protection Rectangular Sunglasses (59)', 'UV Protection, Mirrored Clubmaster Sunglasses (Free Siz...', 'UV Protection Wrap-around, Rectangular Sunglasses (Free...', 'UV Protection Wayfarer Sunglasses (Free Size)', 'UV Protection Aviator Sunglasses (58)', 'Mirrored Round Sunglasses (52)', 'Gradient, UV Protection Wayfarer Sunglasses (Free Size)', 'UV Protection, Gradient Butterfly, Retro Square Sunglas...', 'Polarized, UV Protection Round Sunglasses (49)', 'Polarized, UV Protection Aviator Sunglasses (58)', 'Polarized Rectangular Sunglasses (59)', 'UV Protection Retro Square Sunglasses (Free Size)', 'UV Protection Over-sized Sunglasses (65)', 'UV Protection, Gradient Butterfly, Retro Square Sunglas...', 'UV Protection Aviator Sunglasses (57)', 'Gradient, Mirrored, UV Protection Aviator Sunglasses (5...', 'Mirrored Aviator Sunglasses (55)', 'UV Protection Retro Square Sunglasses (58)', 'UV Protection Aviator Sunglasses (Free Size)', 'Gradient, UV Protection Round Sunglasses (Free Size)', 'UV Protection, Gradient Butterfly, Retro Square Sunglas...', 'UV Protection Round Sunglasses (Free Size)', 'UV Protection Retro Square Sunglasses (Free Size)', 'Polarized Aviator Sunglasses (60)', 'Polarized, UV Protection Round Sunglasses (53)', 'UV Protection, Riding Glasses Wayfarer Sunglasses (53)', 'UV Protection Wayfarer Sunglasses (Free Size)', 'Mirrored Retro Square Sunglasses (57)', 'UV Protection Wayfarer Sunglasses (32)', 'Gradient Wayfarer Sunglasses (Free Size)', 'Mirrored, UV Protection Round Sunglasses (Free Size)', 'UV Protection Aviator Sunglasses (88)', 'UV Protection Rectangular Sunglasses (Free Size)', 'UV Protection, Gradient, Riding Glasses Wayfarer Sungla...', 'Mirrored Wayfarer Sunglasses (Free Size)', 'UV Protection, Polarized Rectangular Sunglasses (Free S...', 'UV Protection Aviator Sunglasses (54)', 'Polarized Aviator Sunglasses (66)', 'UV Protection, Riding Glasses Wayfarer Sunglasses (53)', 'UV Protection Aviator Sunglasses (54)', 'Polarized, UV Protection Retro Square Sunglasses (53)', 'UV Protection, Gradient Oval Sunglasses (58)', 'Gradient Rectangular Sunglasses (56)', 'Polarized Rectangular Sunglasses (55)', 'UV Protection, Gradient, Night Vision, Mirrored Aviator...', 'UV Protection Wayfarer Sunglasses (Free Size)', 'Mirrored Wayfarer Sunglasses (56)', 'Gradient Round Sunglasses (53)', 'Polarized, UV Protection Round Sunglasses (49)', 'UV Protection, Gradient Butterfly, Shield Sunglasses (F...', 'Mirrored Wayfarer Sunglasses (51)', 'UV Protection Aviator Sunglasses (57)', 'UV Protection Over-sized Sunglasses (65)', 'UV Protection, Riding Glasses Shield Sunglasses (70)', 'UV Protection Retro Square Sunglasses (Free Size)', 'Riding Glasses, Others, UV Protection Wrap-around Sungl...', 'UV Protection Retro Square Sunglasses (88)', 'UV Protection, Gradient Rectangular Sunglasses (Free Si...', 'UV Protection Oval Sunglasses (Free Size)', 'UV Protection, Riding Glasses Wayfarer Sunglasses (56)', 'Mirrored Aviator Sunglasses (55)', 'UV Protection Round Sunglasses (Free Size)', 'UV Protection, Gradient Butterfly, Over-sized Sunglasse...', 'Gradient, Mirrored, UV Protection Oval Sunglasses (55)', 'UV Protection Wayfarer Sunglasses (32)', 'Gradient, UV Protection Round Sunglasses (Free Size)', 'Polarized, UV Protection Aviator Sunglasses (Free Size)', 'Mirrored Aviator Sunglasses (Free Size)', 'Polarized, UV Protection Round Sunglasses (53)', 'UV Protection Wayfarer Sunglasses (56)', 'UV Protection, Mirrored Round Sunglasses (Free Size)', 'Polarized, UV Protection Sports Sunglasses (Free Size)', 'UV Protection Rectangular Sunglasses (Free Size)', 'Gradient, UV Protection Aviator Sunglasses (56)', 'Mirrored Aviator Sunglasses (55)', 'Gradient, Mirrored Aviator Sunglasses (57)', 'UV Protection Aviator Sunglasses (54)', 'UV Protection, Gradient Butterfly, Retro Square Sunglas...', 'UV Protection Round Sunglasses (50)', 'UV Protection, Riding Glasses Aviator Sunglasses (57)', 'Polarized, UV Protection Retro Square Sunglasses (53)', 'UV Protection Wayfarer Sunglasses (Free Size)', 'UV Protection Aviator Sunglasses (57)', 'UV Protection, Riding Glasses Wayfarer Sunglasses (53)', 'Polarized, UV Protection Rectangular Sunglasses (59)', 'UV Protection, Gradient Aviator Sunglasses (55)', 'UV Protection Sports Sunglasses (73)', 'UV Protection Aviator Sunglasses (Free Size)', 'Polarized, UV Protection Round Sunglasses (49)', 'Gradient Rectangular Sunglasses (53)', 'UV Protection Aviator Sunglasses (57)', 'Polarized, UV Protection, Gradient Wayfarer, Rectangula...', 'UV Protection Over-sized Sunglasses (65)', 'UV Protection Wayfarer Sunglasses (56)', 'UV Protection Rectangular Sunglasses (Free Size)', 'UV Protection Oval Sunglasses (56)', 'Mirrored Aviator Sunglasses (55)', 'UV Protection, Night Vision, Riding Glasses Retro Squar...', 'Polarized, UV Protection Over-sized Sunglasses (56)', 'Mirrored Wayfarer Sunglasses (52)', 'UV Protection, Gradient Butterfly, Retro Square Sunglas...', 'UV Protection Cat-eye Sunglasses (60)', 'Gradient Round Sunglasses (Free Size)', 'UV Protection, Mirrored, Gradient Aviator Sunglasses (6...', 'UV Protection Wayfarer Sunglasses (32)', 'UV Protection, Gradient Rectangular Sunglasses (61)', 'Polarized, UV Protection Round Sunglasses (53)', 'UV Protection, Gradient Round Sunglasses (Free Size)', 'UV Protection Rectangular Sunglasses (Free Size)', 'UV Protection, Gradient Wayfarer Sunglasses (53)', 'UV Protection Wrap-around Sunglasses (Free Size)', 'UV Protection Rectangular Sunglasses (Free Size)', 'UV Protection Aviator Sunglasses (54)', 'UV Protection Retro Square Sunglasses (58)', 'Polarized Aviator Sunglasses (Free Size)', 'UV Protection Oval Sunglasses (58)', 'UV Protection, Gradient, Night Vision, Mirrored Aviator...', 'UV Protection Wrap-around Sunglasses (Free Size)', 'Others Wayfarer Sunglasses (Free Size)', 'UV Protection Rectangular Sunglasses (Free Size)', 'UV Protection Aviator Sunglasses (58)', 'Mirrored Aviator Sunglasses (Free Size)', 'UV Protection Sports Sunglasses (65)', 'Polarized, UV Protection Retro Square Sunglasses (53)', 'UV Protection Retro Square Sunglasses (88)', 'UV Protection, Gradient Retro Square Sunglasses (58)', 'Others Rectangular Sunglasses (54)', 'UV Protection, Gradient Cat-eye Sunglasses (61)', 'Polarized, UV Protection Round Sunglasses (49)', 'Gradient Round Sunglasses (Free Size)', 'Mirrored, UV Protection Wayfarer Sunglasses (Free Size)', 'Polarized Sports Sunglasses (Free Size)', 'UV Protection Over-sized Sunglasses (65)', 'Gradient, Mirrored, UV Protection Aviator Sunglasses (5...', 'Polarized Aviator Sunglasses (58)', 'Polarized Sports Sunglasses (Free Size)', 'Mirrored Aviator Sunglasses (55)', 'Others Retro Square Sunglasses (50)', 'UV Protection Wayfarer Sunglasses (Free Size)', 'Mirrored Round Sunglasses (51)', 'UV Protection, Gradient Butterfly, Retro Square Sunglas...', 'Gradient Round Sunglasses (Free Size)', 'Mirrored, UV Protection Rectangular Sunglasses (55)', 'UV Protection, Gradient, Riding Glasses Aviator Sunglas...', 'UV Protection Wayfarer Sunglasses (32)', 'Polarized, UV Protection Wrap-around Sunglasses (60)', 'UV Protection Aviator Sunglasses (Free Size)', 'UV Protection Aviator Sunglasses (Free Size)', 'Polarized, UV Protection Round Sunglasses (53)', 'Gradient, UV Protection Round, Oval, Cat-eye Sunglasses...', 'UV Protection Retro Square Sunglasses (88)', 'UV Protection, Gradient Over-sized Sunglasses (62)', 'UV Protection Rectangular Sunglasses (Free Size)', 'UV Protection Retro Square Sunglasses (88)', 'UV Protection Wayfarer Sunglasses (53)', 'UV Protection Wayfarer Sunglasses (54)', 'UV Protection Aviator Sunglasses (54)', 'Mirrored Aviator Sunglasses (Free Size)', 'UV Protection Retro Square Sunglasses (53)', 'Polarized, UV Protection, Gradient Wayfarer, Rectangula...', 'Polarized, UV Protection Retro Square Sunglasses (53)', 'UV Protection, Gradient Aviator Sunglasses (57)', 'UV Protection, Mirrored, Gradient Wayfarer, Rectangular...', 'UV Protection Sports Sunglasses (73)', 'Others Wayfarer Sunglasses (Free Size)', 'UV Protection Retro Square Sunglasses (58)', 'Mirrored Round Sunglasses (Free Size)', 'Mirrored Aviator Sunglasses (Free Size)', 'Polarized, UV Protection Round Sunglasses (49)', 'UV Protection, Riding Glasses Aviator Sunglasses (58)', 'UV Protection Retro Square Sunglasses (53)', 'UV Protection Sports Sunglasses (Free Size)', 'UV Protection Over-sized Sunglasses (65)', 'UV Protection, Gradient Butterfly Sunglasses (62)', 'UV Protection Oval Sunglasses (Free Size)', 'UV Protection, Gradient Round Sunglasses (55)', 'UV Protection Retro Square Sunglasses (88)', 'Others Round Sunglasses (50)', 'UV Protection Wayfarer Sunglasses (Free Size)', 'UV Protection, Mirrored, Gradient Wayfarer Sunglasses (...', 'Mirrored Aviator Sunglasses (55)', 'UV Protection Oval Sunglasses (47)', 'Gradient Wayfarer Sunglasses (Free Size)', 'UV Protection Retro Square Sunglasses (Free Size)', 'UV Protection, Gradient Butterfly, Retro Square Sunglas...', 'UV Protection Wayfarer, Round Sunglasses (63)', 'UV Protection, Mirrored, Gradient Over-sized, Retro Squ...', 'Mirrored Aviator Sunglasses (63)', 'UV Protection Wayfarer Sunglasses (32)', 'UV Protection Aviator Sunglasses (Free Size)', 'Others Rectangular Sunglasses (55)', 'UV Protection Shield Sunglasses (54)', 'UV Protection Rectangular Sunglasses (Free Size)', 'Gradient, UV Protection Aviator Sunglasses (57)', 'Polarized Retro Square Sunglasses (60)', 'Gradient Aviator Sunglasses (Free Size)', 'UV Protection Aviator Sunglasses (54)', 'UV Protection Aviator Sunglasses (60)', 'Gradient Rectangular Sunglasses (57)', 'Polarized Rectangular Sunglasses (60)', 'Others Wayfarer Sunglasses (Free Size)', 'UV Protection Over-sized Sunglasses (60)', 'UV Protection, Gradient Butterfly, Wayfarer Sunglasses ...', 'UV Protection Over-sized Sunglasses (Free Size)', 'Polarized, UV Protection Round Sunglasses (53)', 'UV Protection, Mirrored Over-sized Sunglasses (63)', 'UV Protection Rectangular Sunglasses (55)', 'Others Rectangular Sunglasses (59)', 'Polarized, UV Protection Round Sunglasses (49)', 'Gradient Rectangular Sunglasses (56)', 'UV Protection, Gradient Aviator Sunglasses (57)', 'UV Protection Aviator Sunglasses (51)', 'UV Protection Over-sized Sunglasses (65)', 'UV Protection Aviator Sunglasses (59)', 'UV Protection, Night Vision, Riding Glasses Aviator Sun...', 'UV Protection, Riding Glasses Aviator Sunglasses (58)', 'Mirrored Aviator Sunglasses (55)', 'UV Protection Wayfarer Sunglasses (Free Size)', 'UV Protection Retro Square Sunglasses (55)', 'UV Protection Aviator Sunglasses (56)', 'UV Protection, Gradient Butterfly, Retro Square Sunglas...', 'UV Protection Sports Sunglasses (Free Size)', 'UV Protection Oval Sunglasses (58)', 'UV Protection Cat-eye Sunglasses (59)', 'UV Protection Wayfarer Sunglasses (32)', 'Polarized Wrap-around Sunglasses (Free Size)', 'UV Protection Wayfarer Sunglasses (Free Size)', 'Others Rectangular Sunglasses (54)', 'UV Protection Rectangular Sunglasses (Free Size)', 'UV Protection, Mirrored, Night Vision, Riding Glasses W...', 'UV Protection, Mirrored Aviator Sunglasses (58)', 'Gradient Rectangular Sunglasses (53)', 'UV Protection Aviator Sunglasses (54)', 'UV Protection Aviator Sunglasses (62)', 'Gradient, UV Protection Round Sunglasses (50)', 'UV Protection Aviator Sunglasses (Free Size)', 'Polarized, UV Protection Round Sunglasses (53)', 'Others Round Sunglasses (53)', 'UV Protection Cat-eye Sunglasses (58)', 'Mirrored Aviator Sunglasses (Free Size)', 'Others Wayfarer Sunglasses (Free Size)', 'UV Protection Shield Sunglasses (Free Size)', 'Mirrored Aviator Sunglasses (55)', 'UV Protection Wayfarer Sunglasses (Free Size)', 'Polarized, UV Protection Retro Square Sunglasses (53)', 'UV Protection Over-sized Sunglasses (60)', 'UV Protection, Mirrored, Riding Glasses Clubmaster Sung...', 'UV Protection Rectangular Sunglasses (60)', 'Polarized, UV Protection Round Sunglasses (49)', 'UV Protection Over-sized Sunglasses (60)', 'Mirrored, UV Protection, Riding Glasses, Others Wrap-ar...', 'UV Protection, Riding Glasses Aviator Sunglasses (57)', 'UV Protection Over-sized Sunglasses (65)', 'Polarized Rectangular Sunglasses (Free Size)', 'UV Protection Spectacle Sunglasses (Free Size)', 'UV Protection Aviator Sunglasses (58)', 'UV Protection Retro Square Sunglasses (88)', 'UV Protection Wayfarer Sunglasses (54)', 'Gradient Rectangular Sunglasses (56)', 'UV Protection Wayfarer Sunglasses (55)', 'Mirrored Aviator Sunglasses (55)', 'UV Protection Oval Sunglasses (Free Size)', 'Polarized Retro Square Sunglasses (58)', 'UV Protection, Mirrored Cat-eye Sunglasses (68)', 'UV Protection, Gradient Butterfly, Retro Square Sunglas...', 'UV Protection Rectangular Sunglasses (59)', 'Polarized, UV Protection Round Sunglasses (52)', 'UV Protection Sports Sunglasses (Free Size)', 'UV Protection Wayfarer Sunglasses (32)', 'Toughened Glass Lens, UV Protection Aviator Sunglasses ...', 'UV Protection Aviator Sunglasses (Free Size)', 'UV Protection Aviator Sunglasses (50)', 'Polarized, UV Protection Round Sunglasses (53)', 'UV Protection Wrap-around Sunglasses (63)', 'UV Protection Rectangular Sunglasses (Free Size)', 'UV Protection Round Sunglasses (Free Size)', 'UV Protection Rectangular Sunglasses (Free Size)', 'UV Protection Wayfarer, Aviator Sunglasses (88)', 'UV Protection Shield Sunglasses (Free Size)', 'Polarized, UV Protection Rectangular Sunglasses (58)', 'UV Protection Aviator Sunglasses (54)', 'Toughened Glass Lens, UV Protection Round Sunglasses (5...', 'UV Protection, Gradient Cat-eye, Round Sunglasses (62)', 'Polarized, UV Protection Retro Square Sunglasses (53)', 'UV Protection Aviator Sunglasses (58)', 'UV Protection, Gradient Round Sunglasses (Free Size)', 'UV Protection, Others Aviator Sunglasses (32)', 'Polarized, UV Protection Round Sunglasses (49)', 'UV Protection, Gradient Rectangular Sunglasses (Free Si...', 'UV Protection, Gradient Wayfarer Sunglasses (55)', 'UV Protection, Polarized, Riding Glasses Oval Sunglasse...', 'UV Protection Over-sized Sunglasses (65)', 'UV Protection Aviator Sunglasses (Free Size)', 'Mirrored, Gradient, Riding Glasses Round Sunglasses (55...', 'UV Protection Wrap-around Sunglasses (Free Size)', 'UV Protection, Gradient Butterfly, Retro Square Sunglas...', 'UV Protection, Mirrored Wayfarer Sunglasses (53)', 'Mirrored Aviator Sunglasses (53)', 'UV Protection, Gradient, Mirrored, Riding Glasses Recta...', 'UV Protection Wayfarer Sunglasses (32)', 'UV Protection Wayfarer Sunglasses (Free Size)', 'UV Protection Clubmaster Sunglasses (Free Size)', 'UV Protection Round Sunglasses (Free Size)', 'Polarized, UV Protection Round Sunglasses (53)', 'UV Protection Rectangular Sunglasses (58)', 'UV Protection Aviator Sunglasses (54)', 'UV Protection Rectangular Sunglasses (59)', 'UV Protection Rectangular Sunglasses (Free Size)', 'UV Protection Round Sunglasses (Free Size)', 'UV Protection Wrap-around Sunglasses (Free Size)', 'UV Protection, Night Vision, Riding Glasses Aviator Sun...', 'Polarized, UV Protection Retro Square Sunglasses (53)', 'Mirrored, UV Protection Wayfarer, Wayfarer, Wayfarer, W...', 'UV Protection Wayfarer Sunglasses (55)', 'Polarized Rectangular Sunglasses (65)', 'Others Wayfarer Sunglasses (Free Size)', 'Mirrored Aviator Sunglasses (55)', 'UV Protection, Mirrored Round Sunglasses (54)', 'UV Protection Aviator Sunglasses (54)', 'UV Protection, Gradient, Night Vision, Mirrored Aviator...', 'Gradient, UV Protection Round Sunglasses (Free Size)', 'UV Protection Wayfarer Sunglasses (56)', 'UV Protection, Mirrored Retro Square Sunglasses (Free S...', 'UV Protection Retro Square Sunglasses (88)'] ['₹664', '₹699', '₹682', '₹299', '₹513', '₹529', '₹237', '₹664', '₹649', '₹499', '₹319', '₹379', '₹349', '₹647', '₹529', '₹237', '₹399', '₹499', '₹592', '₹498', '₹299', '₹499', '₹619', '₹899', '₹1,010', '₹281', '₹558', '₹562', '₹225', '₹349', '₹331', '₹1,344', '₹200', '₹1,003', '₹215', '₹664', '₹299', '₹1,189', '₹976', '₹499', '₹331', '₹949', '₹217', '₹664', '₹449', '₹474', '₹331', '₹699', '₹352', '₹252', '₹189', '₹498', '₹224', '₹679', '₹639', '₹237', '₹212', '₹162', '₹237', '₹499', '₹299', '₹349', '₹474', '₹664', '₹987', '₹319', '₹292', '₹1,344', '₹299', '₹699', '₹609', '₹664', '₹649', '₹237', '₹426', '₹562', '₹249', '₹379', '₹210', '₹749', '₹1,399', '₹426', '₹233', '₹664', '₹426', '₹426', '₹227', '₹699', '₹669', '₹207', '₹699', '₹379', '₹237', '₹196', '₹169', '₹498', '₹314', '₹210', '₹398', '₹664', '₹699', '₹249', '₹1,234', '₹499', '₹499', '₹503', '₹1,159', '₹237', '₹399', '₹664', '₹751', '₹1,344', '₹1,019', '₹197', '₹299', '₹749', '₹319', '₹805', '₹398', '₹759', '₹659', '₹566', '₹545', '₹664', '₹749', '₹879', '₹299', '₹699', '₹498', '₹323', '₹1,519', '₹379', '₹499', '₹396', '₹205', '₹498', '₹315', '₹399', '₹849', '₹664', '₹260', '₹682', '₹669', '₹237', '₹1,299', '₹399', '₹255', '₹499', '₹249', '₹179', '₹279', '₹899', '₹664', '₹207', '₹237', '₹237', '₹525', '₹419', '₹849', '₹562', '₹420', '₹664', '₹789', '₹699', '₹399', '₹210', '₹574', '₹599', '₹1,369', '₹352', '₹205', '₹379', '₹309', '₹260', '₹426', '₹237', '₹1,799', '₹1,439', '₹474', '₹664', '₹599', '₹1,489', '₹598', '₹499', '₹235', '₹189', '₹5,029', '₹237', '₹399', '₹899', '₹399', '₹664', '₹1,339', '₹516', '₹399', '₹1,344', '₹399', '₹292', '₹589', '₹759', '₹1,709', '₹348', '₹286', '₹664', '₹434', '₹1,379', '₹599', '₹699', '₹499', '₹679', '₹284', '₹599', '₹549', '₹398', '₹639', '₹379', '₹314', '₹449', '₹667', '₹498', '₹1,772', '₹459', '₹8,712', '₹237', '₹664', '₹474', '₹474', '₹499', '₹1,299', '₹198', '₹474', '₹899', '₹719', '₹1,199', '₹683', '₹237', '₹426', '₹198', '₹664', '₹562', '₹629', '₹1,559', '₹545', '₹664', '₹1,890', '₹2,519', '₹1,560', '₹699', '₹1,289', '₹10,429', '₹1,730', '₹379', '₹10,431', '₹899', '₹1,939', '₹498', '₹1,859', '₹1,779', '₹410', '₹237', '₹759', '₹854', '₹1,961', '₹664', '₹699', '₹599', '₹1,075', '₹499', '₹599', '₹179', '₹211', '₹237', '₹1,880', '₹224', '₹948', '₹664', '₹233', '₹291', '₹348', '₹1,344', '₹2,209', '₹625', '₹693', '₹664', '₹379', '₹234', '₹308', '₹699', '₹648', '₹499', '₹1,469', '₹599', '₹679', '₹3,839', '₹1,789', '₹379', '₹3,839', '₹499', '₹399', '₹498', '₹564', '₹281', '₹346', '₹237', '₹675', '₹588', '₹499', '₹499', '₹679', '₹16,909', '₹699', '₹237', '₹1,409', '₹399', '₹1,069', '₹562', '₹498', '₹959', '₹9,799', '₹1,344', '₹233', '₹1,609', '₹1,309', '₹664', '₹975', '₹9,259', '₹399', '₹699', '₹917', '₹237', '₹489', '₹379', '₹412', '₹649', '₹1,277', '₹599', '₹392', '₹1,961', '₹543', '₹498', '₹759', '₹399', '₹198', '₹237', '₹599', '₹1,159', '₹703', '₹664', '₹1,939', '₹255', '₹1,299', '₹499', '₹349', '₹579', '₹683', '₹237', '₹1,714', '₹398', '₹3,299', '₹899', '₹664', '₹275', '₹211', '₹664', '₹699', '₹314', '₹314', '₹699', '₹2,303', '₹189', '₹6,649', '₹379', '₹399', '₹5,209', '₹8,629', '₹498', '₹1,589', '₹854', '₹345', '₹237', '₹1,033', '₹759', '₹2,249', '₹664', '₹840', '₹2,069', '₹331', '₹499', '₹281', '₹1,199', '₹380', '₹237', '₹265', '₹719', '₹489', '₹899', '₹499', '₹796', '₹498', '₹1,344', '₹331', '₹949', '₹217', '₹664', '₹449', '₹474', '₹331', '₹699', '₹352', '₹252', '₹189', '₹498', '₹224', '₹679', '₹639', '₹237', '₹212', '₹162', '₹237', '₹499', '₹299', '₹349', '₹474', '₹899', '₹987', '₹319', '₹292', '₹664', '₹299', '₹699', '₹609', '₹562', '₹649', '₹237', '₹426', '₹1,344', '₹249', '₹379', '₹210', '₹664', '₹664', '₹699', '₹682', '₹299', '₹513', '₹529', '₹237', '₹379', '₹649', '₹499', '₹319', '₹237', '₹349', '₹647', '₹529', '₹498', '₹399', '₹499', '₹592', '₹562', '₹299', '₹499', '₹619', '₹664', '₹1,010', '₹281', '₹558', '₹499', '₹225', '₹349', '₹331', '₹237', '₹200', '₹1,003', '₹215', '₹664', '₹299', '₹1,189', '₹976', '₹331', '₹331', '₹449', '₹331', '₹664', '₹474', '₹217', '₹949', '₹699', '₹352', '₹189', '₹679', '₹599', '₹224', '₹252', '₹299', '₹498', '₹162', '₹319', '₹349', '₹237', '₹474', '₹237', '₹987', '₹664', '₹212', '₹639', '₹292', '₹499', '₹299', '₹649', '₹699', '₹664', '₹379', '₹249', '₹237', '₹664', '₹426', '₹609', '₹399', '₹365', '₹265', '₹1,399', '₹379', '₹664', '₹426', '₹233', '₹669', '₹699', '₹699', '₹227', '₹426', '₹379', '₹207', '₹169', '₹314', '₹498', '₹210', '₹237', '₹197', '₹499', '₹699', '₹398', '₹1,234', '₹237', '₹499', '₹249', '₹1,159', '₹664', '₹399', '₹503', '₹664', '₹664', '₹1,019', '₹398', '₹299', '₹664', '₹319', '₹805', '₹751', '₹331', '₹659', '₹566', '₹545', '₹664', '₹749', '₹879', '₹299', '₹699', '₹498', '₹323', '₹1,519', '₹379', '₹499', '₹396', '₹205', '₹498', '₹315', '₹399', '₹849', '₹664', '₹260', '₹682', '₹669', '₹237', '₹1,299', '₹399', '₹255', '₹499', '₹249', '₹179', '₹279', '₹237', '₹664', '₹207', '₹237', '₹664', '₹525', '₹419', '₹849', '₹365', '₹306', '₹609', '₹789', '₹664', '₹399', '₹599', '₹352', '₹699', '₹210', '₹1,369', '₹309', '₹599', '₹474', '₹1,799', '₹235', '₹379', '₹189', '₹598', '₹1,489', '₹237', '₹205', '₹426', '₹399', '₹664', '₹5,029', '₹205', '₹1,439', '₹499', '₹1,339', '₹399', '₹899', '₹237', '₹516', '₹399', '₹399', '₹664', '₹589', '₹292', '₹260', '₹664', '₹286', '₹348', '₹1,709', '₹664', '₹599', '₹1,379', '₹948', '₹699', '₹679', '₹499', '₹284', '₹379', '₹434', '₹549', '₹639', '₹498', '₹398', '₹1,772', '₹667', '₹237', '₹8,712', '₹664', '₹449', '₹499', '₹314', '₹474', '₹474', '₹237', '₹474', '₹1,199', '₹459', '₹365', '₹719', '₹562', '₹198', '₹331', '₹1,880', '₹198', '₹664', '₹599', '₹629', '₹1,559', '₹545', '₹664', '₹1,890', '₹2,519', '₹1,560', '₹699', '₹1,289', '₹10,429', '₹1,730', '₹379', '₹10,431', '₹899', '₹1,939', '₹498', '₹1,859', '₹1,779', '₹410', '₹237', '₹759', '₹854', '₹1,961', '₹664', '₹699', '₹599', '₹1,075', '₹499', '₹599', '₹179', '₹211', '₹237', '₹1,880', '₹224', '₹948', '₹664', '₹233', '₹291', '₹348', '₹562', '₹499', '₹379', '₹399', '₹664', '₹308', '₹224', '₹693', '₹699', '₹625', '₹2,209', '₹648', '₹599', '₹1,469', '₹564', '₹281', '₹379', '₹499', '₹346', '₹854', '₹498', '₹588', '₹675', '₹3,839', '₹237', '₹679', '₹1,789', '₹499', '₹499', '₹1,409', '₹9,799', '₹2,132', '₹237', '₹959', '₹679', '₹16,909', '₹562', '₹699', '₹498', '₹1,069', '₹664', '₹917', '₹599', '₹1,609', '₹664', '₹1,309', '₹233', '₹489', '₹699', '₹649', '₹237', '₹412', '₹379', '₹917', '₹3,839', '₹399', '₹498', '₹1,277', '₹543', '₹599', '₹237', '₹1,159', '₹703', '₹1,939', '₹499', '₹392', '₹198', '₹759', '₹237', '₹255', '₹1,299', '₹1,961', '₹664', '₹3,299', '₹398', '₹1,529', '₹562', '₹683', '₹399', '₹579', '₹664', '₹664', '₹275', '₹211', '₹664', '₹699', '₹314', '₹314', '₹699', '₹2,303', '₹189', '₹6,649', '₹599', '₹399', '₹5,209', '₹8,629', '₹379', '₹1,589', '₹854', '₹345', '₹498', '₹1,033', '₹759', '₹2,249', '₹237', '₹840', '₹2,069', '₹331', '₹664', '₹281', '₹1,199', '₹380', '₹499', '₹265', '₹719', '₹489', '₹237', '₹499', '₹796', '₹498', '₹664', '₹331', '₹449', '₹331', '₹664', '₹474', '₹217', '₹949', '₹699', '₹352', '₹189', '₹679', '₹498', '₹224', '₹252', '₹299', '₹237', '₹162', '₹319', '₹349', '₹664', '₹474', '₹237', '₹987', '₹499', '₹212', '₹639', '₹292', '₹664', '₹299', '₹649', '₹699', '₹562', '₹379', '₹249', '₹237', '₹365', '₹426', '₹609', '₹399', '₹599'] ['66% off', '53% off', '24% off', '88% off', '35% off', '41% off', '85% off', '66% off', '27% off', '61% off', '86% off', '74% off', '78% off', '28% off', '41% off', '85% off', '80% off', '37% off', '34% off', '67% off', '88% off', '77% off', '31% off', '55% off', '22% off', '85% off', '30% off', '43% off', '79% off', '76% off', '79% off', '32% off', '83% off', '22% off', '72% off', '66% off', '84% off', '40% off', '24% off', '66% off', '87% off', '52% off', '78% off', '66% off', '77% off', '78% off', '83% off', '53% off', '70% off', '74% off', '86% off', '67% off', '77% off', '54% off', '41% off', '85% off', '78% off', '67% off', '85% off', '66% off', '76% off', '78% off', '68% off', '66% off', '24% off', '84% off', '85% off', '32% off', '80% off', '65% off', '32% off', '66% off', '27% off', '85% off', '78% off', '43% off', '79% off', '74% off', '82% off', '62% off', '33% off', '71% off', '82% off', '66% off', '84% off', '78% off', '84% off', '53% off', '25% off', '88% off', '30% off', '74% off', '85% off', '75% off', '92% off', '67% off', '84% off', '83% off', '73% off', '66% off', '30% off', '80% off', '50% off', '66% off', '66% off', '37% off', '10% off', '85% off', '81% off', '66% off', '16% off', '32% off', '21% off', '80% off', '88% off', '62% off', '84% off', '10% off', '72% off', '62% off', '74% off', '29% off', '64% off', '66% off', '62% off', '70% off', '80% off', '53% off', '67% off', '83% off', '62% off', '74% off', '66% off', '68% off', '84% off', '67% off', '81% off', '80% off', '73% off', '66% off', '86% off', '24% off', '73% off', '85% off', '13% off', '72% off', '78% off', '66% off', '75% off', '92% off', '81% off', '55% off', '66% off', '88% off', '85% off', '85% off', '65% off', '63% off', '68% off', '43% off', '75% off', '66% off', '79% off', '53% off', '85% off', '83% off', '28% off', '70% off', '52% off', '82% off', '87% off', '74% off', '81% off', '86% off', '78% off', '85% off', '10% off', '28% off', '76% off', '66% off', '76% off', '65% off', '72% off', '66% off', '75% off', '81% off', '10% off', '85% off', '73% off', '79% off', '73% off', '66% off', '67% off', '66% off', '73% off', '32% off', '74% off', '85% off', '26% off', '62% off', '14% off', '72% off', '85% off', '66% off', '74% off', '67% off', '58% off', '53% off', '66% off', '73% off', '76% off', '70% off', '72% off', '72% off', '75% off', '74% off', '84% off', '87% off', '79% off', '67% off', '11% off', '81% off', '2% off', '85% off', '66% off', '76% off', '68% off', '66% off', '86% off', '68% off', '55% off', '52% off', '24% off', '85% off', '71% off', '79% off', '66% off', '43% off', '68% off', '73% off', '67% off', '66% off', '5% off', '10% off', '13% off', '53% off', '66% off', '10% off', '3% off', '74% off', '10% off', '10% off', '55% off', '67% off', '11% off', '65% off', '74% off', '85% off', '62% off', '64% off', '14% off', '66% off', '53% off', '70% off', '73% off', '66% off', '70% off', '82% off', '73% off', '85% off', '18% off', '82% off', '77% off', '66% off', '82% off', '83% off', '72% off', '32% off', '11% off', '70% off', '22% off', '66% off', '81% off', '79% off', '76% off', '53% off', '69% off', '72% off', '66% off', '70% off', '24% off', '30% off', '69% off', '74% off', '30% off', '66% off', '73% off', '67% off', '29% off', '85% off', '75% off', '85% off', '75% off', '81% off', '80% off', '66% off', '47% off', '10% off', '65% off', '85% off', '65% off', '80% off', '53% off', '43% off', '67% off', '70% off', '10% off', '32% off', '82% off', '72% off', '68% off', '66% off', '73% off', '10% off', '80% off', '53% off', '29% off', '81% off', '74% off', '74% off', '75% off', '65% off', '14% off', '70% off', '75% off', '14% off', '78% off', '67% off', '46% off', '73% off', '77% off', '85% off', '70% off', '31% off', '12% off', '66% off', '67% off', '78% off', '68% off', '66% off', '80% off', '51% off', '24% off', '85% off', '14% off', '83% off', '60% off', '55% off', '66% off', '76% off', '78% off', '66% off', '65% off', '84% off', '84% off', '53% off', '14% off', '85% off', '10% off', '74% off', '66% off', '10% off', '10% off', '67% off', '20% off', '57% off', '77% off', '85% off', '20% off', '62% off', '10% off', '66% off', '74% off', '10% off', '79% off', '66% off', '85% off', '20% off', '77% off', '85% off', '77% off', '28% off', '79% off', '55% off', '66% off', '78% off', '70% off', '32% off', '87% off', '52% off', '78% off', '66% off', '77% off', '78% off', '83% off', '53% off', '70% off', '74% off', '86% off', '67% off', '77% off', '54% off', '41% off', '85% off', '78% off', '67% off', '85% off', '66% off', '76% off', '78% off', '68% off', '55% off', '24% off', '84% off', '85% off', '66% off', '80% off', '65% off', '32% off', '43% off', '27% off', '85% off', '78% off', '32% off', '79% off', '74% off', '82% off', '66% off', '66% off', '53% off', '24% off', '88% off', '35% off', '41% off', '85% off', '74% off', '27% off', '61% off', '86% off', '85% off', '78% off', '28% off', '41% off', '67% off', '80% off', '37% off', '34% off', '43% off', '88% off', '77% off', '31% off', '66% off', '22% off', '85% off', '30% off', '66% off', '79% off', '76% off', '79% off', '85% off', '83% off', '22% off', '72% off', '66% off', '84% off', '40% off', '24% off', '87% off', '87% off', '77% off', '83% off', '66% off', '78% off', '78% off', '52% off', '53% off', '70% off', '86% off', '54% off', '70% off', '77% off', '74% off', '76% off', '67% off', '67% off', '84% off', '78% off', '85% off', '68% off', '85% off', '24% off', '66% off', '78% off', '41% off', '85% off', '66% off', '80% off', '27% off', '65% off', '66% off', '74% off', '79% off', '85% off', '55% off', '78% off', '32% off', '80% off', '68% off', '79% off', '33% off', '81% off', '66% off', '84% off', '82% off', '25% off', '53% off', '30% off', '84% off', '78% off', '74% off', '88% off', '92% off', '84% off', '67% off', '83% off', '85% off', '80% off', '66% off', '30% off', '73% off', '50% off', '85% off', '66% off', '80% off', '10% off', '66% off', '81% off', '37% off', '66% off', '66% off', '21% off', '72% off', '88% off', '55% off', '84% off', '10% off', '16% off', '87% off', '74% off', '29% off', '64% off', '66% off', '62% off', '70% off', '80% off', '53% off', '67% off', '83% off', '62% off', '74% off', '66% off', '68% off', '84% off', '67% off', '81% off', '80% off', '73% off', '66% off', '86% off', '24% off', '73% off', '85% off', '13% off', '72% off', '78% off', '66% off', '75% off', '92% off', '81% off', '85% off', '66% off', '88% off', '85% off', '66% off', '65% off', '63% off', '68% off', '68% off', '82% off', '76% off', '79% off', '66% off', '85% off', '76% off', '82% off', '53% off', '83% off', '52% off', '81% off', '70% off', '76% off', '10% off', '75% off', '74% off', '81% off', '72% off', '65% off', '85% off', '84% off', '78% off', '73% off', '66% off', '10% off', '87% off', '28% off', '66% off', '67% off', '73% off', '79% off', '85% off', '66% off', '73% off', '74% off', '66% off', '26% off', '85% off', '86% off', '55% off', '85% off', '72% off', '14% off', '66% off', '58% off', '67% off', '77% off', '53% off', '73% off', '66% off', '76% off', '74% off', '74% off', '72% off', '75% off', '67% off', '72% off', '11% off', '79% off', '85% off', '2% off', '66% off', '87% off', '66% off', '84% off', '68% off', '76% off', '85% off', '68% off', '81% off', '68% off', '52% off', '43% off', '86% off', '87% off', '18% off', '79% off', '66% off', '70% off', '68% off', '73% off', '67% off', '66% off', '5% off', '10% off', '13% off', '53% off', '66% off', '10% off', '3% off', '74% off', '10% off', '10% off', '55% off', '67% off', '11% off', '65% off', '74% off', '85% off', '62% off', '64% off', '14% off', '66% off', '53% off', '70% off', '73% off', '66% off', '70% off', '82% off', '73% off', '85% off', '18% off', '82% off', '77% off', '66% off', '82% off', '83% off', '72% off', '43% off', '66% off', '81% off', '73% off', '66% off', '76% off', '82% off', '22% off', '53% off', '70% off', '11% off', '69% off', '70% off', '66% off', '29% off', '85% off', '74% off', '72% off', '75% off', '14% off', '67% off', '81% off', '75% off', '30% off', '85% off', '24% off', '69% off', '80% off', '66% off', '65% off', '10% off', '14% off', '85% off', '70% off', '47% off', '10% off', '43% off', '65% off', '67% off', '53% off', '66% off', '77% off', '33% off', '72% off', '66% off', '68% off', '82% off', '74% off', '53% off', '65% off', '81% off', '75% off', '74% off', '29% off', '30% off', '80% off', '67% off', '14% off', '78% off', '70% off', '85% off', '31% off', '12% off', '67% off', '66% off', '75% off', '77% off', '46% off', '85% off', '78% off', '68% off', '14% off', '66% off', '60% off', '83% off', '19% off', '43% off', '24% off', '73% off', '51% off', '66% off', '66% off', '76% off', '78% off', '66% off', '65% off', '84% off', '84% off', '53% off', '14% off', '85% off', '10% off', '70% off', '66% off', '10% off', '10% off', '74% off', '20% off', '57% off', '77% off', '67% off', '20% off', '62% off', '10% off', '85% off', '74% off', '10% off', '79% off', '66% off', '85% off', '20% off', '77% off', '66% off', '77% off', '28% off', '79% off', '85% off', '66% off', '78% off', '70% off', '66% off', '87% off', '77% off', '83% off', '66% off', '78% off', '78% off', '52% off', '53% off', '70% off', '86% off', '54% off', '67% off', '77% off', '74% off', '76% off', '85% off', '67% off', '84% off', '78% off', '66% off', '68% off', '85% off', '24% off', '66% off', '78% off', '41% off', '85% off', '66% off', '80% off', '27% off', '65% off', '43% off', '74% off', '79% off', '85% off', '68% off', '78% off', '32% off', '80% off', '70% off']\n"
     ]
    }
   ],
   "source": [
    "print(Brand,Product_description,Price,Discount)"
   ]
  },
  {
   "cell_type": "code",
   "execution_count": 89,
   "metadata": {},
   "outputs": [
    {
     "data": {
      "text/html": [
       "<div>\n",
       "<style scoped>\n",
       "    .dataframe tbody tr th:only-of-type {\n",
       "        vertical-align: middle;\n",
       "    }\n",
       "\n",
       "    .dataframe tbody tr th {\n",
       "        vertical-align: top;\n",
       "    }\n",
       "\n",
       "    .dataframe thead th {\n",
       "        text-align: right;\n",
       "    }\n",
       "</style>\n",
       "<table border=\"1\" class=\"dataframe\">\n",
       "  <thead>\n",
       "    <tr style=\"text-align: right;\">\n",
       "      <th></th>\n",
       "      <th>Brand</th>\n",
       "      <th>Product Description</th>\n",
       "      <th>Price</th>\n",
       "      <th>Discount</th>\n",
       "    </tr>\n",
       "  </thead>\n",
       "  <tbody>\n",
       "    <tr>\n",
       "      <th>0</th>\n",
       "      <td>ROYAL SON</td>\n",
       "      <td>Polarized, UV Protection Round Sunglasses (49)</td>\n",
       "      <td>₹664</td>\n",
       "      <td>66% off</td>\n",
       "    </tr>\n",
       "    <tr>\n",
       "      <th>1</th>\n",
       "      <td>ROYAL SON</td>\n",
       "      <td>UV Protection Over-sized Sunglasses (65)</td>\n",
       "      <td>₹699</td>\n",
       "      <td>53% off</td>\n",
       "    </tr>\n",
       "    <tr>\n",
       "      <th>2</th>\n",
       "      <td>Fastrack</td>\n",
       "      <td>UV Protection Wayfarer Sunglasses (Free Size)</td>\n",
       "      <td>₹682</td>\n",
       "      <td>24% off</td>\n",
       "    </tr>\n",
       "    <tr>\n",
       "      <th>3</th>\n",
       "      <td>kingsunglasses</td>\n",
       "      <td>Mirrored, UV Protection Wayfarer Sunglasses (F...</td>\n",
       "      <td>₹299</td>\n",
       "      <td>88% off</td>\n",
       "    </tr>\n",
       "    <tr>\n",
       "      <th>4</th>\n",
       "      <td>Fastrack</td>\n",
       "      <td>UV Protection Rectangular Sunglasses (Free Size)</td>\n",
       "      <td>₹513</td>\n",
       "      <td>35% off</td>\n",
       "    </tr>\n",
       "    <tr>\n",
       "      <th>...</th>\n",
       "      <td>...</td>\n",
       "      <td>...</td>\n",
       "      <td>...</td>\n",
       "      <td>...</td>\n",
       "    </tr>\n",
       "    <tr>\n",
       "      <th>95</th>\n",
       "      <td>AISLIN</td>\n",
       "      <td>UV Protection, Gradient Butterfly, Retro Squar...</td>\n",
       "      <td>₹498</td>\n",
       "      <td>67% off</td>\n",
       "    </tr>\n",
       "    <tr>\n",
       "      <th>96</th>\n",
       "      <td>Singco India</td>\n",
       "      <td>UV Protection Rectangular Sunglasses (55)</td>\n",
       "      <td>₹314</td>\n",
       "      <td>84% off</td>\n",
       "    </tr>\n",
       "    <tr>\n",
       "      <th>97</th>\n",
       "      <td>kingsunglasses</td>\n",
       "      <td>UV Protection Wayfarer Sunglasses (32)</td>\n",
       "      <td>₹210</td>\n",
       "      <td>83% off</td>\n",
       "    </tr>\n",
       "    <tr>\n",
       "      <th>98</th>\n",
       "      <td>ROZZETTA CRAFT</td>\n",
       "      <td>UV Protection, Night Vision, Gradient, Mirrore...</td>\n",
       "      <td>₹398</td>\n",
       "      <td>73% off</td>\n",
       "    </tr>\n",
       "    <tr>\n",
       "      <th>99</th>\n",
       "      <td>ROYAL SON</td>\n",
       "      <td>UV Protection Rectangular Sunglasses (Free Size)</td>\n",
       "      <td>₹664</td>\n",
       "      <td>66% off</td>\n",
       "    </tr>\n",
       "  </tbody>\n",
       "</table>\n",
       "<p>100 rows × 4 columns</p>\n",
       "</div>"
      ],
      "text/plain": [
       "             Brand                                Product Description Price  \\\n",
       "0        ROYAL SON     Polarized, UV Protection Round Sunglasses (49)  ₹664   \n",
       "1        ROYAL SON           UV Protection Over-sized Sunglasses (65)  ₹699   \n",
       "2         Fastrack      UV Protection Wayfarer Sunglasses (Free Size)  ₹682   \n",
       "3   kingsunglasses  Mirrored, UV Protection Wayfarer Sunglasses (F...  ₹299   \n",
       "4         Fastrack   UV Protection Rectangular Sunglasses (Free Size)  ₹513   \n",
       "..             ...                                                ...   ...   \n",
       "95          AISLIN  UV Protection, Gradient Butterfly, Retro Squar...  ₹498   \n",
       "96    Singco India          UV Protection Rectangular Sunglasses (55)  ₹314   \n",
       "97  kingsunglasses             UV Protection Wayfarer Sunglasses (32)  ₹210   \n",
       "98  ROZZETTA CRAFT  UV Protection, Night Vision, Gradient, Mirrore...  ₹398   \n",
       "99       ROYAL SON   UV Protection Rectangular Sunglasses (Free Size)  ₹664   \n",
       "\n",
       "   Discount  \n",
       "0   66% off  \n",
       "1   53% off  \n",
       "2   24% off  \n",
       "3   88% off  \n",
       "4   35% off  \n",
       "..      ...  \n",
       "95  67% off  \n",
       "96  84% off  \n",
       "97  83% off  \n",
       "98  73% off  \n",
       "99  66% off  \n",
       "\n",
       "[100 rows x 4 columns]"
      ]
     },
     "execution_count": 89,
     "metadata": {},
     "output_type": "execute_result"
    }
   ],
   "source": [
    "import pandas as pd\n",
    "sunglass=pd.DataFrame({})\n",
    "sunglass['Brand']=Brand[:100]\n",
    "sunglass['Product Description']=Product_description[:100]\n",
    "sunglass['Price']=Price[:100]\n",
    "sunglass['Discount']=Discount[:100]\n",
    "sunglass"
   ]
  },
  {
   "cell_type": "code",
   "execution_count": null,
   "metadata": {},
   "outputs": [],
   "source": []
  },
  {
   "cell_type": "markdown",
   "metadata": {},
   "source": [
    "Question 7 iphone review"
   ]
  },
  {
   "cell_type": "code",
   "execution_count": 6,
   "metadata": {},
   "outputs": [],
   "source": [
    "# 7 iphone 11,lets first connect with webdriver\n",
    "driver=webdriver.Chrome(r\"C:\\Users\\INPshy\\Downloads\\chromedriver_win32\\chromedriver.exe\")"
   ]
  },
  {
   "cell_type": "code",
   "execution_count": 7,
   "metadata": {},
   "outputs": [],
   "source": [
    "url='https://www.flipkart.com/apple-iphone-11-black-64-gb-includes-earpods-power-adapter/p/itm0f37c2240b217?pid=MOBFKCTSVZAXUHGR&lid=LSTMOBFKCTSVZAXUHGREPBFGI&marketplace'"
   ]
  },
  {
   "cell_type": "code",
   "execution_count": 8,
   "metadata": {},
   "outputs": [],
   "source": [
    "driver.get(url)"
   ]
  },
  {
   "cell_type": "code",
   "execution_count": 9,
   "metadata": {},
   "outputs": [],
   "source": [
    "all_review=driver.find_element_by_xpath('//div[@class=\"_3UAT2v _16PBlm\"]')\n",
    "all_review.click()"
   ]
  },
  {
   "cell_type": "code",
   "execution_count": 11,
   "metadata": {},
   "outputs": [
    {
     "data": {
      "text/plain": [
       "['https://www.flipkart.com/apple-iphone-11-black-64-gb-includes-earpods-power-adapter/product-reviews/itm0f37c2240b217?pid=MOBFKCTSVZAXUHGR&lid=LSTMOBFKCTSVZAXUHGREPBFGI&marketplace=FLIPKART&page=1',\n",
       " 'https://www.flipkart.com/apple-iphone-11-black-64-gb-includes-earpods-power-adapter/product-reviews/itm0f37c2240b217?pid=MOBFKCTSVZAXUHGR&lid=LSTMOBFKCTSVZAXUHGREPBFGI&marketplace=FLIPKART&page=2',\n",
       " 'https://www.flipkart.com/apple-iphone-11-black-64-gb-includes-earpods-power-adapter/product-reviews/itm0f37c2240b217?pid=MOBFKCTSVZAXUHGR&lid=LSTMOBFKCTSVZAXUHGREPBFGI&marketplace=FLIPKART&page=3',\n",
       " 'https://www.flipkart.com/apple-iphone-11-black-64-gb-includes-earpods-power-adapter/product-reviews/itm0f37c2240b217?pid=MOBFKCTSVZAXUHGR&lid=LSTMOBFKCTSVZAXUHGREPBFGI&marketplace=FLIPKART&page=4',\n",
       " 'https://www.flipkart.com/apple-iphone-11-black-64-gb-includes-earpods-power-adapter/product-reviews/itm0f37c2240b217?pid=MOBFKCTSVZAXUHGR&lid=LSTMOBFKCTSVZAXUHGREPBFGI&marketplace=FLIPKART&page=5',\n",
       " 'https://www.flipkart.com/apple-iphone-11-black-64-gb-includes-earpods-power-adapter/product-reviews/itm0f37c2240b217?pid=MOBFKCTSVZAXUHGR&lid=LSTMOBFKCTSVZAXUHGREPBFGI&marketplace=FLIPKART&page=6',\n",
       " 'https://www.flipkart.com/apple-iphone-11-black-64-gb-includes-earpods-power-adapter/product-reviews/itm0f37c2240b217?pid=MOBFKCTSVZAXUHGR&lid=LSTMOBFKCTSVZAXUHGREPBFGI&marketplace=FLIPKART&page=7',\n",
       " 'https://www.flipkart.com/apple-iphone-11-black-64-gb-includes-earpods-power-adapter/product-reviews/itm0f37c2240b217?pid=MOBFKCTSVZAXUHGR&lid=LSTMOBFKCTSVZAXUHGREPBFGI&marketplace=FLIPKART&page=8',\n",
       " 'https://www.flipkart.com/apple-iphone-11-black-64-gb-includes-earpods-power-adapter/product-reviews/itm0f37c2240b217?pid=MOBFKCTSVZAXUHGR&lid=LSTMOBFKCTSVZAXUHGREPBFGI&marketplace=FLIPKART&page=9',\n",
       " 'https://www.flipkart.com/apple-iphone-11-black-64-gb-includes-earpods-power-adapter/product-reviews/itm0f37c2240b217?pid=MOBFKCTSVZAXUHGR&lid=LSTMOBFKCTSVZAXUHGREPBFGI&marketplace=FLIPKART&page=10',\n",
       " 'https://www.flipkart.com/apple-iphone-11-black-64-gb-includes-earpods-power-adapter/product-reviews/itm0f37c2240b217?pid=MOBFKCTSVZAXUHGR&lid=LSTMOBFKCTSVZAXUHGREPBFGI&marketplace=FLIPKART&page=2']"
      ]
     },
     "execution_count": 11,
     "metadata": {},
     "output_type": "execute_result"
    }
   ],
   "source": [
    "Page1=[]\n",
    "url=driver.find_elements_by_xpath('//nav[@class=\"yFHi8N\"]//a')  #to fetch all tag try with parent tag\n",
    "\n",
    "for i in url:\n",
    "    \n",
    "    Page1.append(i.get_attribute('href'))\n",
    "    \n",
    "                                                #use href tag if you want to find weblink \n",
    "Page1"
   ]
  },
  {
   "cell_type": "code",
   "execution_count": 13,
   "metadata": {},
   "outputs": [
    {
     "name": "stdout",
     "output_type": "stream",
     "text": [
      "['5', '5', '5', '5', '5', '4', '5', '5', '5', '5', '5', '5', '5', '5', '5', '5', '5', '4', '5', '5', '5', '5', '5', '5', '4', '5', '5', '5', '5', '5', '5', '5', '4', '5', '5', '5', '5', '5', '5', '5', '5', '5', '5', '4', '5', '5', '5', '5', '5', '5', '5', '5', '5', '5', '5', '5', '5', '5', '5', '5', '5', '5', '5', '4', '5', '5', '4', '5', '4', '5', '5', '5', '5', '5', '5', '4', '5', '5', '5', '4', '5', '5', '5', '5', '5', '3', '3', '5', '4', '5', '5', '5', '5', '5', '5', '4', '4', '4', '5', '5', '5', '5', '5', '5', '5', '4', '5', '5'] ['Brilliant', 'Perfect product!', 'Worth every penny', 'Great product', 'Fabulous!', 'Good choice', 'Simply awesome', 'Worth every penny', 'Highly recommended', 'Perfect product!', 'Perfect product!', 'Worth every penny', 'Perfect product!', 'Highly recommended', 'Worth every penny', 'Simply awesome', 'Terrific', 'Nice product', 'Highly recommended', 'Classy product', 'Wonderful', 'Brilliant', 'Must buy!', 'Perfect product!', 'Good choice', 'Wonderful', 'Terrific purchase', 'Simply awesome', 'Great product', 'Mind-blowing purchase', 'Terrific purchase', 'Simply awesome', 'Good quality product', 'Very poor', 'Best in the market!', 'Perfect product!', 'Must buy!', 'Fabulous!', 'Mind-blowing purchase', 'Mind-blowing purchase', 'Wonderful', 'Worth every penny', 'Great product', 'Just wow!', 'Very Good', 'Super!', 'Perfect product!', 'Classy product', 'Perfect product!', 'Just wow!', 'Awesome', 'Terrific', 'Terrific purchase', 'Awesome', 'Perfect product!', 'Brilliant', 'Perfect product!', 'Classy product', 'Awesome', 'Perfect product!', 'Excellent', 'Not recommended at all', 'Fabulous!', 'Excellent', 'Must buy!', 'Value-for-money', 'Brilliant', 'Terrific purchase', 'Good quality product', 'Perfect product!', 'Value-for-money', 'Just wow!', 'Super!', 'Best in the market!', 'Mind-blowing purchase', 'Excellent', 'Excellent', 'Pretty good', 'Must buy!', 'Worth every penny', 'Mind-blowing purchase', 'Good quality product', 'Fabulous!', 'Awesome', 'Awesome', 'Terrific purchase', 'Awesome', 'Decent product', 'Does the job', 'Wonderful', 'Pretty good', 'Classy product', 'Super!', 'Fabulous!', 'Excellent', 'Best in the market!', 'Brilliant', 'Wonderful', 'Nice product', 'Good quality product', 'Perfect product!', 'Worth every penny', 'Perfect product!', 'Highly recommended', 'Worth every penny', 'Simply awesome', 'Terrific', 'Nice product', 'Highly recommended', 'Classy product'] ['The Best Phone for the Money\\n\\nThe iPhone 11 offers superb cameras, a more durable design and excellent battery life for an affordable price.\\n\\nCompelling ultra-wide camera\\nNew Night mode is excellent\\nLong battery life', 'Amazing phone with great cameras and better battery which gives you the best performance. I just love the camera .', 'Previously I was using one plus 3t it was a great phone\\nAnd then I decided to upgrade I am stuck between Samsung s10 plus or iPhone 11\\nI have seen the specs and everything were good except the display it’s somewhere between 720-1080 and it’s not even an amoled it’s an LCD display\\nBut I decided to go with iPhone because I have never used an IOS device I have Been an android user from the past 9 years I ordered IPhone 11 (128gb) product red\\nMy experience after using 3 weeks\\n1. The delivery ...\\nREAD MORE', 'Amazing Powerful and Durable Gadget.\\n\\nI’m am very happy with the camera picture quality, Amazing face id unlocked in dark room, Strong battery with perfect screen size as you can carry easily in pocket. This is my third iPhone.\\n\\nI shifted from android Samsung Note series to iPhone because of the strong build quality and peace of mind for next 3-4 years.\\n\\nDon’t think to much just go for it and I suggest you to go for minimum 128gb variant or more 256gb.\\n\\nI’ve attached my puppy pics and no fi...\\nREAD MORE', 'This is my first iOS phone. I am very happy with this product. Very much satisfied with this. I love this phone.', 'So far it’s been an AMAZING experience coming back to iOS after nearly a decade but it’s not as versatile as android though phone is sturdy dropped it accidentally a couple of times and nothing happened fortunately camera is awesome', 'Really satisfied with the Product I received... It’s totally genuine and the packaging was also really good so if ur planning to buy just go for it.', 'i11 is worthy to buy, too much happy with the product. Thank u flipkart I received the item on time..loved it..', 'iphone 11 is a very good phone to buy only if you can compromise for the display. The display on this is device is pretty good but you can get other options with better displays in this price segment.\\nIf you can survive with an HD+ LCD panel with thicker bezels and a notch up top then this is a very good phone for you.\\nCameras are awesome, battery backup excellent, great performance and a decent premium look. Good job Apple !', 'It’s a must buy who is looking for an upgrade from previous generation of iPhones. If you are using XR then still you can hold on for sometime and upgrade to 2020 model else this phone is a must buy . Camera quality is amazing and wide angle is something to count upon. Performance wise it’s amazing and feels premium while holding in hand. So a big YES for this device. Go for 128 GB variant as the 4K videos will occupy lots of space and the storage can get over very quickly. Try to buy it with...\\nREAD MORE', 'Value for money❤️❤️\\nIts awesome mobile phone in the world ...\\nDisplay was very good and bright ..\\nTrust me freinds you r never regret after Buying..\\nJust go for it....\\nI love this phone and i switch to iphone x to 11', 'Best budget Iphone till date ❤️ go for it guys without second thought. Let me explain you guys about Camera, Display, battery, and performance.\\n\\nCamera: at this price range there is no comparison of camera, you’ll love the picture quality as well as video quality. I am a Vlogger I wanted an iPhone with 4k video by front camera and I got this phone and I am more than happy 😃\\n\\nBattery: I use this phone roughly as I am active social media person and I have a youtube channel. so the battery ba...\\nREAD MORE', \"Iphone is just awesome.. battery backup is very very nice.. continuously for 10 hours we can use it.camera is just awesome.. display is just fab.i love it alot..i had to wait 15 days for it as i pre ordered it..overalll it's worth the price..these all images are clicked by my iPhone..and i love it.\", 'What a camera .....just awesome ..you can feel this iPhone just awesome . Good for gaming also ...try pubg in hd it’s just wow', 'It’s been almost a month since I have been using this phone. I upgraded from an iPhone 8. The main issue with my 8 was battery and this phone is just awesome when it comes to battery. It lasts a day and a half for me with my regular use , internet connected always with 4g\\nCan’t move forward without saying this. Battery of this phone is a life saver when I am traveling or at work when I don’t get the option to charge\\nCamera is superb. Front cam selfies and back cam photos are just awesome.\\n...\\nREAD MORE', 'Excellent camera, good performance, no lag. The lcd display is also good.. but difference come when we watch movie in prime and Netflix, the colours are not vibrant.. as we see in amoled display.. and the charger in box is of 5 watts.. takes more than 3 hours to charge from 0 to 100.. so guys be prepare to buy 18 watts charger . Finally I am an android user, it was my first Iapple phone, I promise u guys the iOS is so smooth.. overall the phone is damn good.... close eyes to buy it.. thanks t...\\nREAD MORE', 'Really worth of money. i just love it. It is the best phone ever.', 'Awesome Phone. Slightly high price but worth. Better than iPhone XR.\\nCamera is superb and wide angle camera is very clear.\\n12MP selfie camera is also very good.\\nA13 Chip gives a very good and smooth performance.', \"It's my first time to use iOS phone and I am loving my upgradation 😍😍 I love the color, I love the assebility of the phone....I need to learn more about its functionality, but as far as I have seen, it's quite easy and it has a lot of functions to work on, specially if you are a content writer or a blogger you get a lot of content creation platforms and they are really amazing.\\n\\nThis phone not only for good quality photography but a lot of other task too.😍💯\", 'Superb Product !!!\\nA big and worthy upgrade from mi 3S to iphone 11 .\\nTotally loved it !', 'This is my first ever I phone. Before this I was using my google nexus 5. But moving from android to iOS is a great experience. It’s worth at this price. I will highly recommend it if you want to move to iOS. The best part of this phone is it’s camera and it’s battery life. This two things have won my heart. I loved it. Happy to have it in my hand. Still exploring its features. And can’t forget to mention Flipkart service. Very prompt service and fast delivery.', 'I have migrated from OP 7pro... and trust me, iPhone 11 is totally worth it.. following are the reasons:-\\n1)there is ABSOLUTELY NO ISSUE WITH THE DISPLAY... its crisp, sharp and I found it to be much much better than OP7 pro. Netflix, Prime video all run crisply... you won’t miss a thing. True Tone works flawlessly...the display brightness is perfect. OP have not calibrated their screens properly.\\n2) iPhone 11 series have really good cameras... others have spoken in depth about them.\\n3) bat...\\nREAD MORE', 'It’s an amazing product from apple and the camera is simply superb. Phone is faster.Night shot is simply superb and detailing and colour differentiation from camera is an added advantage\\n\\nThis review I have written from iPhone 11 only and I am glad to say outside.\\n\\nCons wise if we see HD+ display only, no battery percentage indicator as in older iPhone 8.\\nNo assistive touch control button in it\\nNo oleophobic coating on back panel glass and finger prints are visible but since I bought mint gr...\\nREAD MORE', 'After 1 month use I found camera quality best compared to my previous Samsung note 10+.Display not good as note 10 also charging too slow.Apple should add fast charger like 11 plus and pro.Best phone for daily use', 'Looking so good 👍 😍 super 👌 stylish 😎 phone\\nClean box 📦 good 👍 delivery 👌 fast delivery\\nOriginal box Original iphone 📱 👌 😍😍😍', 'I just directly switch from iphone 6s to iphone 11 .The best premium smartphone I recommend to everyone. Excellent quality and colors the iphone have in 11 series.\\nCamera quality is just awesome and the major feel when we hold in our hands. The sound quality and volume is also higher then the previous models.\\nI will recommend to buy iphone 11 instead of pro models , there is nothing much difference as this model contains everything which fulfill our needs.\\n\\nOnly one thing that I dislike abo...\\nREAD MORE', 'Upgraded from iphone 6 to 11 best phone for iphone users battery is much better than other iphones camera is awesome love to use it.camera is so clear in night.', \"It's very high performances devise i am like the service of flipkart delevary very fast and packing very nice perfect phone\", 'Well you all know the specifications . One of a kind. Best iPhone till date. Many enhancements to the camera app with many options. Love the glass body with matte finish in the lens area on the back. Lovely colours to choose from. Best battery in an iPhone till date, enough to last more than a day in normal usage. I tested my iPhone 11 battery and lasted for than 24 hours after full charge still with 30% battery charge left. Watched movies for some time. Normal usage on calls, browsing, musi...\\nREAD MORE', 'This will help you more. See if you are planning to buy iPhone 11. I will say. Yes. But there are some plans I just want to disclose before you buy. 1) If you are an existing iPhone X/XS/XS Max/ XR user, better you guys do not think it to buy. You guys have more or less better gadget. 2) If you are an android user and planning to buy premium phone. I will suggest them to please buy iPhone instead of buying an Android. I bet you will never go back to android after using IOS. Now I want to shar...\\nREAD MORE', 'The built quality is not very premium.\\nThe battery back is great .\\nThe LCD panel is not so sharp but the brightness level is very High .\\nCamera is super duper awesome.\\nThe red colour which people think is bright is actually very soothing and excellent colour to choose from .\\nThe A13 Bionic chip is really a flagship processor and can beat any phone which even has 12 gb ram .\\nCamera module is very great and looks very stylish.', 'Really good actually this is my first apple product am using its really awesome performance wise excellent. Am really happy with this iphone11', 'it is very good at performance. Camera is best like before and very smooth response even in water. Don’t buy 12 mini buy iPhone 11 , it is far better than 12 mini believe me ! Have a nice day \\uf8ff ☺️', 'Reviewing again after 5 months. At the beginning the battery and performance was good but it degraded soon. Also I was facing heating issues. The mobile will heat up like a stove sometimes. You cannot even play Pubg even in low settings properly, performance is not a problem but heating is. Also if you play that game for 10 mins the brightness will be automatically down due to over heating even when the auto brightness is set to off. This will not be solved even if u manually increase the bri...\\nREAD MORE', 'Great iPhone very snappy experience as apple kind. Upgraded from iPhone 7.\\nPros\\n-Camera top class\\n- Battery top performed\\n-Chipset no need to say as apple kind\\n-Security as you expect from apple\\n- Display super bright industry leading colour\\naccuracy and super responsive\\n-Build quality as expect from apple sturdy\\npremium durable beautiful stylish.\\n-Os most stable os in smartphone industry\\n\\nCons\\n-No 5G\\n-Display is not based on OLED technology\\n-Charger headphones and 1 apple stic...\\nREAD MORE', 'It is just awesome mobile for this price from Apple,\\n\\nAfter 10 days review\\n\\nBattery enough for 1 day even 24*7 Internet will be on and mostly internet usage\\n\\nCamera is just awesome cool , android 64 MP is equal to this just 12 MP\\n\\nA13 Bionic chip will give more high performance without hanging\\n\\nAudio stereo speakers will give Dolby atoms sound with crystal clear\\n\\nVideo recording is like cinematic shots of every sec can be a 4K 60fps. Just awesome this phone\\niPhone 11 loved one', 'Best Apple iPhone that i have bought at a very reasonable price, camera quality is next level just awesome n of superior quality android phones not even close(RIP) to that and also battery is really good but packaging by Flipkart of iPhone was very poor of such a expensive product, firstly im bit worried about the quality of product if i purchased it through online how was the product but i think now this was mine best decision to bought it through Flipkart online because i got genuine Apple...\\nREAD MORE', \"I can say I'm damn impressed with iPhone 11. As they says iPhone 11 have the toughest glass ever in the smartphone which you'll find on the front and back and it's totally smooth. The fit and finish is full apple quality - there's no sense that any cheaping out has happened in the construction. Without saying it's camera features this review won't complete. The iPhone 11 has a dual camera system, consisting of a wide angle len's that's pretty much same as found on the iPhone XR last year, but...\\nREAD MORE\", 'Best Quality Product OF iPhone Series , Sound Quality & Camera quality is very awesome, Battery Life is very Sufficient for 24 hr Backup With Full Internet Access , I love this this Product too much , It is very fast & making me Very fast in all my daily Routine\\nHighlights;\\n1.Camera: 5 STAR\\n2.Video Recording: 5 star\\n3.Night mODE sHOOTING & Camera:4 star\\n4. Audio Quality: Awesome\\n5. Battery : 5 Star\\n6. Touch:5 Star\\n7. Processor: Very Fast\\nThe M...\\nREAD MORE', 'First thanks to Flipkart for this amazing deal and phone is outstanding. I upgraded from iPhone 7 and this is like very big upgrade. But the packaging was very basic I expected a good packaging as they only wrapped one layer of bubble wrap which I don’t think is enough to protect this expensive phone. And I recommend this phone and seller as well.\\n\\nAnd I’m posting this review after using it for 4 days.', 'Superfast delivery by Flipkart. Thanks.\\n\\n1. iPhone 11 is a pretty solid phone for the money you are paying.\\n2. All the bad reviews about the display is confusing. It’s not that bad.\\n3. I switched from a Oneplus 7t. I have no complaints about the display quality of iPhone. Yes, it’s not OLED, so, we are missing on the deep blacks. But that’s it. It is a very colour accurate display. Gets adequately bright and I could not find any pixelation.\\n4. Performance is one of the best, if not best, in ...\\nREAD MORE', 'Smooth like butter, camera like fantabulous, sound is crystal clear & its red color is damn attractive, i am just loving it. Must buy if you love photography.\\n\\nLucky to get it in sale, thank you Flipkart.', \"Again back to apple iphone after a gap of 2-3 years. It's pleasure to use iOS and the quality product by Apple. Iphone 11 still works like a beast in 2021 also. It really capable of doing day to day usage as well as hard core gaming. Battery is awesome. I'm really too much satisfied with it. Apart fto the very gorgious IPS LCD (AMOLED will be better) everything is mind boggling. Iphone💕.\", 'The ultimate performance\\nCamera is superb\\nThe battery backup also very good i never saw iphone gives this much of battery backup\\nIf any one wana buy iphone 11 definitely i will recommend this mobile\\nIt has the better battery and powerfull processer peak performance glorious camera and the display also 100% high quality lcd display if u had money for for 12 if u dont wana invest much money on that then go for iphone 11 it has maximum same specs only main difference between the 12 and 11 is...\\nREAD MORE', 'impressive super phone and best in class camera ,sound and face unlock is super fast just see and phone is unlock and fast in daily apps use', \"It's a great phone. From camera to display everything is best for the price.\\nBest camera , best performance. I think everyone should buy it . This phone has best battery life so far in iphone series which I had used earlier. Happy to have it. Thanks Flipkart\", 'Battery backup is extraordinary, camera is decent & performance offered by A13 bionic is awsome. The display is good in practical usage like the visibility of display is very good in direct sun light compare to pro models. Iam extremely satisfied for the money I spent.', 'Well while switching from android to iOS the first thing you need to be careful about is that you will loose all your whatsapp chat backups as both are different operating systems. Camera clarity is awesome and though being an lcd screen clarity and resolution is good. Battery backup is also good unlike previous gen iPhone. So far the experience is good will Padre after a few months of usage.\\n\\nP.S the black is more of a dark grey shade and not jet black', 'In love with this iphone great performance,camera ,battery everything. Go for it have a uncompareble battery backup, no doubts in iPhone camera here You can see the picture which is shot on my iPhone In love with this iphone great performance,camera ,battery everything. Go for it have a uncompareble battery backup, no doubts in iPhone camera here You can see the picture which is shot on my iPhone In love with this iphone great performance,camera ,battery everything. Go for it have a uncompare...\\nREAD MORE', 'Best in class. Battery backup is good especially when you play games like Pubg COD. But it is sort of heavy when you hold in hands. Portrait mode is best to click pictures. Stage light effect is awesome. Try to click photos outside in nature because photos inside home or room will not give you the quality in any phone even in DSLR.', 'Very excited to have this phone. This phone has the real power unlike the android phones having SD 855 . The battery life is very good and the camera quality is excellent as comapred to redmi and other phones except google pixel. I M enjoying every single bit of it. Would recommed only if you have the budget.', \"I upgraded (downgraded?) from my iPhone X since the phone fell down and I didn't want to repair the screen. The box that the phone came in was super slim and I was worried that there'd be no 5W charger with it and my fears were confirmed. However, thankfully I had the 18W USB-C PD charger from Apple which I bought for my iPhone X and it worked perfectly. The charging time is as lethargic as ever though and it takes about 1:30 mins or even 2 hours depending on charge remaining. I'll list some ...\\nREAD MORE\", 'Its Very awesome product working and good camera quality and all about best product and also flipkart is very great deal and offer nice price', 'I am using this phone for 5 days and its one of the best camera out there ❤️ the screen is not oled and i am coming from iphone xs so its little bit not up to the mark i would say\\nBut overall value for money💕😍the battery back up is far better than my iphone xs and its worth in my apple ecosystem💫❤️if u are an apple User and have the eco system then go for it❤️though i will be getting the new iphone but its pretty good💫', 'Best and amazing product.....phone looks so premium.... battary is also good as expected .... Wide angle camera is so addictive ...if you are a IOS lover....then this phone will be the best choice for you all!!💯🔥', 'Excellent camera and display touching very nice and smooth very improvement against iPhone XR and new processor is very fast', 'Awesome purchase. Amazing phone with good battery backup. It’s a top notch device. White colour looks amazing. Phone has a few extra feature than iPhone XR. Overall, this is value for money', 'Totally in love with this ❤ the camera quality is amazing just love it 😘😘😘 itsss dammnnnnnn amazing... Must buy iPhone 11 this is my best experience ever ☀👌👌🧡🧡🧡🧡🧡 thanku apple ❤', 'Always love the apple products, upgraded from old iPhone 6S plus to this after having my first baby. I just love to click baby’s photos with it. Overall I just love this phone. Battery back up is okay, sound quality is good. Haven’t tested yet waterproof yet. Only one thing I hate is apple could have given charger & headphones in box.', 'Value for money\\n5 star rating\\nExcellent camera\\nBattery backup full day in single charge.\\n\\nTougher and water resistant design, glossy back.\\nThe screen has excellent brightness and contrast.\\nApple A13 Bionic is the fastest smartphone chip on the planet.\\nExcellent battery life, fast charging support.\\nStereo speakers with great quality.', 'Amazing camera and feel super machine I am not describe my feeling but this is amazing Phone I am so lucky I have this', 'They are selling cheep quality items. There is a black line on the edge of the display. Waiting for the replacement..\\n\\nUpdate:today I got the replacement from flipkart.. The second one is nice and the display and camera quality is much better than the previous one.. Thanks for the support', 'awesome phone to have. it has got many smart features apart from mind blowing looks, camera, display, battery and sound. have fallen in love with this phone. must buy phone if you have got enough money. thanks to flipkart and apple of course..', 'Its a fabulous mobile look awesome performance unbeaten camera like dslr battery good i think this is a beast of mobile', 'Dear friends... I want to share my experience with you about this amazing I phone 11....this is my first iPhone and special things about this mobile is it has great camera, battery backup and awesome display.... I mean everything is perfect.loved it 👍👍👍', \"Just got this iphone 11\\nAnd it is most powerful mobile phone I have used ever\\n\\nSo,go for it if you want a phone with best specification like camera,battery backup,display, A13 bionic chip\\n\\nThat's my review about this phone but yours can be differ from me....\", 'Amazing phone and on great deal I received with super fast delivery by Flipkart...', 'finally an iPhone with very nice battery backup. update from iPhone 7 and happy to have it. camera is not up to the mark in low light but overall a recommended phone if your budget allows 😀', \"I'm switching this phone to oppo reno 10x zoom\\nIt's really impressive\\nRarely I'm missing smooth display touch response like oppo reno but\\nI really loved it.\\nCamera really impressive\", 'Worth the money’ starting first from its performance it beats out all phones , second the smoothness of camera is awesome, contrast ratio is much than expected. Price will not matter if u r a quality person, if not other phones are available with better discount', \"I'm Really happy with the product\\nDelivery was fast as well\\n..it was a gift for my sister and she loved it so much.\", 'Great iphone.\\nI am writing this review after 2 months of usage.\\nCamera is excellent, especially the nightmode\\nDisplay perfect\\nBattery backup awesome\\nSound quality very good\\nOverall Apple gives you a perfect iphone in this range.\\nReally in love with iPhone 11', 'Did an upgrade from 6s plus to iphone 11.\\nAo far the experience is well and good. Felt smoother than 6s plus. The camera quality is superb. Battery backup is descent. Not a heavy user, and gets power more than a day. Go for it if you need an alrounder iphone in a competitve price.', 'Damn this phone is a blast . Upgraded from android to ios and is a duperb experience. Battery backup is top notch and display also pretty good', 'awesome Phone Smooth Touch Too good Sexyy looks one word Awesome', \"Just go for it.\\nThis phone is really amazing. I ordered it for my wife and we click photos on this thing which are better than dslr. I own OnePlus 6t but it's camera sucks. iPhone is really amazing when it comes to camera. It's worth spending 50k on this. Cons- only display is lcd. While using u don't feel it but if u compare with other phone then u can see difference quite easily.\\nChanging from Android to iphone is bit difficult coz most of things u don't know but I liked it. Some of the a...\\nREAD MORE\", \"It was amazing experience for me. Honestly i am using iPhone first time so I don't have that much past experience about that. But after using 7 days this mobile i want to give some honest feedback.\\n1- Display 9 out of 10\\n2- Camera 9.5 out of 10\\n3- Battery 7 out of 10\\n4- Performance 9.5 out of 10\\n5- Features & Functions 10 out of 10\\n6- Outer looks and colour 10 out of 10\\nRest i think i will understand after using this for few months.\\nI will highly recommend you guys if you have budget then you...\\nREAD MORE\", \"I've used this phone for over a month now and here are my takeaways.\\nI would like to first talk about the best things about this phone and then the cons of it.\\n\\nPros:\\nThis phone is a performance beast. It handles large games and applications effortlessly and you won't find any stutters or lags while playing graphic intensive games like pubg, cod , mortal kombat and asphalt.\\n\\nThis phone has only 4gb ram and yet the ram management is amazing, it can keep 3 heavy games in memory without reload...\\nREAD MORE\", 'I rate this product 5* as it has got amazing user experience with the best performing A13 bionic processor. The screen responds and graphics rendering is top notch. With casual gaming and internet browsing, the battery lasts for approx. 1 day. Camera is very good. You will fall in love with the portrait mode. You can call me a loyal Apple customer or whatever but I won’t stop praising the products and overall experience. That user experience matters and is worth every penny you pay.\\n\\nBelow ar...\\nREAD MORE', 'Undoubtedly Iphone 11 is the most successful model till now and its performance is extraordinary and the security features are very impressive, display is more vibrant sound quality Camera Quality 5*****, but Iphone should add accessories too and act like scrooge.', 'Absolutely powerful gadget. Loved it’s look! Soo glassy and classy. I would definitely recommend this model of Apple. Only disappointed with the 5W charger, one should purchase an 18W adapter for fast charging. Though battery backup is great. Bought it in September 2020, reviewing after so long so I’m gonna put the genuine review here.✅', 'I was torn between the oneplus 8 pro and the iphone 11. I had to shell out extra money for this, but I say if you can afford it, this truely is the best package.\\nMind blowing camera, battery and overall performance. Face Id works like magic even in complete darkness without firing up the screen brightness. The phones with in display fingerprint scanners do this at night time and it really burns your eyes.\\nI wanted the oneplus for its display but tbh the OLEDs on oneplus is really bad. Flick...\\nREAD MORE', 'I purchased the iPhone 11 a month back. I must say Apple has impressed me yet again . I have been an Apple user for past 5 years . The phone is power packed with amazing features . What impressed me the most was the battery backup the phone offers . Battery can easily run upto 1.5 days in single charge with moderate to\\nHeavy usage . If you’re looking for a value for money device , I don’t see any other phone in the price range which can match the iPhone 11 .\\nOne thing I didn’t like was that ...\\nREAD MORE', 'Can’t beat the software and hardware integration of apple.\\nPerforms like a beast. Great quality camera\\n6-7 hours screen on time which is good. Nothing much to complaint about the screen. Good connectivity speeds.\\nGreat buy and Flipkart’s delivery top notch as usual', 'I dreamt about this day from a long time.... Getting an iPhone with my own money.... Super happy and worth spending every penny', 'I use a Note10+ and have been using both iOS and Android devices.\\n\\nCamera has really good features and portraits are super good, better than Samsung flagship. Overall camera setup can still be enhanced and hopeful for better upgrades on software in next release\\n\\nOperating system is quite a breeze and user experience of daily usage is very high as compared to Android. I moved to iOS very swiftly in 2 days for all my office work from Note10+\\n\\nBattery holds up quite well with 4 hrs of call and ...\\nREAD MORE', 'The phone is completely good\\nAs far as camera Apple is king of it\\nAnd its a beast in performance\\nAnd the battery is pretty good too', 'Everything u ll like it when u use this iPhone. Simple changes only not many to lower models but it’s nice to use. Little heavy compared to previous models like 7,8', \"phone is good but in display is 720p lcd in this price range we can get full hd OLED displays with higher refresh rate processor is very good camera is nice but looks kind of oldish in front of todays phone also there's no charging in box had to buy it seperately\", 'Nice value for money good and best price I phone mind blowing camera processor very fast other android mobile I am happy India top selling phone 2020', 'I was using Iphone 6s and also Oneplus 6t. Both mobiles were perfectly alright in Photos, gaming, and smooth interface . My 6s mobile getting battery issue. thought upgrade to 11. Really like this mobile of its Internal storage (compare to 6s) , camera and its touch feeling. Its a worth buying mobile for me.', 'We are on apple ecosystem for almost eight years now with couple of iPads and iPhones, including Xr.\\n\\nBought iPhone 11 as a gift to my daughter who loves it. We chose for a purple coloured one. Believe me it is gorgeous and towards the lighter shade. Dazzling and brilliant!\\n\\nThe phone is great and does excellent RAM management like any other Apple device.\\n\\nThe screen, though a LCD and lesser ppi as compared to other flagship phones of competitor brands, is a delight to watch with perfect re...\\nREAD MORE', 'This is my first ever iPhone.\\nAnd I truly don’t regret switching to IOS from my Android.\\n\\nIt is easily an alternative to a DSLR camera.\\nIf you’re obsessed with photos and videos, just don’t think twice or don’t compare to other androids(Samsung S10 lite or OnePlus 8/8T), as it’s far better from them in every field.\\nComparing will only make you confused.\\n\\nI am getting an average Screen on Time of around 10 hours with 30 percent left. I haven’t let my device discharged below 30 % as it aff...\\nREAD MORE', 'Everything is perfect pictures come out so clearly and at first I wasn’t sure when I got it then when I started to use it and get the hang of it it was amazing!! I can’t wait to see what the next future phones will be like. The screen display on this bad boy are unbelievable they are so clear and never fail me. The performance is super cool there is a lot of cool features as well I like this phone because I feel that it is easy to use and one of my favorite things about this phone is the Face...\\nREAD MORE', 'Value for money product. This iphone 11 is really amazing. Again nice release by apple. Great camera, battery backup is excellent. I just love this phone', \"The best all rounder iphone. Flipkart is doing a great job. They're delivery services are blazing fast. I got delivery on the same day. Genuine Apple Product. Working great. Talking about review There's no need of review for iphones. They're simply the best.\", 'A wort full value for money decision it’s . Simply go for it in 2021 its still a good decision . Awesome camera , Super smothered performance, Heck of build quality. And Most important it protects your privacy.', \"I genuinely liked it. One of the best mobile phones I have used. It's sho smooth and it's security is very astonishing. Plus it has a very good camera quality. so overall it's a win win.\", \"If you are looking for a premium phone under 55k, this is the one for you.Got the iPhone 11 during the Republic day sale. Performance is top notch in this price range. Camera's do a perfect job in taking good quality photos and videos. Battery backup too is satisfactory. Writing this review after using for a week. Any further observations would be updated.\", 'Awesome camera, smooth and fast UI, display is great (though not LED) but the black area at the top could have been reduced. Battery remains a day even if used heavily. Charger in the box is ok, but 12 or 18W could have been nothing like anything. Overall an excellent product and comfortable to use. I have got it almost a month back and so far so good.', 'Value for money❤️❤️\\nIts awesome mobile phone in the world ...\\nDisplay was very good and bright ..\\nTrust me freinds you r never regret after Buying..\\nJust go for it....\\nI love this phone and i switch to iphone x to 11', 'Best budget Iphone till date ❤️ go for it guys without second thought. Let me explain you guys about Camera, Display, battery, and performance.\\n\\nCamera: at this price range there is no comparison of camera, you’ll love the picture quality as well as video quality. I am a Vlogger I wanted an iPhone with 4k video by front camera and I got this phone and I am more than happy 😃\\n\\nBattery: I use this phone roughly as I am active social media person and I have a youtube channel. so the battery ba...\\nREAD MORE', \"Iphone is just awesome.. battery backup is very very nice.. continuously for 10 hours we can use it.camera is just awesome.. display is just fab.i love it alot..i had to wait 15 days for it as i pre ordered it..overalll it's worth the price..these all images are clicked by my iPhone..and i love it.\", 'What a camera .....just awesome ..you can feel this iPhone just awesome . Good for gaming also ...try pubg in hd it’s just wow', 'It’s been almost a month since I have been using this phone. I upgraded from an iPhone 8. The main issue with my 8 was battery and this phone is just awesome when it comes to battery. It lasts a day and a half for me with my regular use , internet connected always with 4g\\nCan’t move forward without saying this. Battery of this phone is a life saver when I am traveling or at work when I don’t get the option to charge\\nCamera is superb. Front cam selfies and back cam photos are just awesome.\\n...\\nREAD MORE', 'Excellent camera, good performance, no lag. The lcd display is also good.. but difference come when we watch movie in prime and Netflix, the colours are not vibrant.. as we see in amoled display.. and the charger in box is of 5 watts.. takes more than 3 hours to charge from 0 to 100.. so guys be prepare to buy 18 watts charger . Finally I am an android user, it was my first Iapple phone, I promise u guys the iOS is so smooth.. overall the phone is damn good.... close eyes to buy it.. thanks t...\\nREAD MORE', 'Really worth of money. i just love it. It is the best phone ever.', 'Awesome Phone. Slightly high price but worth. Better than iPhone XR.\\nCamera is superb and wide angle camera is very clear.\\n12MP selfie camera is also very good.\\nA13 Chip gives a very good and smooth performance.', \"It's my first time to use iOS phone and I am loving my upgradation 😍😍 I love the color, I love the assebility of the phone....I need to learn more about its functionality, but as far as I have seen, it's quite easy and it has a lot of functions to work on, specially if you are a content writer or a blogger you get a lot of content creation platforms and they are really amazing.\\n\\nThis phone not only for good quality photography but a lot of other task too.😍💯\", 'Superb Product !!!\\nA big and worthy upgrade from mi 3S to iphone 11 .\\nTotally loved it !']\n"
     ]
    }
   ],
   "source": [
    "Rating1=[]\n",
    "Review1=[]\n",
    "Full_review1=[]\n",
    "for i in Page1:\n",
    "    driver.get(i)\n",
    "    time.sleep(2)\n",
    "    #fetch Rating\n",
    "    try:\n",
    "        for j in driver.find_elements_by_xpath('//div[@class=\"_3LWZlK _1BLPMq\"]'):\n",
    "            Rating1.append(j.text)\n",
    "    except NoSuchElementException:\n",
    "        Rating1.append('-')\n",
    "    #fetch Review\n",
    "    try:\n",
    "        for k in driver.find_elements_by_xpath('//p[@class=\"_2-N8zT\"]'):\n",
    "            \n",
    "            Review1.append(k.text)\n",
    "    except NoSuchElementException:\n",
    "        Review1.append('-')\n",
    "        \n",
    "    #fetch full review\n",
    "    try:\n",
    "        for l in driver.find_elements_by_xpath('//div[@class=\"t-ZTKy\"]'):\n",
    "            \n",
    "            Full_review1.append(l.text)\n",
    "    except NoSuchElementException:\n",
    "        Full_review1.append('-')\n",
    "print(Rating1,Review1,Full_review1)"
   ]
  },
  {
   "cell_type": "code",
   "execution_count": 14,
   "metadata": {},
   "outputs": [
    {
     "name": "stdout",
     "output_type": "stream",
     "text": [
      "108 110 110\n"
     ]
    }
   ],
   "source": [
    "print(len(Rating1),len(Review1),len(Full_review1))"
   ]
  },
  {
   "cell_type": "code",
   "execution_count": 15,
   "metadata": {},
   "outputs": [
    {
     "data": {
      "text/html": [
       "<div>\n",
       "<style scoped>\n",
       "    .dataframe tbody tr th:only-of-type {\n",
       "        vertical-align: middle;\n",
       "    }\n",
       "\n",
       "    .dataframe tbody tr th {\n",
       "        vertical-align: top;\n",
       "    }\n",
       "\n",
       "    .dataframe thead th {\n",
       "        text-align: right;\n",
       "    }\n",
       "</style>\n",
       "<table border=\"1\" class=\"dataframe\">\n",
       "  <thead>\n",
       "    <tr style=\"text-align: right;\">\n",
       "      <th></th>\n",
       "      <th>Rating</th>\n",
       "      <th>Review</th>\n",
       "      <th>Full Review</th>\n",
       "    </tr>\n",
       "  </thead>\n",
       "  <tbody>\n",
       "    <tr>\n",
       "      <th>0</th>\n",
       "      <td>5</td>\n",
       "      <td>Brilliant</td>\n",
       "      <td>The Best Phone for the Money\\n\\nThe iPhone 11 ...</td>\n",
       "    </tr>\n",
       "    <tr>\n",
       "      <th>1</th>\n",
       "      <td>5</td>\n",
       "      <td>Perfect product!</td>\n",
       "      <td>Amazing phone with great cameras and better ba...</td>\n",
       "    </tr>\n",
       "    <tr>\n",
       "      <th>2</th>\n",
       "      <td>5</td>\n",
       "      <td>Worth every penny</td>\n",
       "      <td>Previously I was using one plus 3t it was a gr...</td>\n",
       "    </tr>\n",
       "    <tr>\n",
       "      <th>3</th>\n",
       "      <td>5</td>\n",
       "      <td>Great product</td>\n",
       "      <td>Amazing Powerful and Durable Gadget.\\n\\nI’m am...</td>\n",
       "    </tr>\n",
       "    <tr>\n",
       "      <th>4</th>\n",
       "      <td>5</td>\n",
       "      <td>Fabulous!</td>\n",
       "      <td>This is my first iOS phone. I am very happy wi...</td>\n",
       "    </tr>\n",
       "    <tr>\n",
       "      <th>...</th>\n",
       "      <td>...</td>\n",
       "      <td>...</td>\n",
       "      <td>...</td>\n",
       "    </tr>\n",
       "    <tr>\n",
       "      <th>95</th>\n",
       "      <td>4</td>\n",
       "      <td>Best in the market!</td>\n",
       "      <td>The best all rounder iphone. Flipkart is doing...</td>\n",
       "    </tr>\n",
       "    <tr>\n",
       "      <th>96</th>\n",
       "      <td>4</td>\n",
       "      <td>Brilliant</td>\n",
       "      <td>A wort full value for money decision it’s . Si...</td>\n",
       "    </tr>\n",
       "    <tr>\n",
       "      <th>97</th>\n",
       "      <td>4</td>\n",
       "      <td>Wonderful</td>\n",
       "      <td>I genuinely liked it. One of the best mobile p...</td>\n",
       "    </tr>\n",
       "    <tr>\n",
       "      <th>98</th>\n",
       "      <td>5</td>\n",
       "      <td>Nice product</td>\n",
       "      <td>If you are looking for a premium phone under 5...</td>\n",
       "    </tr>\n",
       "    <tr>\n",
       "      <th>99</th>\n",
       "      <td>5</td>\n",
       "      <td>Good quality product</td>\n",
       "      <td>Awesome camera, smooth and fast UI, display is...</td>\n",
       "    </tr>\n",
       "  </tbody>\n",
       "</table>\n",
       "<p>100 rows × 3 columns</p>\n",
       "</div>"
      ],
      "text/plain": [
       "   Rating                Review  \\\n",
       "0       5             Brilliant   \n",
       "1       5      Perfect product!   \n",
       "2       5     Worth every penny   \n",
       "3       5         Great product   \n",
       "4       5             Fabulous!   \n",
       "..    ...                   ...   \n",
       "95      4   Best in the market!   \n",
       "96      4             Brilliant   \n",
       "97      4             Wonderful   \n",
       "98      5          Nice product   \n",
       "99      5  Good quality product   \n",
       "\n",
       "                                          Full Review  \n",
       "0   The Best Phone for the Money\\n\\nThe iPhone 11 ...  \n",
       "1   Amazing phone with great cameras and better ba...  \n",
       "2   Previously I was using one plus 3t it was a gr...  \n",
       "3   Amazing Powerful and Durable Gadget.\\n\\nI’m am...  \n",
       "4   This is my first iOS phone. I am very happy wi...  \n",
       "..                                                ...  \n",
       "95  The best all rounder iphone. Flipkart is doing...  \n",
       "96  A wort full value for money decision it’s . Si...  \n",
       "97  I genuinely liked it. One of the best mobile p...  \n",
       "98  If you are looking for a premium phone under 5...  \n",
       "99  Awesome camera, smooth and fast UI, display is...  \n",
       "\n",
       "[100 rows x 3 columns]"
      ]
     },
     "execution_count": 15,
     "metadata": {},
     "output_type": "execute_result"
    }
   ],
   "source": [
    "apple=pd.DataFrame({})\n",
    "apple['Rating']=Rating1[:100]\n",
    "apple['Review']=Review1[:100]\n",
    "apple['Full Review']=Full_review1[:100]\n",
    "apple"
   ]
  },
  {
   "cell_type": "code",
   "execution_count": null,
   "metadata": {},
   "outputs": [],
   "source": []
  },
  {
   "cell_type": "code",
   "execution_count": 22,
   "metadata": {},
   "outputs": [],
   "source": [
    "#Question no 8  scrap of 100 sneaker\n",
    "driver=webdriver.Chrome(r\"C:\\Users\\INPshy\\Downloads\\chromedriver_win32\\chromedriver.exe\")"
   ]
  },
  {
   "cell_type": "code",
   "execution_count": 23,
   "metadata": {},
   "outputs": [],
   "source": [
    "url='https://www.myntra.com/shoes'\n",
    "driver.get(url)"
   ]
  },
  {
   "cell_type": "code",
   "execution_count": 24,
   "metadata": {},
   "outputs": [],
   "source": [
    "price_filter=driver.find_element_by_xpath('//*[@id=\"mountRoot\"]/div/div[1]/main/div[3]/div[1]/section/div/div[5]/ul/li[2]/label')\n",
    "price_filter.click()"
   ]
  },
  {
   "cell_type": "code",
   "execution_count": 25,
   "metadata": {},
   "outputs": [],
   "source": [
    "black_filter=driver.find_element_by_xpath('//*[@id=\"mountRoot\"]/div/div[1]/main/div[3]/div[1]/section/div/div[6]/ul/li[1]/label')\n",
    "black_filter.click()"
   ]
  },
  {
   "cell_type": "code",
   "execution_count": 27,
   "metadata": {},
   "outputs": [
    {
     "data": {
      "text/plain": [
       "['https://www.myntra.com/shoes?f=Color%3ABlack_36454f&plaEnabled=false&rf=Price%3A6649.0_13099.0_6649.0%20TO%2013099.0&p=2',\n",
       " 'https://www.myntra.com/shoes?f=Color%3ABlack_36454f&plaEnabled=false&rf=Price%3A6649.0_13099.0_6649.0%20TO%2013099.0&p=3',\n",
       " 'https://www.myntra.com/shoes?f=Color%3ABlack_36454f&plaEnabled=false&rf=Price%3A6649.0_13099.0_6649.0%20TO%2013099.0&p=4',\n",
       " 'https://www.myntra.com/shoes?f=Color%3ABlack_36454f&plaEnabled=false&rf=Price%3A6649.0_13099.0_6649.0%20TO%2013099.0&p=5',\n",
       " 'https://www.myntra.com/shoes?f=Color%3ABlack_36454f&plaEnabled=false&rf=Price%3A6649.0_13099.0_6649.0%20TO%2013099.0&p=6',\n",
       " 'https://www.myntra.com/shoes?f=Color%3ABlack_36454f&plaEnabled=false&rf=Price%3A6649.0_13099.0_6649.0%20TO%2013099.0&p=7',\n",
       " 'https://www.myntra.com/shoes?f=Color%3ABlack_36454f&plaEnabled=false&rf=Price%3A6649.0_13099.0_6649.0%20TO%2013099.0&p=8',\n",
       " 'https://www.myntra.com/shoes?f=Color%3ABlack_36454f&plaEnabled=false&rf=Price%3A6649.0_13099.0_6649.0%20TO%2013099.0&p=9',\n",
       " 'https://www.myntra.com/shoes?f=Color%3ABlack_36454f&plaEnabled=false&rf=Price%3A6649.0_13099.0_6649.0%20TO%2013099.0&p=10']"
      ]
     },
     "execution_count": 27,
     "metadata": {},
     "output_type": "execute_result"
    }
   ],
   "source": [
    "Page=[]\n",
    "url=driver.find_elements_by_xpath('//li[@class=\"pagination-number\"]//a')\n",
    "\n",
    "for i in url:\n",
    "    \n",
    "    Page.append(i.get_attribute('href'))\n",
    "    \n",
    "Page                                          #use href tag to fetch all link"
   ]
  },
  {
   "cell_type": "code",
   "execution_count": 21,
   "metadata": {},
   "outputs": [],
   "source": [
    "Brand=[]\n",
    "Product_description=[]\n",
    "Price=[]\n",
    "Discount=[]\n",
    "for i in Page:\n",
    "    driver.get(i)\n",
    "    brand=driver.find_elements_by_xpath('//h3[@class=\"product-brand\"]')\n",
    "    for j in brand:\n",
    "        \n",
    "        Brand.append(j.text)\n",
    "            \n",
    "    product_description=driver.find_elements_by_xpath('//h4[@class=\"product-product\"]')\n",
    "    for j in product_description:\n",
    "        Product_description.append(j.text)\n",
    "                \n",
    "    price=driver.find_elements_by_xpath('//span[@class=\"product-discountedPrice\"]')\n",
    "                \n",
    "    for j in price:\n",
    "        Price.append(j.text)\n",
    "        \n",
    "    discount=driver.find_elements_by_xpath('//span[@class=\"product-discountPercentage\"]')\n",
    "    for j in discount:\n",
    "        Discount.append(j.text)"
   ]
  },
  {
   "cell_type": "code",
   "execution_count": 22,
   "metadata": {},
   "outputs": [
    {
     "data": {
      "text/html": [
       "<div>\n",
       "<style scoped>\n",
       "    .dataframe tbody tr th:only-of-type {\n",
       "        vertical-align: middle;\n",
       "    }\n",
       "\n",
       "    .dataframe tbody tr th {\n",
       "        vertical-align: top;\n",
       "    }\n",
       "\n",
       "    .dataframe thead th {\n",
       "        text-align: right;\n",
       "    }\n",
       "</style>\n",
       "<table border=\"1\" class=\"dataframe\">\n",
       "  <thead>\n",
       "    <tr style=\"text-align: right;\">\n",
       "      <th></th>\n",
       "      <th>Brand</th>\n",
       "      <th>Product description</th>\n",
       "      <th>Price</th>\n",
       "      <th>Discount</th>\n",
       "    </tr>\n",
       "  </thead>\n",
       "  <tbody>\n",
       "    <tr>\n",
       "      <th>0</th>\n",
       "      <td>UNDER ARMOUR</td>\n",
       "      <td>Women HOVR Apex 2 Training</td>\n",
       "      <td>Rs. 10499</td>\n",
       "      <td>(25% OFF)</td>\n",
       "    </tr>\n",
       "    <tr>\n",
       "      <th>1</th>\n",
       "      <td>Heel &amp; Buckle London</td>\n",
       "      <td>Women Solid Leather Gladiators</td>\n",
       "      <td>Rs. 6993</td>\n",
       "      <td>(30% OFF)</td>\n",
       "    </tr>\n",
       "    <tr>\n",
       "      <th>2</th>\n",
       "      <td>Puma</td>\n",
       "      <td>Women Deviate Nitro Running</td>\n",
       "      <td>Rs. 9749</td>\n",
       "      <td>(35% OFF)</td>\n",
       "    </tr>\n",
       "    <tr>\n",
       "      <th>3</th>\n",
       "      <td>Saint G</td>\n",
       "      <td>Women Solid Leather Pumps</td>\n",
       "      <td>Rs. 6622</td>\n",
       "      <td>(23% OFF)</td>\n",
       "    </tr>\n",
       "    <tr>\n",
       "      <th>4</th>\n",
       "      <td>ADIDAS</td>\n",
       "      <td>Women SUPERNOVA Running Shoes</td>\n",
       "      <td>Rs. 6999</td>\n",
       "      <td>(30% OFF)</td>\n",
       "    </tr>\n",
       "    <tr>\n",
       "      <th>...</th>\n",
       "      <td>...</td>\n",
       "      <td>...</td>\n",
       "      <td>...</td>\n",
       "      <td>...</td>\n",
       "    </tr>\n",
       "    <tr>\n",
       "      <th>95</th>\n",
       "      <td>J.FONTINI</td>\n",
       "      <td>Men Leather Formal Loafers</td>\n",
       "      <td>Rs. 8999</td>\n",
       "      <td>(25% OFF)</td>\n",
       "    </tr>\n",
       "    <tr>\n",
       "      <th>96</th>\n",
       "      <td>Clarks</td>\n",
       "      <td>Men Solid Leather Formal Derbys</td>\n",
       "      <td>Rs. 7400</td>\n",
       "      <td>(50% OFF)</td>\n",
       "    </tr>\n",
       "    <tr>\n",
       "      <th>97</th>\n",
       "      <td>Birkenstock</td>\n",
       "      <td>Women Arizona Oiled Leather Flats</td>\n",
       "      <td>Rs. 8399</td>\n",
       "      <td>(20% OFF)</td>\n",
       "    </tr>\n",
       "    <tr>\n",
       "      <th>98</th>\n",
       "      <td>Saint G</td>\n",
       "      <td>Men Leather Chelsea Boots</td>\n",
       "      <td>Rs. 6873</td>\n",
       "      <td>(13% OFF)</td>\n",
       "    </tr>\n",
       "    <tr>\n",
       "      <th>99</th>\n",
       "      <td>Hush Puppies</td>\n",
       "      <td>Men Leather Formal Derbys</td>\n",
       "      <td>Rs. 7903</td>\n",
       "      <td>(30% OFF)</td>\n",
       "    </tr>\n",
       "  </tbody>\n",
       "</table>\n",
       "<p>100 rows × 4 columns</p>\n",
       "</div>"
      ],
      "text/plain": [
       "                   Brand                Product description      Price  \\\n",
       "0           UNDER ARMOUR         Women HOVR Apex 2 Training  Rs. 10499   \n",
       "1   Heel & Buckle London     Women Solid Leather Gladiators   Rs. 6993   \n",
       "2                   Puma        Women Deviate Nitro Running   Rs. 9749   \n",
       "3                Saint G          Women Solid Leather Pumps   Rs. 6622   \n",
       "4                 ADIDAS      Women SUPERNOVA Running Shoes   Rs. 6999   \n",
       "..                   ...                                ...        ...   \n",
       "95             J.FONTINI         Men Leather Formal Loafers   Rs. 8999   \n",
       "96                Clarks    Men Solid Leather Formal Derbys   Rs. 7400   \n",
       "97           Birkenstock  Women Arizona Oiled Leather Flats   Rs. 8399   \n",
       "98               Saint G          Men Leather Chelsea Boots   Rs. 6873   \n",
       "99          Hush Puppies          Men Leather Formal Derbys   Rs. 7903   \n",
       "\n",
       "     Discount  \n",
       "0   (25% OFF)  \n",
       "1   (30% OFF)  \n",
       "2   (35% OFF)  \n",
       "3   (23% OFF)  \n",
       "4   (30% OFF)  \n",
       "..        ...  \n",
       "95  (25% OFF)  \n",
       "96  (50% OFF)  \n",
       "97  (20% OFF)  \n",
       "98  (13% OFF)  \n",
       "99  (30% OFF)  \n",
       "\n",
       "[100 rows x 4 columns]"
      ]
     },
     "execution_count": 22,
     "metadata": {},
     "output_type": "execute_result"
    }
   ],
   "source": [
    "shoes=pd.DataFrame({})\n",
    "shoes['Brand']=Brand[0:100]\n",
    "shoes['Product description']=Product_description[0:100]\n",
    "shoes['Price']=Price[0:100]\n",
    "shoes['Discount']=Discount[0:100]\n",
    "shoes"
   ]
  },
  {
   "cell_type": "code",
   "execution_count": 69,
   "metadata": {},
   "outputs": [],
   "source": [
    "#question no 9 myntra shoes\n",
    "url='https://www.myntra.com/shoes'\n",
    "driver.get(url)"
   ]
  },
  {
   "cell_type": "code",
   "execution_count": 73,
   "metadata": {},
   "outputs": [],
   "source": [
    "price_filter=driver.find_element_by_xpath('//*[@id=\"mountRoot\"]/div/div[1]/main/div[3]/div[1]/section/div/div[5]/ul/li[2]/label')\n",
    "price_filter.click()"
   ]
  },
  {
   "cell_type": "code",
   "execution_count": 72,
   "metadata": {},
   "outputs": [],
   "source": [
    "colour_black=driver.find_element_by_xpath('//*[@id=\"mountRoot\"]/div/div[1]/main/div[3]/div[1]/section/div/div[6]/ul/li[1]/label')\n",
    "colour_black.click()"
   ]
  },
  {
   "cell_type": "code",
   "execution_count": 74,
   "metadata": {},
   "outputs": [
    {
     "data": {
      "text/plain": [
       "['https://www.myntra.com/shoes?f=Color%3ABlack_36454f&plaEnabled=false&rf=Price%3A6649.0_13099.0_6649.0%20TO%2013099.0%2C6687.0_13125.0_6687.0%20TO%2013125.0',\n",
       " 'https://www.myntra.com/shoes?f=Color%3ABlack_36454f&plaEnabled=false&rf=Price%3A6649.0_13099.0_6649.0%20TO%2013099.0%2C6687.0_13125.0_6687.0%20TO%2013125.0&p=2',\n",
       " 'https://www.myntra.com/shoes?f=Color%3ABlack_36454f&plaEnabled=false&rf=Price%3A6649.0_13099.0_6649.0%20TO%2013099.0%2C6687.0_13125.0_6687.0%20TO%2013125.0&p=3',\n",
       " 'https://www.myntra.com/shoes?f=Color%3ABlack_36454f&plaEnabled=false&rf=Price%3A6649.0_13099.0_6649.0%20TO%2013099.0%2C6687.0_13125.0_6687.0%20TO%2013125.0&p=4',\n",
       " 'https://www.myntra.com/shoes?f=Color%3ABlack_36454f&plaEnabled=false&rf=Price%3A6649.0_13099.0_6649.0%20TO%2013099.0%2C6687.0_13125.0_6687.0%20TO%2013125.0&p=5',\n",
       " 'https://www.myntra.com/shoes?f=Color%3ABlack_36454f&plaEnabled=false&rf=Price%3A6649.0_13099.0_6649.0%20TO%2013099.0%2C6687.0_13125.0_6687.0%20TO%2013125.0&p=6',\n",
       " 'https://www.myntra.com/shoes?f=Color%3ABlack_36454f&plaEnabled=false&rf=Price%3A6649.0_13099.0_6649.0%20TO%2013099.0%2C6687.0_13125.0_6687.0%20TO%2013125.0&p=7',\n",
       " 'https://www.myntra.com/shoes?f=Color%3ABlack_36454f&plaEnabled=false&rf=Price%3A6649.0_13099.0_6649.0%20TO%2013099.0%2C6687.0_13125.0_6687.0%20TO%2013125.0&p=8',\n",
       " 'https://www.myntra.com/shoes?f=Color%3ABlack_36454f&plaEnabled=false&rf=Price%3A6649.0_13099.0_6649.0%20TO%2013099.0%2C6687.0_13125.0_6687.0%20TO%2013125.0&p=9',\n",
       " 'https://www.myntra.com/shoes?f=Color%3ABlack_36454f&plaEnabled=false&rf=Price%3A6649.0_13099.0_6649.0%20TO%2013099.0%2C6687.0_13125.0_6687.0%20TO%2013125.0&p=10',\n",
       " 'https://www.myntra.com/shoes?f=Color%3ABlack_36454f&plaEnabled=false&rf=Price%3A6649.0_13099.0_6649.0%20TO%2013099.0%2C6687.0_13125.0_6687.0%20TO%2013125.0&p=2']"
      ]
     },
     "execution_count": 74,
     "metadata": {},
     "output_type": "execute_result"
    }
   ],
   "source": [
    "page=[]\n",
    "url=driver.find_elements_by_xpath(\"//ul[@class='pagination-container']/li/a\")\n",
    "for i in url:\n",
    "    page.append(i.get_attribute('href'))\n",
    "page\n"
   ]
  },
  {
   "cell_type": "code",
   "execution_count": 51,
   "metadata": {},
   "outputs": [],
   "source": [
    "Brand=[]\n",
    "Product_description=[]\n",
    "Price=[]"
   ]
  },
  {
   "cell_type": "code",
   "execution_count": 76,
   "metadata": {},
   "outputs": [],
   "source": [
    "for i in page:\n",
    "    driver.get(i)\n",
    "        try:\n",
    "        for j in driver.find_elements_by_xpath('//h3[@class=\"product-brand\"]'):\n",
    "            \n",
    "            Brand.append(j.text)\n",
    "    except NoSuchElementException:\n",
    "        Brand.append('-')\n",
    "    #fetch product description\n",
    "    try:\n",
    "        for k in driver.find_elements_by_xpath('//h4[@class=\"product-product\"]'):\n",
    "            Product_description.append(k.text)\n",
    "    except NoSuchElementException:\n",
    "        Product_description.append('-')\n",
    "        \n",
    "    #fetch price\n",
    "    try:\n",
    "        for l in driver.find_elements_by_xpath('//div[@class=\"product-price\"]'):\n",
    "            Price.append(l.text)\n",
    "    except NoSuchElementException:\n",
    "        Price.append('-')time.sleep(2)\n",
    "    #fetch Brand\n",
    "\n",
    "        "
   ]
  },
  {
   "cell_type": "code",
   "execution_count": 82,
   "metadata": {},
   "outputs": [
    {
     "name": "stdout",
     "output_type": "stream",
     "text": [
      "['Nike', 'Skechers', 'Florsheim', 'Reebok', 'ASICS', 'Onitsuka Tiger', 'Onitsuka Tiger', 'ROSSO BRUNELLO', 'Onitsuka Tiger', 'ALDO', 'Puma', 'Nike', 'Nike', 'ALDO', 'Nike', 'ALDO', 'Nike', 'Nike', 'PUMA Hoops', 'Puma', 'UNDER ARMOUR', 'UNDER ARMOUR', 'Kalenji By Decathlon', 'UNDER ARMOUR', 'Hush Puppies', 'Nike', 'ASICS', 'FORCLAZ By Decathlon', 'Puma', 'UNDER ARMOUR', 'Hush Puppies', 'Puma', 'Hush Puppies', 'Quechua By Decathlon', 'Geox', 'Hush Puppies', 'ASICS', 'Lacoste', 'Puma', 'Ruosh', 'Geox', 'RARE RABBIT', 'Cole Haan', 'ALDO', 'FILA', 'J.FONTINI', 'Geox', 'J.FONTINI', 'Skechers', 'Hush Puppies', 'UNDER ARMOUR', 'Skechers', 'Nike', 'UNDER ARMOUR', 'KIPRUN By Decathlon', 'ALDO', 'Hush Puppies', 'Hush Puppies', 'Geox', 'DAVINCHI', 'Puma', 'Puma', 'Geox', 'Heel & Buckle London', 'Geox', 'Geox', 'Nike', 'Florsheim', 'Nike', 'Geox', 'Nike', 'ADIDAS', 'Cole Haan', 'Cole Haan', 'Geox', 'UNDER ARMOUR', 'Ruosh', 'VIONIC', 'Nike', 'J.FONTINI', 'J.FONTINI', 'Hush Puppies', 'Kenneth Cole', 'KLEAT', 'ADIDAS', 'Lacoste', 'Hush Puppies', 'KLEAT', 'Ruosh', 'Cole Haan', 'Geox', 'Geox', 'Cole Haan', 'Heel & Buckle London', 'Heel & Buckle London', 'Heel & Buckle London', 'Saint G', 'FILA', 'Geox', 'Geox', 'Cole Haan', 'Cole Haan', 'Cole Haan', 'Geox', 'Geox', 'ASICS', 'Nike', 'ALDO', 'Heel & Buckle London', 'Skechers', 'Onitsuka Tiger', 'Florsheim', 'Kenneth Cole', 'UNDER ARMOUR', 'Bugatti', 'Kenneth Cole', 'J.FONTINI', 'J.FONTINI', 'Heel & Buckle London', 'Nike', 'Saint G', 'DAVINCHI', 'DAVINCHI', 'DAVINCHI', 'Nike', 'ALDO', 'ALDO', 'Nike', 'Clarks', 'Cole Haan', 'Kenneth Cole', 'Kenneth Cole', 'Saint G', 'Geox', 'Kenneth Cole', 'Nike', 'Skechers', 'ALDO', 'ASICS', 'ALDO', 'Clarks', 'UNDER ARMOUR', 'Cole Haan', 'Birkenstock', 'ALDO', 'Birkenstock', 'ALDO', 'ALDO', 'UNDER ARMOUR', 'ADIDAS', 'Xtep', 'Geox', 'Geox', 'Nike', 'ADIDAS', 'Geox', 'Nike', 'Skechers', 'Nike', 'VIONIC', 'ADIDAS', 'Reebok', 'Reebok', 'Nike', 'Saint G', 'Heel & Buckle London', 'Clarks', 'Kenneth Cole', 'Kenneth Cole', 'Cole Haan', 'Kenneth Cole', 'ADIDAS Originals', 'Cole Haan', 'ADIDAS Originals', 'ADIDAS Originals', 'Delize', 'DAVINCHI', 'ALDO', 'DAVINCHI', 'DAVINCHI', 'Regal', 'ALDO', 'Nike', 'Onitsuka Tiger', 'ADIDAS Originals', 'ALDO', 'ADIDAS Originals', 'ROSSO BRUNELLO', 'Clarks', 'ADIDAS', 'Puma', 'ALDO', 'Onitsuka Tiger', 'ALDO', 'Birkenstock', 'ALDO', 'ADIDAS', 'Xtep', 'Puma', 'ALDO', 'Onitsuka Tiger', 'Geox', 'Heel & Buckle London', 'DAVINCHI', 'Puma', 'FILA', 'ALDO', 'ROSSO BRUNELLO', 'Clarks', 'Nike', 'ALDO', 'ASICS', 'Ruosh', 'Heel & Buckle London', 'ADIDAS Originals', 'ADIDAS', 'Heel & Buckle London', 'Bugatti', 'Nike', 'FILA', 'ADIDAS Originals', 'Reebok Classic', 'J.FONTINI', 'KIPRUN By Decathlon', 'ALDO', 'Birkenstock', 'Hush Puppies', 'Saint G', 'UNDER ARMOUR', 'ALDO', 'Saint G', 'Florsheim', 'Puma', 'Birkenstock', 'Onitsuka Tiger', 'Saint G', 'Regal', 'J.FONTINI', 'Birkenstock', 'ADIDAS', 'Geox', 'Regal', 'Regal', 'Birkenstock', 'Birkenstock', 'Birkenstock', 'ROSSO BRUNELLO', 'ASICS', 'Kenneth Cole', 'Nike', 'Nike', 'Nike', 'Reebok', 'UNDER ARMOUR', 'Nike', 'Reebok', 'Nike', 'UNDER ARMOUR', 'ADIDAS Originals', 'Onitsuka Tiger', 'FILA', 'Onitsuka Tiger', 'Lacoste', 'ALDO', 'FILA', 'Regal', 'ALDO', 'Saint G', 'ALDO', 'Geox', 'Puma', 'Birkenstock', 'Birkenstock', 'Kenneth Cole', 'Hush Puppies', 'J.FONTINI', 'Birkenstock', 'Birkenstock', 'Clarks', 'Clarks', 'Geox', 'Regal', 'Birkenstock', 'Birkenstock', 'Birkenstock', 'DAVINCHI', 'DAVINCHI', 'Kenneth Cole', 'Florsheim', 'Birkenstock', 'Puma', 'Bugatti', 'ADIDAS', 'ADIDAS', 'Nike', 'ADIDAS', 'Skechers', 'Skechers', 'ADIDAS Originals', 'Onitsuka Tiger', 'Nike', 'UNDER ARMOUR', 'ALDO', 'ALDO', 'FILA', 'Heel & Buckle London', 'ALDO', 'Birkenstock', 'Heel & Buckle London', 'UNDER ARMOUR', 'Nike', 'Onitsuka Tiger', 'ASICS', 'Tommy Hilfiger', 'Cole Haan', 'Saint G', 'Birkenstock', 'Birkenstock', 'JOHNSTON & MURPHY', 'Birkenstock', 'Birkenstock', 'Birkenstock', 'Heel & Buckle London', 'DAVINCHI', 'J.FONTINI', 'Birkenstock', 'Heel & Buckle London', 'J.FONTINI', 'DAVINCHI', 'J.FONTINI', 'ALDO', 'Dune London', 'Nike', 'Puma', 'UNDER ARMOUR', 'Nike', 'Birkenstock', 'ROSSO BRUNELLO', 'Heel & Buckle London', 'Puma', 'Onitsuka Tiger', 'Nike', 'Kenneth Cole', 'Heel & Buckle London', 'Geox', 'Red Tape', 'ADIDAS Originals', 'Saint G', 'Geox', 'ADIDAS', 'Puma', 'Heel & Buckle London', 'Puma', 'Hush Puppies', 'Heel & Buckle London', 'Birkenstock', 'J.FONTINI', 'Heel & Buckle London', 'Puma', 'DAVINCHI', 'DAVINCHI', 'ROSSO BRUNELLO', 'ALDO', 'DAVINCHI', 'DAVINCHI', 'Kenneth Cole', 'UNDER ARMOUR', 'ADIDAS', 'Geox', 'Birkenstock', 'Hush Puppies', 'UNDER ARMOUR', 'Cole Haan', 'ALDO', 'ALDO', 'Onitsuka Tiger', 'ASICS', 'UNDER ARMOUR', 'Geox', 'Heel & Buckle London', 'Puma', 'Puma', 'Reebok Classic', 'Nike', 'DIESEL', 'ALDO', 'Onitsuka Tiger', 'Onitsuka Tiger', 'ROSSO BRUNELLO', 'Onitsuka Tiger', 'ROSSO BRUNELLO', 'Clarks', 'Reebok', 'ALDO', 'Clarks', 'Saint G', 'Clarks', 'ROSSO BRUNELLO', 'ROSSO BRUNELLO', 'Kenneth Cole', 'Birkenstock', 'Birkenstock', 'Cole Haan', 'Clarks', 'Puma', '361 Degree', 'Puma', 'Nike', 'Nike', 'UNDER ARMOUR', 'Nike', 'Onitsuka Tiger', 'Nike', 'ADIDAS Originals', 'Nike', 'one8 x PUMA', 'Heel & Buckle London', 'ROSSO BRUNELLO', 'Cole Haan', 'ROSSO BRUNELLO', 'Nike', 'UNDER ARMOUR', 'Onitsuka Tiger', 'Lacoste', 'Onitsuka Tiger', 'Clarks', 'Heel & Buckle London', 'Reebok', 'Clarks', 'Timberland', 'Heel & Buckle London', 'Clarks', 'DAVINCHI', 'Dune London', 'Regal', 'DAVINCHI', 'Puma', 'Heel & Buckle London', 'PEAK', 'Steve Madden', 'ASICS Tiger', 'UNDER ARMOUR', 'ADIDAS', 'Nike', 'Nike', 'Nike', 'UNDER ARMOUR', 'ASICS', 'UNDER ARMOUR', 'ASICS', 'Onitsuka Tiger', 'ALDO', 'J.FONTINI', 'Tommy Hilfiger', 'Puma', 'ROSSO BRUNELLO', 'ROSSO BRUNELLO', 'ROSSO BRUNELLO', 'Florsheim', 'Heel & Buckle London', 'PUMA Motorsport', 'ALDO', 'ROSSO BRUNELLO', 'ADIDAS Originals', 'ROSSO BRUNELLO', 'Onitsuka Tiger', 'Onitsuka Tiger', 'PUMA Motorsport', 'Tommy Hilfiger', 'UNDER ARMOUR', 'Tommy Hilfiger', 'Clarks', 'ADIDAS Originals', 'Saint G', 'Clarks', 'Heel & Buckle London', 'Cole Haan', 'KIPRUN By Decathlon', 'ROSSO BRUNELLO', 'ROSSO BRUNELLO', 'ROSSO BRUNELLO', 'ROSSO BRUNELLO', 'J.FONTINI', 'ROSSO BRUNELLO', 'J.FONTINI', 'Cobblerz', 'Birkenstock', 'Puma', 'ADIDAS Originals', 'Onitsuka Tiger', 'Vans', 'ADIDAS Originals', 'ADIDAS Originals', 'Skechers', 'ALDO', 'ROSSO BRUNELLO', 'ROSSO BRUNELLO', 'ROSSO BRUNELLO', 'Heel & Buckle London', 'Superdry', 'ROSSO BRUNELLO', 'Onitsuka Tiger', 'Clarks', 'ADIDAS Originals', 'RARE RABBIT', 'Nike', 'J.FONTINI', 'Birkenstock', 'ROSSO BRUNELLO', 'ALDO', 'PUMA Motorsport', 'Puma', 'Geox', 'Heel & Buckle London', 'Geox', 'Nike', 'Florsheim', 'Nike', 'RARE RABBIT', 'Geox', 'Nike', 'ADIDAS', 'Cole Haan', 'Cole Haan', 'Geox', 'UNDER ARMOUR', 'Ruosh', 'VIONIC', 'Nike', 'J.FONTINI', 'J.FONTINI', 'Hush Puppies', 'Kenneth Cole', 'KLEAT', 'ADIDAS', 'Hush Puppies', 'Ruosh', 'Lacoste', 'KLEAT', 'Cole Haan', 'Geox', 'Geox', 'Cole Haan', 'Heel & Buckle London', 'Heel & Buckle London', 'Heel & Buckle London', 'Saint G', 'FILA', 'Geox', 'Geox', 'Cole Haan', 'Cole Haan', 'Cole Haan', 'Geox', 'Geox', 'ASICS', 'Nike', 'ALDO', 'Heel & Buckle London', 'Skechers', 'Onitsuka Tiger', 'Nike', 'Nike', 'ALDO', 'Nike', 'ALDO', 'Nike', 'Puma', 'UNDER ARMOUR', 'UNDER ARMOUR', 'UNDER ARMOUR', 'Hush Puppies', 'PUMA Hoops', 'Nike', 'Kalenji By Decathlon', 'RARE RABBIT', 'FORCLAZ By Decathlon', 'UNDER ARMOUR', 'ASICS', 'Hush Puppies', 'Puma', 'Puma', 'Hush Puppies', 'Quechua By Decathlon', 'Geox', 'Hush Puppies', 'ASICS', 'Lacoste', 'Puma', 'Ruosh', 'Geox', 'Cole Haan', 'FILA', 'J.FONTINI', 'Geox', 'Skechers', 'RARE RABBIT', 'Hush Puppies', 'UNDER ARMOUR', 'Nike', 'J.FONTINI', 'UNDER ARMOUR', 'KIPRUN By Decathlon', 'Skechers', 'ALDO', 'Hush Puppies', 'Hush Puppies', 'ALDO', 'DAVINCHI', 'Puma', 'Geox', 'Nike', 'Nike', 'ALDO', 'Nike', 'ALDO', 'Nike', 'RARE RABBIT', 'Puma', 'PUMA Hoops', 'UNDER ARMOUR', 'UNDER ARMOUR', 'UNDER ARMOUR', 'Hush Puppies', 'Kalenji By Decathlon', 'Nike', 'ASICS', 'FORCLAZ By Decathlon', 'UNDER ARMOUR', 'Hush Puppies', 'Puma', 'Puma', 'Hush Puppies', 'Quechua By Decathlon', 'Geox', 'Hush Puppies', 'ASICS', 'Lacoste', 'Puma', 'Ruosh', 'Geox', 'Cole Haan', 'RARE RABBIT', 'FILA', 'J.FONTINI', 'Geox', 'Skechers', 'Hush Puppies', 'J.FONTINI', 'UNDER ARMOUR', 'Nike', 'Skechers', 'ALDO', 'UNDER ARMOUR', 'KIPRUN By Decathlon', 'ALDO', 'Hush Puppies', 'Hush Puppies', 'DAVINCHI', 'Puma', 'Geox', 'Geox', 'Heel & Buckle London', 'Geox', 'Saint G', 'Nike', 'Florsheim', 'Nike', 'RARE RABBIT', 'Geox', 'Nike', 'ADIDAS', 'Cole Haan', 'Cole Haan', 'Geox', 'UNDER ARMOUR', 'Ruosh', 'VIONIC', 'Nike', 'J.FONTINI', 'J.FONTINI', 'Hush Puppies', 'Kenneth Cole', 'KLEAT', 'ADIDAS', 'Hush Puppies', 'Ruosh', 'Lacoste', 'KLEAT', 'Cole Haan', 'Geox', 'Geox', 'Cole Haan', 'Heel & Buckle London', 'Heel & Buckle London', 'Heel & Buckle London', 'Saint G', 'FILA', 'Geox', 'Geox', 'Cole Haan', 'Cole Haan', 'Cole Haan', 'Geox', 'Geox', 'ASICS', 'Nike', 'ALDO', 'Heel & Buckle London', 'Skechers', 'Onitsuka Tiger', 'Florsheim', 'Kenneth Cole', 'UNDER ARMOUR', 'Bugatti', 'Kenneth Cole', 'J.FONTINI', 'J.FONTINI', 'Heel & Buckle London', 'Nike', 'Saint G', 'DAVINCHI', 'DAVINCHI', 'DAVINCHI', 'Nike', 'ALDO', 'ALDO', 'Nike', 'Clarks', 'Cole Haan', 'Kenneth Cole', 'Kenneth Cole', 'Saint G', 'Geox', 'Kenneth Cole', 'Nike', 'Skechers', 'ALDO', 'ASICS', 'ALDO', 'Clarks', 'UNDER ARMOUR', 'Cole Haan', 'Birkenstock', 'ALDO', 'Birkenstock', 'ALDO', 'ALDO', 'ADIDAS', 'Xtep', 'Geox', 'Geox', 'Nike', 'ADIDAS', 'Geox', 'Nike', 'Skechers', 'Nike', 'VIONIC', 'ADIDAS', 'Reebok', 'Reebok', 'Nike', 'Heel & Buckle London', 'Clarks', 'Kenneth Cole', 'Kenneth Cole', 'Saint G', 'Cole Haan', 'Kenneth Cole', 'ADIDAS Originals', 'Cole Haan', 'ADIDAS Originals', 'ADIDAS Originals', 'Delize', 'DAVINCHI', 'ALDO', 'DAVINCHI', 'DAVINCHI', 'Regal', 'ALDO', 'Nike', 'Onitsuka Tiger', 'ADIDAS Originals', 'ALDO', 'ADIDAS Originals', 'ROSSO BRUNELLO', 'Clarks', 'ADIDAS', 'Puma', 'ALDO', 'Onitsuka Tiger', 'ALDO', 'Birkenstock', 'ALDO', 'ADIDAS', 'Xtep', 'Puma', 'ALDO', 'Onitsuka Tiger', 'Geox', 'Heel & Buckle London', 'DAVINCHI', 'Puma', 'FILA', 'ALDO', 'ROSSO BRUNELLO', 'Clarks', 'Nike', 'ALDO', 'ASICS', 'Ruosh', 'Heel & Buckle London', 'ADIDAS Originals', 'ADIDAS', 'Heel & Buckle London', 'Bugatti', 'Nike', 'FILA', 'ADIDAS Originals', 'Reebok Classic', 'J.FONTINI', 'KIPRUN By Decathlon', 'ALDO', 'Birkenstock', 'Hush Puppies', 'Saint G', 'UNDER ARMOUR', 'ALDO', 'Saint G', 'Florsheim', 'Puma', 'Birkenstock', 'Onitsuka Tiger', 'Saint G', 'Regal', 'J.FONTINI', 'Birkenstock', 'ADIDAS', 'Geox', 'Regal', 'Regal', 'Birkenstock', 'Birkenstock', 'Birkenstock', 'ROSSO BRUNELLO', 'ASICS', 'UNDER ARMOUR', 'Kenneth Cole', 'Nike', 'Nike', 'Nike', 'Reebok', 'UNDER ARMOUR', 'Skechers', 'Nike', 'Reebok', 'Nike', 'UNDER ARMOUR', 'ADIDAS Originals', 'Onitsuka Tiger', 'FILA', 'Onitsuka Tiger', 'Lacoste', 'FILA', 'Regal', 'ALDO', 'Saint G', 'ALDO', 'Geox', 'Puma', 'Birkenstock', 'Birkenstock', 'Kenneth Cole', 'Hush Puppies', 'J.FONTINI', 'Birkenstock', 'Birkenstock', 'Clarks', 'Clarks', 'Geox', 'Regal', 'Birkenstock', 'Birkenstock', 'Birkenstock', 'DAVINCHI', 'DAVINCHI', 'Kenneth Cole', 'Florsheim', 'Birkenstock', 'Puma', 'Bugatti', 'ADIDAS', 'ADIDAS', 'Nike', 'ADIDAS', 'Skechers', 'ADIDAS Originals', 'Onitsuka Tiger', 'Nike', 'UNDER ARMOUR', 'ALDO', 'ALDO', 'ALDO', 'Heel & Buckle London', 'ALDO', 'Birkenstock', 'Heel & Buckle London', 'UNDER ARMOUR', 'Nike', 'Onitsuka Tiger', 'ASICS', 'Tommy Hilfiger', 'Cole Haan', 'Saint G', 'Birkenstock', 'Birkenstock', 'JOHNSTON & MURPHY', 'Birkenstock', 'Birkenstock', 'Birkenstock', 'Heel & Buckle London', 'DAVINCHI', 'J.FONTINI', 'Birkenstock', 'Heel & Buckle London', 'J.FONTINI', 'DAVINCHI', 'ALDO', 'Dune London', 'Nike', 'Puma', 'UNDER ARMOUR', 'Nike', 'Birkenstock', 'ROSSO BRUNELLO', 'Heel & Buckle London', 'Puma', 'Onitsuka Tiger', 'Nike', 'Kenneth Cole', 'Heel & Buckle London', 'Geox', 'Red Tape', 'ADIDAS Originals', 'Saint G', 'Geox', 'ADIDAS', 'Puma', 'Heel & Buckle London', 'Puma', 'Hush Puppies', 'Heel & Buckle London', 'Birkenstock', 'J.FONTINI', 'Heel & Buckle London', 'Puma', 'DAVINCHI', 'DAVINCHI', 'ROSSO BRUNELLO', 'ALDO', 'DAVINCHI', 'DAVINCHI', 'Kenneth Cole', 'Nike', 'UNDER ARMOUR', 'ADIDAS', 'Geox', 'Birkenstock', 'Hush Puppies', 'UNDER ARMOUR', 'Cole Haan', 'ALDO', 'ALDO', 'Onitsuka Tiger', 'ASICS', 'UNDER ARMOUR', 'Geox', 'Heel & Buckle London', 'Puma', 'Puma', 'Reebok Classic', 'Nike', 'DIESEL', 'ALDO', 'Onitsuka Tiger', 'Onitsuka Tiger', 'ROSSO BRUNELLO', 'Onitsuka Tiger', 'ROSSO BRUNELLO', 'Clarks', 'Reebok', 'ALDO', 'Clarks', 'Saint G', 'Clarks', 'ROSSO BRUNELLO', 'ROSSO BRUNELLO', 'Kenneth Cole', 'Birkenstock', 'Birkenstock', 'Cole Haan', 'Clarks', 'Puma', '361 Degree', 'Puma', 'Nike', 'Nike', 'UNDER ARMOUR', 'Nike', 'Onitsuka Tiger', 'FILA', 'Nike', 'ADIDAS Originals', 'one8 x PUMA', 'Heel & Buckle London', 'ROSSO BRUNELLO', 'Cole Haan', 'ROSSO BRUNELLO', 'Nike', 'UNDER ARMOUR', 'Onitsuka Tiger', 'Lacoste', 'Onitsuka Tiger', 'Clarks', 'Heel & Buckle London', 'ROSSO BRUNELLO', 'Reebok', 'Clarks', 'Timberland', 'Heel & Buckle London', 'Clarks', 'DAVINCHI', 'Dune London', 'Regal', 'DAVINCHI', 'Puma', 'Heel & Buckle London', 'PEAK', 'Steve Madden', 'ASICS Tiger', 'Nike', 'UNDER ARMOUR', 'ADIDAS', 'Nike', 'Nike', 'Nike', 'UNDER ARMOUR', 'ASICS', 'UNDER ARMOUR', 'ASICS', 'Onitsuka Tiger', 'ALDO', 'J.FONTINI', 'Tommy Hilfiger', 'Puma', 'ROSSO BRUNELLO', 'ROSSO BRUNELLO', 'ROSSO BRUNELLO', 'Florsheim', 'Heel & Buckle London', 'PUMA Motorsport', 'ALDO', 'ROSSO BRUNELLO', 'ADIDAS Originals', 'ROSSO BRUNELLO', 'Onitsuka Tiger', 'Onitsuka Tiger', 'PUMA Motorsport', 'Tommy Hilfiger', 'UNDER ARMOUR', 'Tommy Hilfiger', 'Clarks', 'ADIDAS Originals', 'Saint G', 'Clarks', 'Heel & Buckle London', 'Cole Haan', 'KIPRUN By Decathlon', 'ROSSO BRUNELLO', 'ROSSO BRUNELLO', 'ROSSO BRUNELLO', 'ROSSO BRUNELLO', 'J.FONTINI', 'J.FONTINI', 'ROSSO BRUNELLO', 'J.FONTINI', 'Cobblerz', 'Birkenstock', 'Puma', 'ADIDAS Originals', 'Onitsuka Tiger', 'Vans', 'ADIDAS Originals', 'ADIDAS Originals', 'Skechers', 'ALDO', 'ROSSO BRUNELLO', 'ROSSO BRUNELLO', 'ROSSO BRUNELLO', 'Heel & Buckle London', 'Superdry', 'ROSSO BRUNELLO', 'Onitsuka Tiger', 'Clarks', 'ADIDAS Originals', 'RARE RABBIT', 'Nike', 'J.FONTINI', 'Birkenstock', 'ROSSO BRUNELLO', 'Geox', 'Heel & Buckle London', 'Geox', 'Geox', 'Saint G', 'Nike', 'Florsheim', 'Nike', 'Geox', 'Nike', 'ADIDAS', 'Cole Haan', 'Cole Haan', 'Geox', 'UNDER ARMOUR', 'Ruosh', 'VIONIC', 'Nike', 'J.FONTINI', 'J.FONTINI', 'Hush Puppies', 'Kenneth Cole', 'KLEAT', 'ADIDAS', 'Lacoste', 'Hush Puppies', 'Ruosh', 'KLEAT', 'Cole Haan', 'Geox', 'Geox', 'Cole Haan', 'Heel & Buckle London', 'Heel & Buckle London', 'Heel & Buckle London', 'Saint G', 'FILA', 'Geox', 'Geox', 'Cole Haan', 'Cole Haan', 'Cole Haan', 'Geox', 'Geox', 'ASICS', 'Nike', 'ALDO', 'Heel & Buckle London', 'Skechers', 'Onitsuka Tiger'] ['Men AIR ZOOM Running Shoes', 'AIR ZOOM PEGASUS Running Shoes', 'Men Sneakers', 'Men KD13 EP Basketball Shoes', 'Men Driving Shoes', 'Men AIR ZOOM PEGASUS 38 Run', 'Men Perforations Leather Brogues', 'Men Deviate Nitro Running Shoe', 'Unisex Clyde Basketball Shoes', 'HOVR Sonic 3 Running Shoes', 'HOVR Sonic 3 Running Shoes', 'Men HOVR Infinite Running', 'Men Leather Slip-On Sneakers', 'Men KD500 Running Shoe', 'Men JORDAN DELTA Sneakers', 'Men Running Shoes', 'TREKKING 100 Boots', 'Women HOVR Rise 2 Training', 'Men Leather Slip-On Shoes', 'Women Deviate Nitro Running', 'Women Velocity Nitro Running', 'Men Solid Leather Formal Slip-Ons', 'Men Trekking Shoes', 'Men Leather Driving Shoes', 'Men Formal Derbys', 'Women Running Shoes', 'Men Woven Design Sneakers', 'Men IGNITE Dual Running Shoes', 'Men Solid Leather Formal Oxfords', 'Men Leather Semiformal Driving', 'Leather Sneakers', 'Men Leather Loafers', 'Men Leather Sneakers', 'Men Solid Loafers', 'Men Leather Formal Slip-Ons', 'Women AIR ELEMENT 2 Sneakers', 'Men Leather Slip-On Sneakers', 'Men Textured Leather Loafers', 'Women TriBase Reign 2 Training', 'Women AIR MAX VIVA Sneakers', 'Men Flex Advantage 4.0Upstream', 'Women Sandals', 'GS SC 3Zero IV Basketball', 'Women Running Shoes', 'Women Solid Leather Pumps', 'Men Solid Leather Formal Derbys', 'Men Solid Leather Formal Slip-Ons', 'Men Textured Formal Leather Loafers', 'Men Football Shoes', 'Men Leather Formal Derbys', 'Men Leather Formal Slip Ons', 'Women Peep Toe Heels', 'Men Leather Formal Derbyacs', 'Women Leather Heeled Boots', 'Women ZOOM FLY 3 Running Shoes', 'Men Solid Leather Formal Loafers', 'Men AIR ZOOM PEGASUS 38 Run', 'Men Perforations Leather Brogues', 'Men Leather Driving Shoes', 'Men JORDAN ONE TAKE II Shoes', 'Men Ultraboost DNA CC_1 Shoes', 'Men Wingtip Oxford Sneakers', 'Men GENERATION ZEROGRAND STITCHLITE', 'Men Leather Slip-On Sneakers', 'Men HOVR Rise 2 Training Shoes', 'Men Leather Formal Brogues', 'Men Textured Sneakers', 'Men RENEW FUSION Running Shoes', 'Men Textured Leather Loafers', 'Men Textured Leather Loafers', 'Men Textured Oxfords', 'Men Solid Leather Sneakers', 'Men Woven Design Loafers', 'Men Running Shoes', 'Men Leather Formal Derbys', 'Men Formal Leather Brogues', 'Woven Design Casual Sneakers', 'Men Woven Design Sneakers', 'Women Open Toe Flats', 'Men Leather Formal Monks', 'Women Solid Leather Loafers', 'Women Solid Leather Ballerinas', 'Women Solid Leather Gladiators', 'Women Solid Leather Heels', 'Men Leather Formal Oxfords', 'Women Heeled Boots', 'Women Sneakers', 'Women Woven Design Slip-On Sneakers', 'Women Leather Ballerinas', 'Women Woven Design Sneakers', 'Women Leather Heels', 'Women Woven Design Slip-On Sneakers', 'Women Solid Leather Pumps', 'Women Leather Solid Pumps', 'Men Running Shoes', 'Men REACT MILER 2 Running', 'Women Woven Design Sneakers', 'Women Leather Pumps', 'Men MAX ROAD 4 Running Shoes', 'Unisex Slip-On Sneakers', 'Men Solid Leather Formal Derbys', 'Women Solid Flat Boots', 'HOVR Infinite 2 Running Shoes', 'Women Solid Block Heels', 'Men Leather Driving Shoes', 'Men Leather Formal Loafers', 'Men Solid Leather Formal Derbys', 'Men Solid Leather Formal Penny Loafers', 'Men AIR MAX INFINITY Sneakers', 'Women Embellished Sandals', 'Ustraa black', 'Men Formal Leather Slip-Ons', 'Men Textured Formal Leather Loafers', 'Men REACT MILER 2 Running', 'Women Open Toe Flats', 'Women Sneakers', 'Men PG 5 EP Basketball Shoes', 'Men Leather Sneakers', 'Women Leather Sneakers', 'Men Solid Leather Formal Brogues', 'Men Solid Leather Formal Derbys', 'Men Leather Chelsea Boots', 'Men Leather Loafers', 'Women Leather Stiletto Heels', 'Men Casual Shoes', \"Women D'LITES 3.0 AIR Sneakers\", 'Men Solid Leather Formal Derbys', 'Men EvoRide TOKYO Shoes', 'Women Sneakers', 'Men Solid Leather Formal Derbys', 'Women HOVR Infinite 2 Running', 'Women Leather Wedges', 'Women Arizona Oiled Leather Flats', 'Men Solid Leather Formal Oxfords', 'Women Derbys Casual Shoes', 'Men Sneakers', 'Men Sneakers', 'Men Leather COPA 21.3 FG Shoes', 'Men Running Shoes', 'Men Leather Formal Slip Ons', 'Men Leather Formal Derbys', 'Women AIR ZOOM Running', 'Ultraboost DNA Running Shoes', 'Men Leather Driving Shoes', 'Men Zoom Winflo 8 Running', 'Men GO RUN 7+ Running Shoes', 'Men ZOOM WINFLO8 Running Shoes', 'Men Woven Design Slip-On Sneakers', 'Men X9000L3 Heat.RDY Running', 'Men Nano X1 Training Shoes', 'Unisex Zig Kinetica II Running', 'Unisex Basketball Shoes', 'Women Leather Pumps', 'Women Leather Sneakers', 'Women Heels', 'Women Leather Pumps', 'Leather Block Sandals', 'Women Woven Design Sneakers', 'Women Animal Print Sneakers', 'Men ZX 2K BOOST Sneakers', 'Women Sandals', 'Men NMD_R1 Sneakers', 'Men Printed Sneakers', 'Block Heeled Boots', 'Solid Slip On Shoes', 'Men Solid Leather Loafers', 'Men Solid Leather Formal Derbys', 'Men Solid Formal Leather Slip-On Shoes', 'Men Solid Leather Formal Loafers', 'Women Solid Sneakers', 'Unisex TREY 5 Basketball Shoes', 'Unisex Textured Trekking Shoes', 'Leather Forum FSH Plus Sneaker', 'Men Solid Loafers', 'Women Striped NMD_R1 Sneakers', 'Men Solid Leather Formal Loafers', 'Men Leather Loafers', 'Men UltraBoost 20 Running', 'Men One 5.1 Football Shoes', 'Women Trekking Shoes', 'Unisex Delegation EX Sneakers', 'Women Sneakers', 'Unisex London Sneakers', 'Women Woven Design Sneakers', 'Women Ultraboost DNA Running', 'Men Running Shoes', 'FUTURE 2.1 NETFIT FG AG Shoes', 'Women Open Toe Flats', 'Unisex Fabre EX Sneakers', 'Men Suede Driving Shoes', 'Men Velvet Loafers', 'Men Leather Formal Loafers', 'Women Running Shoes', 'Men V.1. FPS Running Shoes', 'Women Solid Sneakers', 'Men Derbys Casual Shoes', 'Slip-On Sneakers', 'Men JORDAN DELTA Basketball', 'Women Glossy Pumps', 'Men Running Shoes', 'Men Solid Leather Formal Monks', 'Men Leather Formal Loafers', 'Men NMD_R1 SPEEDLINES Sneakers', 'Men Men Black', 'Men Solid Leather Formal Monk Shoes', 'Men Solid Leather Formal Derbys', 'KD TREY 5 Basketball Shoes', 'Men Leather Sneakers', 'Men NMD_R1 Spectoo Sneakers', 'Unisex Instapump Fury OG Run', 'Men Textured Leather Formal Loafers', 'Men Running Shoes', 'Women Solid Pumps', 'Unisex Montana Sneakers', 'Men Solid Formal Slip-Ons', 'Women Textured Leather Heels', 'Women HOVR Infinite Running', 'Women Black Sneakers', 'Leather Heeled Boots', 'Men Solid Leather Formal Brogues', 'Men PUMA ONE Football Shoes', 'Men Patent Leather Sneakers', 'Women Textured Sneakers', 'Women Leather Heeled Boots', 'Men Solid Leather Formal Monks', 'Men Leather Formal Loafers', 'Women Arizona Flats', 'Women Solar Drive 19 Running', 'Women Sneakers', 'Men Woven Design Leather Formal Derbys', 'Perforated Leather Loafers', 'Suede Leather Open Toe Flats', 'Leather High-Top Platform Peep Toes', 'Women Derbys Casual Shoes', 'Men Woven Design Leather Formal Slip-On Shoes', 'Women Running Shoes', 'Men Liquify Running Shoes', 'Men Solid Leather Formal Oxfords', 'Men ZOOM FREAK 2 Basketball', 'Women REACT Running Shoes', 'Men REACT MILER PRM Running', 'Women Nanoflex Training Shoes', 'Unisex HOVR Summit Hiking', 'Men GO WALK AIR Walking Shoes', 'Unisex KYRIE FLYTRAP IV Shoes', 'Men Nano X1 Training Shoes', 'Men JORDAN WHY NOT Basketball', 'Bluetooth HOVR Sonic 3 Running', 'Men ZX 2K BOOST Sneakers', 'Unisex Delegation Ex Sneakers', 'Men Leather Sneakers', 'Unisex Mexico 66 Sneakers', 'Men Colourblocked Sneakers', 'Heritage Stackhouse Sneakers', 'Men Leather Loafers', 'Women Sandals', 'Women Leather Heeled Boots', 'Women Sneakers', 'Men Leather Formal Brogues', 'casual shoes', 'Leather Wedge Heels', 'Unisex Patent Leather Flat Boots', 'Men Solid Leather Formal Brogues', 'Men Perforations Leather Derbys', 'Men Solid Leather Shoes', 'Men Pasadena Leather Derbys', 'Suede Wedge Sandals', 'Men Leather Flat Chukka Boots', 'Men Leather Mid-Top Derbys', 'Women Leather Slip-Ons', 'Men Solid Leather Formal Loafers', 'Women Lola Wedges', 'Leather Lana Heels', 'Leather Wedge Sandals', 'Men Textured Leather Formal Brogues', 'DAVINCHI', 'Women Woven Design Slip-On Sneakers', 'Men Solid Leather Formal Brogues', 'Madrid Oiled Open Toe Flats', 'Men ONE 2 Lth Football Shoes', 'Men Solid Leather Formal Derbys', 'Unisex ClimaCool Vento Running', 'Men Adizero Ubersonic 4 Tennis', 'Unisex LEBRON XVIII Basketball', 'Men Men Black', 'Men VIPER COMPETITOR Training', 'Men Nite Jogger Fluid Sneakers', 'Unisex Mexico 66 Sneakers', 'Women REACT PHANTOM Running', 'Men Liquify Running Shoes', 'Women Sandals', 'Men Solid Driving Shoes', 'Men Leather Driving Shoes', 'Men Leather Sneakers', 'Women Sneakers Casual Shoes', 'Women Suede Santa Ana Ballerinas', 'Men Leather Formal Brogues', 'Men HOVR Guardian Shoes', 'AIR MAX IMPACTBasketball Shoes', 'Unisex Mexico 66 SD', 'Women GlideRide Running Shoes', 'Men Solid Leather Sneakers', 'Women Leather Heeled Boots', 'Women Heeled Leather Boots', 'Leather Wedge Mules', 'Women Arran Natural Leather Sneakers', 'Men Genuine Leather Derbys', 'Women Yara Oiled Leather Flats', 'Unisex London Patent Leather Clogs', 'Leather Wedge Pumps', 'Men Leather Formal Loafers', 'Men Textured Formal Leather Oxfords', 'Men Solid Leather Formal Slip-Ons', 'Women Leather Madrid Flats', 'Men Leather Formal Derbys', 'Men Textured Leather Formal Slip-Ons', 'Men Leather Formal Brogues', 'Women Solid Slip-On Sneakers', 'Men Leather Formal Oxfords', 'Men REACT MILER Running Shoes', 'Calibrate Restored Sneakers', 'Men HOVR Guardian 2 Running', 'ZOOM FREAK 2 Basketball Shoes', 'Leather Buckled Wedges', 'Men Solid Leather Formal Loafers', 'Men Textured Leather Penny Loafers', 'FUTURE 6.1 NETFIT FG AG Shoes', 'Unisex Big Logo Trainer', 'Men LEBRON Basketball Shoes', 'Men Solid Leather Formal Loafers', 'Men Slip-on Shoes', 'Men Leather Formal Derbys', 'Men Solid Leather Formal Loafers', 'Men ZX Torsion Sneakers', 'Women Leather Heeled Boots', 'Women Leather Flat Boots', 'Women SL20 Running Shoes', 'Women Basket Exotic Sneakers', 'Men Patent Leather Oxfords', 'Men ONE 1 IL Football Shoes', 'Men Solid Leather Formal Slip-Ons', 'Men Leather Monk Shoes', 'Unisex Patent Leather Sneakers', 'Men Solid Leather Formal Slip-Ons', 'Solid Leather Formal Slip-Ons', 'Unisex Trinomic Plus Winter', 'Men Formal Leather Oxfords', 'Ustraa black', 'Men Solid Leather Formal Loafers', 'Men Semiformal Slip-Ons', 'Solid Leather Oxfords', 'Solid Leather Formal Shoes', 'Men Solid Leather Formal Derbys', 'Men JOYRIDE Running Shoes', 'Curry 7 TB Basketball Shoes', 'Men Ultra Boost 21 Running', 'Men Solid Leather Derbys', 'Unisex Patent Leather Sneakers', 'Men Leather Loafers', 'HOVR Velociti 2 Running Shoes', 'Men Formal Leather Derbys', 'Women Textured Slip-On Sneakers', 'Colourblocked Casual Sneakers', 'Unisex Mexico 66 Sneakers', 'Men GEL-KAYANO 5 360 Sneakers', 'Men HOVR Sonic 3 Running Shoes', 'Men Solid Flat Boots', 'Men Formal Leather Loafers', 'Unisex Sneakers', 'Women LQDCELL Running Shoes', 'Unisex Answer V Sneakers', 'Men AIR MAX INFINITY 2 Sneaker', 'Casual Shoes', 'Men Solid Leather Loafers', 'Unisex Ohbori Sneakers', 'Unisex Sneakers', 'Men Solid Leather Formal Slip-Ons', 'Unisex Lawnship 2.0 Sneakers', 'Men Loafers Casual Shoes', 'Women Heeled Boots', 'Men Float Ride Run 2.0', 'Women Solid Block Heels', 'Men Formal Leather Derbys', 'Women Leather Heeled Boots', 'Men Suede Finish Sneakers', 'Men Leather Derbys', 'Men Solid Patent Leather Formal Loafers', 'Men Solid Leather Formal Loafers', 'Leather Soley Wedges', 'Leather Ashley Heels', 'Women Leather Heels', 'Men Leather Formal Loafers', 'Women Sneakers', 'Men Running Shoes', 'Men 365 Evoknit Ignite Ct Football', 'Men React Infinity Running', 'Men AIR ZOOM Running Shoes', 'Men HOVR Strt Walking Shoes', 'Men AIR FLIGHT 89 Sneakers', 'Unisex CorsairLeather Sneakers', 'Men Leather Sneakers', 'Unisex LEBRON Basketball Shoes', 'Men Yung- 1 Sneakers', 'Men Fuse One8 Training Shoes', 'Men Penny Leather Loafers', 'Men Solid Leather Formal Slip-Ons', 'Men Traveller Leather Penny Loafers', 'Men Textured Formal Loafers', 'Men JOYRIDE RUN Running Shoes', 'Men HOVR STRT Sportstyle Shoes', 'Unisex TAI-CHI-REB Sneakers', 'Men Solid Sneakers', 'Unisex Mexico 66 SD Sneakers', 'Men Derbys', 'Men Solid Patent Leather Party Loafers', 'Men Solid Leather Formal Loafers', 'Men Running Shoes', 'Men Leather Formal Brogues', 'Women KENNISTON 6IN Sneakers', 'Men Leather Monk Shoes', 'Men Solid Leather Sneakers', 'Men Textured Leather Formal Loafers', 'Men TYSON FC Leather Sneakers', 'Men Textured Loafers', 'Men Textured Formal Leather Slip-On Shoes', 'Men Running Shoes', 'Men Tassel Leather Loafer', 'Men Running Shoes', 'Women Open Toe Flats', 'Unisex GEL-KAYANO Shoes', 'Men AIR ZOOM PEGASUS 37 Shoes', 'Unisex SC 3ZER0 IV Basketball', 'Men Ultraboost 4.0 DNA Running', 'Men AIR ZOOM VOMERO Running', 'Men AF1/1 Sneakers', 'Unisex KYRIE4 Basketball Shoes', 'Men HOVR Rise Training Shoes', 'Men Running Shoes', 'Men HOVR Sonic 2 Running Shoes', 'Women Running Shoes', 'Mexico 66 Shoes', 'Men Woven Design Slip-On Sneakers', 'Men Solid Leather Loafers', 'Women Solid Flatform Sneakers', 'Unisex Rise XT FUSE 1', 'Men Solid Leather Formal Oxfords', 'Men Solid Leather Formal Loafers', 'Leather Formal Slip-Ons', 'Men Solid Leather Formal Derbys', 'Men Leather Formal Loafers', 'Men BMW MMS Future Sneakers', 'Men Leather Loafers', 'Men Solid Monk Shoes', 'Unisex Marathon Tech Sneakers', 'Men Textured Leather Loafers', 'Unisex Slip-On Sneakers Casual Shoes', 'Unisex Leather Sneakers', 'MAPM Future Kart Cat Sneakers', 'Men Sneakers', 'Women Micro G Pursuit Running', 'Men Solid Sneakers', 'Men Leather Formal Derbys', 'Men NMD_R1 Wide Fit Sneakers', 'Men Textured Leather Formal Loafers', 'Men Solid Leather Sneakers', 'Men Leather Monk Shoes', 'Women GRAND AMBITION SLIP ON SNEAKER', 'Men Running Shoes', 'Men Solid Leather Formal Monks', 'Men Solid Leather Formal Loafers', 'Men Solid Formal Loafers', 'Men Textured Leather Formal Loafers', 'Men Solid Leather Derbys', 'Men Solid Leather Formal Oxfords', 'Men Solid Leather Formal Monks', 'Men Solid Leather Formal Slip-Ons', 'Men Leather Formal Slip-Ons', 'Women Mayari Open Toe Flats', 'IGNITE Limitless Lean Running', 'Men ZX 2K Boost Solid Sneakers', 'Unisex Solid Sneakers', 'Men Striped Sneakers', 'Men Solid NMD_R1 Sneakers', 'Men NMD_R1 Sneakers', 'Women UNO Sneakers', 'Women Solid Block Heels', 'Men Solid Leather Formal Loafers', 'Men Solid Moccasins', 'Men Leather Formal Loafers', 'Men Leather Sneakers', 'Women Suede Chelsea Flat Boots', 'Mens Italian Leather Tasselled Loafers', 'Unisex Solid Serrano Sneakers', 'Men Leather Formal Brogues', 'Men SWIFT RUN Sneakers', 'Men Textured Leather Sneakers', 'Men ZOOM WINFLO 7 Shoes', 'Men Leather Formal Loafers', 'Women Leather London Sneakers', 'Men Solid Leather Formal Loafers', 'Men Leather Formal Derbys', 'Women Peep Toe Heels', 'Men Leather Formal Derbyacs', 'Men Leather Formal Slip Ons', 'Women Leather Heeled Boots', 'Women ZOOM FLY 3 Running Shoes', 'Men Solid Leather Formal Loafers', 'Men AIR ZOOM PEGASUS 38 Run', 'Men Leather Driving Shoes', 'Men JORDAN ONE TAKE II Shoes', 'Men Ultraboost DNA CC_1 Shoes', 'Men Wingtip Oxford Sneakers', 'Men GENERATION ZEROGRAND STITCHLITE', 'Men Leather Slip-On Sneakers', 'Men HOVR Rise 2 Training Shoes', 'Men Leather Formal Brogues', 'Men Textured Sneakers', 'Men RENEW FUSION Running Shoes', 'Men Textured Leather Loafers', 'Men Textured Leather Loafers', 'Men Textured Oxfords', 'Men Solid Leather Sneakers', 'Men Woven Design Loafers', 'Men Running Shoes', 'Woven Design Casual Sneakers', 'Men Leather Formal Derbys', 'Men Formal Leather Brogues', 'Men Woven Design Sneakers', 'Women Open Toe Flats', 'Men Leather Formal Monks', 'Women Solid Leather Loafers', 'Women Solid Leather Ballerinas', 'Women Solid Leather Gladiators', 'Women Solid Leather Heels', 'Men Leather Formal Oxfords', 'Women Heeled Boots', 'Women Sneakers', 'Women Woven Design Slip-On Sneakers', 'Women Leather Ballerinas', 'Women Woven Design Sneakers', 'Women Woven Design Slip-On Sneakers', 'Women Leather Heels', 'Women Solid Leather Pumps', 'Women Leather Solid Pumps', 'Men Running Shoes', 'Men REACT MILER 2 Running', 'Women Woven Design Sneakers', 'Women Leather Pumps', 'Men MAX ROAD 4 Running Shoes', 'Unisex Slip-On Sneakers'] ['Rs. 8236Rs. 10295(20% OFF)', 'Rs. 11495', 'Rs. 9999', 'Rs. 12995', 'Rs. 11999', 'Rs. 9995', 'Rs. 6999', 'Rs. 9749Rs. 14999(35% OFF)', 'Rs. 7699Rs. 10999(30% OFF)', 'Rs. 10999', 'Rs. 10999', 'Rs. 11999', 'Rs. 6999Rs. 9999(30% OFF)', 'Rs. 7857Rs. 8449(7% OFF)', 'Rs. 10995', 'Rs. 6999Rs. 9999(30% OFF)', 'Rs. 6999', 'Rs. 9999', 'Rs. 6999', 'Rs. 9749Rs. 14999(35% OFF)', 'Rs. 7149Rs. 10999(35% OFF)', 'Rs. 8999', 'Rs. 9999', 'Rs. 9990', 'Rs. 9999', 'Rs. 9799Rs. 13999(30% OFF)', 'Rs. 8500', 'Rs. 6999', 'Rs. 8094Rs. 13490(40% OFF)', 'Rs. 10490', 'Rs. 10999', 'Rs. 8499', 'Rs. 7999', 'Rs. 7990', 'Rs. 7495Rs. 14990(50% OFF)', 'Rs. 7999', 'Rs. 6999', 'Rs. 6990', 'Rs. 8399Rs. 11999(30% OFF)', 'Rs. 12495', 'Rs. 6999', 'Rs. 8999', 'Rs. 7499', 'Rs. 7006Rs. 7149(2% OFF)', 'Rs. 9999', 'Rs. 9999', 'Rs. 9999', 'Rs. 8990', 'Rs. 8499Rs. 16999(50% OFF)', 'Rs. 7349Rs. 10499(30% OFF)', 'Rs. 8999', 'Rs. 7192Rs. 8990(20% OFF)', 'Rs. 7495Rs. 14990(50% OFF)', 'Rs. 6675Rs. 8900(25% OFF)', 'Rs. 9796Rs. 13995(30% OFF)', 'Rs. 6995', 'Rs. 9995', 'Rs. 6999', 'Rs. 9999', 'Rs. 8295', 'Rs. 10199Rs. 16999(40% OFF)', 'Rs. 12999', 'Rs. 11999', 'Rs. 9490', 'Rs. 9999', 'Rs. 6990', 'Rs. 7039Rs. 10999(36% OFF)', 'Rs. 6995', 'Rs. 7690', 'Rs. 6990', 'Rs. 6999', 'Rs. 7413Rs. 10590(30% OFF)', 'Rs. 7999', 'Rs. 10449Rs. 18999(45% OFF)', 'Rs. 6999', 'Rs. 7490', 'Rs. 7595Rs. 10850(30% OFF)', 'Rs. 7999', 'Rs. 8399Rs. 11999(30% OFF)', 'Rs. 7999Rs. 15999(50% OFF)', 'Rs. 7999', 'Rs. 9799Rs. 13999(30% OFF)', 'Rs. 6993Rs. 9990(30% OFF)', 'Rs. 6993Rs. 9990(30% OFF)', 'Rs. 7693Rs. 10990(30% OFF)', 'Rs. 7440Rs. 8000(7% OFF)', 'Rs. 8999', 'Rs. 11990', 'Rs. 9490', 'Rs. 6749Rs. 14999(55% OFF)', 'Rs. 6749Rs. 14999(55% OFF)', 'Rs. 6749Rs. 14999(55% OFF)', 'Rs. 10990', 'Rs. 11990', 'Rs. 11999', 'Rs. 11495', 'Rs. 8999', 'Rs. 7192Rs. 8990(20% OFF)', 'Rs. 10999', 'Rs. 10999', 'Rs. 6995', 'Rs. 9513Rs. 13590(30% OFF)', 'Rs. 11999', 'Rs. 6799Rs. 8499(20% OFF)', 'Rs. 8953Rs. 12790(30% OFF)', 'Rs. 6990', 'Rs. 6990', 'Rs. 8792Rs. 10990(20% OFF)', 'Rs. 8295', 'Rs. 7000', 'Rs. 8990', 'Rs. 8990', 'Rs. 8990', 'Rs. 11495', 'Rs. 8999', 'Rs. 9999', 'Rs. 9295', 'Rs. 7499', 'Rs. 7699Rs. 10999(30% OFF)', 'Rs. 9093Rs. 12990(30% OFF)', 'Rs. 8154Rs. 13590(40% OFF)', 'Rs. 11305Rs. 11900(5% OFF)', 'Rs. 10990', 'Rs. 7903Rs. 11290(30% OFF)', 'Rs. 8295', 'Rs. 6999', 'Rs. 7799Rs. 12999(40% OFF)', 'Rs. 7999Rs. 9999(20% OFF)', 'Rs. 11999', 'Rs. 7999', 'Rs. 11999', 'Rs. 7199Rs. 15999(55% OFF)', 'Rs. 11990', 'Rs. 9599Rs. 15999(40% OFF)', 'Rs. 11990', 'Rs. 9999', 'Rs. 9999', 'Rs. 6999', 'Rs. 8799Rs. 10999(20% OFF)', 'Rs. 8399Rs. 11999(30% OFF)', 'Rs. 6995Rs. 13990(50% OFF)', 'Rs. 8771Rs. 13495(35% OFF)', 'Rs. 11899Rs. 16999(30% OFF)', 'Rs. 9499', 'Rs. 8295', 'Rs. 9999', 'Rs. 8295', 'Rs. 6969Rs. 8499(18% OFF)', 'Rs. 7199Rs. 11999(40% OFF)', 'Rs. 7199Rs. 11999(40% OFF)', 'Rs. 9999', 'Rs. 8195', 'Rs. 7693Rs. 10990(30% OFF)', 'Rs. 6999', 'Rs. 8754Rs. 14590(40% OFF)', 'Rs. 10493Rs. 14990(30% OFF)', 'Rs. 9047Rs. 10900(17% OFF)', 'Rs. 6999Rs. 13999(50% OFF)', 'Rs. 6993Rs. 9990(30% OFF)', 'Rs. 9099Rs. 13999(35% OFF)', 'Rs. 6749Rs. 14999(55% OFF)', 'Rs. 8449Rs. 12999(35% OFF)', 'Rs. 10399Rs. 15999(35% OFF)', 'Rs. 8999', 'Rs. 7990', 'Rs. 8399Rs. 13999(40% OFF)', 'Rs. 7990', 'Rs. 6990', 'Rs. 6792Rs. 8490(20% OFF)', 'Rs. 9999', 'Rs. 8195', 'Rs. 11999', 'Rs. 7149Rs. 10999(35% OFF)', 'Rs. 9599Rs. 15999(40% OFF)', 'Rs. 7149Rs. 12999(45% OFF)', 'Rs. 7699Rs. 10999(30% OFF)', 'Rs. 6999', 'Rs. 11699Rs. 17999(35% OFF)', 'Rs. 8999Rs. 14999(40% OFF)', 'Rs. 7799Rs. 12999(40% OFF)', 'Rs. 10999', 'Rs. 11999', 'Rs. 10990', 'Rs. 7799Rs. 12999(40% OFF)', 'Rs. 8999Rs. 17999(50% OFF)', 'Rs. 8799Rs. 10999(20% OFF)', 'Rs. 11249Rs. 14999(25% OFF)', 'Rs. 6999', 'Rs. 9999', 'Rs. 9990', 'Rs. 7693Rs. 10990(30% OFF)', 'Rs. 6990', 'Rs. 11999', 'Rs. 7999Rs. 9999(20% OFF)', 'Rs. 7999', 'Rs. 6999Rs. 9999(30% OFF)', 'Rs. 6999Rs. 9999(30% OFF)', 'Rs. 12495', 'Rs. 7999', 'Rs. 10499Rs. 14999(30% OFF)', 'Rs. 8990', 'Rs. 8792Rs. 10990(20% OFF)', 'Rs. 9099Rs. 13999(35% OFF)', 'Rs. 7499Rs. 14999(50% OFF)', 'Rs. 7400Rs. 14800(50% OFF)', 'Rs. 7349Rs. 10499(30% OFF)', 'Rs. 7995', 'Rs. 6999', 'Rs. 9099Rs. 13999(35% OFF)', 'Rs. 12999', 'Rs. 7990', 'Rs. 7857Rs. 8449(7% OFF)', 'Rs. 9999', 'Rs. 10990', 'Rs. 9999', 'Rs. 6873Rs. 7900(13% OFF)', 'Rs. 11999', 'Rs. 8999', 'Rs. 11800', 'Rs. 9995', 'Rs. 8999Rs. 14999(40% OFF)', 'Rs. 12990', 'Rs. 7999', 'Rs. 9900', 'Rs. 7192Rs. 8990(20% OFF)', 'Rs. 6990', 'Rs. 10990', 'Rs. 7799Rs. 11999(35% OFF)', 'Rs. 7999', 'Rs. 7192Rs. 8990(20% OFF)', 'Rs. 7192Rs. 8990(20% OFF)', 'Rs. 6990', 'Rs. 9990', 'Rs. 11990', 'Rs. 8799Rs. 10999(20% OFF)', 'Rs. 6999Rs. 9999(30% OFF)', 'Rs. 7699Rs. 10999(30% OFF)', 'Rs. 8154Rs. 13590(40% OFF)', 'Rs. 7206Rs. 10295(30% OFF)', 'Rs. 8396Rs. 11995(30% OFF)', 'Rs. 8746Rs. 12495(30% OFF)', 'Rs. 7599', 'Rs. 12999', 'Rs. 6999', 'Rs. 8195', 'Rs. 9999', 'Rs. 11495', 'Rs. 10999', 'Rs. 9099Rs. 13999(35% OFF)', 'Rs. 10999', 'Rs. 9279Rs. 11599(20% OFF)', 'Rs. 8999', 'Rs. 7350Rs. 10500(30% OFF)', 'Rs. 7199Rs. 8999(20% OFF)', 'Rs. 7192Rs. 8990(20% OFF)', 'Rs. 9999', 'Rs. 12500', 'Rs. 11999', 'Rs. 6999Rs. 13999(50% OFF)', 'Rs. 8999', 'Rs. 11990', 'Rs. 9990', 'Rs. 9303Rs. 13290(30% OFF)', 'Rs. 6999', 'Rs. 6990', 'Rs. 12990', 'Rs. 9990', 'Rs. 8999', 'Rs. 8999', 'Rs. 8990', 'Rs. 7192Rs. 8990(20% OFF)', 'Rs. 6990', 'Rs. 6990', 'Rs. 9990', 'Rs. 6990', 'Rs. 7990', 'Rs. 9513Rs. 13590(30% OFF)', 'Rs. 7495', 'Rs. 8990', 'Rs. 8999', 'Rs. 6999Rs. 9999(30% OFF)', 'Rs. 9099Rs. 13999(35% OFF)', 'Rs. 8399Rs. 13999(40% OFF)', 'Rs. 12316Rs. 17595(30% OFF)', 'Rs. 7699Rs. 13999(45% OFF)', 'Rs. 6999', 'Rs. 7149Rs. 12999(45% OFF)', 'Rs. 6999', 'Rs. 9446Rs. 13495(30% OFF)', 'Rs. 7699Rs. 10999(30% OFF)', 'Rs. 7999', 'Rs. 8999Rs. 14999(40% OFF)', 'Rs. 7199Rs. 11999(40% OFF)', 'Rs. 6993Rs. 9990(30% OFF)', 'Rs. 7199Rs. 11999(40% OFF)', 'Rs. 8990', 'Rs. 7693Rs. 10990(30% OFF)', 'Rs. 11999', 'Rs. 8195', 'Rs. 10999', 'Rs. 8449Rs. 12999(35% OFF)', 'Rs. 9999', 'Rs. 7999Rs. 19999(60% OFF)', 'Rs. 8400', 'Rs. 10990', 'Rs. 11990', 'Rs. 10899', 'Rs. 7990', 'Rs. 11990', 'Rs. 10990', 'Rs. 7992Rs. 9990(20% OFF)', 'Rs. 7990', 'Rs. 7990', 'Rs. 7490', 'Rs. 7192Rs. 8990(20% OFF)', 'Rs. 6990', 'Rs. 6990', 'Rs. 7799Rs. 12999(40% OFF)', 'Rs. 7699Rs. 10999(30% OFF)', 'Rs. 7696Rs. 10995(30% OFF)', 'Rs. 7799Rs. 11999(35% OFF)', 'Rs. 11999', 'Rs. 7206Rs. 10295(30% OFF)', 'Rs. 11990', 'Rs. 9599Rs. 11999(20% OFF)', 'Rs. 8792Rs. 10990(20% OFF)', 'Rs. 8499Rs. 16999(50% OFF)', 'Rs. 10999', 'Rs. 7995', 'Rs. 7074Rs. 11790(40% OFF)', 'Rs. 6995Rs. 13990(50% OFF)', 'Rs. 6799Rs. 16999(60% OFF)', 'Rs. 6699', 'Rs. 7699Rs. 13999(45% OFF)', 'Rs. 12500', 'Rs. 8499Rs. 16999(50% OFF)', 'Rs. 7149Rs. 10999(35% OFF)', 'Rs. 6999', 'Rs. 7995Rs. 15990(50% OFF)', 'Rs. 10499Rs. 14999(30% OFF)', 'Rs. 6999Rs. 9999(30% OFF)', 'Rs. 9093Rs. 12990(30% OFF)', 'Rs. 8990', 'Rs. 7990', 'Rs. 8792Rs. 10990(20% OFF)', 'Rs. 7999', 'Rs. 7990', 'Rs. 7990', 'Rs. 7199Rs. 8999(20% OFF)', 'Rs. 7199Rs. 11999(40% OFF)', 'Rs. 6990', 'Rs. 7990', 'Rs. 8393Rs. 11990(30% OFF)', 'Rs. 10496Rs. 14995(30% OFF)', 'Rs. 10499Rs. 13999(25% OFF)', 'Rs. 12599Rs. 17999(30% OFF)', 'Rs. 6995Rs. 13990(50% OFF)', 'Rs. 8990', 'Rs. 6999Rs. 9999(30% OFF)', 'Rs. 11999', 'Rs. 8549Rs. 18999(55% OFF)', 'Rs. 7799Rs. 12999(40% OFF)', 'Rs. 7199Rs. 11999(40% OFF)', 'Rs. 7999', 'Rs. 7699Rs. 13999(45% OFF)', 'Rs. 10999', 'Rs. 7499Rs. 14999(50% OFF)', 'Rs. 9793Rs. 13990(30% OFF)', 'Rs. 6999', 'Rs. 6999', 'Rs. 7999Rs. 19999(60% OFF)', 'Rs. 8295', 'Rs. 7794Rs. 12990( 40 % OFF)', 'Rs. 12999', 'Rs. 8999', 'Rs. 10999', 'Rs. 6999Rs. 9999(30% OFF)', 'Rs. 7999', 'Rs. 7599Rs. 9499(20% OFF)', 'Rs. 7499', 'Rs. 9899Rs. 17999(45% OFF)', 'Rs. 8999', 'Rs. 8999', 'Rs. 8500', 'Rs. 7799Rs. 12999(40% OFF)', 'Rs. 7599Rs. 9499(20% OFF)', 'Rs. 9599Rs. 11999(20% OFF)', 'Rs. 6993Rs. 9990(30% OFF)', 'Rs. 11990', 'Rs. 7990', 'Rs. 6749Rs. 14999(55% OFF)', 'Rs. 6999', 'Rs. 7199Rs. 8999(20% OFF)', 'Rs. 6999', 'Rs. 6999Rs. 9999(30% OFF)', 'Rs. 10846Rs. 15495(30% OFF)', 'Rs. 9446Rs. 13495(30% OFF)', 'Rs. 9999', 'Rs. 7206Rs. 10295(30% OFF)', 'Rs. 9999', 'Rs. 10079Rs. 12599(20% OFF)', 'Rs. 8295', 'Rs. 7699Rs. 10999(30% OFF)', 'Rs. 7999', 'Rs. 9793Rs. 13990(30% OFF)', 'Rs. 9599Rs. 11999(20% OFF)', 'Rs. 8999Rs. 19999(55% OFF)', 'Rs. 7999Rs. 9999(20% OFF)', 'Rs. 9746Rs. 14995(35% OFF)', 'Rs. 9999', 'Rs. 8999', 'Rs. 6800', 'Rs. 10999', 'Rs. 6999Rs. 9999(30% OFF)', 'Rs. 8792Rs. 10990(20% OFF)', 'Rs. 6649Rs. 9499(30% OFF)', 'Rs. 8799Rs. 15999(45% OFF)', 'Rs. 7999', 'Rs. 8449Rs. 12999(35% OFF)', 'Rs. 9793Rs. 13990(30% OFF)', 'Rs. 8999', 'Rs. 7990', 'Rs. 10999', 'Rs. 7192Rs. 8990(20% OFF)', 'Rs. 7990', 'Rs. 12999', 'Rs. 9093Rs. 12990(30% OFF)', 'Rs. 6799', 'Rs. 6999', 'Rs. 9999', 'Rs. 9995', 'Rs. 8099Rs. 8999(10% OFF)', 'Rs. 9349Rs. 16999(45% OFF)', 'Rs. 9446Rs. 13495(30% OFF)', 'Rs. 8746Rs. 12495(30% OFF)', 'Rs. 8195', 'Rs. 9999', 'Rs. 6999Rs. 9999(30% OFF)', 'Rs. 9999', 'Rs. 10499Rs. 14999(30% OFF)', 'Rs. 7199Rs. 8999(20% OFF)', 'Rs. 7799Rs. 12999(40% OFF)', 'Rs. 7990', 'Rs. 7599', 'Rs. 6749Rs. 8999(25% OFF)', 'Rs. 9599Rs. 11999(20% OFF)', 'Rs. 9599Rs. 11999(20% OFF)', 'Rs. 8399Rs. 10499(20% OFF)', 'Rs. 6996Rs. 9995(30% OFF)', 'Rs. 6993Rs. 9990(30% OFF)', 'Rs. 6999', 'Rs. 12999', 'Rs. 8049Rs. 11499(30% OFF)', 'Rs. 8449Rs. 12999(35% OFF)', 'Rs. 6999Rs. 9999(30% OFF)', 'Rs. 8999', 'Rs. 8999', 'Rs. 6999', 'Rs. 6999', 'Rs. 6999', 'Rs. 6999', 'Rs. 6999', 'Rs. 12999', 'Rs. 9975Rs. 10500(5% OFF)', 'Rs. 8999', 'Rs. 7693Rs. 10990(30% OFF)', 'Rs. 7599Rs. 18999(60% OFF)', 'Rs. 7499', 'Rs. 7699Rs. 10999(30% OFF)', 'Rs. 7999Rs. 9999(20% OFF)', 'Rs. 7999Rs. 9999(20% OFF)', 'Rs. 6999Rs. 9999(30% OFF)', 'Rs. 7990', 'Rs. 6990', 'Rs. 8799Rs. 10999(20% OFF)', 'Rs. 6990', 'Rs. 8999', 'Rs. 7490', 'Rs. 7999', 'Rs. 7699Rs. 13999(45% OFF)', 'Rs. 10999', 'Rs. 6999Rs. 9999(30% OFF)', 'Rs. 7149Rs. 12999(45% OFF)', 'Rs. 7149Rs. 12999(45% OFF)', 'Rs. 7999', 'Rs. 9999', 'Rs. 7999Rs. 9999(20% OFF)', 'Rs. 9499', 'Rs. 7699Rs. 10999(30% OFF)', 'Rs. 7693Rs. 10990(30% OFF)', 'Rs. 6999', 'Rs. 8049Rs. 11499(30% OFF)', 'Rs. 6999', 'Rs. 6999', 'Rs. 7599', 'Rs. 6999', 'Rs. 7995', 'Rs. 6990', 'Rs. 10990', 'Rs. 6999Rs. 9999(30% OFF)', 'Rs. 7349Rs. 10499(30% OFF)', 'Rs. 7192Rs. 8990(20% OFF)', 'Rs. 7495Rs. 14990(50% OFF)', 'Rs. 8999', 'Rs. 6675Rs. 8900(25% OFF)', 'Rs. 9796Rs. 13995(30% OFF)', 'Rs. 6995', 'Rs. 9995', 'Rs. 9999', 'Rs. 8295', 'Rs. 10199Rs. 16999(40% OFF)', 'Rs. 12999', 'Rs. 11999', 'Rs. 9490', 'Rs. 9999', 'Rs. 6990', 'Rs. 7039Rs. 10999(36% OFF)', 'Rs. 6995', 'Rs. 7690', 'Rs. 6990', 'Rs. 6999', 'Rs. 7413Rs. 10590(30% OFF)', 'Rs. 7999', 'Rs. 10449Rs. 18999(45% OFF)', 'Rs. 7595Rs. 10850(30% OFF)', 'Rs. 6999', 'Rs. 7490', 'Rs. 7999', 'Rs. 8399Rs. 11999(30% OFF)', 'Rs. 7999Rs. 15999(50% OFF)', 'Rs. 7999', 'Rs. 9799Rs. 13999(30% OFF)', 'Rs. 6993Rs. 9990(30% OFF)', 'Rs. 6993Rs. 9990(30% OFF)', 'Rs. 7693Rs. 10990(30% OFF)', 'Rs. 7440Rs. 8000(7% OFF)', 'Rs. 8999', 'Rs. 11990', 'Rs. 9490', 'Rs. 6749Rs. 14999(55% OFF)', 'Rs. 6749Rs. 14999(55% OFF)', 'Rs. 6749Rs. 14999(55% OFF)', 'Rs. 10990', 'Rs. 11990', 'Rs. 11999', 'Rs. 11495', 'Rs. 8999', 'Rs. 7192Rs. 8990(20% OFF)', 'Rs. 10999', 'Rs. 10999']\n"
     ]
    }
   ],
   "source": [
    "print(Brand,Product_description,Price)"
   ]
  },
  {
   "cell_type": "code",
   "execution_count": 83,
   "metadata": {
    "scrolled": true
   },
   "outputs": [
    {
     "data": {
      "text/html": [
       "<div>\n",
       "<style scoped>\n",
       "    .dataframe tbody tr th:only-of-type {\n",
       "        vertical-align: middle;\n",
       "    }\n",
       "\n",
       "    .dataframe tbody tr th {\n",
       "        vertical-align: top;\n",
       "    }\n",
       "\n",
       "    .dataframe thead th {\n",
       "        text-align: right;\n",
       "    }\n",
       "</style>\n",
       "<table border=\"1\" class=\"dataframe\">\n",
       "  <thead>\n",
       "    <tr style=\"text-align: right;\">\n",
       "      <th></th>\n",
       "      <th>Brand</th>\n",
       "      <th>Product Discription</th>\n",
       "      <th>Price</th>\n",
       "    </tr>\n",
       "  </thead>\n",
       "  <tbody>\n",
       "    <tr>\n",
       "      <th>0</th>\n",
       "      <td>Nike</td>\n",
       "      <td>Men AIR ZOOM Running Shoes</td>\n",
       "      <td>Rs. 8236Rs. 10295(20% OFF)</td>\n",
       "    </tr>\n",
       "    <tr>\n",
       "      <th>1</th>\n",
       "      <td>Skechers</td>\n",
       "      <td>AIR ZOOM PEGASUS Running Shoes</td>\n",
       "      <td>Rs. 11495</td>\n",
       "    </tr>\n",
       "    <tr>\n",
       "      <th>2</th>\n",
       "      <td>Florsheim</td>\n",
       "      <td>Men Sneakers</td>\n",
       "      <td>Rs. 9999</td>\n",
       "    </tr>\n",
       "    <tr>\n",
       "      <th>3</th>\n",
       "      <td>Reebok</td>\n",
       "      <td>Men KD13 EP Basketball Shoes</td>\n",
       "      <td>Rs. 12995</td>\n",
       "    </tr>\n",
       "    <tr>\n",
       "      <th>4</th>\n",
       "      <td>ASICS</td>\n",
       "      <td>Men Driving Shoes</td>\n",
       "      <td>Rs. 11999</td>\n",
       "    </tr>\n",
       "    <tr>\n",
       "      <th>...</th>\n",
       "      <td>...</td>\n",
       "      <td>...</td>\n",
       "      <td>...</td>\n",
       "    </tr>\n",
       "    <tr>\n",
       "      <th>95</th>\n",
       "      <td>Heel &amp; Buckle London</td>\n",
       "      <td>Men REACT MILER 2 Running</td>\n",
       "      <td>Rs. 11495</td>\n",
       "    </tr>\n",
       "    <tr>\n",
       "      <th>96</th>\n",
       "      <td>Saint G</td>\n",
       "      <td>Women Woven Design Sneakers</td>\n",
       "      <td>Rs. 8999</td>\n",
       "    </tr>\n",
       "    <tr>\n",
       "      <th>97</th>\n",
       "      <td>FILA</td>\n",
       "      <td>Women Leather Pumps</td>\n",
       "      <td>Rs. 7192Rs. 8990(20% OFF)</td>\n",
       "    </tr>\n",
       "    <tr>\n",
       "      <th>98</th>\n",
       "      <td>Geox</td>\n",
       "      <td>Men MAX ROAD 4 Running Shoes</td>\n",
       "      <td>Rs. 10999</td>\n",
       "    </tr>\n",
       "    <tr>\n",
       "      <th>99</th>\n",
       "      <td>Geox</td>\n",
       "      <td>Unisex Slip-On Sneakers</td>\n",
       "      <td>Rs. 10999</td>\n",
       "    </tr>\n",
       "  </tbody>\n",
       "</table>\n",
       "<p>100 rows × 3 columns</p>\n",
       "</div>"
      ],
      "text/plain": [
       "                   Brand             Product Discription  \\\n",
       "0                   Nike      Men AIR ZOOM Running Shoes   \n",
       "1               Skechers  AIR ZOOM PEGASUS Running Shoes   \n",
       "2              Florsheim                    Men Sneakers   \n",
       "3                 Reebok    Men KD13 EP Basketball Shoes   \n",
       "4                  ASICS               Men Driving Shoes   \n",
       "..                   ...                             ...   \n",
       "95  Heel & Buckle London       Men REACT MILER 2 Running   \n",
       "96               Saint G     Women Woven Design Sneakers   \n",
       "97                  FILA             Women Leather Pumps   \n",
       "98                  Geox    Men MAX ROAD 4 Running Shoes   \n",
       "99                  Geox         Unisex Slip-On Sneakers   \n",
       "\n",
       "                         Price  \n",
       "0   Rs. 8236Rs. 10295(20% OFF)  \n",
       "1                    Rs. 11495  \n",
       "2                     Rs. 9999  \n",
       "3                    Rs. 12995  \n",
       "4                    Rs. 11999  \n",
       "..                         ...  \n",
       "95                   Rs. 11495  \n",
       "96                    Rs. 8999  \n",
       "97   Rs. 7192Rs. 8990(20% OFF)  \n",
       "98                   Rs. 10999  \n",
       "99                   Rs. 10999  \n",
       "\n",
       "[100 rows x 3 columns]"
      ]
     },
     "execution_count": 83,
     "metadata": {},
     "output_type": "execute_result"
    }
   ],
   "source": [
    "shoes_myntra=pd.DataFrame({})\n",
    "shoes_myntra['Brand']=Brand[:100]\n",
    "shoes_myntra['Product Discription']=Product_description[:100]\n",
    "shoes_myntra['Price']=Price[:100]\n",
    "shoes_myntra"
   ]
  },
  {
   "cell_type": "code",
   "execution_count": 35,
   "metadata": {},
   "outputs": [],
   "source": [
    "#question 10 amazon laptop\n",
    "driver=webdriver.Chrome(r\"C:\\Users\\INPshy\\Downloads\\chromedriver_win32\\chromedriver.exe\")"
   ]
  },
  {
   "cell_type": "code",
   "execution_count": 36,
   "metadata": {},
   "outputs": [],
   "source": [
    "url='https://www.amazon.in/'\n",
    "driver.get(url)\n",
    "time.sleep(5)"
   ]
  },
  {
   "cell_type": "code",
   "execution_count": 37,
   "metadata": {},
   "outputs": [],
   "source": [
    "laptop=driver.find_element_by_id('twotabsearchtextbox')\n",
    "laptop.send_keys('Laptop')"
   ]
  },
  {
   "cell_type": "code",
   "execution_count": 38,
   "metadata": {},
   "outputs": [],
   "source": [
    "search=driver.find_element_by_id('nav-search-submit-button')\n",
    "search.click()\n",
    "time.sleep(5)"
   ]
  },
  {
   "cell_type": "code",
   "execution_count": 39,
   "metadata": {},
   "outputs": [],
   "source": [
    "#location core i7 filter\n",
    "filter_button=driver.find_elements_by_xpath('//a[@class=\"a-link-normal s-navigation-item\"]//span')\n",
    "for i in filter_button:\n",
    "    if i.text=='Intel Core i7':\n",
    "        i.click()\n",
    "        break"
   ]
  },
  {
   "cell_type": "code",
   "execution_count": 40,
   "metadata": {},
   "outputs": [],
   "source": [
    "#location core i9 filter\n",
    "filter_button=driver.find_elements_by_xpath('//a[@class=\"a-link-normal s-navigation-item\"]//span')\n",
    "for i in filter_button:\n",
    "    if i.text=='Intel Core i9':\n",
    "        i.click()\n",
    "        break"
   ]
  },
  {
   "cell_type": "code",
   "execution_count": 41,
   "metadata": {},
   "outputs": [
    {
     "data": {
      "text/plain": [
       "['https://www.amazon.in/HP-Pavilion-Graphics-35-56cms-14-dv0058TU/dp/B08WB857GB/ref=sr_1_1?dchild=1&keywords=Laptop&qid=1625665118&refinements=p_n_feature_thirteen_browse-bin%3A12598163031%7C16757432031&rnid=12598141031&s=computers&sr=1-1',\n",
       " 'https://www.amazon.in/Dell-13-3-inch-i7-8550U-Integrated-Graphics/dp/B09813L8BX/ref=sr_1_2?dchild=1&keywords=Laptop&qid=1625665118&refinements=p_n_feature_thirteen_browse-bin%3A12598163031%7C16757432031&rnid=12598141031&s=computers&sr=1-2',\n",
       " 'https://www.amazon.in/HP-Pavilion-Touchscreen-Convertible-14-dw1040TU/dp/B08R843NHL/ref=sr_1_3?dchild=1&keywords=Laptop&qid=1625665118&refinements=p_n_feature_thirteen_browse-bin%3A12598163031%7C16757432031&rnid=12598141031&s=computers&sr=1-3',\n",
       " 'https://www.amazon.in/Dell-35-56cms-1366x768-Integrated-Graphics/dp/B097PL7VX8/ref=sr_1_4?dchild=1&keywords=Laptop&qid=1625665118&refinements=p_n_feature_thirteen_browse-bin%3A12598163031%7C16757432031&rnid=12598141031&s=computers&sr=1-4',\n",
       " 'https://www.amazon.in/Notebook-Horizon-i7-10510U-Graphics-XMA1904-AF/dp/B089F2W1KW/ref=sr_1_5?dchild=1&keywords=Laptop&qid=1625665118&refinements=p_n_feature_thirteen_browse-bin%3A12598163031%7C16757432031&rnid=12598141031&s=computers&sr=1-5',\n",
       " 'https://www.amazon.in/HP-Pavilion-Processor-15-6-inch-15-dk1509TX/dp/B08ZN7GBQ5/ref=sr_1_6?dchild=1&keywords=Laptop&qid=1625665118&refinements=p_n_feature_thirteen_browse-bin%3A12598163031%7C16757432031&rnid=12598141031&s=computers&sr=1-6',\n",
       " 'https://www.amazon.in/Dell-5410-i7-1165G7-Integrated-D560469WIN9S/dp/B095S9NJ4S/ref=sr_1_7?dchild=1&keywords=Laptop&qid=1625665118&refinements=p_n_feature_thirteen_browse-bin%3A12598163031%7C16757432031&rnid=12598141031&s=computers&sr=1-7',\n",
       " 'https://www.amazon.in/Dell-1366x768-Integrated-Graphics-Latitude/dp/B0974W4W9W/ref=sr_1_8?dchild=1&keywords=Laptop&qid=1625665118&refinements=p_n_feature_thirteen_browse-bin%3A12598163031%7C16757432031&rnid=12598141031&s=computers&sr=1-8',\n",
       " 'https://www.amazon.in/Renewed-HP-15-6-Inch-Graphics-Zbook/dp/B09128J5VT/ref=sr_1_9?dchild=1&keywords=Laptop&qid=1625665118&refinements=p_n_feature_thirteen_browse-bin%3A12598163031%7C16757432031&rnid=12598141031&s=computers&sr=1-9',\n",
       " 'https://www.amazon.in/Dell-1366x768-Integrated-Graphics-Latitude/dp/B0974XBX64/ref=sr_1_10?dchild=1&keywords=Laptop&qid=1625665118&refinements=p_n_feature_thirteen_browse-bin%3A12598163031%7C16757432031&rnid=12598141031&s=computers&sr=1-10',\n",
       " 'https://www.amazon.in/ASUS-VivoBook-i7-1165G7-Graphics-S433EA-AM702TS/dp/B08SN9GJXH/ref=sr_1_11?dchild=1&keywords=Laptop&qid=1625665118&refinements=p_n_feature_thirteen_browse-bin%3A12598163031%7C16757432031&rnid=12598141031&s=computers&sr=1-11',\n",
       " 'https://www.amazon.in/Dell-13-3-inch-i7-8550U-Integrated-Graphics/dp/B08MJDHDBL/ref=sr_1_12?dchild=1&keywords=Laptop&qid=1625665118&refinements=p_n_feature_thirteen_browse-bin%3A12598163031%7C16757432031&rnid=12598141031&s=computers&sr=1-12',\n",
       " 'https://www.amazon.in/LifeDigital-Laptop-Intel%C2%AE-Storage-Windows/dp/B08HRMHZ8J/ref=sr_1_13?dchild=1&keywords=Laptop&qid=1625665118&refinements=p_n_feature_thirteen_browse-bin%3A12598163031%7C16757432031&rnid=12598141031&s=computers&sr=1-13',\n",
       " 'https://www.amazon.in/HP-Pavilion-Gaming-Laptop-15-DK1511TX/dp/B0972H63VL/ref=sr_1_14?dchild=1&keywords=Laptop&qid=1625665118&refinements=p_n_feature_thirteen_browse-bin%3A12598163031%7C16757432031&rnid=12598141031&s=computers&sr=1-14',\n",
       " 'https://www.amazon.in/Renewed-Lenovo-ThinkPad-Graphics-20S0S1MC00/dp/B0983DH45B/ref=sr_1_15?dchild=1&keywords=Laptop&qid=1625665118&refinements=p_n_feature_thirteen_browse-bin%3A12598163031%7C16757432031&rnid=12598141031&s=computers&sr=1-15']"
      ]
     },
     "execution_count": 41,
     "metadata": {},
     "output_type": "execute_result"
    }
   ],
   "source": [
    "page=[]\n",
    "url= driver.find_elements_by_xpath('//h2[@class=\"a-size-mini a-spacing-none a-color-base s-line-clamp-2\"]/a')\n",
    "time.sleep(3)\n",
    "for i in url[:15]:\n",
    "    page.append(i.get_attribute('href'))\n",
    "page"
   ]
  },
  {
   "cell_type": "code",
   "execution_count": 45,
   "metadata": {},
   "outputs": [
    {
     "name": "stdout",
     "output_type": "stream",
     "text": [
      "['4.4 out of 5', '-', '3.9 out of 5', '-', '4.4 out of 5', '4.2 out of 5', '4.5 out of 5', '-', '-', '-', '4.4 out of 5', '-', '3.7 out of 5', '3 out of 5', '-'] ['₹ 84,990.00', '₹ 88,423.00', '₹ 79,046.00', '₹ 46,999.00', '₹ 59,999.00', '₹ 86,990.00', '₹ 91,790.00', '₹ 39,999.00', '₹ 64,490.00', '₹ 42,999.00', '₹ 76,990.00', '₹ 89,490.00', '₹ 40,932.00', '₹ 91,990.00', '₹ 1,25,000.00'] ['HP Pavilion (2021) Thin & Light 11th Gen Core i7 Laptop, 16 GB RAM, 1TB SSD, Iris Xe Graphics, 14\" (35.56cms) FHD Screen, Windows 10, MS Office, Backlit Keyboard (14-dv0058TU)', '(Renewed) Dell XPS 9370 13.3-inch UHD Thin & Light Laptop(8th Gen i7-8550U/16GB/512GB SSD/Win 10 + MS Office/Integrated Graphics), Gold', 'HP Pavilion x360 (2021) 14\" (35.56cms) FHD Touchscreen Laptop, 11th Gen Core i7, 8 GB RAM, 512GB SSD, 2-in-1 Convertible, Windows 10, MS Office, Finger Print Reader (14-dw1040TU)', '(Renewed) Dell Intel Core i7 4th Gen 14 Inch(35.56cms)1366x768 HD Laptop (16GB RAM/128GB SSD & 1TB HDD/Windows 10 Pro/MS Office/Intel Integrated HD Graphics 4600/2.1Kg,Silver) Latitude E6440', 'Mi Notebook Horizon Edition 14 Intel Core i7-10510U 10th Gen 14-inch (35.56 cms) Thin and Light Laptop(8GB/512GB SSD/Windows 10/Nvidia MX350 2GB Graphics/Grey/1.35Kg), XMA1904-AF+Webcam', 'HP Pavilion Gaming 10th Gen Intel Core i7 Processor 15.6-inch FHD Gaming Laptop (16GB/512GB SSD + 32GB Intel Optane/Windows 10/NVIDIA 1650Ti 4GB/Shadow Black), 15-dk1509TX', 'Dell Inspiron 5410 14\" FHD Touch Display 2in1 Laptop (i7-1165G7 / 16GB / 512GB SSD / Integrated Graphics / Win 10 + MSO / Backlit KB + FPR + Active Pen / Silver Metal Color) D560469WIN9S', '(Renewed) Dell Intel Core i7 4th Gen 14 Inch(35.56 cms) 1366x768 HD Laptop (4GB RAM/320GB HDD/Windows 10 Pro/MS Office 2019/Intel Integrated HD Graphics 4600/2.1Kg,Silver) Latitude E6440', '(Renewed) HP Intel Core i7 6700HQ 15.6-Inch (39.62 cms) 1920 X 1080 Laptop (8 GB/512 GB SSD/Windows/Intel HD Graphics & Nvidia 1000m/Grey/2.7 Kg), Zbook 15', '(Renewed) Dell Intel Core i7 4th Gen 14 Inch(35.56 cms) 1366x768 HD Laptop (8GB RAM/1TB HDD/Windows 10 Pro/MS Office 2019/Intel Integrated HD Graphics 4600/2.1Kg,Silver) Latitude E6440', 'ASUS VivoBook S S14 Intel Core i7-1165G7 11th Gen 14-inch FHD Thin and Light Laptop (8GB RAM/512GB SSD + 32GB Optane Memory/Windows 10/Office 2019/Iris X Graphics ;Dreamy White;1.4 Kg), S433EA-AM702TS', '(Renewed) Dell XPS Intel 8th Gen Core i7 13.3-Inch (33.78 cms) 1920x1080 Thin and Light Laptop (16 GB/512 GB SSD/Windows 10/MS Office /Intel/Gold/1.21 Kg), 9370', 'Life Digital Laptop 15.6-inch (39.62 cms) (Intel Core i7, 4GB RAM, 256GB SSD, Windows 10), ZED AIR CX7', 'HP Pavilion Gaming(2021) 10th Gen Intel Core i7 15.6-inch(39.6 cm) FHD IPS 144Hz Gaming Laptop (16GB/512GB SSD + 32GB Intel Optane/NVIDIA GTX 1650Ti 4GB/Win 10/MS Office/Shadow Black), 15-DK1511TX', '(Renewed) Lenovo ThinkPad T14 Intel Core i7 10th Gen 14-inch Full HD Laptop (16GB RAM/ 512GB SSD/ Windows 10 Pro/ Black/2 GB Graphics / 1.55 kg), 20S0S1MC00']\n"
     ]
    }
   ],
   "source": [
    "Rating=[]\n",
    "Price=[]\n",
    "Title=[]\n",
    "for i in page[:15]:\n",
    "\n",
    "    driver.get(i)\n",
    "\n",
    "    time.sleep(2)\n",
    "\n",
    "    #fetch rating\n",
    "\n",
    "    try:\n",
    "\n",
    "        rate = driver.find_element_by_xpath('//div[@id=\"reviewsMedley\"]//div[1]//div[1]//div[2]//div[1]//div[1]//div[2]//div[1]//span//span')\n",
    "\n",
    "        Rating.append(rate.text)\n",
    "\n",
    "    except NoSuchElementException:\n",
    "\n",
    "        Rating.append('-')\n",
    "        \n",
    "    #fetch price\n",
    "    try:\n",
    "        for k in driver.find_elements_by_xpath('//span[@class=\"a-size-medium a-color-price priceBlockBuyingPriceString\"]'):\n",
    "            Price.append(k.text)\n",
    "    except NoSuchElementException:\n",
    "        Price.append('-')\n",
    "        \n",
    "    #fetch title\n",
    "    try:\n",
    "        for l in driver.find_elements_by_xpath('//h1[@class=\"a-size-large a-spacing-none\"]'):\n",
    "            \n",
    "            Title.append(l.text)\n",
    "    except NoSuchElementException:\n",
    "        Title.append('-')\n",
    "print(Rating, Price, Title)"
   ]
  },
  {
   "cell_type": "code",
   "execution_count": 46,
   "metadata": {},
   "outputs": [
    {
     "name": "stdout",
     "output_type": "stream",
     "text": [
      "15 15 15\n"
     ]
    }
   ],
   "source": [
    "print(len(Rating),len(Price),len(Title))"
   ]
  },
  {
   "cell_type": "code",
   "execution_count": 48,
   "metadata": {},
   "outputs": [
    {
     "data": {
      "text/html": [
       "<div>\n",
       "<style scoped>\n",
       "    .dataframe tbody tr th:only-of-type {\n",
       "        vertical-align: middle;\n",
       "    }\n",
       "\n",
       "    .dataframe tbody tr th {\n",
       "        vertical-align: top;\n",
       "    }\n",
       "\n",
       "    .dataframe thead th {\n",
       "        text-align: right;\n",
       "    }\n",
       "</style>\n",
       "<table border=\"1\" class=\"dataframe\">\n",
       "  <thead>\n",
       "    <tr style=\"text-align: right;\">\n",
       "      <th></th>\n",
       "      <th>Title</th>\n",
       "      <th>Price</th>\n",
       "      <th>Rating</th>\n",
       "    </tr>\n",
       "  </thead>\n",
       "  <tbody>\n",
       "    <tr>\n",
       "      <th>0</th>\n",
       "      <td>HP Pavilion (2021) Thin &amp; Light 11th Gen Core ...</td>\n",
       "      <td>₹ 84,990.00</td>\n",
       "      <td>4.4 out of 5</td>\n",
       "    </tr>\n",
       "    <tr>\n",
       "      <th>1</th>\n",
       "      <td>(Renewed) Dell XPS 9370 13.3-inch UHD Thin &amp; L...</td>\n",
       "      <td>₹ 88,423.00</td>\n",
       "      <td>-</td>\n",
       "    </tr>\n",
       "    <tr>\n",
       "      <th>2</th>\n",
       "      <td>HP Pavilion x360 (2021) 14\" (35.56cms) FHD Tou...</td>\n",
       "      <td>₹ 79,046.00</td>\n",
       "      <td>3.9 out of 5</td>\n",
       "    </tr>\n",
       "    <tr>\n",
       "      <th>3</th>\n",
       "      <td>(Renewed) Dell Intel Core i7 4th Gen 14 Inch(3...</td>\n",
       "      <td>₹ 46,999.00</td>\n",
       "      <td>-</td>\n",
       "    </tr>\n",
       "    <tr>\n",
       "      <th>4</th>\n",
       "      <td>Mi Notebook Horizon Edition 14 Intel Core i7-1...</td>\n",
       "      <td>₹ 59,999.00</td>\n",
       "      <td>4.4 out of 5</td>\n",
       "    </tr>\n",
       "    <tr>\n",
       "      <th>5</th>\n",
       "      <td>HP Pavilion Gaming 10th Gen Intel Core i7 Proc...</td>\n",
       "      <td>₹ 86,990.00</td>\n",
       "      <td>4.2 out of 5</td>\n",
       "    </tr>\n",
       "    <tr>\n",
       "      <th>6</th>\n",
       "      <td>Dell Inspiron 5410 14\" FHD Touch Display 2in1 ...</td>\n",
       "      <td>₹ 91,790.00</td>\n",
       "      <td>4.5 out of 5</td>\n",
       "    </tr>\n",
       "    <tr>\n",
       "      <th>7</th>\n",
       "      <td>(Renewed) Dell Intel Core i7 4th Gen 14 Inch(3...</td>\n",
       "      <td>₹ 39,999.00</td>\n",
       "      <td>-</td>\n",
       "    </tr>\n",
       "    <tr>\n",
       "      <th>8</th>\n",
       "      <td>(Renewed) HP Intel Core i7 6700HQ 15.6-Inch (3...</td>\n",
       "      <td>₹ 64,490.00</td>\n",
       "      <td>-</td>\n",
       "    </tr>\n",
       "    <tr>\n",
       "      <th>9</th>\n",
       "      <td>(Renewed) Dell Intel Core i7 4th Gen 14 Inch(3...</td>\n",
       "      <td>₹ 42,999.00</td>\n",
       "      <td>-</td>\n",
       "    </tr>\n",
       "  </tbody>\n",
       "</table>\n",
       "</div>"
      ],
      "text/plain": [
       "                                               Title        Price  \\\n",
       "0  HP Pavilion (2021) Thin & Light 11th Gen Core ...  ₹ 84,990.00   \n",
       "1  (Renewed) Dell XPS 9370 13.3-inch UHD Thin & L...  ₹ 88,423.00   \n",
       "2  HP Pavilion x360 (2021) 14\" (35.56cms) FHD Tou...  ₹ 79,046.00   \n",
       "3  (Renewed) Dell Intel Core i7 4th Gen 14 Inch(3...  ₹ 46,999.00   \n",
       "4  Mi Notebook Horizon Edition 14 Intel Core i7-1...  ₹ 59,999.00   \n",
       "5  HP Pavilion Gaming 10th Gen Intel Core i7 Proc...  ₹ 86,990.00   \n",
       "6  Dell Inspiron 5410 14\" FHD Touch Display 2in1 ...  ₹ 91,790.00   \n",
       "7  (Renewed) Dell Intel Core i7 4th Gen 14 Inch(3...  ₹ 39,999.00   \n",
       "8  (Renewed) HP Intel Core i7 6700HQ 15.6-Inch (3...  ₹ 64,490.00   \n",
       "9  (Renewed) Dell Intel Core i7 4th Gen 14 Inch(3...  ₹ 42,999.00   \n",
       "\n",
       "         Rating  \n",
       "0  4.4 out of 5  \n",
       "1             -  \n",
       "2  3.9 out of 5  \n",
       "3             -  \n",
       "4  4.4 out of 5  \n",
       "5  4.2 out of 5  \n",
       "6  4.5 out of 5  \n",
       "7             -  \n",
       "8             -  \n",
       "9             -  "
      ]
     },
     "execution_count": 48,
     "metadata": {},
     "output_type": "execute_result"
    }
   ],
   "source": [
    "laptop=pd.DataFrame({})\n",
    "laptop['Title']=Title[:10]\n",
    "laptop['Price']=Price[:10]\n",
    "laptop['Rating']=Rating[:10]\n",
    "laptop"
   ]
  },
  {
   "cell_type": "code",
   "execution_count": null,
   "metadata": {},
   "outputs": [],
   "source": []
  }
 ],
 "metadata": {
  "kernelspec": {
   "display_name": "Python 3",
   "language": "python",
   "name": "python3"
  },
  "language_info": {
   "codemirror_mode": {
    "name": "ipython",
    "version": 3
   },
   "file_extension": ".py",
   "mimetype": "text/x-python",
   "name": "python",
   "nbconvert_exporter": "python",
   "pygments_lexer": "ipython3",
   "version": "3.8.5"
  }
 },
 "nbformat": 4,
 "nbformat_minor": 4
}

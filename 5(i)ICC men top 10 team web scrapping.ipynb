{
 "cells": [
  {
   "cell_type": "code",
   "execution_count": 3,
   "metadata": {},
   "outputs": [
    {
     "name": "stdout",
     "output_type": "stream",
     "text": [
      "Requirement already satisfied: bs4 in c:\\users\\inpshy\\anaconda3\\lib\\site-packages (0.0.1)\n",
      "Requirement already satisfied: beautifulsoup4 in c:\\users\\inpshy\\anaconda3\\lib\\site-packages (from bs4) (4.9.3)\n",
      "Requirement already satisfied: soupsieve>1.2; python_version >= \"3.0\" in c:\\users\\inpshy\\anaconda3\\lib\\site-packages (from beautifulsoup4->bs4) (2.0.1)\n",
      "Requirement already satisfied: requests in c:\\users\\inpshy\\anaconda3\\lib\\site-packages (2.24.0)\n",
      "Requirement already satisfied: certifi>=2017.4.17 in c:\\users\\inpshy\\anaconda3\\lib\\site-packages (from requests) (2020.6.20)\n",
      "Requirement already satisfied: chardet<4,>=3.0.2 in c:\\users\\inpshy\\anaconda3\\lib\\site-packages (from requests) (3.0.4)\n",
      "Requirement already satisfied: urllib3!=1.25.0,!=1.25.1,<1.26,>=1.21.1 in c:\\users\\inpshy\\anaconda3\\lib\\site-packages (from requests) (1.25.11)\n",
      "Requirement already satisfied: idna<3,>=2.5 in c:\\users\\inpshy\\anaconda3\\lib\\site-packages (from requests) (2.10)\n"
     ]
    }
   ],
   "source": [
    "!pip install bs4\n",
    "!pip install requests"
   ]
  },
  {
   "cell_type": "code",
   "execution_count": 4,
   "metadata": {},
   "outputs": [],
   "source": [
    "#importing the libraries\n",
    "from bs4 import BeautifulSoup\n",
    "import requests"
   ]
  },
  {
   "cell_type": "code",
   "execution_count": 6,
   "metadata": {},
   "outputs": [
    {
     "data": {
      "text/plain": [
       "<Response [200]>"
      ]
     },
     "execution_count": 6,
     "metadata": {},
     "output_type": "execute_result"
    }
   ],
   "source": [
    "#get url response\n",
    "page=requests.get(\"https://www.icc-cricket.com/rankings/mens/team-rankings/odi\")\n",
    "page"
   ]
  },
  {
   "cell_type": "code",
   "execution_count": 7,
   "metadata": {},
   "outputs": [
    {
     "data": {
      "text/plain": [
       "b'<!DOCTYPE html>\\n<html lang=\"en\">\\n<head>\\n\\n    <meta name=\"twitter:title\" content=\"ICC Ranking for ODI teams International Cricket Council\"/>\\n<meta property=\"og:type\" content=\"website\"/>\\n<meta property=\"twitter:card\" content=\"summary_large_image\"/>\\n<meta name=\"description\" content=\"Official International Cricket Council ranking for One Day International (ODI) cricket teams. Discover latest ICC rankings table, predict upcoming matches, see points and ratings for all teams.\"/>\\n<meta property=\"twitter:site\" content=\"@icc\"/>\\n<meta name=\"twitter:description\" content=\"Official International Cricket Council ranking for One Day International (ODI) cricket teams. Discover latest ICC rankings table, predict upcoming matches, see points and ratings for all teams.\"/>\\n<meta name=\"twitter:image\" content=\"https://www.icc-cricket.com/resources/ver/i/elements/default-thumbnail.jpg\"/>\\n<meta property=\"og:title\" content=\"ICC Ranking for ODI teams International Cricket Council\"/>\\n<meta property=\"og:image\" content=\"https://www.icc-cricket.com/resources/ver/i/elements/default-thumbnail.jpg\"/>\\n<title>ICC Ranking for ODI teams International Cricket Council</title>\\n<meta property=\"og:description\" content=\"Official International Cricket Council ranking for One Day International (ODI) cricket teams. Discover latest ICC rankings table, predict upcoming matches, see points and ratings for all teams.\"/>\\n\\n\\t<!-- Designed and built by Pulselive - www.pulselive.com -->\\n    \\n<script>\\n\\n    var dataLayer = [{\\n        \\'user_language\\':\\'English\\',\\n        \\'web_domain\\':\\'www.icc-cricket.com\\',\\n        \\'page_type\\':\\'/rankings/mens/team-rankings/odi\\'  \\n    }];\\n\\n</script>\\n\\n<!-- Google Tag Manager -->\\n<script>(function(w,d,s,l,i){w[l]=w[l]||[];w[l].push({\\'gtm.start\\':\\nnew Date().getTime(),event:\\'gtm.js\\'});var f=d.getElementsByTagName(s)[0],\\nj=d.createElement(s),dl=l!=\\'dataLayer\\'?\\'&l=\\'+l:\\'\\';j.async=true;j.src=\\n\\'https://www.googletagmanager.com/gtm.js?id=\\'+i+dl;f.parentNode.insertBefore(j,f);\\n})(window,document,\\'script\\',\\'dataLayer\\',\\'GTM-T7DPH24\\');</script>\\n<!-- End Google Tag Manager -->\\n\\n\\n    <meta charset=\"UTF-8\">\\n    <meta name=\"viewport\" content=\"width=device-width, initial-scale=1\">\\n    <meta name=\"apple-itunes-app\" content=\"app-id=956440606\"/>\\n\\n    <link rel=\"manifest\" href=\"/resources/prod/v8.18.9/manifest.json\">\\n\\n    <link rel=\"shortcut icon\" href=\"/resources/prod/v8.18.9/i/elements/favicon.ico\" />\\n\\n    <link rel=\"publisher\" href=\"https://plus.google.com/+ICC\">\\n\\n    \\n\\n\\n\\n    <title>International Cricket Council</title>\\n\\n    \\n\\n<!-- google platform library -->\\n<script src=\"https://apis.google.com/js/api:client.js?onload=startApp\" async defer></script>\\n\\n<script>\\n\\n    var startApp = function() {\\n        gapi.load(\\'auth2\\', function(){\\n            // Retrieve the singleton for the GoogleAuth library and set up the client.\\n            auth2 = gapi.auth2.init({\\n                client_id: \\'844310787835-1rirg6e5plp2jou6v701br43iuo0lkcu.apps.googleusercontent.com\\'\\n                // Request scopes in addition to \\'profile\\' and \\'email\\'\\n                //scope: \\'additional_scope\\'\\n            });\\n        });\\n    };\\n</script>\\n\\n\\n    <link href=\"https://fonts.googleapis.com/css?family=Hind+Siliguri:300,400,500,600\" rel=\"stylesheet\">\\n\\n    <!-- Polyfill service provided by the FT - https://github.com/Financial-Times/polyfill-service -->\\n\\t<script src=\"https://cdn.polyfill.io/v2/polyfill.min.js?features=default,fetch\"></script>\\n\\n    <link rel=\"stylesheet\" href=\"/resources/prod/v8.18.9/styles/screen.css\" />\\n\\n    <script>\\n\\t\\twindow.RESOURCE_VERSION = \\'prod/v8.18.9\\';\\n\\t</script>\\n\\n</head>\\n<body>\\n\\n    \\n<!-- Google Tag Manager (noscript) -->\\n<noscript><iframe src=\"https://www.googletagmanager.com/ns.html?id=GTM-T7DPH24\"\\nheight=\"0\" width=\"0\" style=\"display:none;visibility:hidden\"></iframe></noscript>\\n<!-- End Google Tag Manager (noscript) -->\\n\\n<div class=\"u-hide\" data-widget=\"analytics-geolocation\" data-script=\"icc_analytics-geolocation\"></div>\\n\\n<!--\\n    Start of Floodlight Tag: Please do not removeActivity name of this tag: ICC Website - VisitationURL of the webpage where the tag is expected to be placed: This tag must be placed between the <body> and </body> tags, as close as possible to the opening tag. Creation Date: 10/01/2019\\n-->\\n\\n<iframe src=\"https://9282652.fls.doubleclick.net/activityi;src=9282652;type=iccre0;cat=iccwe0;u1=[user_language];u2=[user_country];u3=[page_type];u4=[web_domain];dc_lat=;dc_rdid=;tag_for_child_directed_treatment=;tfua=;npa=;ord=[SessionID]?\" width=\"1\" height=\"1\" frameborder=\"0\" style=\"display:none\"></iframe>\\n\\n<!-- End of Floodlight Tag: Please do not remove -->\\n\\n    \\n\\n<script>\\n    window.fbAsyncInit = function() {\\n        FB.init({\\n            appId            : 159513024983374,\\n            autoLogAppEvents : true,\\n            xfbml            : true,\\n            version          : \\'v3.0\\'\\n        });\\n    };\\n\\n    (function(d, s, id){\\n        var js, fjs = d.getElementsByTagName(s)[0];\\n        if (d.getElementById(id)) {return;}\\n        js = d.createElement(s); js.id = id;\\n        js.src = \"https://connect.facebook.net/en_US/sdk.js\";\\n        fjs.parentNode.insertBefore(js, fjs);\\n    }(document, \\'script\\', \\'facebook-jssdk\\'));\\n</script>\\n\\n\\n    \\n<div class=\"user-account-overlay js-user-account-overlay\"></div>\\n<section class=\"user-account js-user-account\" data-script=\"sso_user-account\" data-widget=\"user-account\">\\n\\n    <div class=\"user-account__wrapper js-panel-account u-hide\">\\n\\n        <div class=\"user-account__header\">\\n\\n            <div class=\"user-account__close js-account-slider-close-btn\" role=\"button\">\\n                <svg class=\"icon\"><use xmlns:xlink=\"http://www.w3.org/1999/xlink\" xlink:href=\"/resources/prod/v8.18.9/i/svg-output/icons.svg#icn-close\"></use></svg>\\n            </div>\\n\\n            <div class=\"user-account__user-wrapper\">\\n                <div class=\"user-account__image\">\\n                    <img src=\"#\" class=\"u-hide js-account-user-img\" alt=\"User Image\">\\n                </div>\\n                <div class=\"user-account__user-info\">\\n                    <p class=\"user-account__user-info__text js-account-user\">Name Lastname</p>\\n                    <p class=\"user-account__user-info__profile js-profile-completion-info u-hide\">\\n                        <svg class=\"icon\"><use xmlns:xlink=\"http://www.w3.org/1999/xlink\" xlink:href=\"/resources/prod/v8.18.9/i/svg-output/icons.svg#icn-alert\"></use></svg>\\n                        Profile <span class=\"js-profile-completion-percentage\"></span>% Complete\\n                    </p>\\n                </div>\\n            </div>\\n\\n            <div class=\"user-account__tabs-nav js-tabs-wrapper\"></div>\\n        </div>\\n\\n        <div class=\"account-message js-account-message\"></div>\\n\\n        <form id=\"user-account\" name=\"user-account\" autocomplete=\"off\">\\n\\n            <div data-ui-tab=\"My Account\" class=\"user-account__tab\">\\n                <div class=\"user-account__social-wrapper js-social-wrapper u-hide\"></div>\\n\\n<fieldset>\\n\\n    <div class=\"form-group-multiple\">\\n        <div class=\"form-group\">\\n            <label class=\"form-group__label\" for=\"given_name\">First name *</label>\\n            <input class=\"form-group__element\" type=\"text\" required name=\"given_name\" id=\"given_name\" pattern=\"^[A-Za-z-\\\\s]+$\" maxlength=\"50\"/>\\n            <p class=\"js-error form-error\"></p>\\n        </div>\\n\\n        <div class=\"form-group\">\\n            <label class=\"form-group__label\" for=\"family_name\">Last name *</label>\\n            <input class=\"form-group__element\" type=\"text\" required name=\"family_name\" id=\"family_name\" pattern=\"[A-Za-z-\\\\s]+$\" maxlength=\"50\"/>\\n            <p class=\"js-error form-error\"></p>\\n        </div>\\n    </div>\\n\\n    <div class=\"form-group-multiple form-group-multiple--with-button\">\\n        <div class=\"form-group is-disabled js-change-email-input\">\\n            <label class=\"form-group__label\" for=\"email\">Email address *</label>\\n            <input class=\"form-group__element\" type=\"email\" name=\"email\" id=\"email\" autocomplete=\"off\" maxlength=\"50\" disabled/>\\n            <p class=\"js-error form-error\"></p>\\n            <p class=\"js-email-exists form-error form-error--email\">Email address not available.</p>\\n        </div>\\n        <div class=\"form-group form-group--button\">\\n            <button class=\"form-btn form-btn--outlined js-change-email\" type=\"button\" novalidate>Change Email</button>\\n        </div>\\n    </div>\\n\\n    <div class=\"form-group-multiple form-group-multiple--with-button js-account-password\">\\n        <div class=\"form-group is-disabled js-change-password-input\">\\n            <label class=\"form-group__label\" for=\"password\">Password *</label>\\n            <input class=\"form-group__element\" type=\"password\" name=\"password\" id=\"password\" placeholder=\"******\" autocomplete=\"off\" disabled/>\\n            <p class=\"js-error form-error\"></p>\\n        </div>\\n        <div class=\"form-group form-group--button\">\\n            <button class=\"form-btn form-btn--outlined js-change-password\" type=\"button\" novalidate>Change Password</button>\\n        </div>\\n    </div>\\n\\n    <div class=\"form-block form-block\">\\n        <div class=\"form-block__label form-block__label--dob\">Date of Birth</div>\\n\\n        <div class=\"form-group-multiple\">\\n            <div class=\"form-group\">\\n                <label class=\"form-group__label\" for=\"day\">Day *</label>\\n                <input class=\"form-group__element\" type=\"number\" required name=\"day\" placeholder=\"dd\" id=\"day\" min=\"0\" />\\n                <p class=\"js-error form-error\"></p>\\n\\n            </div>\\n            <div class=\"form-group\">\\n                <label class=\"form-group__label\" for=\"month\">Month *</label>\\n                <input class=\"form-group__element\" type=\"number\" required name=\"month\" placeholder=\"mm\" id=\"month\" min=\"0\"/>\\n                <p class=\"js-error form-error\"></p>\\n            </div>\\n            <div class=\"form-group\">\\n                <label class=\"form-group__label\" for=\"year\">Year *</label>\\n                <input class=\"form-group__element\" type=\"number\" required name=\"year\" placeholder=\"yyyy\" id=\"year\" min=\"0\"/>\\n                <p class=\"js-error form-error\"></p>\\n            </div>\\n        </div>\\n        <p class=\"js-date-error form-error form-error--date\">The date of birth is not valid</p>\\n    </div>\\n\\n    <div class=\"form-block\" data-widget=\"form-dropdown\" data-dropdown-type=\"SSO_COUNTRY\">\\n        <div class=\"form-block__label\">Country of residence</div>\\n        <div class=\"form-dropdown js-dropdown-wrapper\"></div>\\n    </div>\\n\\n</fieldset>\\n\\n            </div>\\n            <div data-ui-tab=\"My Preferences\" class=\"user-account__tab\">\\n                <div class=\"js-account-prefs u-hide\">\\n    <fieldset>\\n\\n        <div class=\"form-block\" data-widget=\"form-dropdown\" data-dropdown-type=\"SSO_TEAM\">\\n            <div class=\"form-block__label\">Your favourite team</div>\\n            <div class=\"form-dropdown js-dropdown-wrapper\"></div>\\n        </div>\\n\\n        <div class=\"js-contact-prefs user-account__contact-prefs-wrapper\">\\n\\n            <div class=\"user-account__alert\">\\n                <svg class=\"icon\"><use xmlns:xlink=\"http://www.w3.org/1999/xlink\" xlink:href=\"/resources/prod/v8.18.9/i/svg-output/icons.svg#icn-alert\"></use></svg>\\n                <span>Sorry, but your contact preferences will take up to 24hrs to update</span>\\n            </div>\\n\\n            <div class=\"user-account__contact-prefs\">\\n                <div class=\"form-block form-block--no-margin\">\\n                    <div class=\"form-group form-group--checkbox\">\\n                        <input class=\"form-group__element\" type=\"checkbox\" name=\"allow-contacting\" id=\"allow-contacting\"/>\\n                        <label class=\"form-group__label\" for=\"allow-contacting\">I\\'m happy for the ICC to contact me</label>\\n                    </div>\\n                    <p class=\"js-error form-error\"></p>\\n                </div>\\n\\n                <div class=\"form-block form-block--no-margin\">\\n                    <div class=\"form-group form-group--checkbox\">\\n                        <input class=\"form-group__element\" type=\"checkbox\" name=\"allow-partner-contacting\" id=\"allow-partner-contacting\"/>\\n                        <label class=\"form-group__label\" for=\"allow-partner-contacting\">I\\'m happy for the ICC\\'s partners to contact me</label>\\n                    </div>\\n                    <p class=\"js-error form-error\"></p>\\n                </div>\\n            </div>\\n\\n        </div>\\n\\n    </fieldset>\\n</div>\\n\\n<div class=\"overlay__loader__small js-loader-prefs\">\\n    Hold on! Loading your preferences <div class=\"loader loader--small\"></div>\\n</div>\\n\\n            </div>\\n\\n            <div class=\"user-account__buttons-wrapper\">\\n                <div class=\"user-account__account-actions js-buttons-wrapper\">\\n                    <button class=\"form-btn form-btn--grey is-disabled js-cancel\" disabled>Cancel</button>\\n                    <button class=\"form-btn is-disabled js-submit\" type=\"submit\" disabled>Save Changes</button>\\n                    <div class=\"loader js-loader u-hide\"></div>\\n                </div>\\n                <button class=\"form-btn form-btn--grey js-account-signout u-show-tablet\">Sign Out<svg class=\"icon\"><use xmlns:xlink=\"http://www.w3.org/1999/xlink\" xlink:href=\"/resources/prod/v8.18.9/i/svg-output/icons.svg#icn-sign-out\"></use></svg></button>\\n            </div>\\n        </form>\\n\\n    </div>\\n\\n    <div class=\"user-account__wrapper js-panel-account-password u-hide\">\\n        <form id=\"account-edit-password\" name=\"account-edit-password\" novalidate>\\n    <div class=\"user-account__tabs-wrapper\">\\n\\n        <h1 class=\"overlay__title\">\\n            Edit your password\\n            <span class=\"overlay__title__option\"><a href=\"#\" class=\"form-cta js-cancel-password\">back</a></span>\\n        </h1>\\n\\n        <div class=\"form-group form-group--password\">\\n            <div class=\"form-group__password-action js-toggle-password\">Show</div>\\n            <label class=\"form-group__label\" for=\"current-password\">Current Password *</label>\\n            <input class=\"form-group__element\" type=\"password\" required name=\"current-password\" id=\"current-password\" />\\n            <p class=\"js-error form-error\"></p>\\n            <p class=\"js-current-pwd-error form-error form-error--email\">Invalid current password</p>\\n        </div>\\n\\n        <a class=\"form-cta form-cta--right\" href=\"/forgot-password\">Forgot password?</a>\\n\\n        <div class=\"form-block\">\\n            <div class=\"form-group form-group--password\">\\n                <div class=\"form-group__password-action js-toggle-password\">Show</div>\\n                <label class=\"form-group__label\" for=\"new-password\">New password *</label>\\n                <input class=\"form-group__element\" type=\"password\" required name=\"new-password\" id=\"new-password\" />\\n                <div class=\"form-block__verify-password form-block__verify-password--slider js-verify-password\">\\n                    Password must include...\\n                    <ul class=\"form-block__verify-list\">\\n                        <li class=\"js-verify-length\">8 or more characters</li>\\n                        <li class=\"js-verify-letters\">At least one upper and lower case letter</li>\\n                        <li class=\"js-verify-number\">At least one number or symbol</li>\\n                    </ul>\\n                </div>\\n                <p class=\"js-error form-error\"></p>\\n                <p class=\"js-new-pwd-error form-error form-error--email\">The new password needs to be different than the current one.</p>\\n            </div>\\n        </div>\\n\\n        <div class=\"form-group form-group--password\">\\n            <div class=\"form-group__password-action js-toggle-password\">Show</div>\\n            <label class=\"form-group__label\" for=\"confirm-password\">Confirm new password *</label>\\n            <input class=\"form-group__element\" type=\"password\" required name=\"confirm-password\" id=\"confirm-password\" />\\n            <p class=\"js-error form-error\"></p>\\n            <p class=\"js-confirm-pwd-error form-error form-error--email\">The confirmation does not match your new password</p>\\n        </div>\\n    </div>\\n\\n    <div class=\"user-account__buttons-wrapper\">\\n        <div class=\"user-account__account-actions\">\\n            <button class=\"form-btn form-btn--grey js-cancel-password\" type=\"button\">Cancel</button>\\n            <button class=\"form-btn is-disabled js-submit-password\" type=\"submit\" disabled>Change Password</button>\\n            <div class=\"loader js-password-loader u-hide\"></div>\\n        </div>\\n    </div>\\n</form>\\n\\n    </div>\\n\\n</section>\\n\\n\\n<div class=\"js-mobile-banner mobile-banner \" data-widget=\"mobile-banner\">\\n    <div class=\"wrapper\">\\n        <div class=\"col-12\">\\n            <div class=\"mobile-banner__wrapper\">\\n                <p class=\"mobile-banner__header\">Official ICC App</p>\\n                <p class=\"mobile-banner__subheader\"><strong>Your App for international cricket.</strong> The official ICC app provides coverage across all of the current international action including fixtures, results, videos, ICC news, rankings and more. Don\\xe2\\x80\\x99t miss a moment and keep up with the latest from around the world of cricket!</p>\\n                <div class=\"mobile-banner__app-buttons\">\\n                    <a target=\"_blank\" href=\"https://www.icc-cricket.com/mobile\" class=\"btn\">Find Out More</a>\\n                </div>\\n            </div>\\n        </div>\\n    </div>\\n    <a class=\"mobile-banner__close js-mobile-banner-close\">\\n        <svg class=\"icon\"><use xmlns:xlink=\"http://www.w3.org/1999/xlink\" xlink:href=\"/resources/prod/v8.18.9/i/svg-output/icons.svg#icn-close\"></use></svg>\\n    </a>\\n</div>\\n\\n\\t<div class=\"global-header \">\\n\\t\\t<ul class=\"global-header__list\">\\n                    <li class=\"global-header__item \">\\n            \\t\\t\\t<a href=\"http://www.icctravelandtours.com/\" class=\"global-header__link\"><svg class=\"icon plane\"><use xmlns:xlink=\"http://www.w3.org/1999/xlink\" xlink:href=\"/resources/prod/v8.18.9/i/svg-output/icons.svg#icn-plane\"></use></svg>ICC Travel & Tours</a>\\n            \\t\\t</li>\\n                    <li class=\"global-header__item \">\\n            \\t\\t\\t<a href=\"https://tickets.t20worldcup.com/content/wt20/home.aspx\" class=\"global-header__link\"><svg class=\"icon tickets\"><use xmlns:xlink=\"http://www.w3.org/1999/xlink\" xlink:href=\"/resources/prod/v8.18.9/i/svg-output/icons.svg#icn-tickets\"></use></svg>ICC Tickets</a>\\n            \\t\\t</li>\\n                    <li class=\"global-header__item \">\\n            \\t\\t\\t<a href=\"https://icccricketshop.com/\" class=\"global-header__link\"><svg class=\"icon shopping-cart\"><use xmlns:xlink=\"http://www.w3.org/1999/xlink\" xlink:href=\"/resources/prod/v8.18.9/i/svg-output/icons.svg#icn-shopping-cart\"></use></svg>ICC Shop</a>\\n            \\t\\t</li>\\n\\t\\t</ul>\\n\\t\\t\\n    <ul class=\"global-header-social__list\">\\n            <li class=\"global-header-social__item\">\\n                <a href=\"https://www.facebook.com/icc/\" class=\"global-header-social__link global-header-social__link--facebook-f\" target=\"_blank\">\\n                    <svg class=\"icon\"><use xmlns:xlink=\"http://www.w3.org/1999/xlink\" xlink:href=\"/resources/prod/v8.18.9/i/svg-output/icons.svg#icn-facebook-f\"></use></svg>\\n                </a>\\n            </li>\\n            <li class=\"global-header-social__item\">\\n                <a href=\"https://twitter.com/ICC\" class=\"global-header-social__link global-header-social__link--twitter\" target=\"_blank\">\\n                    <svg class=\"icon\"><use xmlns:xlink=\"http://www.w3.org/1999/xlink\" xlink:href=\"/resources/prod/v8.18.9/i/svg-output/icons.svg#icn-twitter\"></use></svg>\\n                </a>\\n            </li>\\n            <li class=\"global-header-social__item\">\\n                <a href=\"https://www.instagram.com/icc/\" class=\"global-header-social__link global-header-social__link--instagram\" target=\"_blank\">\\n                    <svg class=\"icon\"><use xmlns:xlink=\"http://www.w3.org/1999/xlink\" xlink:href=\"/resources/prod/v8.18.9/i/svg-output/icons.svg#icn-instagram\"></use></svg>\\n                </a>\\n            </li>\\n            <li class=\"global-header-social__item\">\\n                <a href=\"https://www.youtube.com/user/CricketICC\" class=\"global-header-social__link global-header-social__link--youtube\" target=\"_blank\">\\n                    <svg class=\"icon\"><use xmlns:xlink=\"http://www.w3.org/1999/xlink\" xlink:href=\"/resources/prod/v8.18.9/i/svg-output/icons.svg#icn-youtube\"></use></svg>\\n                </a>\\n            </li>\\n    </ul>\\n\\n\\t\\t<div class=\"global-header__sso\" data-script=\"icc_global-header\" data-widget=\"user-login\">\\n    <a href=\"/sign-in\" class=\"btn btn--account btn--icon js-nav-default is-transitioning\">\\n        <svg class=\"icon\"><use xmlns:xlink=\"http://www.w3.org/1999/xlink\" xlink:href=\"/resources/prod/v8.18.9/i/svg-output/icons.svg#icn-account\"></use></svg>\\n        Sign In / Create Account\\n        <span class=\"btn__loading-bar\"></span>\\n    </a>\\n    <div class=\"global-header__sign-in js-nav-signedin u-hide\">\\n\\n        <div class=\"global-header__user-message js-nav-user\" tabindex=\"0\" role=\"button\">\\n            <div class=\"global-header__image-container\">\\n                <img src=\"#\" class=\"u-hide js-nav-user-img\" alt=\"User Image\">\\n            </div>\\n            <div class=\"global-header__username\">Welcome back, <span class=\"js-nav-user-text\"></span></div>\\n        </div>\\n\\n        <ul class=\"global-header__dropdown global-header__user-dropdown js-dropdown\">\\n            <li class=\"global-header__dropdown-item\"><a href=\"#\" class=\"js-nav-account\">Account</a></li>\\n            <li class=\"global-header__dropdown-item global-header__dropdown-item--signout\">\\n                <a href=\"#\" class=\"js-nav-logout\">Sign Out</a>\\n                <svg class=\"icon\"><use xmlns:xlink=\"http://www.w3.org/1999/xlink\" xlink:href=\"/resources/prod/v8.18.9/i/svg-output/icons.svg#icn-sign-out\"></use></svg>\\n            </li>\\n        </ul>\\n\\n    </div>\\n</div>\\n\\n\\t</div>\\n\\n\\n\\n    <div class=\"global-navigation\">\\n        <div class=\"global-navigation__default-bg\"></div>\\n        <div class=\"global-navigation__fixed-container\" data-script=\"icc_global-navigation\" data-widget=\"global-navigation\">\\n        \\t<nav class=\"global-navigation__main js-global-navigation is-open\" data-widget=\"scroll-boundary\" data-active-class=\"is-fixed\">\\n        \\t\\t<a href=\"/home-page\" class=\"global-navigation__branding\">\\n        \\t\\t\\t<div class=\"icn icn-logo-icc\"></div>\\n        \\t\\t</a>\\n        \\t\\t<div role=\"button\" class=\"global-navigation__menu-button js-global-navigation-menu-button\">\\n        \\t\\t\\t<span class=\"global-navigation__menu-button-text global-navigation__menu-button-text--open\">Menu</span>\\n        \\t\\t\\t<span class=\"global-navigation__menu-button-text global-navigation__menu-button-text--close\">Close</span>\\n        \\t\\t\\t<div class=\"menu-button\">\\n        \\t            <div></div>\\n        \\t            <div></div>\\n        \\t            <div></div>\\n        \\t        </div>\\n        \\t\\t</div>\\n\\n        \\t\\t<div class=\"global-navigation__container js-global-navigation-container\">\\n        \\t\\t\\t<ul class=\"global-navigation__list\">\\n\\t<li tabindex=\"0\" class=\"global-navigation__item js-global-navigation-item #! global-navigation__item--home has-link \">\\n\\n\\t\\t<div role=\"button\" class=\"global-navigation__link\">\\n    \\t\\t\\t<a href=\"/\">Home\\n                </a>\\n\\t\\t</div>\\n\\t</li>\\n\\t<li tabindex=\"0\" class=\"global-navigation__item js-global-navigation-item #! global-navigation__item--live has-drop-down \">\\n\\n\\t\\t<div role=\"button\" class=\"global-navigation__link\">\\n\\t\\t         Live <svg class=\"icon\"><use xmlns:xlink=\"http://www.w3.org/1999/xlink\" xlink:href=\"/resources/prod/v8.18.9/i/svg-output/icons.svg#icn-chevron-down\"></use></svg>\\n\\t\\t\\t\\t<span class=\"global-navigation__live-counter js-match-counter-nav\"></span>\\n\\t\\t</div>\\n\\t\\t\\t<div class=\"global-navigation__drop-down\">\\n\\t\\t\\t\\t<ul class=\"global-navigation__drop-down-list\">\\n\\t\\t\\t\\t\\t\\t\\t<li class=\"global-navigation__drop-down-item \"><a href=\"/live-cricket/live\" class=\" global-navigation__drop-down-link js-global-navigation-drop-down-link \">Live Scores</a></li>\\n\\t\\t\\t\\t\\t\\t\\t<li class=\"global-navigation__drop-down-item \"><a href=\"/live-cricket/mens-results\" class=\" global-navigation__drop-down-link js-global-navigation-drop-down-link \">Men\\'s Results</a></li>\\n\\t\\t\\t\\t\\t\\t\\t<li class=\"global-navigation__drop-down-item \"><a href=\"/live-cricket/womens-results\" class=\" global-navigation__drop-down-link js-global-navigation-drop-down-link \">Women\\'s Results</a></li>\\n\\t\\t\\t\\t</ul>\\n\\t\\t\\t</div>\\n\\n\\t</li>\\n\\t<li tabindex=\"0\" class=\"global-navigation__item js-global-navigation-item #! has-drop-down \">\\n\\n\\t\\t<div role=\"button\" class=\"global-navigation__link\">\\n\\t\\t         Fixtures <svg class=\"icon\"><use xmlns:xlink=\"http://www.w3.org/1999/xlink\" xlink:href=\"/resources/prod/v8.18.9/i/svg-output/icons.svg#icn-chevron-down\"></use></svg>\\n\\t\\t</div>\\n\\t\\t\\t<div class=\"global-navigation__drop-down\">\\n\\t\\t\\t\\t<ul class=\"global-navigation__drop-down-list\">\\n\\t\\t\\t\\t\\t\\t\\t<li class=\"global-navigation__drop-down-item \"><a href=\"/mens-schedule/list\" class=\" global-navigation__drop-down-link js-global-navigation-drop-down-link \">Men\\'s Fixtures</a></li>\\n\\t\\t\\t\\t\\t\\t\\t<li class=\"global-navigation__drop-down-item \"><a href=\"/womens-schedule/list\" class=\" global-navigation__drop-down-link js-global-navigation-drop-down-link \">Women\\'s Fixtures</a></li>\\n\\t\\t\\t\\t</ul>\\n\\t\\t\\t</div>\\n\\n\\t</li>\\n\\t<li tabindex=\"0\" class=\"global-navigation__item js-global-navigation-item #! has-drop-down \">\\n\\n\\t\\t<div role=\"button\" class=\"global-navigation__link\">\\n\\t\\t         ICC Events <svg class=\"icon\"><use xmlns:xlink=\"http://www.w3.org/1999/xlink\" xlink:href=\"/resources/prod/v8.18.9/i/svg-output/icons.svg#icn-chevron-down\"></use></svg>\\n\\t\\t</div>\\n\\t\\t\\t<div class=\"global-navigation__drop-down\">\\n\\t\\t\\t\\t<ul class=\"global-navigation__drop-down-list\">\\n\\t\\t\\t\\t\\t\\t\\t<li class=\"global-navigation__drop-down-item \"><a href=\"/u19-world-cup/\" class=\" global-navigation__drop-down-link js-global-navigation-drop-down-link \">ICC U19 Cricket World Cup</a></li>\\n\\t\\t\\t\\t\\t\\t\\t<li class=\"global-navigation__drop-down-item \"><a href=\"/world-test-championship\" class=\" global-navigation__drop-down-link js-global-navigation-drop-down-link \">ICC World Test Championship</a></li>\\n\\t\\t\\t\\t\\t\\t\\t<li class=\"global-navigation__drop-down-item \"><a href=\"/t20-world-cup\" class=\" global-navigation__drop-down-link js-global-navigation-drop-down-link \">ICC T20 World Cup</a></li>\\n\\t\\t\\t\\t\\t\\t\\t<li class=\"global-navigation__drop-down-item \"><a href=\"http://www.cricketworldcup.com\" class=\" global-navigation__drop-down-link js-global-navigation-drop-down-link \">ICC Men\\'s Cricket World Cup</a></li>\\n\\t\\t\\t\\t\\t\\t\\t<li class=\"global-navigation__drop-down-item \"><a href=\"/womens-world-cup/\" class=\" global-navigation__drop-down-link js-global-navigation-drop-down-link \">ICC Women\\'s Cricket World Cup</a></li>\\n\\t\\t\\t\\t\\t\\t\\t<li class=\"global-navigation__drop-down-item \"><a href=\"/cricket-world-cup-super-league/fixtures\" class=\" global-navigation__drop-down-link js-global-navigation-drop-down-link \">ICC Men\\'s Cricket World Cup Super League</a></li>\\n\\t\\t\\t\\t\\t\\t\\t<li class=\"global-navigation__drop-down-item \"><a href=\"/cricket-world-cup-challenge-league/news\" class=\" global-navigation__drop-down-link js-global-navigation-drop-down-link \">ICC Men\\'s Cricket World Cup Challenge League</a></li>\\n\\t\\t\\t\\t\\t\\t\\t<li class=\"global-navigation__drop-down-item \"><a href=\"/cricket-world-cup-league-two/news\" class=\" global-navigation__drop-down-link js-global-navigation-drop-down-link \">ICC Men\\'s Cricket World Cup League 2</a></li>\\n\\t\\t\\t\\t\\t\\t\\t<li class=\"global-navigation__drop-down-item \"><a href=\"/womens-championship\" class=\" global-navigation__drop-down-link js-global-navigation-drop-down-link \">ICC Women\\'s Championship</a></li>\\n\\t\\t\\t\\t\\t\\t\\t<li class=\"global-navigation__drop-down-item \"><a href=\"/event-status\" class=\" global-navigation__drop-down-link js-global-navigation-drop-down-link \">2021 Event status</a></li>\\n\\t\\t\\t\\t</ul>\\n\\t\\t\\t</div>\\n\\n\\t</li>\\n\\t<li tabindex=\"0\" class=\"global-navigation__item js-global-navigation-item #! has-drop-down \">\\n\\n\\t\\t<div role=\"button\" class=\"global-navigation__link\">\\n\\t\\t         Rankings <svg class=\"icon\"><use xmlns:xlink=\"http://www.w3.org/1999/xlink\" xlink:href=\"/resources/prod/v8.18.9/i/svg-output/icons.svg#icn-chevron-down\"></use></svg>\\n\\t\\t</div>\\n\\n\\t\\t\\t\\t<div class=\"global-navigation__drop-down global-navigation__drop-down--2-column\">\\n\\t\\t\\t\\t\\t<div class=\"global-navigation__drop-down-column\">\\n\\t\\t\\t\\t\\t\\t<div class=\"global-navigation__drop-down-title\">Men\\'s Rankings</div>\\n\\t\\t\\t\\t\\t\\t<ul class=\"global-navigation__drop-down-list\">\\n\\t\\t\\t\\t\\t\\t\\t\\t<li class=\"global-navigation__drop-down-item\"><a href=\"/rankings/mens/overview\" class=\" global-navigation__drop-down-link js-global-navigation-drop-down-link\">Overview</a></li>\\n\\t\\t\\t\\t\\t\\t\\t\\t<li class=\"global-navigation__drop-down-item\"><a href=\"/rankings/mens/team-rankings\" class=\" global-navigation__drop-down-link js-global-navigation-drop-down-link\">Team Rankings</a></li>\\n\\t\\t\\t\\t\\t\\t\\t\\t<li class=\"global-navigation__drop-down-item\"><a href=\"/rankings/mens/player-rankings\" class=\" global-navigation__drop-down-link js-global-navigation-drop-down-link\">Players Rankings</a></li>\\n\\t\\t\\t\\t\\t\\t\\t\\t<li class=\"global-navigation__drop-down-item\"><a href=\"/rankings/mens/player-rankings/comparison\" class=\" global-navigation__drop-down-link js-global-navigation-drop-down-link\">Player Comparison</a></li>\\n\\t\\t\\t\\t\\t\\t\\t\\t<li class=\"global-navigation__drop-down-item\"><a href=\"/rankings/mens/rankings-predictor/test\" class=\" global-navigation__drop-down-link js-global-navigation-drop-down-link\">Team Rankings Predictor</a></li>\\n\\t\\t\\t\\t\\t\\t\\t\\t<li class=\"global-navigation__drop-down-item\"><a href=\"/rankings/about\" class=\" global-navigation__drop-down-link js-global-navigation-drop-down-link\">About the Rankings</a></li>\\n\\t\\t\\t\\t\\t\\t\\t\\t<li class=\"global-navigation__drop-down-item\"><a href=\"/rankings/faqs\" class=\" global-navigation__drop-down-link js-global-navigation-drop-down-link\">Rankings FAQ</a></li>\\n\\t\\t\\t\\t\\t\\t</ul>\\n\\t\\t\\t\\t\\t</div>\\n\\t\\t\\t\\t\\t<div class=\"global-navigation__drop-down-column\">\\n\\t\\t\\t\\t\\t\\t<div class=\"global-navigation__drop-down-title\">Women\\'s Rankings</div>\\n\\t\\t\\t\\t\\t\\t<ul class=\"global-navigation__drop-down-list\">\\n\\t\\t\\t\\t\\t\\t\\t\\t<li class=\"global-navigation__drop-down-item\"><a href=\"/rankings/womens/overview\" class=\" global-navigation__drop-down-link js-global-navigation-drop-down-link\">Overview</a></li>\\n\\t\\t\\t\\t\\t\\t\\t\\t<li class=\"global-navigation__drop-down-item\"><a href=\"/rankings/womens/team-rankings\" class=\" global-navigation__drop-down-link js-global-navigation-drop-down-link\">Team Rankings</a></li>\\n\\t\\t\\t\\t\\t\\t\\t\\t<li class=\"global-navigation__drop-down-item\"><a href=\"/rankings/womens/player-rankings\" class=\" global-navigation__drop-down-link js-global-navigation-drop-down-link\">Player Rankings</a></li>\\n\\t\\t\\t\\t\\t\\t</ul>\\n\\t\\t\\t\\t\\t</div>\\n\\t\\t\\t\\t</div>\\n\\t</li>\\n\\t<li tabindex=\"0\" class=\"global-navigation__item js-global-navigation-item #! has-drop-down \">\\n\\n\\t\\t<div role=\"button\" class=\"global-navigation__link\">\\n\\t\\t         Teams <svg class=\"icon\"><use xmlns:xlink=\"http://www.w3.org/1999/xlink\" xlink:href=\"/resources/prod/v8.18.9/i/svg-output/icons.svg#icn-chevron-down\"></use></svg>\\n\\t\\t</div>\\n\\t\\t\\t<div class=\"global-navigation__drop-down\">\\n\\t\\t\\t\\t<ul class=\"global-navigation__drop-down-list\">\\n\\t\\t\\t\\t\\t\\t\\t<li class=\"global-navigation__drop-down-item \"><a href=\"https://www.icc-cricket.com/teams/men\" class=\" global-navigation__drop-down-link js-global-navigation-drop-down-link \">Men</a></li>\\n\\t\\t\\t\\t\\t\\t\\t<li class=\"global-navigation__drop-down-item \"><a href=\"https://www.icc-cricket.com/teams/women\" class=\" global-navigation__drop-down-link js-global-navigation-drop-down-link \">Women</a></li>\\n\\t\\t\\t\\t\\t\\t\\t<li class=\"global-navigation__drop-down-item \"><a href=\"https://www.icc-cricket.com/teams/u19\" class=\" global-navigation__drop-down-link js-global-navigation-drop-down-link \">U19</a></li>\\n\\t\\t\\t\\t</ul>\\n\\t\\t\\t</div>\\n\\n\\t</li>\\n\\t<li tabindex=\"0\" class=\"global-navigation__item js-global-navigation-item #! has-drop-down \">\\n\\n\\t\\t<div role=\"button\" class=\"global-navigation__link\">\\n\\t\\t         Video <svg class=\"icon\"><use xmlns:xlink=\"http://www.w3.org/1999/xlink\" xlink:href=\"/resources/prod/v8.18.9/i/svg-output/icons.svg#icn-chevron-down\"></use></svg>\\n\\t\\t</div>\\n\\t\\t\\t<div class=\"global-navigation__drop-down\">\\n\\t\\t\\t\\t<ul class=\"global-navigation__drop-down-list\">\\n\\t\\t\\t\\t\\t\\t\\t<li class=\"global-navigation__drop-down-item \"><a href=\"/video/vault\" class=\" global-navigation__drop-down-link js-global-navigation-drop-down-link \">ICC Vault</a></li>\\n\\t\\t\\t\\t\\t\\t\\t<li class=\"global-navigation__drop-down-item \"><a href=\"/video\" class=\" global-navigation__drop-down-link js-global-navigation-drop-down-link \">Video Home</a></li>\\n\\t\\t\\t\\t\\t\\t\\t<li class=\"global-navigation__drop-down-item \"><a href=\"/video/by-country\" class=\" global-navigation__drop-down-link js-global-navigation-drop-down-link \">Videos By Country</a></li>\\n\\t\\t\\t\\t\\t\\t\\t<li class=\"global-navigation__drop-down-item \"><a href=\"/video/events\" class=\" global-navigation__drop-down-link js-global-navigation-drop-down-link \">ICC Events</a></li>\\n\\t\\t\\t\\t\\t\\t\\t<li class=\"global-navigation__drop-down-item \"><a href=\"/video/cricket-360\" class=\" global-navigation__drop-down-link js-global-navigation-drop-down-link \">ICC Cricket 360\\xc2\\xb0</a></li>\\n\\t\\t\\t\\t\\t\\t\\t<li class=\"global-navigation__drop-down-item \"><a href=\"/video/what-is-cricket\" class=\" global-navigation__drop-down-link js-global-navigation-drop-down-link \">What is Cricket?</a></li>\\n\\t\\t\\t\\t</ul>\\n\\t\\t\\t</div>\\n\\n\\t</li>\\n\\t<li tabindex=\"0\" class=\"global-navigation__item js-global-navigation-item #! has-drop-down \">\\n\\n\\t\\t<div role=\"button\" class=\"global-navigation__link\">\\n\\t\\t         More <svg class=\"icon\"><use xmlns:xlink=\"http://www.w3.org/1999/xlink\" xlink:href=\"/resources/prod/v8.18.9/i/svg-output/icons.svg#icn-chevron-down\"></use></svg>\\n\\t\\t</div>\\n\\t\\t\\t<div class=\"global-navigation__drop-down\">\\n\\t\\t\\t\\t<ul class=\"global-navigation__drop-down-list\">\\n\\t\\t\\t\\t\\t\\t\\t<li class=\"global-navigation__drop-down-item global-nav__item--divider\"><a href=\"https://www.icc-cricket.com/about\" class=\" global-navigation__drop-down-link js-global-navigation-drop-down-link \">About ICC</a></li>\\n\\t\\t\\t\\t\\t\\t\\t<li class=\"global-navigation__drop-down-item \"><a href=\"/quiz\" class=\" global-navigation__drop-down-link js-global-navigation-drop-down-link \">Quiz</a></li>\\n\\t\\t\\t\\t\\t\\t\\t<li class=\"global-navigation__drop-down-item \"><a href=\"/awards/overview\" class=\" global-navigation__drop-down-link js-global-navigation-drop-down-link \">Awards</a></li>\\n\\t\\t\\t\\t\\t\\t\\t<li class=\"global-navigation__drop-down-item \"><a href=\"/hall-of-fame\" class=\" global-navigation__drop-down-link js-global-navigation-drop-down-link \">Hall of Fame</a></li>\\n\\t\\t\\t\\t\\t\\t\\t<li class=\"global-navigation__drop-down-item \"><a href=\"/social\" class=\" global-navigation__drop-down-link js-global-navigation-drop-down-link \">ICC on Social</a></li>\\n\\t\\t\\t\\t\\t\\t\\t<li class=\"global-navigation__drop-down-item \"><a href=\"/media-releases\" class=\" global-navigation__drop-down-link js-global-navigation-drop-down-link \">Media Releases</a></li>\\n\\t\\t\\t\\t\\t\\t\\t<li class=\"global-navigation__drop-down-item \"><a href=\"/news\" class=\" global-navigation__drop-down-link js-global-navigation-drop-down-link \">News</a></li>\\n\\t\\t\\t\\t\\t\\t\\t<li class=\"global-navigation__drop-down-item \"><a href=\"/photos\" class=\" global-navigation__drop-down-link js-global-navigation-drop-down-link \">Photos</a></li>\\n\\t\\t\\t\\t\\t\\t\\t<li class=\"global-navigation__drop-down-item \"><a href=\"/cricket-for-good\" class=\" global-navigation__drop-down-link js-global-navigation-drop-down-link \">Cricket for Good</a></li>\\n\\t\\t\\t\\t\\t\\t\\t<li class=\"global-navigation__drop-down-item \"><a href=\"/mobile\" class=\" global-navigation__drop-down-link js-global-navigation-drop-down-link \">Mobile App</a></li>\\n\\t\\t\\t\\t\\t\\t\\t<li class=\"global-navigation__drop-down-item \"><a href=\"/news/318971\" class=\" global-navigation__drop-down-link js-global-navigation-drop-down-link \">Commercial Opportunities</a></li>\\n\\t\\t\\t\\t\\t\\t\\t<li class=\"global-navigation__drop-down-item \"><a href=\"/criiio/\" class=\" global-navigation__drop-down-link js-global-navigation-drop-down-link \">criiio</a></li>\\n\\t\\t\\t\\t\\t\\t\\t<li class=\"global-navigation__drop-down-item \"><a href=\"/100percentcricket\" class=\" global-navigation__drop-down-link js-global-navigation-drop-down-link \">100% Cricket</a></li>\\n\\t\\t\\t\\t\\t\\t\\t<li class=\"global-navigation__drop-down-item \"><a href=\"https://icccricketshop.com/\" class=\" global-navigation__drop-down-link js-global-navigation-drop-down-link \">ICC Shop</a></li>\\n\\t\\t\\t\\t</ul>\\n\\t\\t\\t</div>\\n\\n\\t</li>\\n        \\t\\t\\t</ul>\\n                    \\n\\t<div class=\"global-navigation-menu u-hide\">\\n\\t\\t<ul class=\"global-navigation-menu__list\">\\n\\t\\t\\t\\t\\t<li class=\"global-navigation-menu__item\">\\n\\t\\t\\t\\t\\t\\t<a href=\"http://www.icctravelandtours.com/\" class=\"global-navigation-menu__link\">\\n\\t\\t\\t\\t\\t\\t\\t<svg class=\"icon plane\"><use xmlns:xlink=\"http://www.w3.org/1999/xlink\" xlink:href=\"/resources/prod/v8.18.9/i/svg-output/icons.svg#icn-plane\"></use></svg>\\n\\t\\t\\t\\t\\t\\t\\tICC Travel & Tours\\n\\t\\t\\t\\t\\t\\t</a>\\n\\t\\t\\t\\t\\t</li>\\n\\t\\t\\t\\t\\t<li class=\"global-navigation-menu__item\">\\n\\t\\t\\t\\t\\t\\t<a href=\"https://tickets.t20worldcup.com/content/wt20/home.aspx\" class=\"global-navigation-menu__link\">\\n\\t\\t\\t\\t\\t\\t\\t<svg class=\"icon tickets\"><use xmlns:xlink=\"http://www.w3.org/1999/xlink\" xlink:href=\"/resources/prod/v8.18.9/i/svg-output/icons.svg#icn-tickets\"></use></svg>\\n\\t\\t\\t\\t\\t\\t\\tICC Tickets\\n\\t\\t\\t\\t\\t\\t</a>\\n\\t\\t\\t\\t\\t</li>\\n\\t\\t\\t\\t\\t<li class=\"global-navigation-menu__item\">\\n\\t\\t\\t\\t\\t\\t<a href=\"https://icccricketshop.com/\" class=\"global-navigation-menu__link\">\\n\\t\\t\\t\\t\\t\\t\\t<svg class=\"icon shopping-cart\"><use xmlns:xlink=\"http://www.w3.org/1999/xlink\" xlink:href=\"/resources/prod/v8.18.9/i/svg-output/icons.svg#icn-shopping-cart\"></use></svg>\\n\\t\\t\\t\\t\\t\\t\\tICC Shop\\n\\t\\t\\t\\t\\t\\t</a>\\n\\t\\t\\t\\t\\t</li>\\n            <li class=\"global-navigation-menu__item global-navigation-menu__item--user js-nav-default-mobile\">\\n                <a href=\"/sign-in\" class=\"global-navigation-menu__link\">\\n                    <svg class=\"icon\"><use xmlns:xlink=\"http://www.w3.org/1999/xlink\" xlink:href=\"/resources/prod/v8.18.9/i/svg-output/icons.svg#icn-account\"></use></svg>\\n                    Sign In/Create Account\\n                </a>\\n            </li>\\n            <li class=\"global-navigation-menu__item global-navigation-menu__item--user js-nav-signedin-mobile u-hide\">\\n                <a href=\"#\" class=\"global-navigation-menu__link\">\\n                    <div class=\"global-navigation-menu__image-container\">\\n                        <img src=\"#\" class=\"u-hide js-nav-user-img-mobile\" alt=\"User Image\">\\n                    </div>\\n                    <div class=\"global-navigation-menu__username\">Hi <span class=\"js-nav-user-text-mobile\"></span></div>\\n                </a>\\n            </li>\\n\\t\\t</ul>\\n\\t</div>\\n\\n        \\t\\t</div>\\n\\n\\t\\t\\t\\t\\n\\n        \\t\\t<div tabindex=\"0\" role=\"button\" class=\"global-navigation__search js-global-navigation-search\">\\n        \\t\\t\\t<svg class=\"global-navigation__search-icon icon\"><use xmlns:xlink=\"http://www.w3.org/1999/xlink\" xlink:href=\"/resources/prod/v8.18.9/i/svg-output/icons.svg#icn-search\"></use></svg>\\n        \\t\\t\\t<span class=\"global-navigation__search-text\">Search</span>\\n        \\t\\t</div>\\n\\n                <a href=\"/sign-in\" class=\"global-navigation__user js-nav-default-mobile\" role=\"button\">\\n                    <svg class=\"icon\"><use xmlns:xlink=\"http://www.w3.org/1999/xlink\" xlink:href=\"/resources/prod/v8.18.9/i/svg-output/icons.svg#icn-account\"></use></svg>\\n                </a>\\n                <a href=\"#\" class=\"global-navigation__user js-nav-signedin-mobile u-hide\" role=\"button\">\\n                    <div class=\"global-navigation__image-container\">\\n                        <img src=\"#\" class=\"u-hide js-nav-user-img-mobile\" alt=\"User Image\">\\n                    </div>\\n                </a>\\n\\n        \\t\\t<form action=\"/search\" type=\"GET\" class=\"global-navigation__search-open js-global-navigation-search-open\">\\n        \\t\\t\\t<div class=\"global-navigation__search-input\">\\n        \\t\\t\\t\\t<input tabindex=\"-1\" class=\"js-global-navigation-input\" type=\"text\" name=\"term\" placeholder=\"Search ICC\" />\\n        \\t\\t\\t</div>\\n        \\t\\t\\t<button type=\"submit\" tabindex=\"0\" class=\"global-navigation__search-go js-global-navigation-search-go\">\\n        \\t\\t\\t\\t<svg class=\"icon\"><use xmlns:xlink=\"http://www.w3.org/1999/xlink\" xlink:href=\"/resources/prod/v8.18.9/i/svg-output/icons.svg#icn-search\"></use></svg>\\n        \\t\\t\\t</button>\\n        \\t\\t\\t<div tabindex=\"0\" class=\"global-navigation__search-close js-global-navigation-search-close\">\\n        \\t\\t\\t\\t<svg class=\"icon\"><use xmlns:xlink=\"http://www.w3.org/1999/xlink\" xlink:href=\"/resources/prod/v8.18.9/i/svg-output/icons.svg#icn-close\"></use></svg>\\n        \\t\\t\\t</div>\\n        \\t\\t</form>\\n                <div class=\"global-navigation__search-overlay\"></div>\\n        \\t</nav>\\n        </div>\\n    </div>\\n\\n\\n<main id=\"main-content\" tabindex=\"0\">\\n\\t\\n\\n<button class=\"scroll-to-top\" data-widget=\"scroll-to-top\" data-script=\"icc_scroll-to-top\">\\n\\t<svg class=\"scroll-to-top__icon\">\\n\\t\\t<use xmlns:xlink=\"http://www.w3.org/1999/xlink\" xlink:href=\"/resources/prod/v8.18.9/i/svg-output/icons.svg#icn-up-arrow\"></use>\\n\\t</svg>\\n\\n    <div class=\"scroll-to-top__mask\" aria-hidden=\"true\">\\n\\t<svg class=\"scroll-to-top__icon\">\\n\\t\\t<use xmlns:xlink=\"http://www.w3.org/1999/xlink\" xlink:href=\"/resources/prod/v8.18.9/i/svg-output/icons.svg#icn-up-arrow\"></use>\\n\\t</svg>\\n    </div>\\n    <span class=\"u-screen-reader\">Scroll to Top</span>\\n</button>\\n\\n\\n\\n<header class=\"page-header page-header--rankings\">\\n    <div class=\"wrapper\">\\n        <div class=\"col-12\">\\n            <div class=\"page-header__banner\">\\n        <a class=\"page-logo\" href=\"http://track.adform.net/C/?bn=20093364\" data-widget=\"impression-tracker\" data-tracking-url=\"https://track.adform.net/adfserve/?bn=20093364;srctype=4;ord=%%ADFRND%%\" target=\"_blank\">\\n            <span class=\"icn icn-logo-mrf-rankings\"></span>\\n        </a>\\n            </div>\\n    <div class=\"share share--\\n        \\n        share--vertical\\n        \\n        \"\\n        \\n        data-widget=\"share\">\\n        <div class=\"share__container\">\\n            <div class=\"share__btn js-share-btn\">\\n                <svg class=\"icon\"><use xmlns:xlink=\"http://www.w3.org/1999/xlink\" xlink:href=\"/resources/prod/v8.18.9/i/svg-output/icons.svg#icn-share\"></use></svg>\\n                <div class=\"share__title\">Share</div>\\n            </div>\\n            <ul class=\"share__list\">\\n\\n                <li class=\"share__item share__item--facebook js-social-option\" data-social-service=\"facebook\"  role=\"button\" tabindex=\"0\">\\n                    <svg class=\"icon\"><use xmlns:xlink=\"http://www.w3.org/1999/xlink\" xlink:href=\"/resources/prod/v8.18.9/i/svg-output/icons.svg#icn-facebook\"></use></svg>\\n                </li>\\n\\n                <li class=\"share__item share__item--twitter js-social-option\" data-social-service=\"twitter\"   role=\"button\" tabindex=\"0\">\\n                    <svg class=\"icon\"><use xmlns:xlink=\"http://www.w3.org/1999/xlink\" xlink:href=\"/resources/prod/v8.18.9/i/svg-output/icons.svg#icn-twitter\"></use></svg>\\n                </li>\\n                <li class=\"share__item share__item--messenger u-show-tablet js-social-option\" data-social-service=\"facebookMessenger\"  role=\"buttn\" tabindex=\"0\">\\n                    <svg class=\"icon\"><use xmlns:xlink=\"http://www.w3.org/1999/xlink\" xlink:href=\"/resources/prod/v8.18.9/i/svg-output/icons.svg#icn-facebook-messenger\"></use></svg>\\n                </li>\\n\\n                <li class=\"share__item share__item--whatsapp u-show-tablet js-social-option\" data-social-service=\"whatsapp\"   role=\"button\" tabindex=\"0\">\\n                    <svg class=\"icon\"><use xmlns:xlink=\"http://www.w3.org/1999/xlink\" xlink:href=\"/resources/prod/v8.18.9/i/svg-output/icons.svg#icn-whatsapp\"></use></svg>\\n                </li>\\n\\n                <li class=\"share__item share__item--url u-hide-tablet js-copy-button\"  role=\"button\" tabindex=\"0\">\\n                    <svg class=\"icon\"><use xmlns:xlink=\"http://www.w3.org/1999/xlink\" xlink:href=\"/resources/prod/v8.18.9/i/svg-output/icons.svg#icn-url\"></use></svg>\\n                    <div class=\"share__copy-message js-copy-message\">URL Copied</div>\\n                </li>\\n\\n            </ul>\\n        </div>\\n    </div>\\n        </div>\\n    </div>\\n</header>\\n\\n\\n<div class=\"l-sticky-side-nav\">\\n\\t<div class=\"l-sticky-side-nav__nav\">\\n\\t\\t\\n<div class=\"rankings-menu\" data-script=\"icc_rankings-menu\" data-widget=\"rankings-menu\">\\n    <div class=\"drop-down-tablet js-drop-down\">\\n        <div class=\"drop-down__clickzone js-drop-down-trigger\" tabindex=\"0\" role=\"button\"></div>\\n        <div class=\"drop-down__label\">\\n            Men\\'s\\n        </div>\\n        <div class=\"drop-down__current\">\\n            Team Rankings\\n            <svg class=\"icon\"><use xmlns:xlink=\"http://www.w3.org/1999/xlink\" xlink:href=\"/resources/prod/v8.18.9/i/svg-output/icons.svg#icn-caret-down\"></use></svg>\\n        </div>\\n        <div class=\"drop-down__dropdown-list js-drop-down-options\">\\n                <div class=\"rankings-menu__tab-container u-hide-tablet\">\\n                    <nav class=\"content-tabs\">\\n                        <ul class=\"block-list-2 u-no-font-size\" role=\"tablist\">\\n                                <li class=\"u-no-padding u-no-margin\">\\n                                    <a class=\"content-tabs__tab content-tabs__tab--active\" href=\"/rankings/mens/overview\">Men\\'s</a>\\n                                </li>\\n                                <li class=\"u-no-padding u-no-margin\">\\n                                    <a class=\"content-tabs__tab \" href=\"/rankings/womens/overview\">Women\\'s</a>\\n                                </li>\\n                        </ul>\\n                    </nav>\\n                </div>\\n                    <div class=\"active tab-content\">\\n                            <h3 class=\"rankings-menu__title\">Men\\'s</h3>\\n\\n                        <ul class=\"rankings-menu__list\">\\n\\n                                    <li class=\"rankings-menu__item rankings-menu__item--user-selection js-team-btn\">\\n                                        <a href=\"#\" class=\"rankings-menu__link js-fav-team-link\">Select your team</a>\\n                                        <svg class=\"icon\"><use xmlns:xlink=\"http://www.w3.org/1999/xlink\" xlink:href=\"/resources/prod/v8.18.9/i/svg-output/icons.svg#icn-chevron-right\"></use></svg>\\n                                        <div class=\"rankings-menu__notch js-notch\"></div>\\n                                        <svg class=\"rankings-menu__notch-icon icon\"><use xmlns:xlink=\"http://www.w3.org/1999/xlink\" xlink:href=\"/resources/prod/v8.18.9/i/svg-output/icons.svg#icn-star\"></use></svg\\n                                    </li>\\n\\n                    <li class=\"rankings-menu__item\">\\n                        <a href=\"/rankings/mens/overview\" class=\"rankings-menu__link \">Overview<svg class=\"icon\"><use xmlns:xlink=\"http://www.w3.org/1999/xlink\" xlink:href=\"/resources/prod/v8.18.9/i/svg-output/icons.svg#icn-chevron-right\"></use></svg></a>\\n                    </li>\\n\\n                    <li class=\"rankings-menu__item\">\\n                        <a href=\"/rankings/mens/team-rankings\" class=\"rankings-menu__link \">Team Rankings<svg class=\"icon\"><use xmlns:xlink=\"http://www.w3.org/1999/xlink\" xlink:href=\"/resources/prod/v8.18.9/i/svg-output/icons.svg#icn-chevron-right\"></use></svg></a>\\n                    </li>\\n\\n                    <li class=\"rankings-menu__item\">\\n                        <a href=\"/rankings/mens/player-rankings\" class=\"rankings-menu__link \">Player Rankings<svg class=\"icon\"><use xmlns:xlink=\"http://www.w3.org/1999/xlink\" xlink:href=\"/resources/prod/v8.18.9/i/svg-output/icons.svg#icn-chevron-right\"></use></svg></a>\\n                    </li>\\n\\n                    <li class=\"rankings-menu__item\">\\n                        <a href=\"/rankings/mens/player-rankings/comparison\" class=\"rankings-menu__link \">Player Comparison<svg class=\"icon\"><use xmlns:xlink=\"http://www.w3.org/1999/xlink\" xlink:href=\"/resources/prod/v8.18.9/i/svg-output/icons.svg#icn-chevron-right\"></use></svg></a>\\n                    </li>\\n\\n                    <li class=\"rankings-menu__item\">\\n                        <a href=\"/rankings/mens/rankings-predictor/\" class=\"rankings-menu__link \">Team Rankings Predictor<svg class=\"icon\"><use xmlns:xlink=\"http://www.w3.org/1999/xlink\" xlink:href=\"/resources/prod/v8.18.9/i/svg-output/icons.svg#icn-chevron-right\"></use></svg></a>\\n                    </li>\\n\\n                    <li class=\"rankings-menu__item\">\\n                        <a href=\"/rankings/about\" class=\"rankings-menu__link \">About the Rankings<svg class=\"icon\"><use xmlns:xlink=\"http://www.w3.org/1999/xlink\" xlink:href=\"/resources/prod/v8.18.9/i/svg-output/icons.svg#icn-chevron-right\"></use></svg></a>\\n                    </li>\\n\\n                    <li class=\"rankings-menu__item\">\\n                        <a href=\"/rankings/faqs\" class=\"rankings-menu__link \">Player Rankings FAQs<svg class=\"icon\"><use xmlns:xlink=\"http://www.w3.org/1999/xlink\" xlink:href=\"/resources/prod/v8.18.9/i/svg-output/icons.svg#icn-chevron-right\"></use></svg></a>\\n                    </li>\\n\\n                        </ul>\\n                    </div>\\n\\n                    <div class=\" tab-content\">\\n                            <h3 class=\"rankings-menu__title\">Women\\'s</h3>\\n\\n                        <ul class=\"rankings-menu__list\">\\n\\n\\n                    <li class=\"rankings-menu__item\">\\n                        <a href=\"/rankings/womens/overview\" class=\"rankings-menu__link \">Overview<svg class=\"icon\"><use xmlns:xlink=\"http://www.w3.org/1999/xlink\" xlink:href=\"/resources/prod/v8.18.9/i/svg-output/icons.svg#icn-chevron-right\"></use></svg></a>\\n                    </li>\\n\\n                    <li class=\"rankings-menu__item\">\\n                        <a href=\"/rankings/womens/team-rankings\" class=\"rankings-menu__link \">Team Rankings<svg class=\"icon\"><use xmlns:xlink=\"http://www.w3.org/1999/xlink\" xlink:href=\"/resources/prod/v8.18.9/i/svg-output/icons.svg#icn-chevron-right\"></use></svg></a>\\n                    </li>\\n\\n                    <li class=\"rankings-menu__item\">\\n                        <a href=\"/rankings/womens/player-rankings\" class=\"rankings-menu__link \">Player Rankings<svg class=\"icon\"><use xmlns:xlink=\"http://www.w3.org/1999/xlink\" xlink:href=\"/resources/prod/v8.18.9/i/svg-output/icons.svg#icn-chevron-right\"></use></svg></a>\\n                    </li>\\n\\n                    <li class=\"rankings-menu__item\">\\n                        <a href=\"/rankings/about\" class=\"rankings-menu__link \">About the Rankings<svg class=\"icon\"><use xmlns:xlink=\"http://www.w3.org/1999/xlink\" xlink:href=\"/resources/prod/v8.18.9/i/svg-output/icons.svg#icn-chevron-right\"></use></svg></a>\\n                    </li>\\n\\n                    <li class=\"rankings-menu__item\">\\n                        <a href=\"/rankings/faqs\" class=\"rankings-menu__link \">Player Rankings FAQs<svg class=\"icon\"><use xmlns:xlink=\"http://www.w3.org/1999/xlink\" xlink:href=\"/resources/prod/v8.18.9/i/svg-output/icons.svg#icn-chevron-right\"></use></svg></a>\\n                    </li>\\n\\n                    <li class=\"rankings-menu__item\">\\n                        <a href=\"/rankings/womens-t20i-faq\" class=\"rankings-menu__link \">T20I Team Rankings FAQs<svg class=\"icon\"><use xmlns:xlink=\"http://www.w3.org/1999/xlink\" xlink:href=\"/resources/prod/v8.18.9/i/svg-output/icons.svg#icn-chevron-right\"></use></svg></a>\\n                    </li>\\n\\n                        </ul>\\n                    </div>\\n\\n        </div>\\n    </div>\\n</div>\\n\\n\\t</div>\\n\\n\\t<div class=\"l-sticky-side-nav__content\">\\n\\t\\t\\n    <section class=\"ranking-format-menu\">\\n\\n        <div class=\"wrapper wrapper--sticky\">\\n\\n            <div class=\"col-12\">\\n                <div class=\"content-tabs\">\\n            \\t\\t<ul class=\"inline-list\">\\n            \\t                <li class=\"ranking-format-menu__item\">\\n            \\t                    \\t<a href=\"test\" class=\"content-tabs__tab \" >Test</a>\\n            \\t                </li>\\n            \\t                <li class=\"ranking-format-menu__item\">\\n            \\t                    \\t<a href=\"odi\" class=\"content-tabs__tab content-tabs__tab--active\" >ODI</a>\\n            \\t                </li>\\n            \\t                <li class=\"ranking-format-menu__item\">\\n            \\t                    \\t<a href=\"t20i\" class=\"content-tabs__tab \" >T20I</a>\\n            \\t                </li>\\n            \\t\\t</ul>\\n            \\t</div>\\n            </div>\\n        </div>\\n\\n    </section>\\n\\n\\t\\t<div class=\"wrapper wrapper--sticky\">\\n\\t\\t\\t<div class=\"col-12\">\\n\\t\\t\\t\\t\\n<div class=\"content-ad content-ad--rankings u-center\">\\n\\n    <!-- Adform publisher tag -->\\n    <!-- Generic Banner - Homepage (mobile 320x50) placement -->\\n    <div class=\"content-ad--mobile\">\\n        <script data-adfscript=\"adx.adform.net/adx/?mid=653000\"></script> <script src=\"//s1.adform.net/banners/scripts/adx.js\" async defer></script>\\n    </div>\\n\\n    <!-- Adform publisher tag -->\\n    <!-- Generic Banner - Homepage (desktop 728x90) placement -->\\n    <div class=\"content-ad--desktop\">\\n        <script data-adfscript=\"adx.adform.net/adx/?mid=652998\"></script> <script src=\"//s1.adform.net/banners/scripts/adx.js\" async defer></script>\\n    </div>\\n\\n</div>\\n\\n\\n\\n\\n    <section class=\"widget rankings-widget \"\\n\\t\\tdata-script=\"icc_rankings\"\\n\\t\\tdata-widget=\"full-team-rankings\">\\n\\n\\n        <div class=\"rankings-block__title-container\">\\n            <div class=\"rankings-block__type t-odi\">odi</div>\\n            <h4>Men\\'s ODI Team Rankings</h4>\\n        </div>\\n\\n        <div class=\"rankings-block__meta-container\">\\n                <div class=\"rankings-table__last-updated\">Last updated (GMT) - 07 Jun 2021</div>\\n            <div class=\"rankings-table__last-updated\">Developed by David Kendix</div>\\n        </div>\\n\\n        <div class=\"rankings-block__container full rankings-table\">\\n\\n            <table class=\"table\">\\n                <thead>\\n                    <tr class=\"table-head\">\\n                        <th class=\"table-head__cell u-text-right\">Pos</th>\\n                        <th class=\"table-head__cell rankings-table__team\">\\n                            <span class=\"u-hide-mobile\">Team</span>\\n                            <span class=\"u-show-mobile\">T</span>\\n                        </th>\\n                        <th class=\"table-head__cell u-center-text\">\\n                            <span class=\"u-hide-mobile\">Matches</span>\\n                            <span class=\"u-show-mobile\">M</span>\\n                        </th>\\n                        <th class=\"table-head__cell u-center-text\">\\n                            <span class=\"u-hide-mobile\">Points</span>\\n                            <span class=\"u-show-mobile\">P</span>\\n                        </th>\\n                        <th class=\"table-head__cell u-text-right rating\">\\n                            <span class=\"u-hide-mobile\">Rating</span>\\n                            <span class=\"u-show-mobile\">R</span>\\n                        </th>\\n                    </tr>\\n                </thead>\\n                <tbody>\\n\\n                    <tr class=\"rankings-block__banner\">\\n                        <td class=\"rankings-block__banner--pos\">1</td>\\n                        <td class=\"rankings-block__banner--team-name\">\\n                            <span class=\"flag-30 rankings-block__banner--flag NZ\"></span>\\n                            <span class=\"u-hide-phablet\">New Zealand</span>\\n                            <span class=\"u-show-phablet\">NZ</span>\\n                        </td>\\n                        <td class=\"rankings-block__banner--matches\">17</td>\\n                        <td class=\"rankings-block__banner--points\">2,054</td>\\n                        <td class=\"rankings-block__banner--rating u-text-right\">\\n                            121\\n                            <span class=\"circle-branding circle-branding--top\"></span>\\n                            <span class=\"circle-branding circle-branding--bottom\"></span>\\n                        </td>\\n                    </tr>\\n\\n                            <tr class=\"table-body\" data-team-id=\"15\">\\n                                <td class=\"table-body__cell table-body__cell--position u-text-right\">2</td>\\n                                <td class=\"table-body__cell rankings-table__team\">\\n                                    <span class=\"flag-15 table-body_logo AUS\"></span>\\n                                    <span class=\"u-hide-phablet\">Australia</span>\\n                                    <span class=\"u-show-phablet\">AUS</span>\\n                                </td>\\n                                <td class=\"table-body__cell u-center-text\">25</td>\\n                                <td class=\"table-body__cell u-center-text\">2,945</td>\\n                                <td class=\"table-body__cell u-text-right rating\">118</td>\\n                            </tr>\\n                            <tr class=\"table-body\" data-team-id=\"14\">\\n                                <td class=\"table-body__cell table-body__cell--position u-text-right\">3</td>\\n                                <td class=\"table-body__cell rankings-table__team\">\\n                                    <span class=\"flag-15 table-body_logo IND\"></span>\\n                                    <span class=\"u-hide-phablet\">India</span>\\n                                    <span class=\"u-show-phablet\">IND</span>\\n                                </td>\\n                                <td class=\"table-body__cell u-center-text\">29</td>\\n                                <td class=\"table-body__cell u-center-text\">3,344</td>\\n                                <td class=\"table-body__cell u-text-right rating\">115</td>\\n                            </tr>\\n                            <tr class=\"table-body\" data-team-id=\"11\">\\n                                <td class=\"table-body__cell table-body__cell--position u-text-right\">4</td>\\n                                <td class=\"table-body__cell rankings-table__team\">\\n                                    <span class=\"flag-15 table-body_logo ENG\"></span>\\n                                    <span class=\"u-hide-phablet\">England</span>\\n                                    <span class=\"u-show-phablet\">ENG</span>\\n                                </td>\\n                                <td class=\"table-body__cell u-center-text\">27</td>\\n                                <td class=\"table-body__cell u-center-text\">3,100</td>\\n                                <td class=\"table-body__cell u-text-right rating\">115</td>\\n                            </tr>\\n                            <tr class=\"table-body\" data-team-id=\"19\">\\n                                <td class=\"table-body__cell table-body__cell--position u-text-right\">5</td>\\n                                <td class=\"table-body__cell rankings-table__team\">\\n                                    <span class=\"flag-15 table-body_logo SA\"></span>\\n                                    <span class=\"u-hide-phablet\">South Africa</span>\\n                                    <span class=\"u-show-phablet\">SA</span>\\n                                </td>\\n                                <td class=\"table-body__cell u-center-text\">20</td>\\n                                <td class=\"table-body__cell u-center-text\">2,137</td>\\n                                <td class=\"table-body__cell u-text-right rating\">107</td>\\n                            </tr>\\n                            <tr class=\"table-body\" data-team-id=\"20\">\\n                                <td class=\"table-body__cell table-body__cell--position u-text-right\">6</td>\\n                                <td class=\"table-body__cell rankings-table__team\">\\n                                    <span class=\"flag-15 table-body_logo PAK\"></span>\\n                                    <span class=\"u-hide-phablet\">Pakistan</span>\\n                                    <span class=\"u-show-phablet\">PAK</span>\\n                                </td>\\n                                <td class=\"table-body__cell u-center-text\">24</td>\\n                                <td class=\"table-body__cell u-center-text\">2,323</td>\\n                                <td class=\"table-body__cell u-text-right rating\">97</td>\\n                            </tr>\\n                            <tr class=\"table-body\" data-team-id=\"22\">\\n                                <td class=\"table-body__cell table-body__cell--position u-text-right\">7</td>\\n                                <td class=\"table-body__cell rankings-table__team\">\\n                                    <span class=\"flag-15 table-body_logo BAN\"></span>\\n                                    <span class=\"u-hide-phablet\">Bangladesh</span>\\n                                    <span class=\"u-show-phablet\">BAN</span>\\n                                </td>\\n                                <td class=\"table-body__cell u-center-text\">27</td>\\n                                <td class=\"table-body__cell u-center-text\">2,438</td>\\n                                <td class=\"table-body__cell u-text-right rating\">90</td>\\n                            </tr>\\n                            <tr class=\"table-body\" data-team-id=\"21\">\\n                                <td class=\"table-body__cell table-body__cell--position u-text-right\">8</td>\\n                                <td class=\"table-body__cell rankings-table__team\">\\n                                    <span class=\"flag-15 table-body_logo WI\"></span>\\n                                    <span class=\"u-hide-phablet\">West Indies</span>\\n                                    <span class=\"u-show-phablet\">WI</span>\\n                                </td>\\n                                <td class=\"table-body__cell u-center-text\">27</td>\\n                                <td class=\"table-body__cell u-center-text\">2,222</td>\\n                                <td class=\"table-body__cell u-text-right rating\">82</td>\\n                            </tr>\\n                            <tr class=\"table-body\" data-team-id=\"13\">\\n                                <td class=\"table-body__cell table-body__cell--position u-text-right\">9</td>\\n                                <td class=\"table-body__cell rankings-table__team\">\\n                                    <span class=\"flag-15 table-body_logo SL\"></span>\\n                                    <span class=\"u-hide-phablet\">Sri Lanka</span>\\n                                    <span class=\"u-show-phablet\">SL</span>\\n                                </td>\\n                                <td class=\"table-body__cell u-center-text\">24</td>\\n                                <td class=\"table-body__cell u-center-text\">1,876</td>\\n                                <td class=\"table-body__cell u-text-right rating\">78</td>\\n                            </tr>\\n                            <tr class=\"table-body\" data-team-id=\"17\">\\n                                <td class=\"table-body__cell table-body__cell--position u-text-right\">10</td>\\n                                <td class=\"table-body__cell rankings-table__team\">\\n                                    <span class=\"flag-15 table-body_logo AFG\"></span>\\n                                    <span class=\"u-hide-phablet\">Afghanistan</span>\\n                                    <span class=\"u-show-phablet\">AFG</span>\\n                                </td>\\n                                <td class=\"table-body__cell u-center-text\">17</td>\\n                                <td class=\"table-body__cell u-center-text\">1,054</td>\\n                                <td class=\"table-body__cell u-text-right rating\">62</td>\\n                            </tr>\\n                            <tr class=\"table-body\" data-team-id=\"68\">\\n                                <td class=\"table-body__cell table-body__cell--position u-text-right\">11</td>\\n                                <td class=\"table-body__cell rankings-table__team\">\\n                                    <span class=\"flag-15 table-body_logo NED\"></span>\\n                                    <span class=\"u-hide-phablet\">Netherlands</span>\\n                                    <span class=\"u-show-phablet\">NED</span>\\n                                </td>\\n                                <td class=\"table-body__cell u-center-text\">7</td>\\n                                <td class=\"table-body__cell u-center-text\">336</td>\\n                                <td class=\"table-body__cell u-text-right rating\">48</td>\\n                            </tr>\\n                            <tr class=\"table-body\" data-team-id=\"12\">\\n                                <td class=\"table-body__cell table-body__cell--position u-text-right\">12</td>\\n                                <td class=\"table-body__cell rankings-table__team\">\\n                                    <span class=\"flag-15 table-body_logo IRE\"></span>\\n                                    <span class=\"u-hide-phablet\">Ireland</span>\\n                                    <span class=\"u-show-phablet\">IRE</span>\\n                                </td>\\n                                <td class=\"table-body__cell u-center-text\">21</td>\\n                                <td class=\"table-body__cell u-center-text\">897</td>\\n                                <td class=\"table-body__cell u-text-right rating\">43</td>\\n                            </tr>\\n                            <tr class=\"table-body\" data-team-id=\"18\">\\n                                <td class=\"table-body__cell table-body__cell--position u-text-right\">13</td>\\n                                <td class=\"table-body__cell rankings-table__team\">\\n                                    <span class=\"flag-15 table-body_logo ZIM\"></span>\\n                                    <span class=\"u-hide-phablet\">Zimbabwe</span>\\n                                    <span class=\"u-show-phablet\">ZIM</span>\\n                                </td>\\n                                <td class=\"table-body__cell u-center-text\">15</td>\\n                                <td class=\"table-body__cell u-center-text\">588</td>\\n                                <td class=\"table-body__cell u-text-right rating\">39</td>\\n                            </tr>\\n                            <tr class=\"table-body\" data-team-id=\"69\">\\n                                <td class=\"table-body__cell table-body__cell--position u-text-right\">14</td>\\n                                <td class=\"table-body__cell rankings-table__team\">\\n                                    <span class=\"flag-15 table-body_logo SCO\"></span>\\n                                    <span class=\"u-hide-phablet\">Scotland</span>\\n                                    <span class=\"u-show-phablet\">SCO</span>\\n                                </td>\\n                                <td class=\"table-body__cell u-center-text\">7</td>\\n                                <td class=\"table-body__cell u-center-text\">258</td>\\n                                <td class=\"table-body__cell u-text-right rating\">37</td>\\n                            </tr>\\n                            <tr class=\"table-body\" data-team-id=\"128\">\\n                                <td class=\"table-body__cell table-body__cell--position u-text-right\">15</td>\\n                                <td class=\"table-body__cell rankings-table__team\">\\n                                    <span class=\"flag-15 table-body_logo OMA\"></span>\\n                                    <span class=\"u-hide-phablet\">Oman</span>\\n                                    <span class=\"u-show-phablet\">OMA</span>\\n                                </td>\\n                                <td class=\"table-body__cell u-center-text\">7</td>\\n                                <td class=\"table-body__cell u-center-text\">240</td>\\n                                <td class=\"table-body__cell u-text-right rating\">34</td>\\n                            </tr>\\n                            <tr class=\"table-body\" data-team-id=\"125\">\\n                                <td class=\"table-body__cell table-body__cell--position u-text-right\">16</td>\\n                                <td class=\"table-body__cell rankings-table__team\">\\n                                    <span class=\"flag-15 table-body_logo NEP\"></span>\\n                                    <span class=\"u-hide-phablet\">Nepal</span>\\n                                    <span class=\"u-show-phablet\">NEP</span>\\n                                </td>\\n                                <td class=\"table-body__cell u-center-text\">5</td>\\n                                <td class=\"table-body__cell u-center-text\">119</td>\\n                                <td class=\"table-body__cell u-text-right rating\">24</td>\\n                            </tr>\\n                            <tr class=\"table-body\" data-team-id=\"155\">\\n                                <td class=\"table-body__cell table-body__cell--position u-text-right\">17</td>\\n                                <td class=\"table-body__cell rankings-table__team\">\\n                                    <span class=\"flag-15 table-body_logo UAE\"></span>\\n                                    <span class=\"u-hide-phablet\">UAE</span>\\n                                    <span class=\"u-show-phablet\">UAE</span>\\n                                </td>\\n                                <td class=\"table-body__cell u-center-text\">9</td>\\n                                <td class=\"table-body__cell u-center-text\">190</td>\\n                                <td class=\"table-body__cell u-text-right rating\">21</td>\\n                            </tr>\\n                            <tr class=\"table-body\" data-team-id=\"124\">\\n                                <td class=\"table-body__cell table-body__cell--position u-text-right\">18</td>\\n                                <td class=\"table-body__cell rankings-table__team\">\\n                                    <span class=\"flag-15 table-body_logo NAM\"></span>\\n                                    <span class=\"u-hide-phablet\">Namibia</span>\\n                                    <span class=\"u-show-phablet\">NAM</span>\\n                                </td>\\n                                <td class=\"table-body__cell u-center-text\">6</td>\\n                                <td class=\"table-body__cell u-center-text\">97</td>\\n                                <td class=\"table-body__cell u-text-right rating\">16</td>\\n                            </tr>\\n                            <tr class=\"table-body\" data-team-id=\"157\">\\n                                <td class=\"table-body__cell table-body__cell--position u-text-right\">19</td>\\n                                <td class=\"table-body__cell rankings-table__team\">\\n                                    <span class=\"flag-15 table-body_logo USA\"></span>\\n                                    <span class=\"u-hide-phablet\">United States</span>\\n                                    <span class=\"u-show-phablet\">USA</span>\\n                                </td>\\n                                <td class=\"table-body__cell u-center-text\">8</td>\\n                                <td class=\"table-body__cell u-center-text\">93</td>\\n                                <td class=\"table-body__cell u-text-right rating\">12</td>\\n                            </tr>\\n                            <tr class=\"table-body\" data-team-id=\"133\">\\n                                <td class=\"table-body__cell table-body__cell--position u-text-right\">20</td>\\n                                <td class=\"table-body__cell rankings-table__team\">\\n                                    <span class=\"flag-15 table-body_logo PNG\"></span>\\n                                    <span class=\"u-hide-phablet\">Papua New Guinea</span>\\n                                    <span class=\"u-show-phablet\">PNG</span>\\n                                </td>\\n                                <td class=\"table-body__cell u-center-text\">5</td>\\n                                <td class=\"table-body__cell u-center-text\">0</td>\\n                                <td class=\"table-body__cell u-text-right rating\">0</td>\\n                            </tr>\\n                </tbody>\\n            </table>\\n        </div>\\n    </section>\\n\\n\\n\\n    <div class=\"promo promo--full rankings-table\">\\n            <div class=\"promo__image-container\">\\n                <picture class=\"promo__image\">\\n                    <source srcset=\"https://resources.pulse.icc-cricket.com/ICC/photo/2017/02/07/2fb1280c-5d1b-4dee-93d4-c586996065cf/GettyImages-468776142.jpg, https://resources.pulse.icc-cricket.com/ICC/photo/2017/02/07/bc292450-c3fa-4345-9244-66fbe0179709/GettyImages-468776142.jpg 2x\" media=\"(max-width: 500px)\">\\n\\n                    <source srcset=\"https://resources.pulse.icc-cricket.com/ICC/photo/2017/02/07/10013c12-da7d-4c41-b261-1c9f626da0c8/GettyImages-468776142.jpg, https://resources.pulse.icc-cricket.com/ICC/photo/2017/02/07/f20245f7-3ffb-4f6d-8a18-d25804e1c809/GettyImages-468776142.jpg 2x\">\\n\\n                    <img src=\"https://resources.pulse.icc-cricket.com/ICC/photo/2017/02/07/10013c12-da7d-4c41-b261-1c9f626da0c8/GettyImages-468776142.jpg\" alt=\"Play the MRF Tyres ICC Rankings Predictor\" class=\"poly-object-fit\"/>\\n                </picture>\\n            </div>\\n            <div class=\"promo__text-container promo__text-container--with-image\">\\n            <h3 class=\"promo__title\">Play the MRF Tyres ICC Rankings Predictor</h3>\\n                <p class=\"promo__text\">Predict the outcome of upcoming ODI cricket fixtures and see how the MRF Tyres ICC Rankings change.</p>\\n                <a href=\"/rankings/mens/rankings-predictor/odi\" class=\"promo__cta btn\">Play Now</a>\\n        </div>\\n    </div>\\n\\n\\t\\t\\t</div>\\n\\t\\t</div>\\n\\t</div>\\n</div>\\n\\n</main>\\n\\n<footer class=\"footer\" role=\"contentinfo\">\\n   \\n<div class=\"wrapper\">\\n    <section class=\"footer-partners\">\\n\\n\\n    <div class=\"footer-partners__list u-show-desktop\">\\n        <section class=\"footer-partners__group\">\\n                <h5 class=\"footer-partners__subtitle\">Partners</h5>\\n            <div class=\"footer-partners__inline-list\">\\n                    <div class=\"footer-partners__item\">\\n\\n                            <a href=\"http://track.adform.net/C/?bn=18236015\" \\n                                class=\"footer-partners__link\" \\n                                aria-label=\"Oppo\" \\n                                target=\"_blank\" \\n                                title=\"Oppo\"\\n                                    data-widget=\"impression-tracker\"\\n                                    data-tracking-url=\"https://track.adform.net/adfserve/?bn=18236015;srctype=4;ord=%%ADFRND%%\"\\n                                >\\n\\n                        <img class=\"footer-partners__image\" src=\"https://resources.pulse.icc-cricket.com/photo-resources/2021/06/09/bdd8888b-7427-48c0-a528-fb30a121638e/Asset-25.png?width=135\" alt=\"Oppo\" />\\n\\n                            </a>\\n                    </div>\\n                    <div class=\"footer-partners__item\">\\n\\n                            <a href=\"http://track.adform.net/C/?bn=18235782\" \\n                                class=\"footer-partners__link\" \\n                                aria-label=\"MRF Tyres\" \\n                                target=\"_blank\" \\n                                title=\"MRF Tyres\"\\n                                    data-widget=\"impression-tracker\"\\n                                    data-tracking-url=\"https://track.adform.net/adfserve/?bn=18235782;srctype=4;ord=%%ADFRND%%\"\\n                                >\\n\\n                        <img class=\"footer-partners__image\" src=\"https://resources.pulse.icc-cricket.com/photo-resources/2021/06/09/3528d7da-c25d-4187-9364-4289940cf049/Asset-22.png?width=135\" alt=\"MRF Tyres\" />\\n\\n                            </a>\\n                    </div>\\n                    <div class=\"footer-partners__item\">\\n\\n                            <a href=\"https://www.booking.com/\" \\n                                class=\"footer-partners__link\" \\n                                aria-label=\"Booking\" \\n                                target=\"_blank\" \\n                                title=\"Booking\"\\n                                >\\n\\n                        <img class=\"footer-partners__image\" src=\"https://resources.pulse.icc-cricket.com/photo-resources/2021/06/09/4c2d8f90-a83b-44af-9e24-759d17482850/Asset-23.png?width=135\" alt=\"Booking\" />\\n\\n                            </a>\\n                    </div>\\n                    <div class=\"footer-partners__item\">\\n\\n                            <a href=\"https://byjus.com/\" \\n                                class=\"footer-partners__link\" \\n                                aria-label=\"BYJU\\'s\" \\n                                target=\"_blank\" \\n                                title=\"BYJU\\'s\"\\n                                >\\n\\n                        <img class=\"footer-partners__image\" src=\"https://resources.pulse.icc-cricket.com/photo-resources/2021/06/09/66af1d74-94b2-4a93-a7ff-276619ecb515/Asset-24.png?width=135\" alt=\"BYJU\" />\\n\\n                            </a>\\n                    </div>\\n                    <div class=\"footer-partners__item\">\\n\\n                            <a href=\"https://bharatpe.com/\" \\n                                class=\"footer-partners__link\" \\n                                aria-label=\"BharatPe\" \\n                                 \\n                                title=\"BharatPe\"\\n                                >\\n\\n                        <img class=\"footer-partners__image\" src=\"https://resources.pulse.icc-cricket.com/photo-resources/2021/06/09/6a0de96a-6442-4042-9d65-0cc3190cbf3e/Asset-19.png?width=135\" alt=\"BharatPe\" />\\n\\n                            </a>\\n                    </div>\\n                    <div class=\"footer-partners__item\">\\n\\n                            <a href=\"http://track.adform.net/C/?bn=18236184\" \\n                                class=\"footer-partners__link\" \\n                                aria-label=\"Emirates\" \\n                                target=\"_blank\" \\n                                title=\"Emirates\"\\n                                    data-widget=\"impression-tracker\"\\n                                    data-tracking-url=\"https://track.adform.net/adfserve/?bn=18236184;srctype=4;ord=%%ADFRND%%\"\\n                                >\\n\\n                        <img class=\"footer-partners__image\" src=\"https://resources.pulse.icc-cricket.com/photo-resources/2021/06/09/1edde664-e17e-4abe-a6ab-cf03ae234816/Asset-21.png?width=135\" alt=\"Emirates\" />\\n\\n                            </a>\\n                    </div>\\n            </div>\\n        </section>\\n    </div>\\n                    <section class=\"footer-partners__list footer-partners__list--double u-hide-desktop\">\\n\\n    <div class=\"footer-partners__top-row-item\">\\n        <section class=\"footer-partners__group\">\\n                <h5 class=\"footer-partners__subtitle\">Partners</h5>\\n            <div class=\"footer-partners__inline-list\">\\n                    <div class=\"footer-partners__item\">\\n\\n                            <a href=\"http://track.adform.net/C/?bn=18236015\" \\n                                class=\"footer-partners__link\" \\n                                aria-label=\"Oppo\" \\n                                target=\"_blank\" \\n                                title=\"Oppo\"\\n                                    data-widget=\"impression-tracker\"\\n                                    data-tracking-url=\"https://track.adform.net/adfserve/?bn=18236015;srctype=4;ord=%%ADFRND%%\"\\n                                >\\n\\n                        <img class=\"footer-partners__image\" src=\"https://resources.pulse.icc-cricket.com/photo-resources/2021/06/09/bdd8888b-7427-48c0-a528-fb30a121638e/Asset-25.png?width=135\" alt=\"Oppo\" />\\n\\n                            </a>\\n                    </div>\\n                    <div class=\"footer-partners__item\">\\n\\n                            <a href=\"http://track.adform.net/C/?bn=18235782\" \\n                                class=\"footer-partners__link\" \\n                                aria-label=\"MRF Tyres\" \\n                                target=\"_blank\" \\n                                title=\"MRF Tyres\"\\n                                    data-widget=\"impression-tracker\"\\n                                    data-tracking-url=\"https://track.adform.net/adfserve/?bn=18235782;srctype=4;ord=%%ADFRND%%\"\\n                                >\\n\\n                        <img class=\"footer-partners__image\" src=\"https://resources.pulse.icc-cricket.com/photo-resources/2021/06/09/3528d7da-c25d-4187-9364-4289940cf049/Asset-22.png?width=135\" alt=\"MRF Tyres\" />\\n\\n                            </a>\\n                    </div>\\n                    <div class=\"footer-partners__item\">\\n\\n                            <a href=\"https://www.booking.com/\" \\n                                class=\"footer-partners__link\" \\n                                aria-label=\"Booking\" \\n                                target=\"_blank\" \\n                                title=\"Booking\"\\n                                >\\n\\n                        <img class=\"footer-partners__image\" src=\"https://resources.pulse.icc-cricket.com/photo-resources/2021/06/09/4c2d8f90-a83b-44af-9e24-759d17482850/Asset-23.png?width=135\" alt=\"Booking\" />\\n\\n                            </a>\\n                    </div>\\n                    <div class=\"footer-partners__item\">\\n\\n                            <a href=\"https://byjus.com/\" \\n                                class=\"footer-partners__link\" \\n                                aria-label=\"BYJU\\'s\" \\n                                target=\"_blank\" \\n                                title=\"BYJU\\'s\"\\n                                >\\n\\n                        <img class=\"footer-partners__image\" src=\"https://resources.pulse.icc-cricket.com/photo-resources/2021/06/09/66af1d74-94b2-4a93-a7ff-276619ecb515/Asset-24.png?width=135\" alt=\"BYJU\" />\\n\\n                            </a>\\n                    </div>\\n                    <div class=\"footer-partners__item\">\\n\\n                            <a href=\"https://bharatpe.com/\" \\n                                class=\"footer-partners__link\" \\n                                aria-label=\"BharatPe\" \\n                                 \\n                                title=\"BharatPe\"\\n                                >\\n\\n                        <img class=\"footer-partners__image\" src=\"https://resources.pulse.icc-cricket.com/photo-resources/2021/06/09/6a0de96a-6442-4042-9d65-0cc3190cbf3e/Asset-19.png?width=135\" alt=\"BharatPe\" />\\n\\n                            </a>\\n                    </div>\\n                    <div class=\"footer-partners__item\">\\n\\n                            <a href=\"http://track.adform.net/C/?bn=18236184\" \\n                                class=\"footer-partners__link\" \\n                                aria-label=\"Emirates\" \\n                                target=\"_blank\" \\n                                title=\"Emirates\"\\n                                    data-widget=\"impression-tracker\"\\n                                    data-tracking-url=\"https://track.adform.net/adfserve/?bn=18236184;srctype=4;ord=%%ADFRND%%\"\\n                                >\\n\\n                        <img class=\"footer-partners__image\" src=\"https://resources.pulse.icc-cricket.com/photo-resources/2021/06/09/1edde664-e17e-4abe-a6ab-cf03ae234816/Asset-21.png?width=135\" alt=\"Emirates\" />\\n\\n                            </a>\\n                    </div>\\n            </div>\\n        </section>\\n    </div>\\n                \\n\\n\\n\\n\\n    <div class=\"footer-partners__top-row-item\">\\n        <section class=\"footer-partners__group\">\\n                <h5 class=\"footer-partners__subtitle\">Broadcast Partner</h5>\\n            <div class=\"footer-partners__inline-list\">\\n                    <div class=\"footer-partners__item\">\\n\\n                            <a href=\"http://track.adform.net/C/?bn=18238489\" \\n                                class=\"footer-partners__link\" \\n                                aria-label=\"Star Sports\" \\n                                target=\"_blank\" \\n                                title=\"Star Sports\"\\n                                    data-widget=\"impression-tracker\"\\n                                    data-tracking-url=\"https://track.adform.net/adfserve/?bn=18238489;srctype=4;ord=%%ADFRND%%\"\\n                                >\\n\\n                        <img class=\"footer-partners__image\" src=\"https://resources.pulse.icc-cricket.com/photo-resources/2021/06/09/f75af1ff-9901-496d-baf3-3f467111ab8d/Asset-33.png?width=135\" alt=\"Star Sports\" />\\n\\n                            </a>\\n                    </div>\\n            </div>\\n        </section>\\n    </div>\\n                \\n                    </section>\\n    <div class=\"footer-partners__list footer-partners__list--broadcast u-show-desktop\">\\n        <section class=\"footer-partners__group\">\\n                <h5 class=\"footer-partners__subtitle\">Broadcast Partner</h5>\\n            <div class=\"footer-partners__inline-list\">\\n                    <div class=\"footer-partners__item\">\\n\\n                            <a href=\"http://track.adform.net/C/?bn=18238489\" \\n                                class=\"footer-partners__link\" \\n                                aria-label=\"Star Sports\" \\n                                target=\"_blank\" \\n                                title=\"Star Sports\"\\n                                    data-widget=\"impression-tracker\"\\n                                    data-tracking-url=\"https://track.adform.net/adfserve/?bn=18238489;srctype=4;ord=%%ADFRND%%\"\\n                                >\\n\\n                        <img class=\"footer-partners__image\" src=\"https://resources.pulse.icc-cricket.com/photo-resources/2021/06/09/f75af1ff-9901-496d-baf3-3f467111ab8d/Asset-33.png?width=135\" alt=\"Star Sports\" />\\n\\n                            </a>\\n                    </div>\\n            </div>\\n        </section>\\n    </div>\\n\\n\\n\\n\\n    <div class=\"footer-partners__list\">\\n        <section class=\"footer-partners__group\">\\n            <div class=\"footer-partners__inline-list\">\\n                    <div class=\"footer-partners__item\">\\n\\n                            <a href=\"https://www.bira91.com/\" \\n                                class=\"footer-partners__link\" \\n                                aria-label=\"Bira 91\" \\n                                target=\"_blank\" \\n                                title=\"Bira 91\"\\n                                >\\n\\n                        <img class=\"footer-partners__image\" src=\"https://resources.pulse.icc-cricket.com/photo-resources/2021/06/09/1f4d2a85-b195-43e1-9f5d-5938e922b159/Asset-29.png?width=120\" alt=\"Bira 91\" />\\n\\n                            </a>\\n                    </div>\\n                    <div class=\"footer-partners__item\">\\n\\n\\n                        <img class=\"footer-partners__image\" src=\"https://resources.pulse.icc-cricket.com/photo-resources/2021/06/14/42895751-f75a-4875-bdfb-cf7d1da69631/Shylam-Steel-130px.png?width=120\" alt=\"Shyam Steel\" />\\n\\n                    </div>\\n                    <div class=\"footer-partners__item\">\\n\\n                            <a href=\"https://www.coca-colaindia.com/\" \\n                                class=\"footer-partners__link\" \\n                                aria-label=\"Coca Cola\" \\n                                target=\"_blank\" \\n                                title=\"Coca Cola\"\\n                                >\\n\\n                        <img class=\"footer-partners__image\" src=\"https://resources.pulse.icc-cricket.com/photo-resources/2021/06/09/7565cfb6-378f-46a3-8551-4aab3a6466fa/Asset-28.png?width=120\" alt=\"Coca Cola\" />\\n\\n                            </a>\\n                    </div>\\n                    <div class=\"footer-partners__item\">\\n\\n                            <a href=\"https://upstox.com/\" \\n                                class=\"footer-partners__link\" \\n                                aria-label=\"Upstox\" \\n                                target=\"_blank\" \\n                                title=\"Upstox\"\\n                                >\\n\\n                        <img class=\"footer-partners__image\" src=\"https://resources.pulse.icc-cricket.com/photo-resources/2021/06/09/a06a2a15-62dc-48df-af45-c878abffc8ec/Asset-31.png?width=120\" alt=\"Upstox\" />\\n\\n                            </a>\\n                    </div>\\n                    <div class=\"footer-partners__item\">\\n\\n                            <a href=\"http://track.adform.net/C/?bn=18235072\" \\n                                class=\"footer-partners__link\" \\n                                aria-label=\"Nissan\" \\n                                target=\"_blank\" \\n                                title=\"Nissan\"\\n                                    data-widget=\"impression-tracker\"\\n                                    data-tracking-url=\"https://track.adform.net/adfserve/?bn=18235072;srctype=4;ord=%%ADFRND%%\"\\n                                >\\n\\n                        <img class=\"footer-partners__image\" src=\"https://resources.pulse.icc-cricket.com/photo-resources/2021/06/09/8f4837e1-ee14-411e-8a2d-44e18cafcb36/Asset-30.png?width=120\" alt=\"Nissan\" />\\n\\n                            </a>\\n                    </div>\\n                    <div class=\"footer-partners__item\">\\n\\n                            <a href=\"https://uk.godaddy.com/offers/godaddy?isc=coukuk1&countryview=1&currencyType=GBP&gclid=Cj0KCQjwzYGGBhCTARIsAHdMTQwWq_UajLT52lg1STcRW2MbF9p1rdh2NcEgY1GL23ce7koqvvoCIfIaAqf3EALw_wcB&gclsrc=aw.ds\" \\n                                class=\"footer-partners__link\" \\n                                aria-label=\"GoDaddy\" \\n                                target=\"_blank\" \\n                                title=\"GoDaddy\"\\n                                >\\n\\n                        <img class=\"footer-partners__image\" src=\"https://resources.pulse.icc-cricket.com/photo-resources/2021/06/09/b2e29b72-c22a-4677-a641-c43fa67a80f5/Asset-18.png?width=120\" alt=\"GoDaddy\" />\\n\\n                            </a>\\n                    </div>\\n            </div>\\n        </section>\\n    </div>\\n                \\n\\n\\n\\n\\n    <div class=\"footer-partners__list\">\\n        <section class=\"footer-partners__group\">\\n            <div class=\"footer-partners__inline-list\">\\n                    <div class=\"footer-partners__item\">\\n\\n                            <a href=\"https://www.pernod-ricard.com/en/brands/our-brands/royal-stag/\" \\n                                class=\"footer-partners__link\" \\n                                aria-label=\"Royal Stag\" \\n                                target=\"_blank\" \\n                                title=\"Royal Stag\"\\n                                >\\n\\n                        <img class=\"footer-partners__image\" src=\"https://resources.pulse.icc-cricket.com/photo-resources/2021/06/09/e55560fc-cb00-4966-aa42-0fd135cf1b1e/Asset-27.png?width=105\" alt=\"Royal Stag\" />\\n\\n                            </a>\\n                    </div>\\n                    <div class=\"footer-partners__item\">\\n\\n                            <a href=\"https://www.dream11.com/\" \\n                                class=\"footer-partners__link\" \\n                                aria-label=\"Dream11\" \\n                                target=\"_blank\" \\n                                title=\"Dream11\"\\n                                >\\n\\n                        <img class=\"footer-partners__image\" src=\"https://resources.pulse.icc-cricket.com/photo-resources/2021/06/09/501937f7-2a50-40db-9f8c-67d9bdfb9bfa/Asset-26.png?width=105\" alt=\"Dream11\" />\\n\\n                            </a>\\n                    </div>\\n                    <div class=\"footer-partners__item\">\\n\\n                            <a href=\"https://www.jacobscreek.com/en-gb\" \\n                                class=\"footer-partners__link\" \\n                                aria-label=\"Jacobs Creek\" \\n                                target=\"_blank\" \\n                                title=\"Jacobs Creek\"\\n                                >\\n\\n                        <img class=\"footer-partners__image\" src=\"https://resources.pulse.icc-cricket.com/photo-resources/2021/06/09/dcef1fc6-ed7d-4594-b913-38195111a11b/Asset-20.png?width=105\" alt=\"Jacobs Creek\" />\\n\\n                            </a>\\n                    </div>\\n            </div>\\n        </section>\\n    </div>\\n                \\n\\n\\n\\n\\n    <div class=\"footer-partners__list\">\\n        <section class=\"footer-partners__group\">\\n                <h5 class=\"footer-partners__subtitle\">Social Responsibility</h5>\\n            <div class=\"footer-partners__inline-list\">\\n                    <div class=\"footer-partners__item\">\\n\\n                            <a href=\"https://www.icc-cricket.com/about/the-icc/cricket-for-good\" \\n                                class=\"footer-partners__link\" \\n                                aria-label=\"Cricket for Good\" \\n                                target=\"_blank\" \\n                                title=\"Cricket for Good\"\\n                                >\\n\\n                        <img class=\"footer-partners__image\" src=\"https://resources.pulse.icc-cricket.com/photo-resources/2020/09/24/c69c5b5f-7ccf-40e2-8277-c19e42dda23e/partner-cricket4good.png?width=126\" alt=\"Cricket for Good\" />\\n\\n                            </a>\\n                    </div>\\n            </div>\\n        </section>\\n    </div>\\n                \\n\\n    </section>\\n</div>\\n<div class=\"global-footer \">\\n    <div class=\"wrapper\">\\n        \\n\\n<div class=\"col-12\">\\n    <div class=\"global-footer__social-container\">\\n        \\n    <ul class=\"social-follow-footer\">\\n        <h5 class=\"social-follow-footer__subtitle\">Follow <span class=\"u-italics\">ICC</span> On social</h5>\\n                <li class=\"social-follow-footer__item\">\\n                    <a href=\"https://www.facebook.com/icc/\" class=\"social-follow-footer__link facebook\" target=\"_blank\">\\n                        <span class=\"icn icn-facebook-circle u-hide-phablet\"></span>\\n                        <span class=\"icn icn-facebook-circle-small u-show-phablet\"></span>\\n                    </a>\\n                </li>\\n                <li class=\"social-follow-footer__item\">\\n                    <a href=\"https://twitter.com/ICC\" class=\"social-follow-footer__link twitter\" target=\"_blank\">\\n                        <span class=\"icn icn-twitter-circle u-hide-phablet\"></span>\\n                        <span class=\"icn icn-twitter-circle-small u-show-phablet\"></span>\\n                    </a>\\n                </li>\\n                <li class=\"social-follow-footer__item\">\\n                    <a href=\"https://www.instagram.com/icc/\" class=\"social-follow-footer__link instagram\" target=\"_blank\">\\n                        <span class=\"icn icn-instagram-circle u-hide-phablet\"></span>\\n                        <span class=\"icn icn-instagram-circle-small u-show-phablet\"></span>\\n                    </a>\\n                </li>\\n                <li class=\"social-follow-footer__item\">\\n                    <a href=\"https://www.youtube.com/user/CricketICC\" class=\"social-follow-footer__link youtube\" target=\"_blank\">\\n                        <span class=\"icn icn-youtube-circle u-hide-phablet\"></span>\\n                        <span class=\"icn icn-youtube-circle-small u-show-phablet\"></span>\\n                    </a>\\n                </li>\\n                <li class=\"social-follow-footer__item\">\\n                    <a href=\"https://www.tiktok.com/@icc\" class=\"social-follow-footer__link tiktok\" target=\"_blank\">\\n                        <span class=\"icn icn-tiktok-circle u-hide-phablet\"></span>\\n                        <span class=\"icn icn-tiktok-circle-small u-show-phablet\"></span>\\n                    </a>\\n                </li>\\n    </ul>\\n\\n    </div>\\n    <div class=\"global-footer__branding\">\\n        <a href=\"/\" class=\"global-footer__branding-link\"><div class=\"icn icn-logo-icc-footer\"></div></a>\\n    </div>\\n    <div class=\"global-footer__lists\">\\n                    <ul class=\"global-footer__list\">\\n\\t                   <h4 class=\"global-footer__title\">Cricket</h4>\\n                    <li class=\"global-footer__item\"><a class=\"global-footer__link\"href=\"http://www.icc-cricket.com/live-cricket/live\" >\\n                    \\tLive Scores Index\\n                \\t</a></li>\\n                    <li class=\"global-footer__item\"><a class=\"global-footer__link\"href=\"http://www.icc-cricket.com/live-cricket/mens-results\" >\\n                    \\tMen\\'s Results\\n                \\t</a></li>\\n                    <li class=\"global-footer__item\"><a class=\"global-footer__link\"href=\"http://www.icc-cricket.com/live-cricket/womens-results\" >\\n                    \\tWomen\\'s Results\\n                \\t</a></li>\\n\\t                </ul>\\n                    <ul class=\"global-footer__list\">\\n\\t                   <h4 class=\"global-footer__title\">ICC Events</h4>\\n                    <li class=\"global-footer__item\"><a class=\"global-footer__link\"href=\"http://www.icc-cricket.com/u19-world-cup/index.html\" >\\n                    \\tICC U19 Cricket World Cup\\n                \\t</a></li>\\n                    <li class=\"global-footer__item\"><a class=\"global-footer__link\"href=\"http://www.icc-cricket.com/cricket-world-cup/index.html\" >\\n                    \\tICC Cricket World Cup\\n                \\t</a></li>\\n                    <li class=\"global-footer__item\"><a class=\"global-footer__link\"href=\"https://www.icc-cricket.com/t20-world-cup\" >\\n                    \\tICC T20 World Cup\\n                \\t</a></li>\\n                    <li class=\"global-footer__item\"><a class=\"global-footer__link\"href=\"http://www.icc-cricket.com/champions-trophy\" >\\n                    \\tICC Champions Trophy\\n                \\t</a></li>\\n                    <li class=\"global-footer__item\"><a class=\"global-footer__link\"href=\"http://www.icc-cricket.com/womens-world-cup\" >\\n                    \\tICC Women\\'s World Cup\\n                \\t</a></li>\\n                    <li class=\"global-footer__item\"><a class=\"global-footer__link\"href=\"http://www.icc-cricket.com/womens-championship\" >\\n                    \\tICC Women\\'s Championship\\n                \\t</a></li>\\n\\t                </ul>\\n                    <ul class=\"global-footer__list\">\\n\\t                   <h4 class=\"global-footer__title\">Rankings</h4>\\n                    <li class=\"global-footer__item\"><a class=\"global-footer__link\"href=\"http://www.icc-cricket.com/rankings/mens/overview\" >\\n                    \\tOverview\\n                \\t</a></li>\\n                    <li class=\"global-footer__item\"><a class=\"global-footer__link\"href=\"http://www.icc-cricket.com/rankings/mens/team-rankings/test\" >\\n                    \\tTeam Rankings\\n                \\t</a></li>\\n                    <li class=\"global-footer__item\"><a class=\"global-footer__link\"href=\"https://www.icc-cricket.com/rankings/mens/player-rankings/\" >\\n                    \\tPlayer Rankings\\n                \\t</a></li>\\n                    <li class=\"global-footer__item\"><a class=\"global-footer__link\"href=\"http://www.icc-cricket.com/rankings/mens/rankings-predictor/\" >\\n                    \\tRankings Predictor\\n                \\t</a></li>\\n                    <li class=\"global-footer__item\"><a class=\"global-footer__link\"href=\"http://www.icc-cricket.com/rankings/about\" >\\n                    \\tAbout the Rankings\\n                \\t</a></li>\\n                    <li class=\"global-footer__item\"><a class=\"global-footer__link\"href=\"http://www.icc-cricket.com/rankings/faqs\" >\\n                    \\tRankings FAQs\\n                \\t</a></li>\\n\\t                </ul>\\n                    <ul class=\"global-footer__list\">\\n\\t                   <h4 class=\"global-footer__title\">News and Video</h4>\\n                    <li class=\"global-footer__item\"><a class=\"global-footer__link\"href=\"http://www.icc-cricket.com/news\" >\\n                    \\tNews Index\\n                \\t</a></li>\\n                    <li class=\"global-footer__item\"><a class=\"global-footer__link\"href=\"http://www.icc-cricket.com/media-releases\" >\\n                    \\tMedia Releases\\n                \\t</a></li>\\n                    <li class=\"global-footer__item\"><a class=\"global-footer__link\"href=\"http://www.icc-cricket.com/video\" >\\n                    \\tVideo Home\\n                \\t</a></li>\\n                    <li class=\"global-footer__item\"><a class=\"global-footer__link\"href=\"http://www.icc-cricket.com/photos\" >\\n                    \\tPhotos\\n                \\t</a></li>\\n\\t                </ul>\\n                    <ul class=\"global-footer__list\">\\n\\t                   <h4 class=\"global-footer__title\">More</h4>\\n                    <li class=\"global-footer__item\"><a class=\"global-footer__link\"href=\"http://www.icc-cricket.com/social\" >\\n                    \\tICC on Social\\n                \\t</a></li>\\n                    <li class=\"global-footer__item\"><a class=\"global-footer__link\"href=\"http://www.icc-cricket.com/awards/overview\" >\\n                    \\tAwards\\n                \\t</a></li>\\n                    <li class=\"global-footer__item\"><a class=\"global-footer__link\"href=\"http://www.icc-cricket.com/hall-of-fame\" >\\n                    \\tHall of Fame\\n                \\t</a></li>\\n                    <li class=\"global-footer__item\"><a class=\"global-footer__link\"href=\"http://www.icc-cricket.com/mobile\" >\\n                    \\tICC on Mobile\\n                \\t</a></li>\\n                    <li class=\"global-footer__item\"><a class=\"global-footer__link\"href=\"http://www.icc-cricket.com/about\" target=\"_blank\">\\n                    \\t\\t<svg class=\"icon\"><use xmlns:xlink=\"http://www.w3.org/1999/xlink\" xlink:href=\"/resources/prod/v8.18.9/i/svg-output/icons.svg#icn-link-external\"></use></svg>\\n                    \\tAbout ICC\\n                \\t</a></li>\\n                    <li class=\"global-footer__item\"><a class=\"global-footer__link\"href=\"http://www.icc-cricket.com/media-zone/\" target=\"_blank\">\\n                    \\t\\t<svg class=\"icon\"><use xmlns:xlink=\"http://www.w3.org/1999/xlink\" xlink:href=\"/resources/prod/v8.18.9/i/svg-output/icons.svg#icn-link-external\"></use></svg>\\n                    \\tMediaZone\\n                \\t</a></li>\\n                    <li class=\"global-footer__item\"><a class=\"global-footer__link\"href=\"https://www.t20worldcupshop.com/\" target=\"_blank\">\\n                    \\t\\t<svg class=\"icon\"><use xmlns:xlink=\"http://www.w3.org/1999/xlink\" xlink:href=\"/resources/prod/v8.18.9/i/svg-output/icons.svg#icn-link-external\"></use></svg>\\n                    \\tT20 Shop\\n                \\t</a></li>\\n\\t                </ul>\\n    </div>\\n</div>\\n\\n    </div>\\n    \\n<nav class=\"global-footer-corporate\" role=\"navigation\" aria-label=\"footer policy links\">\\n\\n        <ul class=\"global-footer-corporate__list\">\\n                <li class=\"global-footer-corporate__item\" role=\"menuitem\">\\n                    <a class=\"global-footer-corporate__link\" href=\"http://www.icc-cricket.com/about/the-icc/legal-notices/website-terms-of-use\" >\\n                        Legal Notice\\n                    </a>\\n                </li>\\n                <li class=\"global-footer-corporate__item\" role=\"menuitem\">\\n                    <a class=\"global-footer-corporate__link\" href=\"http://www.icc-cricket.com/about/the-icc/legal-notices/privacy-policy\" >\\n                        Privacy Policy\\n                    </a>\\n                </li>\\n            <li class=\"global-footer-corporate__item\">2021 &copy; International Cricket Council FZ LLC</li>\\n        </ul>\\n\\n</nav>\\n\\n</div>\\n</body>\\n</html>\\n\\n\\n</footer>\\n\\n    \\n\\n    <script src=\"/resources/prod/v8.18.9/scripts/vendors.min.js\"></script>\\n    <script src=\"/resources/prod/v8.18.9/scripts/client.min.js\"></script>\\n\\n    <!--[if IE]> -->\\n    <script type=\"text/javascript\">\\n        svg4everybody();\\n    </script>\\n    <!-- <![endif]-->\\n</body>\\n</html>\\n'"
      ]
     },
     "execution_count": 7,
     "metadata": {},
     "output_type": "execute_result"
    }
   ],
   "source": [
    "page.content"
   ]
  },
  {
   "cell_type": "code",
   "execution_count": 8,
   "metadata": {},
   "outputs": [],
   "source": [
    "soup=BeautifulSoup(page.content)"
   ]
  },
  {
   "cell_type": "code",
   "execution_count": 22,
   "metadata": {},
   "outputs": [
    {
     "data": {
      "text/plain": [
       "[<td class=\"table-body__cell rankings-table__team\">\n",
       " <span class=\"flag-15 table-body_logo AUS\"></span>\n",
       " <span class=\"u-hide-phablet\">Australia</span>\n",
       " <span class=\"u-show-phablet\">AUS</span>\n",
       " </td>,\n",
       " <td class=\"table-body__cell rankings-table__team\">\n",
       " <span class=\"flag-15 table-body_logo IND\"></span>\n",
       " <span class=\"u-hide-phablet\">India</span>\n",
       " <span class=\"u-show-phablet\">IND</span>\n",
       " </td>,\n",
       " <td class=\"table-body__cell rankings-table__team\">\n",
       " <span class=\"flag-15 table-body_logo ENG\"></span>\n",
       " <span class=\"u-hide-phablet\">England</span>\n",
       " <span class=\"u-show-phablet\">ENG</span>\n",
       " </td>,\n",
       " <td class=\"table-body__cell rankings-table__team\">\n",
       " <span class=\"flag-15 table-body_logo SA\"></span>\n",
       " <span class=\"u-hide-phablet\">South Africa</span>\n",
       " <span class=\"u-show-phablet\">SA</span>\n",
       " </td>,\n",
       " <td class=\"table-body__cell rankings-table__team\">\n",
       " <span class=\"flag-15 table-body_logo PAK\"></span>\n",
       " <span class=\"u-hide-phablet\">Pakistan</span>\n",
       " <span class=\"u-show-phablet\">PAK</span>\n",
       " </td>,\n",
       " <td class=\"table-body__cell rankings-table__team\">\n",
       " <span class=\"flag-15 table-body_logo BAN\"></span>\n",
       " <span class=\"u-hide-phablet\">Bangladesh</span>\n",
       " <span class=\"u-show-phablet\">BAN</span>\n",
       " </td>,\n",
       " <td class=\"table-body__cell rankings-table__team\">\n",
       " <span class=\"flag-15 table-body_logo WI\"></span>\n",
       " <span class=\"u-hide-phablet\">West Indies</span>\n",
       " <span class=\"u-show-phablet\">WI</span>\n",
       " </td>,\n",
       " <td class=\"table-body__cell rankings-table__team\">\n",
       " <span class=\"flag-15 table-body_logo SL\"></span>\n",
       " <span class=\"u-hide-phablet\">Sri Lanka</span>\n",
       " <span class=\"u-show-phablet\">SL</span>\n",
       " </td>,\n",
       " <td class=\"table-body__cell rankings-table__team\">\n",
       " <span class=\"flag-15 table-body_logo AFG\"></span>\n",
       " <span class=\"u-hide-phablet\">Afghanistan</span>\n",
       " <span class=\"u-show-phablet\">AFG</span>\n",
       " </td>,\n",
       " <td class=\"table-body__cell rankings-table__team\">\n",
       " <span class=\"flag-15 table-body_logo NED\"></span>\n",
       " <span class=\"u-hide-phablet\">Netherlands</span>\n",
       " <span class=\"u-show-phablet\">NED</span>\n",
       " </td>,\n",
       " <td class=\"table-body__cell rankings-table__team\">\n",
       " <span class=\"flag-15 table-body_logo IRE\"></span>\n",
       " <span class=\"u-hide-phablet\">Ireland</span>\n",
       " <span class=\"u-show-phablet\">IRE</span>\n",
       " </td>,\n",
       " <td class=\"table-body__cell rankings-table__team\">\n",
       " <span class=\"flag-15 table-body_logo ZIM\"></span>\n",
       " <span class=\"u-hide-phablet\">Zimbabwe</span>\n",
       " <span class=\"u-show-phablet\">ZIM</span>\n",
       " </td>,\n",
       " <td class=\"table-body__cell rankings-table__team\">\n",
       " <span class=\"flag-15 table-body_logo SCO\"></span>\n",
       " <span class=\"u-hide-phablet\">Scotland</span>\n",
       " <span class=\"u-show-phablet\">SCO</span>\n",
       " </td>,\n",
       " <td class=\"table-body__cell rankings-table__team\">\n",
       " <span class=\"flag-15 table-body_logo OMA\"></span>\n",
       " <span class=\"u-hide-phablet\">Oman</span>\n",
       " <span class=\"u-show-phablet\">OMA</span>\n",
       " </td>,\n",
       " <td class=\"table-body__cell rankings-table__team\">\n",
       " <span class=\"flag-15 table-body_logo NEP\"></span>\n",
       " <span class=\"u-hide-phablet\">Nepal</span>\n",
       " <span class=\"u-show-phablet\">NEP</span>\n",
       " </td>,\n",
       " <td class=\"table-body__cell rankings-table__team\">\n",
       " <span class=\"flag-15 table-body_logo UAE\"></span>\n",
       " <span class=\"u-hide-phablet\">UAE</span>\n",
       " <span class=\"u-show-phablet\">UAE</span>\n",
       " </td>,\n",
       " <td class=\"table-body__cell rankings-table__team\">\n",
       " <span class=\"flag-15 table-body_logo NAM\"></span>\n",
       " <span class=\"u-hide-phablet\">Namibia</span>\n",
       " <span class=\"u-show-phablet\">NAM</span>\n",
       " </td>,\n",
       " <td class=\"table-body__cell rankings-table__team\">\n",
       " <span class=\"flag-15 table-body_logo USA\"></span>\n",
       " <span class=\"u-hide-phablet\">United States</span>\n",
       " <span class=\"u-show-phablet\">USA</span>\n",
       " </td>,\n",
       " <td class=\"table-body__cell rankings-table__team\">\n",
       " <span class=\"flag-15 table-body_logo PNG\"></span>\n",
       " <span class=\"u-hide-phablet\">Papua New Guinea</span>\n",
       " <span class=\"u-show-phablet\">PNG</span>\n",
       " </td>]"
      ]
     },
     "execution_count": 22,
     "metadata": {},
     "output_type": "execute_result"
    }
   ],
   "source": [
    "team=soup.find_all('td',class_=\"table-body__cell rankings-table__team\")\n",
    "team"
   ]
  },
  {
   "cell_type": "code",
   "execution_count": 23,
   "metadata": {},
   "outputs": [
    {
     "data": {
      "text/plain": [
       "['\\n\\nAustralia\\nAUS\\n',\n",
       " '\\n\\nIndia\\nIND\\n',\n",
       " '\\n\\nEngland\\nENG\\n',\n",
       " '\\n\\nSouth Africa\\nSA\\n',\n",
       " '\\n\\nPakistan\\nPAK\\n',\n",
       " '\\n\\nBangladesh\\nBAN\\n',\n",
       " '\\n\\nWest Indies\\nWI\\n',\n",
       " '\\n\\nSri Lanka\\nSL\\n',\n",
       " '\\n\\nAfghanistan\\nAFG\\n',\n",
       " '\\n\\nNetherlands\\nNED\\n',\n",
       " '\\n\\nIreland\\nIRE\\n',\n",
       " '\\n\\nZimbabwe\\nZIM\\n',\n",
       " '\\n\\nScotland\\nSCO\\n',\n",
       " '\\n\\nOman\\nOMA\\n',\n",
       " '\\n\\nNepal\\nNEP\\n',\n",
       " '\\n\\nUAE\\nUAE\\n',\n",
       " '\\n\\nNamibia\\nNAM\\n',\n",
       " '\\n\\nUnited States\\nUSA\\n',\n",
       " '\\n\\nPapua New Guinea\\nPNG\\n']"
      ]
     },
     "execution_count": 23,
     "metadata": {},
     "output_type": "execute_result"
    }
   ],
   "source": [
    "team_name=[]\n",
    "for i in match:\n",
    "    team_name.append(i.text)\n",
    "team_name"
   ]
  },
  {
   "cell_type": "code",
   "execution_count": 24,
   "metadata": {},
   "outputs": [
    {
     "data": {
      "text/plain": [
       "['AustraliaAUS',\n",
       " 'IndiaIND',\n",
       " 'EnglandENG',\n",
       " 'South AfricaSA',\n",
       " 'PakistanPAK',\n",
       " 'BangladeshBAN',\n",
       " 'West IndiesWI',\n",
       " 'Sri LankaSL',\n",
       " 'AfghanistanAFG',\n",
       " 'NetherlandsNED',\n",
       " 'IrelandIRE',\n",
       " 'ZimbabweZIM',\n",
       " 'ScotlandSCO',\n",
       " 'OmanOMA',\n",
       " 'NepalNEP',\n",
       " 'UAEUAE',\n",
       " 'NamibiaNAM',\n",
       " 'United StatesUSA',\n",
       " 'Papua New GuineaPNG']"
      ]
     },
     "execution_count": 24,
     "metadata": {},
     "output_type": "execute_result"
    }
   ],
   "source": [
    "team_name=[]\n",
    "for i in match:\n",
    "    team_name.append(i.text.replace('\\n',''))\n",
    "team_name"
   ]
  },
  {
   "cell_type": "code",
   "execution_count": 33,
   "metadata": {},
   "outputs": [
    {
     "data": {
      "text/plain": [
       "['AustraliaAUS',\n",
       " 'IndiaIND',\n",
       " 'EnglandENG',\n",
       " 'South AfricaSA',\n",
       " 'PakistanPAK',\n",
       " 'BangladeshBAN',\n",
       " 'West IndiesWI',\n",
       " 'Sri LankaSL',\n",
       " 'AfghanistanAFG',\n",
       " 'NetherlandsNED']"
      ]
     },
     "execution_count": 33,
     "metadata": {},
     "output_type": "execute_result"
    }
   ],
   "source": [
    "top_tenteam=team_name[0:10]\n",
    "top_tenteam"
   ]
  },
  {
   "cell_type": "code",
   "execution_count": 36,
   "metadata": {},
   "outputs": [
    {
     "data": {
      "text/plain": [
       "'17'"
      ]
     },
     "execution_count": 36,
     "metadata": {},
     "output_type": "execute_result"
    }
   ],
   "source": [
    "#lets extract 1st match palyed team new Zealand\n",
    "match=soup.find('td',class_=\"rankings-block__banner--matches\")\n",
    "match.text"
   ]
  },
  {
   "cell_type": "code",
   "execution_count": 45,
   "metadata": {},
   "outputs": [
    {
     "data": {
      "text/plain": [
       "[<td class=\"table-body__cell u-center-text\">25</td>,\n",
       " <td class=\"table-body__cell u-center-text\">2,945</td>,\n",
       " <td class=\"table-body__cell u-center-text\">29</td>,\n",
       " <td class=\"table-body__cell u-center-text\">3,344</td>,\n",
       " <td class=\"table-body__cell u-center-text\">27</td>,\n",
       " <td class=\"table-body__cell u-center-text\">3,100</td>,\n",
       " <td class=\"table-body__cell u-center-text\">20</td>,\n",
       " <td class=\"table-body__cell u-center-text\">2,137</td>,\n",
       " <td class=\"table-body__cell u-center-text\">24</td>,\n",
       " <td class=\"table-body__cell u-center-text\">2,323</td>,\n",
       " <td class=\"table-body__cell u-center-text\">27</td>,\n",
       " <td class=\"table-body__cell u-center-text\">2,438</td>,\n",
       " <td class=\"table-body__cell u-center-text\">27</td>,\n",
       " <td class=\"table-body__cell u-center-text\">2,222</td>,\n",
       " <td class=\"table-body__cell u-center-text\">24</td>,\n",
       " <td class=\"table-body__cell u-center-text\">1,876</td>,\n",
       " <td class=\"table-body__cell u-center-text\">17</td>,\n",
       " <td class=\"table-body__cell u-center-text\">1,054</td>,\n",
       " <td class=\"table-body__cell u-center-text\">7</td>,\n",
       " <td class=\"table-body__cell u-center-text\">336</td>,\n",
       " <td class=\"table-body__cell u-center-text\">21</td>,\n",
       " <td class=\"table-body__cell u-center-text\">897</td>,\n",
       " <td class=\"table-body__cell u-center-text\">15</td>,\n",
       " <td class=\"table-body__cell u-center-text\">588</td>,\n",
       " <td class=\"table-body__cell u-center-text\">7</td>,\n",
       " <td class=\"table-body__cell u-center-text\">258</td>,\n",
       " <td class=\"table-body__cell u-center-text\">7</td>,\n",
       " <td class=\"table-body__cell u-center-text\">240</td>,\n",
       " <td class=\"table-body__cell u-center-text\">5</td>,\n",
       " <td class=\"table-body__cell u-center-text\">119</td>,\n",
       " <td class=\"table-body__cell u-center-text\">9</td>,\n",
       " <td class=\"table-body__cell u-center-text\">190</td>,\n",
       " <td class=\"table-body__cell u-center-text\">6</td>,\n",
       " <td class=\"table-body__cell u-center-text\">97</td>,\n",
       " <td class=\"table-body__cell u-center-text\">8</td>,\n",
       " <td class=\"table-body__cell u-center-text\">93</td>,\n",
       " <td class=\"table-body__cell u-center-text\">5</td>,\n",
       " <td class=\"table-body__cell u-center-text\">0</td>]"
      ]
     },
     "execution_count": 45,
     "metadata": {},
     "output_type": "execute_result"
    }
   ],
   "source": [
    "match=soup.find_all('td',class_=\"table-body__cell u-center-text\")\n",
    "match"
   ]
  },
  {
   "cell_type": "code",
   "execution_count": 46,
   "metadata": {},
   "outputs": [
    {
     "data": {
      "text/plain": [
       "['25',\n",
       " '2,945',\n",
       " '29',\n",
       " '3,344',\n",
       " '27',\n",
       " '3,100',\n",
       " '20',\n",
       " '2,137',\n",
       " '24',\n",
       " '2,323',\n",
       " '27',\n",
       " '2,438',\n",
       " '27',\n",
       " '2,222',\n",
       " '24',\n",
       " '1,876',\n",
       " '17',\n",
       " '1,054',\n",
       " '7',\n",
       " '336',\n",
       " '21',\n",
       " '897',\n",
       " '15',\n",
       " '588',\n",
       " '7',\n",
       " '258',\n",
       " '7',\n",
       " '240',\n",
       " '5',\n",
       " '119',\n",
       " '9',\n",
       " '190',\n",
       " '6',\n",
       " '97',\n",
       " '8',\n",
       " '93',\n",
       " '5',\n",
       " '0']"
      ]
     },
     "execution_count": 46,
     "metadata": {},
     "output_type": "execute_result"
    }
   ],
   "source": [
    "total_match=[]\n",
    "for i in match:\n",
    "    total_match.append(i.text)\n",
    "total_match"
   ]
  },
  {
   "cell_type": "code",
   "execution_count": 47,
   "metadata": {},
   "outputs": [
    {
     "data": {
      "text/plain": [
       "38"
      ]
     },
     "execution_count": 47,
     "metadata": {},
     "output_type": "execute_result"
    }
   ],
   "source": [
    "len(total_match)"
   ]
  },
  {
   "cell_type": "code",
   "execution_count": 63,
   "metadata": {},
   "outputs": [
    {
     "data": {
      "text/plain": [
       "[25,\n",
       " 2945,\n",
       " 29,\n",
       " 3344,\n",
       " 27,\n",
       " 3100,\n",
       " 20,\n",
       " 2137,\n",
       " 24,\n",
       " 2323,\n",
       " 27,\n",
       " 2438,\n",
       " 27,\n",
       " 2222,\n",
       " 24,\n",
       " 1876,\n",
       " 17,\n",
       " 1054,\n",
       " 7,\n",
       " 336,\n",
       " 21,\n",
       " 897,\n",
       " 15,\n",
       " 588,\n",
       " 7,\n",
       " 258,\n",
       " 7,\n",
       " 240,\n",
       " 5,\n",
       " 119,\n",
       " 9,\n",
       " 190,\n",
       " 6,\n",
       " 97,\n",
       " 8,\n",
       " 93,\n",
       " 5,\n",
       " 0]"
      ]
     },
     "execution_count": 63,
     "metadata": {},
     "output_type": "execute_result"
    }
   ],
   "source": [
    "a=['25','2,945','29','3,344','27','3,100','20','2,137','24','2,323','27','2,438','27','2,222','24','1,876','17','1,054','7','336','21','897','15','588','7','258','7','240','5','119','9','190','6','97','8','93','5','0']\n",
    "a=[int(i.replace(',','')) for i in a]\n",
    "a"
   ]
  },
  {
   "cell_type": "code",
   "execution_count": 82,
   "metadata": {},
   "outputs": [
    {
     "data": {
      "text/plain": [
       "[25,\n",
       " 2945,\n",
       " 29,\n",
       " 3344,\n",
       " 27,\n",
       " 3100,\n",
       " 20,\n",
       " 2137,\n",
       " 24,\n",
       " 2323,\n",
       " 27,\n",
       " 2438,\n",
       " 27,\n",
       " 2222,\n",
       " 24,\n",
       " 1876,\n",
       " 17,\n",
       " 1054,\n",
       " 7,\n",
       " 336]"
      ]
     },
     "execution_count": 82,
     "metadata": {},
     "output_type": "execute_result"
    }
   ],
   "source": [
    "del a[20:]\n",
    "a     #select only top 10 team"
   ]
  },
  {
   "cell_type": "code",
   "execution_count": 90,
   "metadata": {},
   "outputs": [
    {
     "name": "stdout",
     "output_type": "stream",
     "text": [
      "[25, 29, 27, 20, 24, 27, 27, 24, 17, 7]\n",
      "[2945, 3344, 3100, 2137, 2323, 2438, 2222, 1876, 1054, 336]\n"
     ]
    }
   ],
   "source": [
    "match_no=[]\n",
    "points=[]    #seprate rating and played match\n",
    "for i in a:\n",
    "    \n",
    "    if i>30:\n",
    "        points.append(i)\n",
    "    else:\n",
    "        match_no.append(i)\n",
    "print(match_no)\n",
    "print(points)"
   ]
  },
  {
   "cell_type": "code",
   "execution_count": 91,
   "metadata": {},
   "outputs": [
    {
     "data": {
      "text/plain": [
       "[25, 29, 27, 20, 24, 27, 27, 24, 17, 7]"
      ]
     },
     "execution_count": 91,
     "metadata": {},
     "output_type": "execute_result"
    }
   ],
   "source": [
    "match_no"
   ]
  },
  {
   "cell_type": "code",
   "execution_count": 92,
   "metadata": {},
   "outputs": [
    {
     "data": {
      "text/plain": [
       "[2945, 3344, 3100, 2137, 2323, 2438, 2222, 1876, 1054, 336]"
      ]
     },
     "execution_count": 92,
     "metadata": {},
     "output_type": "execute_result"
    }
   ],
   "source": [
    "points"
   ]
  },
  {
   "cell_type": "code",
   "execution_count": 94,
   "metadata": {},
   "outputs": [
    {
     "data": {
      "text/plain": [
       "[<td class=\"table-body__cell u-text-right rating\">118</td>,\n",
       " <td class=\"table-body__cell u-text-right rating\">115</td>,\n",
       " <td class=\"table-body__cell u-text-right rating\">115</td>,\n",
       " <td class=\"table-body__cell u-text-right rating\">107</td>,\n",
       " <td class=\"table-body__cell u-text-right rating\">97</td>,\n",
       " <td class=\"table-body__cell u-text-right rating\">90</td>,\n",
       " <td class=\"table-body__cell u-text-right rating\">82</td>,\n",
       " <td class=\"table-body__cell u-text-right rating\">78</td>,\n",
       " <td class=\"table-body__cell u-text-right rating\">62</td>,\n",
       " <td class=\"table-body__cell u-text-right rating\">48</td>,\n",
       " <td class=\"table-body__cell u-text-right rating\">43</td>,\n",
       " <td class=\"table-body__cell u-text-right rating\">39</td>,\n",
       " <td class=\"table-body__cell u-text-right rating\">37</td>,\n",
       " <td class=\"table-body__cell u-text-right rating\">34</td>,\n",
       " <td class=\"table-body__cell u-text-right rating\">24</td>,\n",
       " <td class=\"table-body__cell u-text-right rating\">21</td>,\n",
       " <td class=\"table-body__cell u-text-right rating\">16</td>,\n",
       " <td class=\"table-body__cell u-text-right rating\">12</td>,\n",
       " <td class=\"table-body__cell u-text-right rating\">0</td>]"
      ]
     },
     "execution_count": 94,
     "metadata": {},
     "output_type": "execute_result"
    }
   ],
   "source": [
    "rating=soup.find_all('td',class_=\"table-body__cell u-text-right rating\")\n",
    "rating"
   ]
  },
  {
   "cell_type": "code",
   "execution_count": 108,
   "metadata": {},
   "outputs": [
    {
     "data": {
      "text/plain": [
       "['118',\n",
       " '115',\n",
       " '115',\n",
       " '107',\n",
       " '97',\n",
       " '90',\n",
       " '82',\n",
       " '78',\n",
       " '62',\n",
       " '48',\n",
       " '43',\n",
       " '39',\n",
       " '37',\n",
       " '34',\n",
       " '24',\n",
       " '21',\n",
       " '16',\n",
       " '12',\n",
       " '0']"
      ]
     },
     "execution_count": 108,
     "metadata": {},
     "output_type": "execute_result"
    }
   ],
   "source": [
    "team_rating=[]\n",
    "for i in rating:\n",
    "    team_rating.append(i.text)\n",
    "team_rating    "
   ]
  },
  {
   "cell_type": "code",
   "execution_count": 111,
   "metadata": {},
   "outputs": [],
   "source": [
    "#select only top 10\n",
    "del team_rating[10:]"
   ]
  },
  {
   "cell_type": "code",
   "execution_count": 112,
   "metadata": {},
   "outputs": [
    {
     "data": {
      "text/plain": [
       "['118', '115', '115', '107', '97', '90', '82', '78', '62', '48']"
      ]
     },
     "execution_count": 112,
     "metadata": {},
     "output_type": "execute_result"
    }
   ],
   "source": [
    "team_rating"
   ]
  },
  {
   "cell_type": "code",
   "execution_count": 116,
   "metadata": {},
   "outputs": [
    {
     "name": "stdout",
     "output_type": "stream",
     "text": [
      "10 10 10 10\n"
     ]
    }
   ],
   "source": [
    "print(len(top_tenteam),len(match_no),len(points),len(team_rating))"
   ]
  },
  {
   "cell_type": "code",
   "execution_count": 117,
   "metadata": {},
   "outputs": [
    {
     "name": "stdout",
     "output_type": "stream",
     "text": [
      "          country  match  pointstable rating\n",
      "0    AustraliaAUS     25         2945    118\n",
      "1        IndiaIND     29         3344    115\n",
      "2      EnglandENG     27         3100    115\n",
      "3  South AfricaSA     20         2137    107\n",
      "4     PakistanPAK     24         2323     97\n",
      "5   BangladeshBAN     27         2438     90\n",
      "6   West IndiesWI     27         2222     82\n",
      "7     Sri LankaSL     24         1876     78\n",
      "8  AfghanistanAFG     17         1054     62\n",
      "9  NetherlandsNED      7          336     48\n"
     ]
    }
   ],
   "source": [
    "import pandas as pd\n",
    "icc_topten_team=pd.DataFrame({})\n",
    "icc_topten_team['country']=top_tenteam\n",
    "icc_topten_team['match']=match_no\n",
    "icc_topten_team['pointstable']=points\n",
    "icc_topten_team['rating']=team_rating\n",
    "print(icc_topten_team)"
   ]
  },
  {
   "cell_type": "code",
   "execution_count": null,
   "metadata": {},
   "outputs": [],
   "source": []
  }
 ],
 "metadata": {
  "kernelspec": {
   "display_name": "Python 3",
   "language": "python",
   "name": "python3"
  },
  "language_info": {
   "codemirror_mode": {
    "name": "ipython",
    "version": 3
   },
   "file_extension": ".py",
   "mimetype": "text/x-python",
   "name": "python",
   "nbconvert_exporter": "python",
   "pygments_lexer": "ipython3",
   "version": "3.8.5"
  }
 },
 "nbformat": 4,
 "nbformat_minor": 4
}
